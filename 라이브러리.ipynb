{
 "cells": [
  {
   "cell_type": "markdown",
   "metadata": {},
   "source": [
    "# [ 라이브러리 & 함수 정리 ]"
   ]
  },
  {
   "cell_type": "code",
   "execution_count": null,
   "metadata": {},
   "outputs": [],
   "source": [
    "# 일단 얘부터 입력 후 시작\n",
    "\n",
    "import pandas as pd\n",
    "import numpy as np\n",
    "import matplotlib.pyplot as plt\n",
    "import seaborn as sns\n",
    "\n",
    "# 경고 메세지 숨기기\n",
    "import warnings\n",
    "warnings.filterwarnings(\"ignore\")"
   ]
  },
  {
   "cell_type": "markdown",
   "metadata": {},
   "source": [
    "---"
   ]
  },
  {
   "cell_type": "markdown",
   "metadata": {},
   "source": [
    "# < 파일 불러오기 (csv, txt) >"
   ]
  },
  {
   "cell_type": "code",
   "execution_count": null,
   "metadata": {},
   "outputs": [],
   "source": [
    "# Data Load\n",
    "import pandas as pd\n",
    "\n",
    "# csv\n",
    "df = pd.read_csv(\"경로\", encoding=\"옵션\")\n",
    "\n",
    "# txt \n"
   ]
  },
  {
   "cell_type": "markdown",
   "metadata": {},
   "source": [
    "# < EDA & 시각화 >"
   ]
  },
  {
   "cell_type": "code",
   "execution_count": null,
   "metadata": {},
   "outputs": [],
   "source": [
    "df.info()\n",
    "df.describe()\n",
    "df.isnull().sum()            # 칼럼별 결측치 확인\n",
    "df.shape                     # 데이터 행,열 확인\n",
    "\n",
    "df.value_counts()            # 전체 데이터프레임의 각 열의 고유값들의 개수\n",
    "df[\"칼럼\"].value_counts()    # 칼럼 내 데이터 값 개수"
   ]
  },
  {
   "cell_type": "code",
   "execution_count": null,
   "metadata": {},
   "outputs": [],
   "source": [
    "## 연속형 칼럼만 선택\n",
    "\n",
    "\n",
    "## 범주형 칼럼만 선택\n",
    "categorical_vars = df.select_dtypes(include=['object']).columns"
   ]
  },
  {
   "cell_type": "markdown",
   "metadata": {},
   "source": [
    "## subplot & 크기 조절"
   ]
  },
  {
   "cell_type": "code",
   "execution_count": null,
   "metadata": {},
   "outputs": [],
   "source": [
    "fig, ax = plt.subplot(1, 2, figsize=(12,4))"
   ]
  },
  {
   "cell_type": "markdown",
   "metadata": {},
   "source": [
    "## 연속형(수치형) 변수 - 히스토그램"
   ]
  },
  {
   "cell_type": "code",
   "execution_count": null,
   "metadata": {},
   "outputs": [],
   "source": [
    "df.hist(bins=15, color='darkblue', figsize=(18,14), grid=False)\n",
    "plt.show()"
   ]
  },
  {
   "cell_type": "markdown",
   "metadata": {},
   "source": [
    "- 이진 데이터 중 한 쪽 분포만 많은 컬럼, 즉 쏠린 분포의 데이터는 제거/처리"
   ]
  },
  {
   "cell_type": "markdown",
   "metadata": {},
   "source": [
    "## 범주형 변수 - barplot"
   ]
  },
  {
   "cell_type": "code",
   "execution_count": null,
   "metadata": {},
   "outputs": [],
   "source": [
    "import pandas as pd\n",
    "import matplotlib.pyplot as plt\n",
    "\n",
    "# 데이터 프레임에서 범주형 변수 선택\n",
    "categorical_vars = df.select_dtypes(include=['object']).columns\n",
    "\n",
    "# 범주형 변수에 대한 barplot 그리기\n",
    "fig, axes = plt.subplots(1, len(categorical_vars), figsize=(12, 3))\n",
    "\n",
    "for i, var in enumerate(categorical_vars):\n",
    "    ax = axes[i]\n",
    "    df[var].value_counts().plot(kind='bar', ax=ax)\n",
    "    ax.set_title(var)\n",
    "    ax.set_xlabel(var)\n",
    "    ax.set_ylabel('Count')\n",
    "    ax.set_xticklabels(ax.get_xticklabels(), rotation=45)  # 라벨들의 각도 조절\n",
    "\n",
    "plt.tight_layout()\n",
    "plt.show()"
   ]
  },
  {
   "cell_type": "markdown",
   "metadata": {},
   "source": [
    "## 이상치 파악 - boxplot"
   ]
  },
  {
   "cell_type": "code",
   "execution_count": null,
   "metadata": {},
   "outputs": [],
   "source": []
  },
  {
   "cell_type": "markdown",
   "metadata": {},
   "source": [
    "## 상관관계 시각화 (1) 히트맵"
   ]
  },
  {
   "cell_type": "code",
   "execution_count": null,
   "metadata": {},
   "outputs": [],
   "source": [
    "# 상관관계 시각화 : 히트맵\n",
    "plt.figure(figsize=(5, 5))\n",
    "\n",
    "# corr matrix 생성\n",
    "corr_matrix = df.drop(['종속변수'], axis=1).corr().abs() # .abs() 붙으면 절댓값 기준\n",
    "\n",
    "# 상삼각행렬 반환\n",
    "up_mask = np.triu(np.ones(corr_matrix.shape), k=1).astype(np.bool_)\n",
    "\n",
    "# 상삼각행렬을 마스킹하여 하삼각행렬만 시각화\n",
    "# fmt=.0%는 퍼센트, 2f는 소수점 둘째자리까지로 표시될 값의 형식을 지정, cmap은 색상 조정\n",
    "sns.heatmap(corr_matrix, \n",
    "            mask=up_mask, \n",
    "            annot=True,      # 각 셀에 상관계수 표시\n",
    "            fmt='.2f', \n",
    "            square=True, \n",
    "            cmap='RdBu_r')"
   ]
  },
  {
   "cell_type": "markdown",
   "metadata": {},
   "source": [
    "## 상관관계 시각화 (2)"
   ]
  },
  {
   "cell_type": "code",
   "execution_count": null,
   "metadata": {},
   "outputs": [],
   "source": [
    "# EDA\n",
    "import numpy as np\n",
    "from scipy.stats import skew, kurtosis  # 왜도, 첨도\n",
    "import math\n",
    "\n",
    "\n",
    "# 시각화\n",
    "import matplotlib\n",
    "import matplotlib.pyplot as plt\n",
    "import seaborn as sns\n",
    "\n",
    "# subplot & 크기 조절\n",
    "fig, ax = plt.subplot(1, 2, figsize=(12,4))\n",
    "\n",
    "\n",
    "'''\n",
    "# 일시적으로 그래프 크기 설정\n",
    "plt.rc('font', size=)          \n",
    "\n",
    "plt.rc('axes', titlesize=)  or  ax.set_title('title', fontsize=12)\n",
    "plt.rc('axes', labelsize=)  or  ax.set_xlabel('xlabel', fontsize=12)  or  ax.set_ylabel('ylabel', color='b', fontsize=10)\n",
    "\n",
    "plt.rc('xtick', labelsize=)  or  ax.tick_params(axis='x', labelcolor='b')\n",
    "plt.rc('ytick', labelsize=)  or  ax.tick_params(axis='y', labelcolor='b')\n",
    "\n",
    "plt.rc('legend', fontsize=)    \n",
    "plt.rc('figure', titlesize=)\n",
    "----------------------------------------------------------------------------\n",
    "# 폰트 라이브러리 임포트 \n",
    "import matplotlib.font_manager as fm\n",
    "\n",
    "# 그래프 기본 글꼴을 한글글꼴로 변경\n",
    "plt.rcParams['font.family'] = '한글글꼴명'\n",
    "plt.rcParams['font.family'] = 'batang'\n",
    "plt.rcParams['font.family'] = 'Malgun Gothic'\n",
    "\n",
    "# 그래프에서 마이너스 폰트 깨지는 문제에 대한 대처\n",
    "matplotlib.rcParams['axes.unicode_minus'] = False\n",
    "-----------------------------------------------------------------------------\n",
    "# 그래프 \"기본\" 크기 설정\n",
    "plt.rcParams['font.size'] = 11.0\n",
    "plt.rcParams['figure.figsize'] = [12, 7]\n",
    "plt.rcParams['xtick.labelsize'] = 15\n",
    "plt.rcParams['ytick.labelsize'] = 15\n",
    "plt.rcParams['axes.titlesize'] = 30\n",
    "plt.rcParams['axes.labelsize'] = 20\n",
    "'''"
   ]
  },
  {
   "cell_type": "code",
   "execution_count": null,
   "metadata": {},
   "outputs": [],
   "source": []
  },
  {
   "cell_type": "markdown",
   "metadata": {},
   "source": [
    "## 데이터 전처리"
   ]
  },
  {
   "cell_type": "code",
   "execution_count": null,
   "metadata": {},
   "outputs": [],
   "source": []
  },
  {
   "cell_type": "code",
   "execution_count": null,
   "metadata": {},
   "outputs": [],
   "source": [
    "# 전처리\n",
    "## 스케일링\n",
    "from sklearn.preprocessing import StandardScaler, RobustScaler\n",
    "\n",
    "## 차원축소\n",
    "from sklearn.decomposition import PCA\n",
    "\n",
    "## pip install imbalanced-learn (sampling)\n",
    "from imblearn.over_sampling import RandomOverSampler\n",
    "from imblearn.over_sampling import SMOTE\n",
    "from imblearn.under_sampling import RandomUnderSampler\n",
    "\n",
    "## 데이터 분할\n",
    "from sklearn.model_selection import train_test_split\n",
    "\n",
    "\n",
    "\n",
    "# 모델링\n",
    "## 분류\n",
    "from sklearn.linear_model import LogisticRegression                     # 로지스틱 회귀 - 분류\n",
    "import sklearn.svm as svm                                               # 서포트 벡터 머신 - 분류\n",
    "from sklearn.naive_bayes import GaussianNB, BernoulliNB, MultinomialNB  # 나이브 베이즈 - 분류\n",
    "from sklearn.ensemble import RandomForestClassifier                     # 랜덤포레스트 - 분류\n",
    "from xgboost import XGBClassifier                                       # Xgboost - 분류\n",
    "from lightgbm import LGBMClassifier                                     # LGBM - 분류\n",
    "\n",
    "## 군집\n",
    "from sklearn.cluster import KMeans\n",
    "from yellowbrick.cluster import SilhouetteVisualizer   # 군집분석 K갯수 정하는 시각화 - 실루엣 계수 시각화\n",
    "\n",
    "## 이상탐지\n",
    "from sklearn.ensemble import IsolationForest\n",
    "\n",
    "## 회귀분석\n",
    "from sklearn.linear_model import LogisticRegression ,Ridge, Lasso, ElasticNet, HuberRegressor\n",
    "from sklearn.tree import DecisionTreeRegressor\n",
    "from sklearn.ensemble import RandomForestRegressor\n",
    "from sklearn.neighbors import KNeighborsRegressor\n",
    "from sklearn.kernel_ridge import KernelRidge\n",
    "from sklearn.neural_network import MLPRegressor\n",
    "from sklearn.svm import SVR\n",
    "\n",
    "\n",
    "# 모델 평가\n",
    "from sklearn.metrics import accuracy_score, confusion_matrix, precision_score, recall_score, f1_score, classification_report, r2_score\n",
    "from sklearn.metrics import auc, roc_auc_score          # AUC 값 계산법 2가지\n",
    "from sklearn.metrics import roc_curve, RocCurveDisplay  # ROC-AUC 그래프 그리는 방법 2가지"
   ]
  },
  {
   "cell_type": "markdown",
   "metadata": {},
   "source": [
    "## 시계열"
   ]
  },
  {
   "cell_type": "code",
   "execution_count": null,
   "metadata": {},
   "outputs": [],
   "source": [
    "## 시계열\n",
    "from scipy import interpolate  # 결측치 - 보간법\n",
    "import statsmodels.api as sm                               # AR, MA, ARMA, ARIMA, SARIMA 여기서 나옴\n",
    "from statsmodels.tsa.arima.model import ARIMA              # ARIMA\n",
    "from statsmodels.tsa.statespace.sarimax import SARIMAX     # SARIMA\n",
    "from statsmodels.tsa.stattools import acf, pacf\n",
    "import pmdarima as pm\n",
    "from pmdarima.arima import auto_arima                      # Auto ARIMA\n",
    "\n",
    "### 시계열 시각화\n",
    "from statsmodels.graphics.tsaplots import acf, plot_acf, plot_pacf    #(시각화) 자기상관 구하기(acf), 자기상관 그래프(plot_acf) => 정상성 판단 그래프\n",
    "from statsmodels.tsa.stattools import adfuller                        #(수치) 자기상관 검정 => 정상성 판단 검정\n",
    "from statsmodels.tsa.stattools import kpss                            # 정상성 판단 검정\n",
    "import itertools"
   ]
  },
  {
   "cell_type": "markdown",
   "metadata": {},
   "source": [
    "---"
   ]
  },
  {
   "cell_type": "markdown",
   "metadata": {},
   "source": [
    "# 통계검정"
   ]
  },
  {
   "cell_type": "code",
   "execution_count": null,
   "metadata": {},
   "outputs": [],
   "source": [
    "# 통계 검정\n",
    "from scipy import stats\n",
    "\n",
    "# 회귀\n",
    "import statsmodels.formula.api as smf     # formula 이용\n",
    "import statsmodels.api as sm     # y, X 형태 이용"
   ]
  },
  {
   "cell_type": "markdown",
   "metadata": {},
   "source": [
    "---"
   ]
  },
  {
   "cell_type": "markdown",
   "metadata": {},
   "source": [
    "## 코드 공간 넓게"
   ]
  },
  {
   "cell_type": "code",
   "execution_count": null,
   "metadata": {},
   "outputs": [],
   "source": [
    "from IPython.core.display import display, HTML\n",
    "display(HTML(\"<style>.container { width:80% !important; }</style>\"))"
   ]
  }
 ],
 "metadata": {
  "kernelspec": {
   "display_name": "Python 3 (ipykernel)",
   "language": "python",
   "name": "python3"
  },
  "language_info": {
   "codemirror_mode": {
    "name": "ipython",
    "version": 3
   },
   "file_extension": ".py",
   "mimetype": "text/x-python",
   "name": "python",
   "nbconvert_exporter": "python",
   "pygments_lexer": "ipython3",
   "version": "3.9.13"
  }
 },
 "nbformat": 4,
 "nbformat_minor": 2
}
