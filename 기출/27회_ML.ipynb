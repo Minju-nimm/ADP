{
 "cells": [
  {
   "cell_type": "markdown",
   "id": "4000eaec",
   "metadata": {},
   "source": [
    "# ADP 실기 27회 머신러닝\n",
    "## 신용카드 이상탐지 데이터 : 차원축소, 오버/언더샘플링, 이상탐지\n",
    "- 캐글 데이터에서 일부 정제한 데이터가 사용\n",
    "- 해당 데이터에서 V1~V17 컬럼만 사용(총 컬럼 20개), 약 1,193건의 데이터\n",
    "    - 사용자 ID 및 민감한 기능(v1-v28)을 보호하기 위해 변환된 정보 \n",
    "\n",
    "- Time : 트랜잭션 시간, 의미 없음  \n",
    "- Amount : 신용카드 사용 금액\n",
    "- Class : 0은 정상, 1은 사기"
   ]
  },
  {
   "cell_type": "markdown",
   "id": "a0638b62",
   "metadata": {},
   "source": [
    "- 1.1) EDA 데이터 탐색\n",
    "- 1-2) 변수간 상관관계를 시각화하고 전처리가 필요함을 설명하라\n",
    "<br/>\n",
    "\n",
    "- 2-1) 차원축소 방법 2가지 이상 비교하고 한가지 선택 (종류와 장/단점)\n",
    "- 2-2) 추천한 한 가지를 실제로 수행하고 선택한 이유 설명\n",
    "<br/>\n",
    "\n",
    "- 3-1) 오버샘플링과 언더샘플링 장단점 비교 및 선택 구현\n",
    "- 3-2) 구현 및 알고리즘 2가지 이상 비교, 성능 측정\n",
    "- 3-3) 현재까지 전처리한 데이터를 통해 모델 수행 후 결과 분석\n",
    "<br/>\n",
    "\n",
    "- 4-1) 이상탐지 모델 2가지 이상 기술, 장/단점 설명\n",
    "- 4-2) 2번에서 만든 데이터로 한 가지 이상탐지 모델을 구현하고, 3번에서 만든 모델과 비교\n",
    "- 4-3) 데이터분석과 관점에서 3번에서 만든 모델과 4번에서 만든 모델 설명"
   ]
  },
  {
   "cell_type": "code",
   "execution_count": null,
   "id": "81a38ebe",
   "metadata": {},
   "outputs": [],
   "source": []
  }
 ],
 "metadata": {
  "kernelspec": {
   "display_name": "Python 3 (ipykernel)",
   "language": "python",
   "name": "python3"
  },
  "language_info": {
   "codemirror_mode": {
    "name": "ipython",
    "version": 3
   },
   "file_extension": ".py",
   "mimetype": "text/x-python",
   "name": "python",
   "nbconvert_exporter": "python",
   "pygments_lexer": "ipython3",
   "version": "3.9.13"
  }
 },
 "nbformat": 4,
 "nbformat_minor": 5
}
