{
 "cells": [
  {
   "cell_type": "markdown",
   "metadata": {},
   "source": [
    "# ADP 실기 28회 머신러닝 \n",
    "## 학생 결석일수 예측 : 차원축소, 랜포, 인공신경망, LGBM, 보팅\n",
    "```\n",
    "- 성별(sex) 바이너리 : ‘F’ - 여성 또는 ‘M’ - 남성\n",
    "- 나이(age) 숫자: 15 - 22\n",
    "- 부모님동거여부 (Pstatus) 바이너리: T: 동거 또는 ‘A’: 별거\n",
    "- 엄마학력(Medu) 숫자 : 0 : 없음, 1 : 초등 교육, 2 : 5-9학년, 3 - 중등 교육 또는 4 - 고등 교육\n",
    "- 아빠학력(Fedu) 숫자 : 0 : 없음, 1 : 초등 교육, 2 : 5-9학년, 3 - 중등 교육 또는 4 - 고등 교육\n",
    "- 주보호자(guardian) 명목형 : ‘어머니’, ‘아버지’ 또는 ‘기타’\n",
    "- 등하교시간(traveltime) 숫자 : 1 : 15분이하, 2 : 15 ~ 30분, 3 : 30분 ~ 1시간, 4 : 1시간 이상\n",
    "- 학습시간(studytime) 숫자 : 1 : 2시간이하, 2 : 2~5시간, 3 : 5~10시간, 4 : 10시간이상\n",
    "- 학고횟수(failures) 숫자 : 1, 2, 3 else 4\n",
    "- 자유시간(freetime) 숫자 : 1(매우 낮음), 2, 3, 4, 5(매우 높음)\n",
    "- 가족관계(famrel) 숫자 : 1(매우 나쁨), 2, 3, 4, 5(우수)\n",
    "```"
   ]
  },
  {
   "cell_type": "markdown",
   "metadata": {},
   "source": [
    "- 1-1) 데이터 EDA & 차원축소가 필요한지?\n",
    "- 1-2) 1-1에서 찾은 문제 파악후 처리하기\n",
    "- 1-3) 과적합 문제가 있다고 가정하고 해결하는 방법 2가지 이상 제시/실행/결과\n",
    "\n",
    "</br>\n",
    "\n",
    "- 2-1) 랜덤포레스트, 인공신경망(neuralnetwork), LightGBM 모델링 수행 후 f1-score 비교\n",
    "- 2-2) Soft-voting, Hard-voting 수행 후 f1-score 비교\n",
    "- 2-3) 5가지 방법 중 최적의 방법 선택 및 이유 설명\n",
    "- 2-4) 만든 모델을 학교 정보시스템에서 활용하려면 어떻게 해야하는지 적고 설명"
   ]
  },
  {
   "cell_type": "code",
   "execution_count": 1,
   "metadata": {},
   "outputs": [],
   "source": [
    "import pandas as pd\n",
    "import numpy as np\n",
    "import matplotlib.pyplot as plt\n",
    "import seaborn as sns\n",
    "\n",
    "# 경고 메세지 숨기기\n",
    "import warnings\n",
    "warnings.filterwarnings(\"ignore\")"
   ]
  },
  {
   "cell_type": "markdown",
   "metadata": {},
   "source": [
    "## 1-1) 데이터 EDA & 차원축소가 필요한지?"
   ]
  },
  {
   "cell_type": "code",
   "execution_count": 2,
   "metadata": {},
   "outputs": [
    {
     "data": {
      "text/html": [
       "<div>\n",
       "<style scoped>\n",
       "    .dataframe tbody tr th:only-of-type {\n",
       "        vertical-align: middle;\n",
       "    }\n",
       "\n",
       "    .dataframe tbody tr th {\n",
       "        vertical-align: top;\n",
       "    }\n",
       "\n",
       "    .dataframe thead th {\n",
       "        text-align: right;\n",
       "    }\n",
       "</style>\n",
       "<table border=\"1\" class=\"dataframe\">\n",
       "  <thead>\n",
       "    <tr style=\"text-align: right;\">\n",
       "      <th></th>\n",
       "      <th>sex</th>\n",
       "      <th>age</th>\n",
       "      <th>Pstatus</th>\n",
       "      <th>Fedu</th>\n",
       "      <th>Medu</th>\n",
       "      <th>guardian</th>\n",
       "      <th>studytime</th>\n",
       "      <th>traveltime</th>\n",
       "      <th>failures</th>\n",
       "      <th>famrel</th>\n",
       "      <th>freetime</th>\n",
       "      <th>absences</th>\n",
       "    </tr>\n",
       "  </thead>\n",
       "  <tbody>\n",
       "    <tr>\n",
       "      <th>0</th>\n",
       "      <td>F</td>\n",
       "      <td>18.0</td>\n",
       "      <td>A</td>\n",
       "      <td>4</td>\n",
       "      <td>4</td>\n",
       "      <td>mother</td>\n",
       "      <td>2</td>\n",
       "      <td>2.0</td>\n",
       "      <td>0</td>\n",
       "      <td>4</td>\n",
       "      <td>3.0</td>\n",
       "      <td>6</td>\n",
       "    </tr>\n",
       "    <tr>\n",
       "      <th>1</th>\n",
       "      <td>F</td>\n",
       "      <td>17.0</td>\n",
       "      <td>T</td>\n",
       "      <td>1</td>\n",
       "      <td>1</td>\n",
       "      <td>father</td>\n",
       "      <td>2</td>\n",
       "      <td>1.0</td>\n",
       "      <td>0</td>\n",
       "      <td>5</td>\n",
       "      <td>3.0</td>\n",
       "      <td>4</td>\n",
       "    </tr>\n",
       "    <tr>\n",
       "      <th>2</th>\n",
       "      <td>F</td>\n",
       "      <td>15.0</td>\n",
       "      <td>T</td>\n",
       "      <td>1</td>\n",
       "      <td>1</td>\n",
       "      <td>mother</td>\n",
       "      <td>2</td>\n",
       "      <td>1.0</td>\n",
       "      <td>3</td>\n",
       "      <td>4</td>\n",
       "      <td>3.0</td>\n",
       "      <td>10</td>\n",
       "    </tr>\n",
       "    <tr>\n",
       "      <th>3</th>\n",
       "      <td>F</td>\n",
       "      <td>15.0</td>\n",
       "      <td>T</td>\n",
       "      <td>2</td>\n",
       "      <td>4</td>\n",
       "      <td>mother</td>\n",
       "      <td>3</td>\n",
       "      <td>1.0</td>\n",
       "      <td>0</td>\n",
       "      <td>3</td>\n",
       "      <td>2.0</td>\n",
       "      <td>2</td>\n",
       "    </tr>\n",
       "    <tr>\n",
       "      <th>4</th>\n",
       "      <td>F</td>\n",
       "      <td>NaN</td>\n",
       "      <td>T</td>\n",
       "      <td>3</td>\n",
       "      <td>3</td>\n",
       "      <td>father</td>\n",
       "      <td>2</td>\n",
       "      <td>1.0</td>\n",
       "      <td>0</td>\n",
       "      <td>4</td>\n",
       "      <td>3.0</td>\n",
       "      <td>4</td>\n",
       "    </tr>\n",
       "  </tbody>\n",
       "</table>\n",
       "</div>"
      ],
      "text/plain": [
       "  sex   age Pstatus  Fedu  Medu guardian  studytime  traveltime  failures  \\\n",
       "0   F  18.0       A     4     4   mother          2         2.0         0   \n",
       "1   F  17.0       T     1     1   father          2         1.0         0   \n",
       "2   F  15.0       T     1     1   mother          2         1.0         3   \n",
       "3   F  15.0       T     2     4   mother          3         1.0         0   \n",
       "4   F   NaN       T     3     3   father          2         1.0         0   \n",
       "\n",
       "   famrel  freetime  absences  \n",
       "0       4       3.0         6  \n",
       "1       5       3.0         4  \n",
       "2       4       3.0        10  \n",
       "3       3       2.0         2  \n",
       "4       4       3.0         4  "
      ]
     },
     "execution_count": 2,
     "metadata": {},
     "output_type": "execute_result"
    }
   ],
   "source": [
    "import pandas as pd\n",
    "\n",
    "df = pd.read_csv('https://raw.githubusercontent.com/Datamanim/datarepo/main/adp/24/problem1.csv')\n",
    "df.head()"
   ]
  },
  {
   "cell_type": "code",
   "execution_count": 3,
   "metadata": {},
   "outputs": [
    {
     "name": "stdout",
     "output_type": "stream",
     "text": [
      "<class 'pandas.core.frame.DataFrame'>\n",
      "RangeIndex: 395 entries, 0 to 394\n",
      "Data columns (total 12 columns):\n",
      " #   Column      Non-Null Count  Dtype  \n",
      "---  ------      --------------  -----  \n",
      " 0   sex         395 non-null    object \n",
      " 1   age         392 non-null    float64\n",
      " 2   Pstatus     395 non-null    object \n",
      " 3   Fedu        395 non-null    int64  \n",
      " 4   Medu        395 non-null    int64  \n",
      " 5   guardian    395 non-null    object \n",
      " 6   studytime   395 non-null    int64  \n",
      " 7   traveltime  392 non-null    float64\n",
      " 8   failures    395 non-null    int64  \n",
      " 9   famrel      395 non-null    int64  \n",
      " 10  freetime    390 non-null    float64\n",
      " 11  absences    395 non-null    int64  \n",
      "dtypes: float64(3), int64(6), object(3)\n",
      "memory usage: 37.2+ KB\n"
     ]
    }
   ],
   "source": [
    "df.info()"
   ]
  },
  {
   "cell_type": "markdown",
   "metadata": {},
   "source": [
    "#### 칼럼의 특성을 살펴봤을 때 sex(성별), Pstatus(부모님 동거여부), guardian(주보호자)가 범주형 변수임을 확인할 수 있다.\n",
    "#### 모델링을 위해 추후 인코딩을 고려해볼 수 있다."
   ]
  },
  {
   "cell_type": "code",
   "execution_count": 4,
   "metadata": {},
   "outputs": [
    {
     "data": {
      "text/html": [
       "<div>\n",
       "<style scoped>\n",
       "    .dataframe tbody tr th:only-of-type {\n",
       "        vertical-align: middle;\n",
       "    }\n",
       "\n",
       "    .dataframe tbody tr th {\n",
       "        vertical-align: top;\n",
       "    }\n",
       "\n",
       "    .dataframe thead th {\n",
       "        text-align: right;\n",
       "    }\n",
       "</style>\n",
       "<table border=\"1\" class=\"dataframe\">\n",
       "  <thead>\n",
       "    <tr style=\"text-align: right;\">\n",
       "      <th></th>\n",
       "      <th>age</th>\n",
       "      <th>Fedu</th>\n",
       "      <th>Medu</th>\n",
       "      <th>studytime</th>\n",
       "      <th>traveltime</th>\n",
       "      <th>failures</th>\n",
       "      <th>famrel</th>\n",
       "      <th>freetime</th>\n",
       "      <th>absences</th>\n",
       "    </tr>\n",
       "  </thead>\n",
       "  <tbody>\n",
       "    <tr>\n",
       "      <th>count</th>\n",
       "      <td>392.000000</td>\n",
       "      <td>395.000000</td>\n",
       "      <td>395.000000</td>\n",
       "      <td>395.000000</td>\n",
       "      <td>392.000000</td>\n",
       "      <td>395.000000</td>\n",
       "      <td>395.000000</td>\n",
       "      <td>390.000000</td>\n",
       "      <td>395.000000</td>\n",
       "    </tr>\n",
       "    <tr>\n",
       "      <th>mean</th>\n",
       "      <td>16.698980</td>\n",
       "      <td>2.521519</td>\n",
       "      <td>2.749367</td>\n",
       "      <td>2.035443</td>\n",
       "      <td>1.446429</td>\n",
       "      <td>0.334177</td>\n",
       "      <td>3.944304</td>\n",
       "      <td>3.233333</td>\n",
       "      <td>5.708861</td>\n",
       "    </tr>\n",
       "    <tr>\n",
       "      <th>std</th>\n",
       "      <td>1.279865</td>\n",
       "      <td>1.088201</td>\n",
       "      <td>1.094735</td>\n",
       "      <td>0.839240</td>\n",
       "      <td>0.695022</td>\n",
       "      <td>0.743651</td>\n",
       "      <td>0.896659</td>\n",
       "      <td>1.000985</td>\n",
       "      <td>8.003096</td>\n",
       "    </tr>\n",
       "    <tr>\n",
       "      <th>min</th>\n",
       "      <td>15.000000</td>\n",
       "      <td>0.000000</td>\n",
       "      <td>0.000000</td>\n",
       "      <td>1.000000</td>\n",
       "      <td>1.000000</td>\n",
       "      <td>0.000000</td>\n",
       "      <td>1.000000</td>\n",
       "      <td>1.000000</td>\n",
       "      <td>0.000000</td>\n",
       "    </tr>\n",
       "    <tr>\n",
       "      <th>25%</th>\n",
       "      <td>16.000000</td>\n",
       "      <td>2.000000</td>\n",
       "      <td>2.000000</td>\n",
       "      <td>1.000000</td>\n",
       "      <td>1.000000</td>\n",
       "      <td>0.000000</td>\n",
       "      <td>4.000000</td>\n",
       "      <td>3.000000</td>\n",
       "      <td>0.000000</td>\n",
       "    </tr>\n",
       "    <tr>\n",
       "      <th>50%</th>\n",
       "      <td>17.000000</td>\n",
       "      <td>2.000000</td>\n",
       "      <td>3.000000</td>\n",
       "      <td>2.000000</td>\n",
       "      <td>1.000000</td>\n",
       "      <td>0.000000</td>\n",
       "      <td>4.000000</td>\n",
       "      <td>3.000000</td>\n",
       "      <td>4.000000</td>\n",
       "    </tr>\n",
       "    <tr>\n",
       "      <th>75%</th>\n",
       "      <td>18.000000</td>\n",
       "      <td>3.000000</td>\n",
       "      <td>4.000000</td>\n",
       "      <td>2.000000</td>\n",
       "      <td>2.000000</td>\n",
       "      <td>0.000000</td>\n",
       "      <td>5.000000</td>\n",
       "      <td>4.000000</td>\n",
       "      <td>8.000000</td>\n",
       "    </tr>\n",
       "    <tr>\n",
       "      <th>max</th>\n",
       "      <td>22.000000</td>\n",
       "      <td>4.000000</td>\n",
       "      <td>4.000000</td>\n",
       "      <td>4.000000</td>\n",
       "      <td>4.000000</td>\n",
       "      <td>3.000000</td>\n",
       "      <td>5.000000</td>\n",
       "      <td>5.000000</td>\n",
       "      <td>75.000000</td>\n",
       "    </tr>\n",
       "  </tbody>\n",
       "</table>\n",
       "</div>"
      ],
      "text/plain": [
       "              age        Fedu        Medu   studytime  traveltime    failures  \\\n",
       "count  392.000000  395.000000  395.000000  395.000000  392.000000  395.000000   \n",
       "mean    16.698980    2.521519    2.749367    2.035443    1.446429    0.334177   \n",
       "std      1.279865    1.088201    1.094735    0.839240    0.695022    0.743651   \n",
       "min     15.000000    0.000000    0.000000    1.000000    1.000000    0.000000   \n",
       "25%     16.000000    2.000000    2.000000    1.000000    1.000000    0.000000   \n",
       "50%     17.000000    2.000000    3.000000    2.000000    1.000000    0.000000   \n",
       "75%     18.000000    3.000000    4.000000    2.000000    2.000000    0.000000   \n",
       "max     22.000000    4.000000    4.000000    4.000000    4.000000    3.000000   \n",
       "\n",
       "           famrel    freetime    absences  \n",
       "count  395.000000  390.000000  395.000000  \n",
       "mean     3.944304    3.233333    5.708861  \n",
       "std      0.896659    1.000985    8.003096  \n",
       "min      1.000000    1.000000    0.000000  \n",
       "25%      4.000000    3.000000    0.000000  \n",
       "50%      4.000000    3.000000    4.000000  \n",
       "75%      5.000000    4.000000    8.000000  \n",
       "max      5.000000    5.000000   75.000000  "
      ]
     },
     "execution_count": 4,
     "metadata": {},
     "output_type": "execute_result"
    }
   ],
   "source": [
    "df.describe()"
   ]
  },
  {
   "cell_type": "markdown",
   "metadata": {},
   "source": [
    "#### Age 변수의 경우, 기초통계량 결과를 봤을 때 큰 이상이 없어보인다. '학생'의 데이터임을 감안했을 때에도 특별한 이상이 없다고 판단했다."
   ]
  },
  {
   "cell_type": "code",
   "execution_count": 5,
   "metadata": {},
   "outputs": [
    {
     "data": {
      "text/plain": [
       "sex           0\n",
       "age           3\n",
       "Pstatus       0\n",
       "Fedu          0\n",
       "Medu          0\n",
       "guardian      0\n",
       "studytime     0\n",
       "traveltime    3\n",
       "failures      0\n",
       "famrel        0\n",
       "freetime      5\n",
       "absences      0\n",
       "dtype: int64"
      ]
     },
     "execution_count": 5,
     "metadata": {},
     "output_type": "execute_result"
    }
   ],
   "source": [
    "df.isnull().sum() # 실제 28회 후기에는 결측치가 존재하지 않았다고 함"
   ]
  },
  {
   "cell_type": "markdown",
   "metadata": {},
   "source": [
    "#### 결측치 확인 결과 age 변수, traveltime, freetime 변수에 각각 3, 3, 5개의 결측치가 존재함을 알 수 있었다."
   ]
  },
  {
   "cell_type": "code",
   "execution_count": 6,
   "metadata": {},
   "outputs": [
    {
     "data": {
      "text/plain": [
       "0     115\n",
       "2      65\n",
       "4      53\n",
       "6      31\n",
       "8      22\n",
       "10     17\n",
       "14     12\n",
       "12     12\n",
       "3       8\n",
       "16      7\n",
       "7       7\n",
       "5       5\n",
       "18      5\n",
       "20      4\n",
       "11      3\n",
       "9       3\n",
       "13      3\n",
       "15      3\n",
       "22      3\n",
       "1       3\n",
       "38      1\n",
       "30      1\n",
       "40      1\n",
       "23      1\n",
       "19      1\n",
       "28      1\n",
       "75      1\n",
       "21      1\n",
       "24      1\n",
       "56      1\n",
       "26      1\n",
       "54      1\n",
       "25      1\n",
       "17      1\n",
       "Name: absences, dtype: int64"
      ]
     },
     "execution_count": 6,
     "metadata": {},
     "output_type": "execute_result"
    }
   ],
   "source": [
    "df[\"absences\"].value_counts()"
   ]
  },
  {
   "cell_type": "code",
   "execution_count": 7,
   "metadata": {},
   "outputs": [
    {
     "name": "stdout",
     "output_type": "stream",
     "text": [
      "0    124\n",
      "4     99\n",
      "2     92\n",
      "3     47\n",
      "1     33\n",
      "Name: absences, dtype: int64\n"
     ]
    }
   ],
   "source": [
    "# 시험 상황에 비슷하게 값 변형 (임의)\n",
    "# 실제 28회 후기에는 target 값이 0~4 (5개)\n",
    "\n",
    "# 랜덤 시드 설정\n",
    "np.random.seed(42)\n",
    "\n",
    "# 변경할 숫자 범위 지정\n",
    "new_values = list(range(5))\n",
    "\n",
    "# 0~4가 아닌 다른 숫자들에 대해 임의적으로 매핑\n",
    "other_values = df.loc[~df[\"absences\"].isin(new_values), \"absences\"].unique()\n",
    "mapping_dict = {value: np.random.choice(new_values) for value in other_values}\n",
    "\n",
    "# absences 열에 매핑 적용하여 값 변경\n",
    "df[\"absences\"] = df[\"absences\"].replace(mapping_dict)\n",
    "\n",
    "print(df[\"absences\"].value_counts())"
   ]
  },
  {
   "cell_type": "markdown",
   "metadata": {},
   "source": [
    "### 수치형 변수 분포 시각화"
   ]
  },
  {
   "cell_type": "code",
   "execution_count": 8,
   "metadata": {},
   "outputs": [
    {
     "data": {
      "image/png": "[encoded data removed]",
      "text/plain": [
       "<Figure size 1800x1400 with 9 Axes>"
      ]
     },
     "metadata": {},
     "output_type": "display_data"
    }
   ],
   "source": [
    "df.hist(bins=15, color='darkblue', figsize=(18,14), grid=False)\n",
    "plt.show()"
   ]
  },
  {
   "cell_type": "markdown",
   "metadata": {},
   "source": [
    "#### 원래 시험에서는 종속변수인 absences에 클래스 불균형이 있었다고 함. 추후 오버샘플링 방법 고려 \n",
    "- 만든 데이터임을 감안"
   ]
  },
  {
   "cell_type": "markdown",
   "metadata": {},
   "source": [
    "### 이상치 탐색"
   ]
  },
  {
   "cell_type": "code",
   "execution_count": 9,
   "metadata": {},
   "outputs": [
    {
     "data": {
      "image/png": "[encoded data removed]",
      "text/plain": [
       "<Figure size 1500x700 with 1 Axes>"
      ]
     },
     "metadata": {},
     "output_type": "display_data"
    }
   ],
   "source": [
    "import matplotlib.pyplot as plt\n",
    "import seaborn as sns\n",
    "\n",
    "# 두 줄로 쉽게 끝내는 방법\n",
    "# df.boxplot(figsize=(18,10))\n",
    "# plt.show()\n",
    "\n",
    "\n",
    "# boxplot을 그리기 위해 범주형 변수 제거 후 수치형 변수 columns 활용 \n",
    "continuous_vars = df.select_dtypes(include=['int64', 'float64']).columns\n",
    "\n",
    "X = df[continuous_vars]\n",
    "df_v1 = pd.melt(X ,var_name='variable', value_name='value')\n",
    "\n",
    "plt.figure(figsize = (15, 7))\n",
    "sns.boxplot(x='variable', y='value', data=df_v1)\n",
    "plt.xticks(range(len(X.columns)), X.columns, rotation=45)\n",
    "plt.show()"
   ]
  },
  {
   "cell_type": "markdown",
   "metadata": {},
   "source": [
    "### 범주형 변수 시각화"
   ]
  },
  {
   "cell_type": "code",
   "execution_count": 10,
   "metadata": {},
   "outputs": [
    {
     "data": {
      "image/png": "[encoded data removed]",
      "text/plain": [
       "<Figure size 1200x300 with 3 Axes>"
      ]
     },
     "metadata": {},
     "output_type": "display_data"
    }
   ],
   "source": [
    "import pandas as pd\n",
    "import matplotlib.pyplot as plt\n",
    "\n",
    "# 데이터 프레임에서 범주형 변수 선택\n",
    "categorical_vars = df.select_dtypes(include=['object']).columns\n",
    "\n",
    "# 범주형 변수에 대한 barplot 그리기\n",
    "fig, axes = plt.subplots(1, len(categorical_vars), figsize=(12, 3))\n",
    "\n",
    "for i, var in enumerate(categorical_vars):\n",
    "    ax = axes[i]\n",
    "    df[var].value_counts().plot(kind='bar', ax=ax)\n",
    "    ax.set_title(var)\n",
    "    ax.set_xlabel(var)\n",
    "    ax.set_ylabel('Count')\n",
    "    ax.set_xticklabels(ax.get_xticklabels(), rotation=45)  # 라벨들의 각도 조절\n",
    "\n",
    "plt.tight_layout()\n",
    "plt.show()"
   ]
  },
  {
   "cell_type": "markdown",
   "metadata": {},
   "source": [
    "### 상관관계 시각화"
   ]
  },
  {
   "cell_type": "code",
   "execution_count": 11,
   "metadata": {},
   "outputs": [
    {
     "data": {
      "text/plain": [
       "<AxesSubplot:>"
      ]
     },
     "execution_count": 11,
     "metadata": {},
     "output_type": "execute_result"
    },
    {
     "data": {
      "image/png": "[encoded data removed]",
      "text/plain": [
       "<Figure size 500x500 with 2 Axes>"
      ]
     },
     "metadata": {},
     "output_type": "display_data"
    }
   ],
   "source": [
    "# 상관관계 시각화 : 히트맵\n",
    "plt.figure(figsize=(5, 5))\n",
    "\n",
    "# corr matrix 생성\n",
    "corr_matrix = df.drop(['absences'], axis=1).corr().abs() # .abs() 절댓값 기준\n",
    "\n",
    "# 상삼각행렬 반환\n",
    "up_mask = np.triu(np.ones(corr_matrix.shape), k=1).astype(np.bool_)\n",
    "\n",
    "sns.heatmap(corr_matrix, mask=up_mask, annot=True, \n",
    "            fmt='.2f', square=True, cmap='RdBu_r')"
   ]
  },
  {
   "cell_type": "markdown",
   "metadata": {},
   "source": [
    "- 히트맵 시각화 결과, 변수 간 상관관계가 다소 높아보이는 경우가 존재하지 않는다고 파악하였다.\n",
    "- 변수 간 상관관계가 높다면 다중공선성이 발생해 예측 성능에 문제를 일으킬 수 있으므로, 추후 차원축소나 변수 선택법 등의 방법을 고려해야한다. \n",
    "- 하지만 본 데이터에서는 다중공선성의 문제가 우려되지 않는다고 생각하였다.\n",
    "- 또한 변수들이 명확한 의미를 가지고 있고 모델의 해석이 중요한 경우라고 생각하여, 차원축소 시 변수들의 해석 가능성이 저하될 다른 문제가 발생할 수 있어 차원축소에는 신중한 판단이 필요하다."
   ]
  },
  {
   "cell_type": "markdown",
   "metadata": {},
   "source": [
    "## 1-2) 1-1에서 찾은 문제 파악후 처리하기"
   ]
  },
  {
   "cell_type": "markdown",
   "metadata": {},
   "source": [
    "### 결측치 처리\n",
    "- 위에서 결측치 확인 결과, age, traveltime, freetime 변수에 각각 3, 3, 5개의 결측치가 있었으므로 결측치를 처리해준다.\n",
    "- 결측값을 평균으로 대체 시 이상치의 영향을 받아 데이터가 왜곡될 수 있으므로 median으로 대체하는 방법을 고려한다."
   ]
  },
  {
   "cell_type": "code",
   "execution_count": 12,
   "metadata": {},
   "outputs": [
    {
     "name": "stdout",
     "output_type": "stream",
     "text": [
      "sex           0\n",
      "age           0\n",
      "Pstatus       0\n",
      "Fedu          0\n",
      "Medu          0\n",
      "guardian      0\n",
      "studytime     0\n",
      "traveltime    0\n",
      "failures      0\n",
      "famrel        0\n",
      "freetime      0\n",
      "absences      0\n",
      "dtype: int64\n"
     ]
    }
   ],
   "source": [
    "# 결측치를 중앙값으로 대체\n",
    "df['age'] = df['age'].fillna(df['age'].median()) \n",
    "df['traveltime'] = df['traveltime'].fillna(df['traveltime'].median()) \n",
    "df['freetime'] = df['freetime'].fillna(df['freetime'].median()) \n",
    "\n",
    "print(df.isnull().sum())"
   ]
  },
  {
   "cell_type": "markdown",
   "metadata": {},
   "source": [
    "### 범주형 변수 인코딩\n",
    "- 변수들은 모델에 직접적으로 입력될 수 없으므로, 숫자 형태로 변환해주기 위해 인코딩 해준다."
   ]
  },
  {
   "cell_type": "code",
   "execution_count": 13,
   "metadata": {},
   "outputs": [
    {
     "name": "stdout",
     "output_type": "stream",
     "text": [
      "<class 'pandas.core.frame.DataFrame'>\n",
      "RangeIndex: 395 entries, 0 to 394\n",
      "Data columns (total 13 columns):\n",
      " #   Column           Non-Null Count  Dtype  \n",
      "---  ------           --------------  -----  \n",
      " 0   age              395 non-null    float64\n",
      " 1   Fedu             395 non-null    int64  \n",
      " 2   Medu             395 non-null    int64  \n",
      " 3   studytime        395 non-null    int64  \n",
      " 4   traveltime       395 non-null    float64\n",
      " 5   failures         395 non-null    int64  \n",
      " 6   famrel           395 non-null    int64  \n",
      " 7   freetime         395 non-null    float64\n",
      " 8   absences         395 non-null    int64  \n",
      " 9   sex_M            395 non-null    uint8  \n",
      " 10  Pstatus_T        395 non-null    uint8  \n",
      " 11  guardian_mother  395 non-null    uint8  \n",
      " 12  guardian_other   395 non-null    uint8  \n",
      "dtypes: float64(3), int64(6), uint8(4)\n",
      "memory usage: 29.4 KB\n"
     ]
    }
   ],
   "source": [
    "# 더미코딩\n",
    "df = pd.get_dummies(df, drop_first=True)\n",
    "df.info()"
   ]
  },
  {
   "cell_type": "markdown",
   "metadata": {},
   "source": [
    "### 연속형 변수 스케일링"
   ]
  },
  {
   "cell_type": "code",
   "execution_count": 14,
   "metadata": {},
   "outputs": [
    {
     "data": {
      "text/html": [
       "<div>\n",
       "<style scoped>\n",
       "    .dataframe tbody tr th:only-of-type {\n",
       "        vertical-align: middle;\n",
       "    }\n",
       "\n",
       "    .dataframe tbody tr th {\n",
       "        vertical-align: top;\n",
       "    }\n",
       "\n",
       "    .dataframe thead th {\n",
       "        text-align: right;\n",
       "    }\n",
       "</style>\n",
       "<table border=\"1\" class=\"dataframe\">\n",
       "  <thead>\n",
       "    <tr style=\"text-align: right;\">\n",
       "      <th></th>\n",
       "      <th>age</th>\n",
       "      <th>Fedu</th>\n",
       "      <th>Medu</th>\n",
       "      <th>studytime</th>\n",
       "      <th>traveltime</th>\n",
       "      <th>failures</th>\n",
       "      <th>famrel</th>\n",
       "      <th>freetime</th>\n",
       "      <th>sex_M</th>\n",
       "      <th>Pstatus_T</th>\n",
       "      <th>guardian_mother</th>\n",
       "      <th>guardian_other</th>\n",
       "    </tr>\n",
       "  </thead>\n",
       "  <tbody>\n",
       "    <tr>\n",
       "      <th>0</th>\n",
       "      <td>18.0</td>\n",
       "      <td>4</td>\n",
       "      <td>4</td>\n",
       "      <td>2</td>\n",
       "      <td>2.0</td>\n",
       "      <td>0</td>\n",
       "      <td>4</td>\n",
       "      <td>3.0</td>\n",
       "      <td>0</td>\n",
       "      <td>0</td>\n",
       "      <td>1</td>\n",
       "      <td>0</td>\n",
       "    </tr>\n",
       "    <tr>\n",
       "      <th>1</th>\n",
       "      <td>17.0</td>\n",
       "      <td>1</td>\n",
       "      <td>1</td>\n",
       "      <td>2</td>\n",
       "      <td>1.0</td>\n",
       "      <td>0</td>\n",
       "      <td>5</td>\n",
       "      <td>3.0</td>\n",
       "      <td>0</td>\n",
       "      <td>1</td>\n",
       "      <td>0</td>\n",
       "      <td>0</td>\n",
       "    </tr>\n",
       "    <tr>\n",
       "      <th>2</th>\n",
       "      <td>15.0</td>\n",
       "      <td>1</td>\n",
       "      <td>1</td>\n",
       "      <td>2</td>\n",
       "      <td>1.0</td>\n",
       "      <td>3</td>\n",
       "      <td>4</td>\n",
       "      <td>3.0</td>\n",
       "      <td>0</td>\n",
       "      <td>1</td>\n",
       "      <td>1</td>\n",
       "      <td>0</td>\n",
       "    </tr>\n",
       "  </tbody>\n",
       "</table>\n",
       "</div>"
      ],
      "text/plain": [
       "    age  Fedu  Medu  studytime  traveltime  failures  famrel  freetime  sex_M  \\\n",
       "0  18.0     4     4          2         2.0         0       4       3.0      0   \n",
       "1  17.0     1     1          2         1.0         0       5       3.0      0   \n",
       "2  15.0     1     1          2         1.0         3       4       3.0      0   \n",
       "\n",
       "   Pstatus_T  guardian_mother  guardian_other  \n",
       "0          0                1               0  \n",
       "1          1                0               0  \n",
       "2          1                1               0  "
      ]
     },
     "metadata": {},
     "output_type": "display_data"
    }
   ],
   "source": [
    "# 피쳐와 종속변수 할당\n",
    "X = df.drop(['absences'], axis=1)\n",
    "y = df['absences']\n",
    "display(X.head(3))"
   ]
  },
  {
   "cell_type": "code",
   "execution_count": 15,
   "metadata": {},
   "outputs": [
    {
     "data": {
      "text/html": [
       "<div>\n",
       "<style scoped>\n",
       "    .dataframe tbody tr th:only-of-type {\n",
       "        vertical-align: middle;\n",
       "    }\n",
       "\n",
       "    .dataframe tbody tr th {\n",
       "        vertical-align: top;\n",
       "    }\n",
       "\n",
       "    .dataframe thead th {\n",
       "        text-align: right;\n",
       "    }\n",
       "</style>\n",
       "<table border=\"1\" class=\"dataframe\">\n",
       "  <thead>\n",
       "    <tr style=\"text-align: right;\">\n",
       "      <th></th>\n",
       "      <th>age</th>\n",
       "      <th>Fedu</th>\n",
       "      <th>Medu</th>\n",
       "      <th>studytime</th>\n",
       "      <th>traveltime</th>\n",
       "      <th>failures</th>\n",
       "      <th>famrel</th>\n",
       "      <th>freetime</th>\n",
       "      <th>sex_M</th>\n",
       "      <th>Pstatus_T</th>\n",
       "      <th>guardian_mother</th>\n",
       "      <th>guardian_other</th>\n",
       "    </tr>\n",
       "  </thead>\n",
       "  <tbody>\n",
       "    <tr>\n",
       "      <th>0</th>\n",
       "      <td>1.019705</td>\n",
       "      <td>1.360371</td>\n",
       "      <td>1.143856</td>\n",
       "      <td>-0.042286</td>\n",
       "      <td>0.804185</td>\n",
       "      <td>-0.449944</td>\n",
       "      <td>0.062194</td>\n",
       "      <td>-0.231841</td>\n",
       "      <td>-0.948176</td>\n",
       "      <td>-2.938392</td>\n",
       "      <td>0.668496</td>\n",
       "      <td>-0.296908</td>\n",
       "    </tr>\n",
       "    <tr>\n",
       "      <th>1</th>\n",
       "      <td>0.234552</td>\n",
       "      <td>-1.399970</td>\n",
       "      <td>-1.600009</td>\n",
       "      <td>-0.042286</td>\n",
       "      <td>-0.639692</td>\n",
       "      <td>-0.449944</td>\n",
       "      <td>1.178860</td>\n",
       "      <td>-0.231841</td>\n",
       "      <td>-0.948176</td>\n",
       "      <td>0.340322</td>\n",
       "      <td>-1.495896</td>\n",
       "      <td>-0.296908</td>\n",
       "    </tr>\n",
       "    <tr>\n",
       "      <th>2</th>\n",
       "      <td>-1.335754</td>\n",
       "      <td>-1.399970</td>\n",
       "      <td>-1.600009</td>\n",
       "      <td>-0.042286</td>\n",
       "      <td>-0.639692</td>\n",
       "      <td>3.589323</td>\n",
       "      <td>0.062194</td>\n",
       "      <td>-0.231841</td>\n",
       "      <td>-0.948176</td>\n",
       "      <td>0.340322</td>\n",
       "      <td>0.668496</td>\n",
       "      <td>-0.296908</td>\n",
       "    </tr>\n",
       "    <tr>\n",
       "      <th>3</th>\n",
       "      <td>-1.335754</td>\n",
       "      <td>-0.479857</td>\n",
       "      <td>1.143856</td>\n",
       "      <td>1.150779</td>\n",
       "      <td>-0.639692</td>\n",
       "      <td>-0.449944</td>\n",
       "      <td>-1.054472</td>\n",
       "      <td>-1.238185</td>\n",
       "      <td>-0.948176</td>\n",
       "      <td>0.340322</td>\n",
       "      <td>0.668496</td>\n",
       "      <td>-0.296908</td>\n",
       "    </tr>\n",
       "    <tr>\n",
       "      <th>4</th>\n",
       "      <td>0.234552</td>\n",
       "      <td>0.440257</td>\n",
       "      <td>0.229234</td>\n",
       "      <td>-0.042286</td>\n",
       "      <td>-0.639692</td>\n",
       "      <td>-0.449944</td>\n",
       "      <td>0.062194</td>\n",
       "      <td>-0.231841</td>\n",
       "      <td>-0.948176</td>\n",
       "      <td>0.340322</td>\n",
       "      <td>-1.495896</td>\n",
       "      <td>-0.296908</td>\n",
       "    </tr>\n",
       "    <tr>\n",
       "      <th>...</th>\n",
       "      <td>...</td>\n",
       "      <td>...</td>\n",
       "      <td>...</td>\n",
       "      <td>...</td>\n",
       "      <td>...</td>\n",
       "      <td>...</td>\n",
       "      <td>...</td>\n",
       "      <td>...</td>\n",
       "      <td>...</td>\n",
       "      <td>...</td>\n",
       "      <td>...</td>\n",
       "      <td>...</td>\n",
       "    </tr>\n",
       "    <tr>\n",
       "      <th>390</th>\n",
       "      <td>2.590012</td>\n",
       "      <td>-0.479857</td>\n",
       "      <td>-0.685387</td>\n",
       "      <td>-0.042286</td>\n",
       "      <td>-0.639692</td>\n",
       "      <td>2.242901</td>\n",
       "      <td>1.178860</td>\n",
       "      <td>1.780847</td>\n",
       "      <td>1.054656</td>\n",
       "      <td>-2.938392</td>\n",
       "      <td>-1.495896</td>\n",
       "      <td>3.368048</td>\n",
       "    </tr>\n",
       "    <tr>\n",
       "      <th>391</th>\n",
       "      <td>0.234552</td>\n",
       "      <td>-1.399970</td>\n",
       "      <td>0.229234</td>\n",
       "      <td>-1.235351</td>\n",
       "      <td>0.804185</td>\n",
       "      <td>-0.449944</td>\n",
       "      <td>-2.171138</td>\n",
       "      <td>0.774503</td>\n",
       "      <td>1.054656</td>\n",
       "      <td>0.340322</td>\n",
       "      <td>0.668496</td>\n",
       "      <td>-0.296908</td>\n",
       "    </tr>\n",
       "    <tr>\n",
       "      <th>392</th>\n",
       "      <td>3.375165</td>\n",
       "      <td>-1.399970</td>\n",
       "      <td>-1.600009</td>\n",
       "      <td>-1.235351</td>\n",
       "      <td>-0.639692</td>\n",
       "      <td>3.589323</td>\n",
       "      <td>1.178860</td>\n",
       "      <td>1.780847</td>\n",
       "      <td>1.054656</td>\n",
       "      <td>0.340322</td>\n",
       "      <td>-1.495896</td>\n",
       "      <td>3.368048</td>\n",
       "    </tr>\n",
       "    <tr>\n",
       "      <th>393</th>\n",
       "      <td>1.019705</td>\n",
       "      <td>-0.479857</td>\n",
       "      <td>0.229234</td>\n",
       "      <td>-1.235351</td>\n",
       "      <td>2.248062</td>\n",
       "      <td>-0.449944</td>\n",
       "      <td>0.062194</td>\n",
       "      <td>0.774503</td>\n",
       "      <td>1.054656</td>\n",
       "      <td>0.340322</td>\n",
       "      <td>0.668496</td>\n",
       "      <td>-0.296908</td>\n",
       "    </tr>\n",
       "    <tr>\n",
       "      <th>394</th>\n",
       "      <td>1.804859</td>\n",
       "      <td>-1.399970</td>\n",
       "      <td>-1.600009</td>\n",
       "      <td>-1.235351</td>\n",
       "      <td>-0.639692</td>\n",
       "      <td>-0.449944</td>\n",
       "      <td>-1.054472</td>\n",
       "      <td>-1.238185</td>\n",
       "      <td>1.054656</td>\n",
       "      <td>0.340322</td>\n",
       "      <td>-1.495896</td>\n",
       "      <td>-0.296908</td>\n",
       "    </tr>\n",
       "  </tbody>\n",
       "</table>\n",
       "<p>395 rows × 12 columns</p>\n",
       "</div>"
      ],
      "text/plain": [
       "          age      Fedu      Medu  studytime  traveltime  failures    famrel  \\\n",
       "0    1.019705  1.360371  1.143856  -0.042286    0.804185 -0.449944  0.062194   \n",
       "1    0.234552 -1.399970 -1.600009  -0.042286   -0.639692 -0.449944  1.178860   \n",
       "2   -1.335754 -1.399970 -1.600009  -0.042286   -0.639692  3.589323  0.062194   \n",
       "3   -1.335754 -0.479857  1.143856   1.150779   -0.639692 -0.449944 -1.054472   \n",
       "4    0.234552  0.440257  0.229234  -0.042286   -0.639692 -0.449944  0.062194   \n",
       "..        ...       ...       ...        ...         ...       ...       ...   \n",
       "390  2.590012 -0.479857 -0.685387  -0.042286   -0.639692  2.242901  1.178860   \n",
       "391  0.234552 -1.399970  0.229234  -1.235351    0.804185 -0.449944 -2.171138   \n",
       "392  3.375165 -1.399970 -1.600009  -1.235351   -0.639692  3.589323  1.178860   \n",
       "393  1.019705 -0.479857  0.229234  -1.235351    2.248062 -0.449944  0.062194   \n",
       "394  1.804859 -1.399970 -1.600009  -1.235351   -0.639692 -0.449944 -1.054472   \n",
       "\n",
       "     freetime     sex_M  Pstatus_T  guardian_mother  guardian_other  \n",
       "0   -0.231841 -0.948176  -2.938392         0.668496       -0.296908  \n",
       "1   -0.231841 -0.948176   0.340322        -1.495896       -0.296908  \n",
       "2   -0.231841 -0.948176   0.340322         0.668496       -0.296908  \n",
       "3   -1.238185 -0.948176   0.340322         0.668496       -0.296908  \n",
       "4   -0.231841 -0.948176   0.340322        -1.495896       -0.296908  \n",
       "..        ...       ...        ...              ...             ...  \n",
       "390  1.780847  1.054656  -2.938392        -1.495896        3.368048  \n",
       "391  0.774503  1.054656   0.340322         0.668496       -0.296908  \n",
       "392  1.780847  1.054656   0.340322        -1.495896        3.368048  \n",
       "393  0.774503  1.054656   0.340322         0.668496       -0.296908  \n",
       "394 -1.238185  1.054656   0.340322        -1.495896       -0.296908  \n",
       "\n",
       "[395 rows x 12 columns]"
      ]
     },
     "execution_count": 15,
     "metadata": {},
     "output_type": "execute_result"
    }
   ],
   "source": [
    "from sklearn.preprocessing import StandardScaler\n",
    "\n",
    "scaler = StandardScaler()\n",
    "df_scaled = scaler.fit_transform(X)\n",
    "df_scaled = pd.DataFrame(df_scaled, columns=X.columns)\n",
    "df_scaled"
   ]
  },
  {
   "cell_type": "markdown",
   "metadata": {},
   "source": [
    "## 1-3) 과적합 문제가 있다고 가정하고 해결하는 방법 2가지 이상 제시/실행/결과"
   ]
  },
  {
   "cell_type": "markdown",
   "metadata": {},
   "source": [
    "### 오버샘플링 - SMOTE\n",
    "- 종속변수 클래스 불균형 문제가 존재할 시, 분류 모델 성능 중 Accuracy에 초점을 두게 된다면 과적합의 위험이 존재할 수 있다. (실제 시험에서 어떤 범주는 value counts가 3밖에 안되는 심한 imbalances 데이터였다고 함)\n",
    "- 따라서 이를 해결하기 위해, 언더샘플링 혹은 오버 샘플링 방법으로 데이터 분포를 맞춰줘야한다. \n",
    "    - 하지만 언더샘플링의 경우 데이터가 적은 갯수에 맞춰 샘플링이 된다면 데이터 손실이 크기 때문에 오버샘플링 방법이 필요하다고 판단했다. 그 중 과적합을 방지하는 'SMOTE' 방법을 고려하는것이 적절할 것으로 보인다.\n",
    "    \n",
    "(오버샘플링 2가지 방법- 랜덤오버샘플링, SMOTE 시각화로 비교해도 괜찮을 것 같음. 27회, 23회, 22회 참고)"
   ]
  },
  {
   "cell_type": "code",
   "execution_count": 16,
   "metadata": {},
   "outputs": [],
   "source": [
    "# 데이터 분할\n",
    "from sklearn.model_selection import train_test_split\n",
    "\n",
    "X_train, X_test, y_train, y_test = train_test_split(df_scaled, \n",
    "                                                    y,                                                     \n",
    "                                                    random_state=23,\n",
    "                                                    test_size=0.2)"
   ]
  },
  {
   "cell_type": "code",
   "execution_count": 17,
   "metadata": {},
   "outputs": [
    {
     "data": {
      "text/plain": [
       "((316, 12), (79, 12))"
      ]
     },
     "execution_count": 17,
     "metadata": {},
     "output_type": "execute_result"
    }
   ],
   "source": [
    "X_train.shape, X_test.shape"
   ]
  },
  {
   "cell_type": "code",
   "execution_count": 18,
   "metadata": {},
   "outputs": [
    {
     "name": "stdout",
     "output_type": "stream",
     "text": [
      "Original Data\n",
      "0    95\n",
      "4    77\n",
      "2    71\n",
      "3    42\n",
      "1    31\n",
      "Name: absences, dtype: int64\n"
     ]
    }
   ],
   "source": [
    "print('Original Data')\n",
    "print(y_train.value_counts()) "
   ]
  },
  {
   "cell_type": "code",
   "execution_count": 19,
   "metadata": {},
   "outputs": [
    {
     "name": "stdout",
     "output_type": "stream",
     "text": [
      "After SMOTE\n",
      "2    95\n",
      "4    95\n",
      "0    95\n",
      "3    95\n",
      "1    95\n",
      "Name: absences, dtype: int64\n"
     ]
    }
   ],
   "source": [
    "from imblearn.over_sampling import SMOTE\n",
    "\n",
    "# SMOTE\n",
    "X_SMO, y_SMO = SMOTE(random_state=2023).fit_resample(X_train, y_train)\n",
    "print('After SMOTE')\n",
    "print(y_SMO.value_counts())"
   ]
  },
  {
   "cell_type": "markdown",
   "metadata": {},
   "source": [
    "### 교차검증(cross validation)\n",
    "- 한정된 데이터 셋으로만 모델 학습을 하는 경우 오버피팅 발생\n",
    "    - 학습, 테스트 데이터 분리 시, 나뉘어진 기준으로만 학습이 잘 될 수 있기 때문에 cross validation을 수행한다. \n",
    "    * cross validation은 k-fold 으로 수행\n",
    "   \n",
    "        * 전체 데이터 셋을 train, test 셋으로 나누고\n",
    "        * train set을 train+validation 으로 사용하기 위해 k개의 폴드로 나눈다.\n",
    "        * 첫 번째 폴드를 validation으로 사용하고 나머지 폴드들을 training set으로 사용한다.\n",
    "        * 모델을 training 한 뒤, 첫 번째 validation set으로 평가한다.\n",
    "        * 차례대로 다음 폴드를 validation set으로 사용하면 3-4번 반복한다.\n",
    "        * 총 k개의 성능 결과를 평균으로 한 것을 학습 모델 성능이라 한다."
   ]
  },
  {
   "cell_type": "code",
   "execution_count": 20,
   "metadata": {},
   "outputs": [
    {
     "data": {
      "text/plain": [
       "RandomForestClassifier()"
      ]
     },
     "execution_count": 20,
     "metadata": {},
     "output_type": "execute_result"
    }
   ],
   "source": [
    "# 교차검증 전 rf 모델 수행\n",
    "from sklearn.ensemble import RandomForestClassifier\n",
    "rf = RandomForestClassifier()\n",
    "rf.fit(X_train, y_train)"
   ]
  },
  {
   "cell_type": "code",
   "execution_count": 21,
   "metadata": {},
   "outputs": [],
   "source": [
    "# 평가 지표\n",
    "from sklearn.metrics import f1_score\n",
    "from sklearn.metrics import make_scorer\n",
    "from sklearn.model_selection import GridSearchCV\n",
    "\n",
    "# f1_score(train_y, rf.predict(train_X), average='micro')\n",
    "\n",
    "from sklearn.metrics import accuracy_score # 정확도\n",
    "\n",
    "# accuracy_score(train_y, rf.predict(train_X))\n",
    "scoring = make_scorer(f1_score, average = 'macro')"
   ]
  },
  {
   "cell_type": "code",
   "execution_count": 22,
   "metadata": {},
   "outputs": [
    {
     "name": "stdout",
     "output_type": "stream",
     "text": [
      "f1 score of each fold: ['0.233', '0.192', '0.168', '0.199', '0.151']\n",
      "f1 : 0.189\n"
     ]
    }
   ],
   "source": [
    "# CV 수행 \n",
    "from sklearn.model_selection import cross_val_score\n",
    "scores = cross_val_score(rf, X_train, y_train, cv=5, scoring = scoring)\n",
    "\n",
    "print(\"f1 score of each fold:\", [f'{acc:.3f}' for acc in scores])\n",
    "print(f\"f1 : {scores.mean():.3f}\")"
   ]
  },
  {
   "cell_type": "markdown",
   "metadata": {},
   "source": [
    "### 오버샘플링 적용 후 교차 검증"
   ]
  },
  {
   "cell_type": "code",
   "execution_count": 23,
   "metadata": {},
   "outputs": [
    {
     "name": "stdout",
     "output_type": "stream",
     "text": [
      "f1 score of each fold: ['0.328', '0.384', '0.557', '0.492', '0.735']\n",
      "f1 : 0.499\n"
     ]
    }
   ],
   "source": [
    "# CV 수행 \n",
    "from sklearn.model_selection import cross_val_score\n",
    "scores = cross_val_score(rf, X_SMO, y_SMO, cv=5, scoring = scoring)\n",
    "\n",
    "print(\"f1 score of each fold:\", [f'{acc:.3f}' for acc in scores])\n",
    "print(f\"f1 : {scores.mean():.3f}\")"
   ]
  },
  {
   "cell_type": "markdown",
   "metadata": {},
   "source": [
    "#### 오버샘플링을 적용 후 교차검증한 결과, 성능이 전반적으로 조금 더 좋아진 것을 확인할 수 있다."
   ]
  },
  {
   "cell_type": "markdown",
   "metadata": {},
   "source": [
    "## 2-1) 랜덤포레스트, 인공신경망(neuralnetwork), LightGBM 모델링 수행 후 f1-score 비교"
   ]
  },
  {
   "cell_type": "markdown",
   "metadata": {},
   "source": [
    "클래스가 3개 이상인 다중분류(Multi-class)인 경우\n",
    "```python\n",
    "# f1_score의 average 옵션 이용\n",
    "sklearn.metrics.f1_score(y_true, y_pred, average=\"macro\") \n",
    "```\n",
    "\n",
    "- f1-score은 0과 1 사이의 값을 가지며, 높을수록 분류 모델의 성능이 좋다고 판단\n",
    "- f1-score이 1에 가까울수록 모델이 정확하게 클래스를 분류하고 있으며, 정밀도와 재현율이 모두 높은 수준으로 유지되고 있는 것을 의미\n",
    "\n",
    "</br>\n",
    "\n",
    "- Macro Average F1 Score : 클래스별 F1 Score를 평균\n",
    "    -  Macro F1 점수는 모든 클래스에 대한 성능을 고려하기 때문에, 클래스 불균형이 심한 경우에도 공평한 평가를 제공\n",
    "- Micro Average F1 Score : 클래스별 accuracy = micro-recall\n",
    "    - 클래스별로 분리된 접근이 아니라 전체 데이터셋 수준에서 계산\n",
    "- Weighted Average F1 Score : 클래스별 F1 Score * Support 비율"
   ]
  },
  {
   "cell_type": "code",
   "execution_count": 24,
   "metadata": {},
   "outputs": [],
   "source": [
    "# # 추가 공부 : 그리드 서치\n",
    "# 위에서 교차검증 진행했으니, 시험장에선 시간 효율따져서 굳이 실행 X ..\n",
    "\n",
    "# from sklearn.model_selection import GridSearchCV\n",
    "# param_grid = {\n",
    "#     'n_estimators': [100, 150, 200, 250],\n",
    "#     'max_depth': [None, 6, 9, 12],\n",
    "#     'min_samples_split': [0.01, 0.05, 0.1],\n",
    "#     'max_features': ['auto', 'sqrt'],\n",
    "# }"
   ]
  },
  {
   "cell_type": "code",
   "execution_count": 25,
   "metadata": {},
   "outputs": [],
   "source": [
    "import os\n",
    "import time\n",
    "\n",
    "from sklearn.ensemble import RandomForestClassifier\n",
    "from sklearn.neural_network import MLPClassifier\n",
    "import lightgbm\n",
    "\n",
    "from sklearn.metrics import f1_score"
   ]
  },
  {
   "cell_type": "markdown",
   "metadata": {},
   "source": [
    "### 1) 랜덤포레스트"
   ]
  },
  {
   "cell_type": "code",
   "execution_count": 26,
   "metadata": {},
   "outputs": [
    {
     "name": "stdout",
     "output_type": "stream",
     "text": [
      "RF model f1-score: 0.19\n",
      "모델 수행시간 : 0.211초\n"
     ]
    }
   ],
   "source": [
    "start = time.time()\n",
    "\n",
    "rf = RandomForestClassifier()\n",
    "rf.fit(X_SMO, y_SMO)\n",
    "print(\"RF model f1-score:\",\n",
    "      np.round(f1_score(y_test, rf.predict(X_test), average='macro'), 3))\n",
    "\n",
    "end = time.time()\n",
    "print(\"모델 수행시간 : {:.3f}초\".format(end-start))"
   ]
  },
  {
   "cell_type": "code",
   "execution_count": 27,
   "metadata": {},
   "outputs": [],
   "source": [
    "# # 추가 : Grid Search 수행\n",
    "# rf_grid = GridSearchCV(estimator=rf, \n",
    "#                            param_grid=param_grid, \n",
    "#                            cv=5, \n",
    "#                            n_jobs=-1, \n",
    "#                            verbose=2,\n",
    "#                            scoring=scoring\n",
    "#                           )\n",
    "# rf_grid.fit(X_SMO, y_SMO)\n",
    "# print(\"best param:\\n\", rf_grid.best_params_)\n",
    "\n",
    "\n",
    "\n",
    "# # rf_grid.best_estimator_\n",
    "# rf_pred =  rf_grid.best_estimator_.predict(test_X)\n",
    "# print(\"RF model f1-score:\", np.round( f1_score(test_y, \n",
    "#                                                rf_pred,\n",
    "#                                                average='macro'),3))"
   ]
  },
  {
   "cell_type": "markdown",
   "metadata": {},
   "source": [
    "### 2) 인공신경망"
   ]
  },
  {
   "cell_type": "code",
   "execution_count": 28,
   "metadata": {},
   "outputs": [],
   "source": [
    "# mlp_params= {\n",
    "#    'hidden_layer_sizes': [100, 150, 200],\n",
    "#    'solver': ['lbfgs', 'sgd', 'adam'],\n",
    "#   #  'momentum': np.arange(0.1,1.1,0.1),\n",
    "#   #  'learning_rate': [0.001, 0.01]\n",
    "#         }"
   ]
  },
  {
   "cell_type": "code",
   "execution_count": 29,
   "metadata": {},
   "outputs": [
    {
     "name": "stdout",
     "output_type": "stream",
     "text": [
      "MLP model f1-score: 0.21\n",
      "모델 수행시간 : 0.887초\n"
     ]
    }
   ],
   "source": [
    "start = time.time()\n",
    "\n",
    "mlp = MLPClassifier()\n",
    "mlp.fit(X_SMO, y_SMO)\n",
    "print(\"MLP model f1-score:\", \n",
    "      np.round(f1_score(y_test, mlp.predict(X_test), average='macro'), 3))\n",
    "\n",
    "end = time.time()\n",
    "print(\"모델 수행시간 : {:.3f}초\".format(end-start))"
   ]
  },
  {
   "cell_type": "code",
   "execution_count": 30,
   "metadata": {},
   "outputs": [],
   "source": [
    "# # Grid Search 수행\n",
    "# mlp_grid = GridSearchCV(estimator=mlp, \n",
    "#                            param_grid=mlp_params, \n",
    "#                            cv=5, \n",
    "#                            n_jobs=-1, \n",
    "#                            verbose=2,\n",
    "#                            scoring=scoring\n",
    "#                           )\n",
    "# mlp_grid.fit(train_X_over, train_y_over)\n",
    "# print(\"best param:\\n\", mlp_grid.best_params_)\n",
    "\n",
    "\n",
    "# # mlp.best_estimator_\n",
    "# print(\"MLP model f1-score:\", np.round( f1_score(test_y, \n",
    "#                                                mlp_grid.best_estimator_.predict(test_X),\n",
    "#                                                 average='macro'),3))"
   ]
  },
  {
   "cell_type": "markdown",
   "metadata": {},
   "source": [
    "### 3) LGBM"
   ]
  },
  {
   "cell_type": "code",
   "execution_count": 31,
   "metadata": {},
   "outputs": [
    {
     "name": "stdout",
     "output_type": "stream",
     "text": [
      "LGBM model f1-score: 0.172\n",
      "모델 수행시간 : 0.460초\n"
     ]
    }
   ],
   "source": [
    "start = time.time()\n",
    "\n",
    "lgbm = lightgbm.LGBMClassifier()\n",
    "lgbm.fit(X_SMO, y_SMO)\n",
    "print(\"LGBM model f1-score:\",\n",
    "      np.round(f1_score(y_test, lgbm.predict(X_test), average='macro'), 3))\n",
    "\n",
    "end = time.time()\n",
    "print(\"모델 수행시간 : {:.3f}초\".format(end-start))"
   ]
  },
  {
   "cell_type": "markdown",
   "metadata": {},
   "source": [
    "#### MLP model f1-score: 0.214로 세 모델 중 가장 f1 score가 높음을 확인할 수 있다."
   ]
  },
  {
   "cell_type": "markdown",
   "metadata": {},
   "source": [
    "### 추가 공부 : catboost \n",
    "- Boosting 계열의 앙상블 알고리즘\n",
    "- **범주형 변수(Categorical Variable)가 많을 때 사용** (회귀, 분류 모두 가능)\n",
    "</br>\n",
    "\n",
    "-  알고리즘 이해  \n",
    "    - 기존의 부스팅 모델이 일괄적으로 모든 훈련 데이터를 대상으로 잔차계산을 했다면, CatBoost는 일부의 데이터만 가지고 \n",
    "         잔차계산을 한 뒤, 이 데이터로 모델을 만들고 그 다음의 데이터의 잔차는 이 모델로 예측한 값을 사용한다.  \n",
    "    - CatBoost는 시계열이 포함되어 있지 않은 일반적인 비시계열 데이터라도 CatBoost가 임의적으로 시계열을 형성해 Boosting 진행  \n",
    "    - 아래는 10개의 데이터 밖에 없지만, 10만개의 경우 10만개의 모델을 학습 시키기에 연산속도가 느려질 것이다. 그래서 CatBoost는 이전 설명처럼 일부 데이터만 가지고 학습해, 속도를 개선 시킨 것 ( 그래서 log(데이터갯수) 만큼 데이터 추출 )\n",
    "    \n",
    "</br>\n",
    "\n",
    "- 장점\n",
    "    - Xgboost, LightGBM 의 다른 Boosting 계열 알고리즘 보다 학습 속도가 개선되었다.\n",
    "    - 기존의 Boosting 계열의 알고리즘보다 오버피팅을 개선 시켰다.\n",
    "    - 데이터 셋을 명확하게 구분할 수 있는 중복되는 변수가 2개 이상 존재할 때, 이를 하나의 변수로 통합해 처리해서 Feature가 줄어\n",
    "    들어 학습 속도 개선됨 (아래 2개 feature는 똑같아서 둘 다 필요 없음)\n",
    "    \n",
    "</br>\n",
    "\n",
    "- 단점\n",
    "     - 데이터 대부분이 수치형 변수인 경우, Light GBM 보다 학습 속도가 느리다. (범주형 변수가 많을 때 사용 하라는 뜻)\n",
    "     - 결측치가 매우 많은 데이터에는 부적합하다."
   ]
  },
  {
   "cell_type": "markdown",
   "metadata": {},
   "source": [
    "Catboost 옵션 상세 내용\n",
    "\n",
    "- cat_features=cat_features 옵션\n",
    "    - 현재 이 데이터는 범주형 변수이긴 하나 모두 수치형으로 되어 있어서 cat_feature라는 파라미터를 사용하지 않아도 되지만\n",
    "    - 만약 범주형 변수가 있으면 해당 컬럼 이름 또는 컬럼의 인덱스를 리스트 형태로 적어주면 된다.\n",
    "- loss_function='MultiClass\n",
    "    -  손실함수로써 해당 손실함수가 계속 작아지도록 학습하는 것임\n",
    "    - target의 범주가 3개 이상일 때 : MultiClass\n",
    "    - 2개 이하 일때 : 'Logloss' 써주면 됨 \n",
    "- eval_metric='AUC'\n",
    "    - 평가척도로 AUC 사용: 원래 다중클래스에서는 AUC보다 F1-Score Macro가 좀 더 적절 \n",
    "    - (중요) 만일 target의 class 불균형이 심하다면 무조건 F1-Score 를 사용하고 class 갯수가 3개 이상이라면 F1-Score Macro를 사용\n",
    "    - 그런데 우선 Catboost에서 F1-Score Macro가 없고 현재 데이터는 target의 불균형이 심하질 않다."
   ]
  },
  {
   "cell_type": "code",
   "execution_count": 32,
   "metadata": {},
   "outputs": [],
   "source": [
    "from catboost import CatBoostClassifier"
   ]
  },
  {
   "cell_type": "code",
   "execution_count": 33,
   "metadata": {},
   "outputs": [
    {
     "name": "stdout",
     "output_type": "stream",
     "text": [
      "Catboost model f1-score: 0.119\n",
      "모델 수행시간 : 5.080초\n"
     ]
    }
   ],
   "source": [
    "# Catboost 모델\n",
    "start = time.time()\n",
    "clf_catb = CatBoostClassifier(# cat_features=cat_features\n",
    "                             n_estimators = 100,          # tree 생성 갯수\n",
    "                             max_depth = 10,              # tree 깊이\n",
    "                             learning_rate = 0.01,        # 학습률\n",
    "                             loss_function='MultiClass',  \n",
    "                             eval_metric='AUC',                                                                  \n",
    "                             random_state=2023,\n",
    "                             verbose=False)\n",
    "clf_catb.fit(X_SMO, y_SMO)\n",
    "\n",
    "print(\"Catboost model f1-score:\", \n",
    "      np.round( f1_score(y_test, clf_catb.predict(X_test),average='macro'),3))\n",
    "\n",
    "end = time.time()\n",
    "print(\"모델 수행시간 : {:.3f}초\".format(end-start))"
   ]
  },
  {
   "cell_type": "markdown",
   "metadata": {},
   "source": [
    "## 2-2) Soft-voting, Hard-voting 수행 후 f1-score 비교"
   ]
  },
  {
   "cell_type": "markdown",
   "metadata": {},
   "source": [
    "- 앙상블 모델의 예측값을 결정짓기 위해 weak learner의 예측값을 바탕으로 voting\n",
    "- 보팅은 일반적으로 서로 다르 알고리즘을 가진 분류기를 결합\n",
    "\n",
    "### hard voting (직접 투표) : 각 모델의 예측값을 바탕으로 다수결 투표\n",
    "- 각 분류기의 예측을 모아서 가장 많이 선택된 클래스를 예측하는 것\n",
    "\n",
    "### soft voting (간접 투표) : 각 모델의 예측값들의 평균 또는 가중치 합을 사용하는 방식\n",
    "- **모든 분류기가 클래스의 확률을 예측**할 수 있으면(즉, predict_proba() 메서드가 있으면), 개별 분류기의 예측을 평균내어 확률이 가장 높은 클래스를 예측\n",
    "- 분류기들의 레이블 값 결정 확률을 모두 더하고, 이를 평균해서 이들 중 확률이 가장 높은 레이블 값을 최종 보팅 결과값으로 선정\n",
    "- 일반적으로 하드 보팅보다는 소프트 보팅이 예측 성능이 좋아서 더 많이 사용됨\n",
    "</br>\n",
    "\n",
    "- predict_proba() 메서드를 제공하는 분류기 : 확률 기반의 예측을 수행\n",
    "    - 로지스틱 회귀 (Logistic Regression)\n",
    "    - 나이브 베이즈 (Naive Bayes)\n",
    "    - 서포트 벡터 머신 (Support Vector Machines)의 일부 구현\n",
    "    - K-최근접 이웃 (K-Nearest Neighbors)의 일부 구현\n",
    "    - 의사결정나무 (Decision Trees)의 앙상블 모델인 랜덤 포레스트 (Random Forest)와 그래디언트 부스팅 (Gradient Boosting) 기반의 모델들 (예: XGBoost, LightGBM, CatBoost)\n",
    "\n",
    "</br>\n",
    "\n",
    "- 반면에 predict_proba() 메서드를 제공하지 않는 분류기들은 클래스에 대한 확률 분포를 직접적으로 제공하지 않음\n",
    "    - 의사결정나무 (Decision Trees)의 단일 트리 구현\n",
    "    - 서포트 벡터 머신 (Support Vector Machines)의 일부 구현\n",
    "    - 신경망 (Neural Networks)의 일부 구현\n"
   ]
  },
  {
   "cell_type": "code",
   "execution_count": 34,
   "metadata": {},
   "outputs": [
    {
     "name": "stdout",
     "output_type": "stream",
     "text": [
      "Soft Voting model f1-score: 0.191\n",
      "Hard Voting model f1-score: 0.177\n"
     ]
    }
   ],
   "source": [
    "from sklearn.ensemble import VotingClassifier\n",
    "\n",
    "# 소프트 보팅\n",
    "soft_voting = VotingClassifier(voting='soft',\n",
    "                               estimators=[('rf', rf), ('mlp', mlp), ('lgbm', lgbm)])\n",
    "soft_voting.fit(X_SMO, y_SMO)\n",
    "print(\"Soft Voting model f1-score:\",\n",
    "      np.round(f1_score(y_test, soft_voting.predict(X_test), average='macro'), 3))\n",
    "\n",
    "\n",
    "\n",
    "# 하드 보팅\n",
    "hard_voting = VotingClassifier(voting='hard',\n",
    "                               estimators=[('rf', rf),('mlp', mlp),('lgbm', lgbm)])\n",
    "hard_voting.fit(X_SMO, y_SMO)\n",
    "print(\"Hard Voting model f1-score:\",\n",
    "      np.round(f1_score(y_test, hard_voting.predict(X_test),average='macro'),3))"
   ]
  },
  {
   "cell_type": "markdown",
   "metadata": {},
   "source": [
    "## 2-3) 5가지 방법 중 최적의 방법 선택 및 이유 설명"
   ]
  },
  {
   "cell_type": "markdown",
   "metadata": {},
   "source": [
    "* RF model f1-score: 0.19\n",
    "* MLP model f1-score: 0.21\n",
    "* LightGBM model f1-score: 0.172\n",
    "* Soft Voting model f1-score: 0.191\n",
    "* Hard Voting model f1-score: 0.177\n",
    "\n",
    "MLP 모델이 f1-score 0.21로 가장 높기 때문에, 최적의 모델로 선택한다.\n",
    "\n",
    "</br>\n",
    "\n",
    "소희님 답변 참고\n",
    "* RF model f1-score: 0.671\n",
    "* MLP model f1-score: 0.668\n",
    "* LightGBM model f1-score: 0.699\n",
    "* Soft Voting model f1-score: 0.686\n",
    "* Hard Voting model f1-score: 0.699\n",
    "\n",
    "* 선택: LightGBM\n",
    "    * 위의 결과 기준으로 Soft, Hard voting은 3가지 모델의 결과를 고려하였음에도 불구하고 LGBM모델과 성능이 비슷\n",
    "    * LightGBM model이 위의 soft, hard voting 방법보다 연산량이 적을 것이므로 Voting 방법 탈락\n",
    "    * MLP보다 트리계열 모델인 RandomForest와 LGBM이 시각화나 feature importance를 볼 수 있어서 더욱 설명력이 좋음\n",
    "    * RF vs LGBM : 배깅 모델과 부스팅 모델의 차이가 있지만. 이 데이터의 경우 class imbalance 문제가 있기에 이에 대한 적절한 지표인 f1-score가 높은 LightGBM 선정 \n"
   ]
  },
  {
   "cell_type": "markdown",
   "metadata": {},
   "source": [
    "## 2-4) 만든 모델을 학교 정보시스템에서 활용하려면 어떻게 해야하는지 적고 설명\n",
    "- 계속 새 데이터 들어오니 가중치 업데이트 해야 한다.\n",
    "- 유저에게 신속한 예측결과 제공 위해 시간효율성으로 적극적으로 고려해야 한다\n",
    "- 데이터 쌓이면 과적합 방지 위해서 모델 조금 경량화 해도 괜찮다 등등...\n",
    "\n",
    "</br>\n",
    "\n",
    "- 1) 데이터 갱신/ 모델 배치 주기 / 모델 재학습 기간 설정 \n",
    "    - ex. 금주 학생의 결석 예측 시스템 결과를 보기 위해 모델을 일주일 마다, 매주 일요일에 실행\n",
    "    - 데이터베이스에 부하가 없는 시간대에 돌 수 있도록 스케쥴링 시간 설정\n",
    "    - 데이터의 변화나 환경의 변화에 따라 모델을 조정하고 유지 보수하는 것 중요\n",
    "    - 모델이 활용되는 동안 예측 성능을 모니터링하고, 필요한 경우 모델을 업데이트하여 정확도를 개선할 수 있도록 한다.\n",
    "- 2) API 생성\n",
    "    - 모델 결과를 Interface 할 수 있는 API를 개발한다. EX) python Flask, FAST API 등\n",
    "- 3) 개인정보 마스킹 처리\n",
    "    - 학생 개인에 대한 정보이기에 이름 등 개인정보를 마스킹 처리하여 모델 생성할 수 있도록 주의한다."
   ]
  },
  {
   "cell_type": "markdown",
   "metadata": {},
   "source": [
    "---"
   ]
  },
  {
   "cell_type": "markdown",
   "metadata": {},
   "source": [
    "* 실제 시험에 나온 데이터를 kaggle에서 찾아 변형\n",
    "    - kaggle : https://www.kaggle.com/datasets/dipam7/student-grade-prediction\n",
    "* 그러나 아래 데이터의 컬럼수나 종속변수 분포가 변형되어 출제\n",
    "    * 결석률 예측 -> 0~4\n",
    "* PCA 및 모델 정확도가 심각하게.. 잘 나오지 않아 결과값보다는 문제 풀이 방법 위주로 참고 "
   ]
  },
  {
   "cell_type": "markdown",
   "metadata": {},
   "source": [
    "Reference\n",
    "- https://coding-law.tistory.com/68"
   ]
  }
 ],
 "metadata": {
  "kernelspec": {
   "display_name": "Python 3 (ipykernel)",
   "language": "python",
   "name": "python3"
  },
  "language_info": {
   "codemirror_mode": {
    "name": "ipython",
    "version": 3
   },
   "file_extension": ".py",
   "mimetype": "text/x-python",
   "name": "python",
   "nbconvert_exporter": "python",
   "pygments_lexer": "ipython3",
   "version": "3.9.13"
  }
 },
 "nbformat": 4,
 "nbformat_minor": 2
}
