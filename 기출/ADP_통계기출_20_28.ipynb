{
 "cells": [
  {
   "cell_type": "markdown",
   "id": "2d5b45eb",
   "metadata": {},
   "source": [
    "# [ 28회 ]"
   ]
  },
  {
   "cell_type": "code",
   "execution_count": null,
   "id": "e8a8d9f4",
   "metadata": {},
   "outputs": [],
   "source": []
  },
  {
   "cell_type": "markdown",
   "id": "a57caf05",
   "metadata": {},
   "source": [
    "# [ 27회 ]"
   ]
  },
  {
   "cell_type": "markdown",
   "id": "4179238f",
   "metadata": {},
   "source": [
    "## 27회 1번 :"
   ]
  },
  {
   "cell_type": "code",
   "execution_count": null,
   "id": "19ca5287",
   "metadata": {},
   "outputs": [],
   "source": []
  },
  {
   "cell_type": "code",
   "execution_count": null,
   "id": "80d9f825",
   "metadata": {},
   "outputs": [],
   "source": []
  },
  {
   "cell_type": "code",
   "execution_count": null,
   "id": "6364ace2",
   "metadata": {},
   "outputs": [],
   "source": []
  },
  {
   "cell_type": "markdown",
   "id": "7b2b072f",
   "metadata": {},
   "source": [
    "---"
   ]
  },
  {
   "cell_type": "markdown",
   "id": "bdac58c7",
   "metadata": {},
   "source": [
    "# [ 26회 ]"
   ]
  },
  {
   "cell_type": "code",
   "execution_count": null,
   "id": "626b1bf7",
   "metadata": {},
   "outputs": [],
   "source": []
  },
  {
   "cell_type": "code",
   "execution_count": null,
   "id": "f2aa5358",
   "metadata": {},
   "outputs": [],
   "source": []
  },
  {
   "cell_type": "code",
   "execution_count": null,
   "id": "0afb8356",
   "metadata": {},
   "outputs": [],
   "source": []
  },
  {
   "cell_type": "code",
   "execution_count": null,
   "id": "13dc0169",
   "metadata": {},
   "outputs": [],
   "source": []
  },
  {
   "cell_type": "markdown",
   "id": "e2e9b13f",
   "metadata": {},
   "source": [
    "---"
   ]
  },
  {
   "cell_type": "markdown",
   "id": "d699a843",
   "metadata": {},
   "source": [
    "# [ 24회 ]"
   ]
  },
  {
   "cell_type": "code",
   "execution_count": null,
   "id": "9bbcc6fb",
   "metadata": {},
   "outputs": [],
   "source": []
  },
  {
   "cell_type": "code",
   "execution_count": null,
   "id": "94168385",
   "metadata": {},
   "outputs": [],
   "source": []
  },
  {
   "cell_type": "code",
   "execution_count": null,
   "id": "fc280059",
   "metadata": {},
   "outputs": [],
   "source": []
  },
  {
   "cell_type": "markdown",
   "id": "b1fa6fea",
   "metadata": {},
   "source": [
    "---"
   ]
  },
  {
   "cell_type": "markdown",
   "id": "dcc5b339",
   "metadata": {},
   "source": [
    "# [ 23회 ]"
   ]
  },
  {
   "cell_type": "markdown",
   "id": "0bb8630c",
   "metadata": {},
   "source": [
    "## < 23회 1번 : 부호검정 >\n",
    "- 시제품 샘플 농도 데이터\n",
    "- 공장에서는 진공관 수명이 1만 시간이라고 주장하여 품질관리팀에서 12개 샘플을 뽑았다. 유의수준 5%에서 부호 검정하시오.   \n",
    "(부호검정이라고 명시해준듯)\n",
    "\n",
    "1. 귀무가설 연구가설 세우기\n",
    "2. 유효한 데이터의 숫자는?\n",
    "3. 검정통계량 및 연구 가설 채택 여부를 작성하라"
   ]
  },
  {
   "cell_type": "code",
   "execution_count": 19,
   "id": "50d67886",
   "metadata": {},
   "outputs": [
    {
     "data": {
      "text/html": [
       "<div>\n",
       "<style scoped>\n",
       "    .dataframe tbody tr th:only-of-type {\n",
       "        vertical-align: middle;\n",
       "    }\n",
       "\n",
       "    .dataframe tbody tr th {\n",
       "        vertical-align: top;\n",
       "    }\n",
       "\n",
       "    .dataframe thead th {\n",
       "        text-align: right;\n",
       "    }\n",
       "</style>\n",
       "<table border=\"1\" class=\"dataframe\">\n",
       "  <thead>\n",
       "    <tr style=\"text-align: right;\">\n",
       "      <th></th>\n",
       "      <th>name</th>\n",
       "      <th>life span</th>\n",
       "    </tr>\n",
       "  </thead>\n",
       "  <tbody>\n",
       "    <tr>\n",
       "      <th>0</th>\n",
       "      <td>sample1</td>\n",
       "      <td>10000</td>\n",
       "    </tr>\n",
       "    <tr>\n",
       "      <th>1</th>\n",
       "      <td>sample2</td>\n",
       "      <td>9000</td>\n",
       "    </tr>\n",
       "    <tr>\n",
       "      <th>2</th>\n",
       "      <td>sample3</td>\n",
       "      <td>9500</td>\n",
       "    </tr>\n",
       "    <tr>\n",
       "      <th>3</th>\n",
       "      <td>sample4</td>\n",
       "      <td>10000</td>\n",
       "    </tr>\n",
       "    <tr>\n",
       "      <th>4</th>\n",
       "      <td>sample5</td>\n",
       "      <td>10000</td>\n",
       "    </tr>\n",
       "    <tr>\n",
       "      <th>5</th>\n",
       "      <td>sample6</td>\n",
       "      <td>8900</td>\n",
       "    </tr>\n",
       "    <tr>\n",
       "      <th>6</th>\n",
       "      <td>sample7</td>\n",
       "      <td>9900</td>\n",
       "    </tr>\n",
       "    <tr>\n",
       "      <th>7</th>\n",
       "      <td>sample8</td>\n",
       "      <td>10100</td>\n",
       "    </tr>\n",
       "    <tr>\n",
       "      <th>8</th>\n",
       "      <td>sample9</td>\n",
       "      <td>10300</td>\n",
       "    </tr>\n",
       "    <tr>\n",
       "      <th>9</th>\n",
       "      <td>sample10</td>\n",
       "      <td>10020</td>\n",
       "    </tr>\n",
       "    <tr>\n",
       "      <th>10</th>\n",
       "      <td>sample11</td>\n",
       "      <td>10000</td>\n",
       "    </tr>\n",
       "    <tr>\n",
       "      <th>11</th>\n",
       "      <td>sample12</td>\n",
       "      <td>9800</td>\n",
       "    </tr>\n",
       "  </tbody>\n",
       "</table>\n",
       "</div>"
      ],
      "text/plain": [
       "        name  life span\n",
       "0    sample1      10000\n",
       "1    sample2       9000\n",
       "2    sample3       9500\n",
       "3    sample4      10000\n",
       "4    sample5      10000\n",
       "5    sample6       8900\n",
       "6    sample7       9900\n",
       "7    sample8      10100\n",
       "8    sample9      10300\n",
       "9   sample10      10020\n",
       "10  sample11      10000\n",
       "11  sample12       9800"
      ]
     },
     "execution_count": 19,
     "metadata": {},
     "output_type": "execute_result"
    }
   ],
   "source": [
    "import pandas as pd\n",
    "problem1 = pd.read_csv('https://raw.githubusercontent.com/Datamanim/datarepo/main/adp/23/problem2.csv')\n",
    "problem1"
   ]
  },
  {
   "cell_type": "markdown",
   "id": "747c613d",
   "metadata": {},
   "source": [
    "#### 접근방법\n",
    "- 부호검정은 표본의 순서를 이용하여 모집단의 중앙값에 대한 가설을 검정하는 비모수적인 방법\n",
    "- 일표본, 부호검정 -> 대칭성에 따라 일표본 부호검정 vs. 윌콕슨 검정 (엄격하게 따르지는 않는다고 하는듯)\n",
    "- wilcoxon 검정의 경우 대칭성을 전제로 함\n",
    "- 유효한 샘플 수 : 알려진 중앙값(모수)과 같은 값을 제외"
   ]
  },
  {
   "cell_type": "markdown",
   "id": "4cbc64dc",
   "metadata": {},
   "source": [
    "### 2-1) 귀무가설, 대립가설 작성\n",
    "- 귀무가설 H0 : 진공관 수명은 1만 시간과 차이가 없다. (진공관 모집단의 중위수는 1만 시간이다.)\n",
    "- 대립가설 H1 : 진공관 수명은 1만 시간과 차이가 있다. "
   ]
  },
  {
   "cell_type": "markdown",
   "id": "66b8f0c5",
   "metadata": {},
   "source": [
    "### 2-2) 유효한 샘플의 수 계산\n",
    "\n",
    "#### 알려진 중앙값과의 차이가 0이 아닌 데이터만 유효하다고 본다 !\n",
    "#### '모수'와 같은 값을 제외하는 방식으로 유효 샘플수를 구함\n",
    "- 유효한 샘플수를 계산할 때, 표본의 중위수와 같은 값을 제외해서 구했는데 잘못된 방식"
   ]
  },
  {
   "cell_type": "code",
   "execution_count": 20,
   "id": "0b23cfd7",
   "metadata": {},
   "outputs": [
    {
     "name": "stdout",
     "output_type": "stream",
     "text": [
      "<class 'pandas.core.frame.DataFrame'>\n",
      "RangeIndex: 12 entries, 0 to 11\n",
      "Data columns (total 2 columns):\n",
      " #   Column     Non-Null Count  Dtype \n",
      "---  ------     --------------  ----- \n",
      " 0   name       12 non-null     object\n",
      " 1   life span  12 non-null     int64 \n",
      "dtypes: int64(1), object(1)\n",
      "memory usage: 320.0+ bytes\n"
     ]
    }
   ],
   "source": [
    "problem1.info()"
   ]
  },
  {
   "cell_type": "code",
   "execution_count": 22,
   "id": "65751bab",
   "metadata": {},
   "outputs": [
    {
     "name": "stdout",
     "output_type": "stream",
     "text": [
      "중위수와 동일한 데이터 수 : 4\n"
     ]
    }
   ],
   "source": [
    "# Shape[0] : 데이터프레임의 행의 개수를 반환\n",
    "print('중위수와 동일한 데이터 수 :', \n",
    "      problem1[problem1['life span']==10000].shape[0])\n",
    "\n",
    "# 10000이 아닌 값만 반환\n",
    "problem1_fillter = problem1[problem1['life span'] != 10000]"
   ]
  },
  {
   "cell_type": "markdown",
   "id": "230ec536",
   "metadata": {},
   "source": [
    "#### 총 데이터 개수 12개에서 10000과 같은 값 4개를 제외하면, 유효한 샘플 수는 8이 된다."
   ]
  },
  {
   "cell_type": "markdown",
   "id": "b8c28be0",
   "metadata": {},
   "source": [
    "### 2-3) 검정통계량 및 연구가설 채택 여부를 작성"
   ]
  },
  {
   "cell_type": "code",
   "execution_count": 24,
   "id": "0e93d8eb",
   "metadata": {},
   "outputs": [
    {
     "name": "stdout",
     "output_type": "stream",
     "text": [
      "검정통계량: 8.5\n",
      "p-value: 0.1953125\n"
     ]
    }
   ],
   "source": [
    "from scipy.stats import wilcoxon\n",
    "static, pvalue = wilcoxon(problem1_fillter['life span']-10000)\n",
    "\n",
    "print(\"검정통계량:\", static)\n",
    "print(\"p-value:\", pvalue)"
   ]
  },
  {
   "cell_type": "markdown",
   "id": "0125c5d5",
   "metadata": {},
   "source": [
    "#### 검정통계량은 8.5,  p-value는 0.19로 0.05의 유의 수준에서 귀무가설을 기각할 수 없다. \n",
    "#### 따라서 진공관 수명은 1만 시간과 차이가 없다. 즉 진공관 수명은 1만 시간이라는 주장을 지지할 수 있다."
   ]
  },
  {
   "cell_type": "markdown",
   "id": "12076659",
   "metadata": {},
   "source": [
    "## < 23회 2번 : 독립성 검정>\n",
    "\n",
    "아래 이미지와 같은 학과별 학점 분포 인원수 표가 있다. 학과와 성적이 관계있는지를 검정하라.\n",
    "\n",
    "<img src=\"https://github.com/Datamanim/datarepo/blob/main/adp/23/problem4.png?raw=true\" width=300 />\n",
    "\n",
    "1. 귀무가설 연구가설 세우기\n",
    "2. 학과와 성적이 독립일 경우의 기댓값을 구하시오\n",
    "3. 검정통계량 및 연구 가설 채택 여부를 작성하라"
   ]
  },
  {
   "cell_type": "markdown",
   "id": "c9740897",
   "metadata": {},
   "source": [
    "#### 접근 방법\n",
    "- 교차표 등장 -> 카이제곱\n",
    "- 학과, 학점 인원 수 -> 모두 범주형\n",
    "- 학과와 성적이 관계있는지 검정 -> '관계, 연관성'은 곧 '독립성 검정'\n",
    "- 카이제곱검정 - 독립성 검정 시행!"
   ]
  },
  {
   "cell_type": "code",
   "execution_count": null,
   "id": "16a98244",
   "metadata": {},
   "outputs": [],
   "source": []
  },
  {
   "cell_type": "code",
   "execution_count": null,
   "id": "dde22113",
   "metadata": {},
   "outputs": [],
   "source": []
  },
  {
   "cell_type": "markdown",
   "id": "9d5fa5a4",
   "metadata": {},
   "source": [
    "### 2-1) 귀무가설, 대립가설 작성\n",
    "- 귀무가설 : 학과와 성적은 관련이 없다 (독립이다)\n",
    "- 연구가설 : 학과와 성적은 관련이 있다 (독립이 아니다)"
   ]
  },
  {
   "cell_type": "markdown",
   "id": "4d0032b1",
   "metadata": {},
   "source": [
    "### 2-2) 학과와 성적이 독립일 경우의 기댓값을 구하시오."
   ]
  },
  {
   "cell_type": "code",
   "execution_count": null,
   "id": "3554065d",
   "metadata": {},
   "outputs": [],
   "source": []
  },
  {
   "cell_type": "markdown",
   "id": "c69029ef",
   "metadata": {},
   "source": [
    "### 2-3) 검정통계량 구하고 연구가설의 채택여부 작성"
   ]
  },
  {
   "cell_type": "code",
   "execution_count": null,
   "id": "52fc23af",
   "metadata": {},
   "outputs": [],
   "source": []
  },
  {
   "cell_type": "markdown",
   "id": "d17f27f8",
   "metadata": {},
   "source": [
    "---"
   ]
  },
  {
   "cell_type": "markdown",
   "id": "6c8bb7b7",
   "metadata": {},
   "source": [
    "# [ 22회 ]"
   ]
  },
  {
   "cell_type": "markdown",
   "id": "38ce1f1e",
   "metadata": {},
   "source": [
    "## < 22회 1번 : 일표본 분산검정 (카이제곱검정) >\n",
    "- 금속 성분 함유량 데이터(변수 1개)\n",
    "- 제품에 금속 재질 함유량의 분산이 1.3을 넘으면 불량이라고 보고 있는데 제조사별로 차이가 난다고 제보를 받았다. 분산에 대해 검정을 수행하시오. (유의확률 0.05)\n",
    "\n",
    "1. 연구가설과 귀무가설 작성\n",
    "2. 양측 검정 시행\n",
    "3. 검정통계량, 가설채택"
   ]
  },
  {
   "cell_type": "markdown",
   "id": "0b666031",
   "metadata": {},
   "source": [
    "#### 접근방법\n",
    "- Chi-square test for a single variance\n",
    "- 일표본 분산 검정은 카이제곱 통계량을 따름\n",
    "- Python에 패키지가 없으므로 R사용\n",
    "    - EnvStats의 varTest"
   ]
  },
  {
   "cell_type": "markdown",
   "id": "a1b90ddb",
   "metadata": {},
   "source": [
    "### 1-1) 연구가설과 귀무가설 작성\n",
    "- 귀무가설(H0) : 제품들의 금속 재질 함유량 분산은 1.3이다.\n",
    "- 대립가설(H1) : 제품들의 금속 재질 함유량 분산은 1.3이 아니다."
   ]
  },
  {
   "cell_type": "markdown",
   "id": "cd2f73b0",
   "metadata": {},
   "source": [
    "### 1-2) 양측 검정 시행"
   ]
  },
  {
   "cell_type": "markdown",
   "id": "b6f00ccb",
   "metadata": {},
   "source": [
    "### 1-3) 검정통계량, 가설채택"
   ]
  },
  {
   "cell_type": "markdown",
   "id": "63c5a615",
   "metadata": {},
   "source": [
    "``` R \n",
    "# code\n",
    "library(readr)\n",
    "\n",
    "df <- read_csv(\"https://raw.githubusercontent.com/Datamanim/datarepo/main/adp/22/content.csv\")\n",
    "df\n",
    "\n",
    "\n",
    "library(\"EnvStats\")\n",
    "\n",
    "# 단일 분산에 대한 카이제곱 검정을 수행하는 함수\n",
    "# 귀무가설로 설정할 분산의 값\n",
    "chi_vartest <- varTest(df$content, \n",
    "                       alternative = \"two.sided\",\n",
    "                       conf.level = 0.95, \n",
    "                       sigma.squared = 1.3) #  귀무가설로 설정할 분산의 값\n",
    "\n",
    "print(chi_vartest$statistic)\n",
    "p <- chi_vartest$p.value\n",
    "formatted <- sprintf(\"%.3f\", p) # 소수점 세자리까지\n",
    "print(formatted)\n",
    "```"
   ]
  },
  {
   "cell_type": "markdown",
   "id": "b8ecef20",
   "metadata": {},
   "source": [
    "```R\n",
    "# Output\n",
    "\n",
    "> print(chi_vartest$statistic)\n",
    "Chi-Squared \n",
    "   328.2923 \n",
    "\n",
    "> p <- chi_vartest$p.value\n",
    "> formatted <- sprintf(\"%.3f\", p)\n",
    "> print(formatted)\n",
    "[1] \"0.000\"\n",
    "\n",
    "        \n",
    "# 그냥 함수 실행하면 모든 값 출력\n",
    "> varTest(df$content, \n",
    "+         alternative = \"two.sided\",\n",
    "+         conf.level = 0.95, \n",
    "+         sigma.squared = 1.3) #  귀무가설로 설정할 분산의 값\n",
    "$statistic\n",
    "Chi-Squared \n",
    "   328.2923 \n",
    "\n",
    "$parameters\n",
    " df \n",
    "199 \n",
    "\n",
    "$p.value\n",
    "[1] 4.272667e-08\n",
    "\n",
    "$estimate\n",
    "variance \n",
    "2.144623 \n",
    "\n",
    "$null.value\n",
    "variance \n",
    "     1.3 \n",
    "\n",
    "$alternative\n",
    "[1] \"two.sided\"\n",
    "\n",
    "$method\n",
    "[1] \"Chi-Squared Test on Variance\"\n",
    "\n",
    "$data.name\n",
    "[1] \"df$content\"\n",
    "\n",
    "$conf.int\n",
    "     LCL      UCL \n",
    "1.778549 2.637274 \n",
    "attr(,\"conf.level\")\n",
    "[1] 0.95\n",
    "\n",
    "attr(,\"class\")\n",
    "[1] \"htestEnvStats\"\n",
    "```"
   ]
  },
  {
   "cell_type": "markdown",
   "id": "1c9f9fd3",
   "metadata": {},
   "source": [
    "#### 일표본 분산 검정에는 카이제곱검정 통계량을 이용하고, R에서 EnvStats의 VarTest 함수를 이용할 수 있다.\n",
    "#### 검정 결과 p-value값이 유의수준 0.05보다 작으므로, 귀무가설을 기각한다. \n",
    "#### 따라서, 제품들의 금속 재질 함유량 분산은 1.3이 아니라고 할 수 있다."
   ]
  },
  {
   "cell_type": "markdown",
   "id": "21e85d3b",
   "metadata": {},
   "source": [
    "## < 22회 2번 : 관리도 > \n",
    "Lot별 200개에 대한 불량 제품 수량 데이터(변수 2개 - lot번호, 불량제품수)\n",
    "\n",
    "1. 불량률 관리도에 따라 관리중심선(CL : Center Line), 관리 상한선(UCL : Upper Control Limit), 하한선(LCL : Lower Control Limit) 구하기\n",
    "2. 관리도 시각화\n"
   ]
  },
  {
   "cell_type": "code",
   "execution_count": null,
   "id": "23541486",
   "metadata": {},
   "outputs": [],
   "source": []
  },
  {
   "cell_type": "code",
   "execution_count": null,
   "id": "dbfb3189",
   "metadata": {},
   "outputs": [],
   "source": []
  },
  {
   "cell_type": "markdown",
   "id": "2c725b51",
   "metadata": {},
   "source": [
    "## < 22회 3번 : \n",
    "제품 1, 2를 만드는 데 재료 a, b, c가 일부 사용되며, 제품 1과 2를 만들 때 12만원과 18만원을 벌 수 있다. 재료는 한정적으로 주어지는데, 이때 최대 수익을 낼 수 있을 때의 제품 1과 제품 2의 개수를 구하라.\n",
    "\n",
    "- 재료 공급량 {a: 1300, b: 1000, c: 1200}\n",
    "\n",
    "| 구분 | 재료 a | 재료 b | 재료 c |\n",
    "| --- | --- | --- | --- |\n",
    "| 제품 1 | 20 | 20 | 20 |\n",
    "| 제품 2 | 40 | 30 | 30 |"
   ]
  },
  {
   "cell_type": "markdown",
   "id": "812c52c4",
   "metadata": {},
   "source": [
    "## < 22회 4번 : >"
   ]
  },
  {
   "cell_type": "code",
   "execution_count": null,
   "id": "e73ce574",
   "metadata": {},
   "outputs": [],
   "source": []
  },
  {
   "cell_type": "code",
   "execution_count": null,
   "id": "ace53d4e",
   "metadata": {},
   "outputs": [],
   "source": []
  },
  {
   "cell_type": "markdown",
   "id": "b05c0c0c",
   "metadata": {},
   "source": [
    "---"
   ]
  },
  {
   "cell_type": "markdown",
   "id": "162e0958",
   "metadata": {},
   "source": [
    "# [ 21회 ]"
   ]
  },
  {
   "cell_type": "code",
   "execution_count": null,
   "id": "b6954aeb",
   "metadata": {},
   "outputs": [],
   "source": [
    "## 21회 1번 : "
   ]
  }
 ],
 "metadata": {
  "kernelspec": {
   "display_name": "Python 3 (ipykernel)",
   "language": "python",
   "name": "python3"
  },
  "language_info": {
   "codemirror_mode": {
    "name": "ipython",
    "version": 3
   },
   "file_extension": ".py",
   "mimetype": "text/x-python",
   "name": "python",
   "nbconvert_exporter": "python",
   "pygments_lexer": "ipython3",
   "version": "3.9.13"
  }
 },
 "nbformat": 4,
 "nbformat_minor": 5
}
