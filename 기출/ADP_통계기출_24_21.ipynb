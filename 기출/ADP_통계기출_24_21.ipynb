{
 "cells": [
  {
   "cell_type": "markdown",
   "id": "281562bf",
   "metadata": {},
   "source": [
    "# ADP 통계 기출 24회 ~ 21회"
   ]
  },
  {
   "cell_type": "code",
   "execution_count": 3,
   "id": "2459516b",
   "metadata": {},
   "outputs": [],
   "source": [
    "import pandas as pd\n",
    "import numpy as np\n",
    "from scipy import stats\n",
    "\n",
    "import warnings\n",
    "warnings.filterwarnings(\"ignore\")"
   ]
  },
  {
   "cell_type": "markdown",
   "id": "d662eb48",
   "metadata": {},
   "source": [
    "---"
   ]
  },
  {
   "cell_type": "markdown",
   "id": "d699a843",
   "metadata": {},
   "source": [
    "# [ 24회 ]"
   ]
  },
  {
   "cell_type": "markdown",
   "id": "ca3beeb2",
   "metadata": {},
   "source": [
    "# < 24회 1번 : 다중회귀, 가변수 >\n",
    "광고횟수와 광고비에 따른 매출액의 데이터이다.\n",
    "\n",
    "1. 광고비 변수를 가변수 처리후 다중회귀를 수행하여 회귀계수가 유의한지 검정\n",
    "2. 회귀식이 유의한지 판단 - 모형검정?"
   ]
  },
  {
   "cell_type": "code",
   "execution_count": 29,
   "id": "94168385",
   "metadata": {},
   "outputs": [
    {
     "data": {
      "text/html": [
       "<div>\n",
       "<style scoped>\n",
       "    .dataframe tbody tr th:only-of-type {\n",
       "        vertical-align: middle;\n",
       "    }\n",
       "\n",
       "    .dataframe tbody tr th {\n",
       "        vertical-align: top;\n",
       "    }\n",
       "\n",
       "    .dataframe thead th {\n",
       "        text-align: right;\n",
       "    }\n",
       "</style>\n",
       "<table border=\"1\" class=\"dataframe\">\n",
       "  <thead>\n",
       "    <tr style=\"text-align: right;\">\n",
       "      <th></th>\n",
       "      <th>광고횟수</th>\n",
       "      <th>광고비</th>\n",
       "      <th>매출액</th>\n",
       "    </tr>\n",
       "  </thead>\n",
       "  <tbody>\n",
       "    <tr>\n",
       "      <th>0</th>\n",
       "      <td>2</td>\n",
       "      <td>낮음</td>\n",
       "      <td>15</td>\n",
       "    </tr>\n",
       "    <tr>\n",
       "      <th>1</th>\n",
       "      <td>3</td>\n",
       "      <td>낮음</td>\n",
       "      <td>16</td>\n",
       "    </tr>\n",
       "    <tr>\n",
       "      <th>2</th>\n",
       "      <td>4</td>\n",
       "      <td>낮음</td>\n",
       "      <td>17</td>\n",
       "    </tr>\n",
       "    <tr>\n",
       "      <th>3</th>\n",
       "      <td>4</td>\n",
       "      <td>높음</td>\n",
       "      <td>18</td>\n",
       "    </tr>\n",
       "    <tr>\n",
       "      <th>4</th>\n",
       "      <td>5</td>\n",
       "      <td>높음</td>\n",
       "      <td>20</td>\n",
       "    </tr>\n",
       "  </tbody>\n",
       "</table>\n",
       "</div>"
      ],
      "text/plain": [
       "   광고횟수 광고비  매출액\n",
       "0     2  낮음   15\n",
       "1     3  낮음   16\n",
       "2     4  낮음   17\n",
       "3     4  높음   18\n",
       "4     5  높음   20"
      ]
     },
     "execution_count": 29,
     "metadata": {},
     "output_type": "execute_result"
    }
   ],
   "source": [
    "import pandas as pd\n",
    "df = pd.read_csv('https://raw.githubusercontent.com/Datamanim/datarepo/main/adp/24/problem2.csv', encoding='cp949')\n",
    "df.head()"
   ]
  },
  {
   "cell_type": "markdown",
   "id": "bf8cbd23",
   "metadata": {},
   "source": [
    "### 접근 방법\n",
    "1. 광고횟수와 광고비에 따른 매출액\n",
    "    - 광고횟수, 광고비 : 독립변수 X\n",
    "    - 매출액 : 종속변수 y\n",
    "    <br><br/>\n",
    "    \n",
    "2. 가변수 처리 : get_dummies() 이용\n",
    "    - OLS 함수는 자동으로 가변수화 해준다 !\n",
    "    - formula를 이용하는 smf.ols()는 자동으로 상수항 가정\n",
    "    - sm,ols(y, X)는 상수항 추가해줘야함\n",
    "    <br><br/>\n",
    "    \n",
    "3. 회귀계수 유의성 검정\n",
    "    - 회귀계수가 유의하지 않다면?! $\\rightarrow$ 추후 방법에 대해서도 생각해보자\n",
    "    <br><br/>\n",
    "    \n",
    "4. 회귀식 유의성 검정\n",
    "    - 검정통계량(F-통계량)\n",
    "    - p-value(모델이 유의한지)"
   ]
  },
  {
   "cell_type": "markdown",
   "id": "6f34bfd4",
   "metadata": {},
   "source": [
    "### 1-1) 광고비 변수를 가변수 처리후 다중회귀를 수행하여 회귀계수가 유의한지 검정\n",
    "- smf.ols랑 sm.ols 두 shell 코드 결과 동일함\n",
    "- smf.ols가 훨씬 간략 !!"
   ]
  },
  {
   "cell_type": "code",
   "execution_count": 28,
   "id": "bbe5ce95",
   "metadata": {},
   "outputs": [
    {
     "data": {
      "text/html": [
       "<table class=\"simpletable\">\n",
       "<caption>OLS Regression Results</caption>\n",
       "<tr>\n",
       "  <th>Dep. Variable:</th>           <td>매출액</td>       <th>  R-squared:         </th> <td>   0.982</td>\n",
       "</tr>\n",
       "<tr>\n",
       "  <th>Model:</th>                   <td>OLS</td>       <th>  Adj. R-squared:    </th> <td>   0.978</td>\n",
       "</tr>\n",
       "<tr>\n",
       "  <th>Method:</th>             <td>Least Squares</td>  <th>  F-statistic:       </th> <td>   221.2</td>\n",
       "</tr>\n",
       "<tr>\n",
       "  <th>Date:</th>             <td>Wed, 24 May 2023</td> <th>  Prob (F-statistic):</th> <td>9.96e-08</td>\n",
       "</tr>\n",
       "<tr>\n",
       "  <th>Time:</th>                 <td>15:49:37</td>     <th>  Log-Likelihood:    </th> <td> -11.883</td>\n",
       "</tr>\n",
       "<tr>\n",
       "  <th>No. Observations:</th>      <td>    11</td>      <th>  AIC:               </th> <td>   29.77</td>\n",
       "</tr>\n",
       "<tr>\n",
       "  <th>Df Residuals:</th>          <td>     8</td>      <th>  BIC:               </th> <td>   30.96</td>\n",
       "</tr>\n",
       "<tr>\n",
       "  <th>Df Model:</th>              <td>     2</td>      <th>                     </th>     <td> </td>   \n",
       "</tr>\n",
       "<tr>\n",
       "  <th>Covariance Type:</th>      <td>nonrobust</td>    <th>                     </th>     <td> </td>   \n",
       "</tr>\n",
       "</table>\n",
       "<table class=\"simpletable\">\n",
       "<tr>\n",
       "      <td></td>         <th>coef</th>     <th>std err</th>      <th>t</th>      <th>P>|t|</th>  <th>[0.025</th>    <th>0.975]</th>  \n",
       "</tr>\n",
       "<tr>\n",
       "  <th>Intercept</th> <td>   12.1641</td> <td>    0.556</td> <td>   21.876</td> <td> 0.000</td> <td>   10.882</td> <td>   13.446</td>\n",
       "</tr>\n",
       "<tr>\n",
       "  <th>광고비[T.높음]</th> <td>    0.5227</td> <td>    0.536</td> <td>    0.975</td> <td> 0.358</td> <td>   -0.713</td> <td>    1.759</td>\n",
       "</tr>\n",
       "<tr>\n",
       "  <th>광고횟수</th>      <td>    1.4350</td> <td>    0.074</td> <td>   19.518</td> <td> 0.000</td> <td>    1.265</td> <td>    1.605</td>\n",
       "</tr>\n",
       "</table>\n",
       "<table class=\"simpletable\">\n",
       "<tr>\n",
       "  <th>Omnibus:</th>       <td> 7.665</td> <th>  Durbin-Watson:     </th> <td>   0.919</td>\n",
       "</tr>\n",
       "<tr>\n",
       "  <th>Prob(Omnibus):</th> <td> 0.022</td> <th>  Jarque-Bera (JB):  </th> <td>   3.407</td>\n",
       "</tr>\n",
       "<tr>\n",
       "  <th>Skew:</th>          <td> 1.265</td> <th>  Prob(JB):          </th> <td>   0.182</td>\n",
       "</tr>\n",
       "<tr>\n",
       "  <th>Kurtosis:</th>      <td> 4.015</td> <th>  Cond. No.          </th> <td>    18.9</td>\n",
       "</tr>\n",
       "</table><br/><br/>Notes:<br/>[1] Standard Errors assume that the covariance matrix of the errors is correctly specified."
      ],
      "text/plain": [
       "<class 'statsmodels.iolib.summary.Summary'>\n",
       "\"\"\"\n",
       "                            OLS Regression Results                            \n",
       "==============================================================================\n",
       "Dep. Variable:                    매출액   R-squared:                       0.982\n",
       "Model:                            OLS   Adj. R-squared:                  0.978\n",
       "Method:                 Least Squares   F-statistic:                     221.2\n",
       "Date:                Wed, 24 May 2023   Prob (F-statistic):           9.96e-08\n",
       "Time:                        15:49:37   Log-Likelihood:                -11.883\n",
       "No. Observations:                  11   AIC:                             29.77\n",
       "Df Residuals:                       8   BIC:                             30.96\n",
       "Df Model:                           2                                         \n",
       "Covariance Type:            nonrobust                                         \n",
       "==============================================================================\n",
       "                 coef    std err          t      P>|t|      [0.025      0.975]\n",
       "------------------------------------------------------------------------------\n",
       "Intercept     12.1641      0.556     21.876      0.000      10.882      13.446\n",
       "광고비[T.높음]      0.5227      0.536      0.975      0.358      -0.713       1.759\n",
       "광고횟수           1.4350      0.074     19.518      0.000       1.265       1.605\n",
       "==============================================================================\n",
       "Omnibus:                        7.665   Durbin-Watson:                   0.919\n",
       "Prob(Omnibus):                  0.022   Jarque-Bera (JB):                3.407\n",
       "Skew:                           1.265   Prob(JB):                        0.182\n",
       "Kurtosis:                       4.015   Cond. No.                         18.9\n",
       "==============================================================================\n",
       "\n",
       "Notes:\n",
       "[1] Standard Errors assume that the covariance matrix of the errors is correctly specified.\n",
       "\"\"\""
      ]
     },
     "execution_count": 28,
     "metadata": {},
     "output_type": "execute_result"
    }
   ],
   "source": [
    "import statsmodels.formula.api as smf\n",
    "\n",
    "# mapping을 통한 가변수 처리\n",
    "# df['광고비'] = df['광고비'].map({'낮음':0,'높음':1})\n",
    "\n",
    "formula = '매출액 ~ 광고횟수 + 광고비'\n",
    "result = smf.ols(formula, df).fit()\n",
    "result.summary()"
   ]
  },
  {
   "cell_type": "markdown",
   "id": "3580a834",
   "metadata": {},
   "source": [
    "#### 분석 결과를 살펴봤을 때, 광고비의 경우 p-value 값이 0.358로 유의수준 0.05에서 유의하지 않고, 나머지 계수는 유의하다고 할 수 있다."
   ]
  },
  {
   "cell_type": "markdown",
   "id": "103d5814",
   "metadata": {},
   "source": [
    "### 1-2) 회귀식이 유의한지 판단"
   ]
  },
  {
   "cell_type": "markdown",
   "id": "1f8ae66d",
   "metadata": {},
   "source": [
    "#### F 통계량의 p-value는 유의수준 0.05보다 작으므로, 회귀식은 유의하다고 할 수 있다."
   ]
  },
  {
   "cell_type": "markdown",
   "id": "157773db",
   "metadata": {},
   "source": [
    "  "
   ]
  },
  {
   "cell_type": "markdown",
   "id": "361b621f",
   "metadata": {},
   "source": [
    "### 참고 : sm.ols 이용 (smf.ols랑 결과 동일함)"
   ]
  },
  {
   "cell_type": "code",
   "execution_count": 30,
   "id": "2779dfe4",
   "metadata": {},
   "outputs": [
    {
     "data": {
      "text/html": [
       "<table class=\"simpletable\">\n",
       "<caption>OLS Regression Results</caption>\n",
       "<tr>\n",
       "  <th>Dep. Variable:</th>           <td>매출액</td>       <th>  R-squared:         </th> <td>   0.982</td>\n",
       "</tr>\n",
       "<tr>\n",
       "  <th>Model:</th>                   <td>OLS</td>       <th>  Adj. R-squared:    </th> <td>   0.978</td>\n",
       "</tr>\n",
       "<tr>\n",
       "  <th>Method:</th>             <td>Least Squares</td>  <th>  F-statistic:       </th> <td>   221.2</td>\n",
       "</tr>\n",
       "<tr>\n",
       "  <th>Date:</th>             <td>Wed, 24 May 2023</td> <th>  Prob (F-statistic):</th> <td>9.96e-08</td>\n",
       "</tr>\n",
       "<tr>\n",
       "  <th>Time:</th>                 <td>15:53:16</td>     <th>  Log-Likelihood:    </th> <td> -11.883</td>\n",
       "</tr>\n",
       "<tr>\n",
       "  <th>No. Observations:</th>      <td>    11</td>      <th>  AIC:               </th> <td>   29.77</td>\n",
       "</tr>\n",
       "<tr>\n",
       "  <th>Df Residuals:</th>          <td>     8</td>      <th>  BIC:               </th> <td>   30.96</td>\n",
       "</tr>\n",
       "<tr>\n",
       "  <th>Df Model:</th>              <td>     2</td>      <th>                     </th>     <td> </td>   \n",
       "</tr>\n",
       "<tr>\n",
       "  <th>Covariance Type:</th>      <td>nonrobust</td>    <th>                     </th>     <td> </td>   \n",
       "</tr>\n",
       "</table>\n",
       "<table class=\"simpletable\">\n",
       "<tr>\n",
       "     <td></td>       <th>coef</th>     <th>std err</th>      <th>t</th>      <th>P>|t|</th>  <th>[0.025</th>    <th>0.975]</th>  \n",
       "</tr>\n",
       "<tr>\n",
       "  <th>const</th>  <td>   12.1641</td> <td>    0.556</td> <td>   21.876</td> <td> 0.000</td> <td>   10.882</td> <td>   13.446</td>\n",
       "</tr>\n",
       "<tr>\n",
       "  <th>광고횟수</th>   <td>    1.4350</td> <td>    0.074</td> <td>   19.518</td> <td> 0.000</td> <td>    1.265</td> <td>    1.605</td>\n",
       "</tr>\n",
       "<tr>\n",
       "  <th>광고비_높음</th> <td>    0.5227</td> <td>    0.536</td> <td>    0.975</td> <td> 0.358</td> <td>   -0.713</td> <td>    1.759</td>\n",
       "</tr>\n",
       "</table>\n",
       "<table class=\"simpletable\">\n",
       "<tr>\n",
       "  <th>Omnibus:</th>       <td> 7.665</td> <th>  Durbin-Watson:     </th> <td>   0.919</td>\n",
       "</tr>\n",
       "<tr>\n",
       "  <th>Prob(Omnibus):</th> <td> 0.022</td> <th>  Jarque-Bera (JB):  </th> <td>   3.407</td>\n",
       "</tr>\n",
       "<tr>\n",
       "  <th>Skew:</th>          <td> 1.265</td> <th>  Prob(JB):          </th> <td>   0.182</td>\n",
       "</tr>\n",
       "<tr>\n",
       "  <th>Kurtosis:</th>      <td> 4.015</td> <th>  Cond. No.          </th> <td>    18.9</td>\n",
       "</tr>\n",
       "</table><br/><br/>Notes:<br/>[1] Standard Errors assume that the covariance matrix of the errors is correctly specified."
      ],
      "text/plain": [
       "<class 'statsmodels.iolib.summary.Summary'>\n",
       "\"\"\"\n",
       "                            OLS Regression Results                            \n",
       "==============================================================================\n",
       "Dep. Variable:                    매출액   R-squared:                       0.982\n",
       "Model:                            OLS   Adj. R-squared:                  0.978\n",
       "Method:                 Least Squares   F-statistic:                     221.2\n",
       "Date:                Wed, 24 May 2023   Prob (F-statistic):           9.96e-08\n",
       "Time:                        15:53:16   Log-Likelihood:                -11.883\n",
       "No. Observations:                  11   AIC:                             29.77\n",
       "Df Residuals:                       8   BIC:                             30.96\n",
       "Df Model:                           2                                         \n",
       "Covariance Type:            nonrobust                                         \n",
       "==============================================================================\n",
       "                 coef    std err          t      P>|t|      [0.025      0.975]\n",
       "------------------------------------------------------------------------------\n",
       "const         12.1641      0.556     21.876      0.000      10.882      13.446\n",
       "광고횟수           1.4350      0.074     19.518      0.000       1.265       1.605\n",
       "광고비_높음         0.5227      0.536      0.975      0.358      -0.713       1.759\n",
       "==============================================================================\n",
       "Omnibus:                        7.665   Durbin-Watson:                   0.919\n",
       "Prob(Omnibus):                  0.022   Jarque-Bera (JB):                3.407\n",
       "Skew:                           1.265   Prob(JB):                        0.182\n",
       "Kurtosis:                       4.015   Cond. No.                         18.9\n",
       "==============================================================================\n",
       "\n",
       "Notes:\n",
       "[1] Standard Errors assume that the covariance matrix of the errors is correctly specified.\n",
       "\"\"\""
      ]
     },
     "execution_count": 30,
     "metadata": {},
     "output_type": "execute_result"
    }
   ],
   "source": [
    "import pandas as pd\n",
    "import statsmodels.api as sm\n",
    "\n",
    "# 가변수 처리\n",
    "df = pd.get_dummies(df, columns=['광고비'], drop_first=True)\n",
    "\n",
    "# 독립변수와 종속변수 설정\n",
    "X = df.drop('매출액', axis=1)\n",
    "y = df['매출액']\n",
    "\n",
    "# 다중회귀 모델 학습\n",
    "X = sm.add_constant(X)  # 상수항 추가\n",
    "model = sm.OLS(y, X)\n",
    "result = model.fit()\n",
    "\n",
    "result.summary()"
   ]
  },
  {
   "cell_type": "code",
   "execution_count": 31,
   "id": "b54c3a55",
   "metadata": {},
   "outputs": [
    {
     "name": "stdout",
     "output_type": "stream",
     "text": [
      "유의한 회귀계수:\n",
      "광고횟수    4.935243e-08\n",
      "dtype: float64\n",
      "회귀식이 유의합니다.\n"
     ]
    }
   ],
   "source": [
    "# 회귀계수 유의성 검정\n",
    "p_values = result.pvalues[1:]  # 상수항 제외한 변수의 p-value\n",
    "significant_coeffs = p_values[p_values < 0.05]  # 유의수준 0.05로 설정\n",
    "\n",
    "print(\"유의한 회귀계수:\")\n",
    "print(significant_coeffs)\n",
    "\n",
    "# 회귀식 유의성 검정\n",
    "if result.f_pvalue < 0.05:\n",
    "    print(\"회귀식이 유의합니다.\")\n",
    "else:\n",
    "    print(\"회귀식이 유의하지 않습니다.\")"
   ]
  },
  {
   "cell_type": "markdown",
   "id": "791cd7c7",
   "metadata": {},
   "source": [
    "## < 24회 2번 : 이표본 '평균 차이' 검정, ??? >\n",
    "A생산라인의 제품 평균은 5.7mm이고 표준편차는 0.03, B생산라인의 제품 평균은 5.6mm이고 표준편차는 0.04라면 5%유의수준으로 두 제품의 평균이 차이가 있는지 여부를 검정하기 Z(0.05) = 1.65\n",
    "\n",
    "1. 귀무가설과 대립가설을 세워라\n",
    "2. 두 평균이 차이가 있는지 검정하라"
   ]
  },
  {
   "cell_type": "code",
   "execution_count": null,
   "id": "194cb02c",
   "metadata": {},
   "outputs": [],
   "source": []
  },
  {
   "cell_type": "code",
   "execution_count": null,
   "id": "2cb5b29f",
   "metadata": {},
   "outputs": [],
   "source": []
  },
  {
   "cell_type": "code",
   "execution_count": null,
   "id": "d0f4a253",
   "metadata": {},
   "outputs": [],
   "source": []
  },
  {
   "cell_type": "code",
   "execution_count": null,
   "id": "6d623a06",
   "metadata": {},
   "outputs": [],
   "source": []
  },
  {
   "cell_type": "markdown",
   "id": "1d07fd2c",
   "metadata": {},
   "source": [
    "## < 24회 3번 : 베이즈 확률 >\n",
    "바이러스 감염 분류표를 보고 베이지안 분류 방법을 사용해 양성으로 예측된 사람이 실제로 양성일 확률을 구하라. (유병률 0.01)"
   ]
  },
  {
   "cell_type": "code",
   "execution_count": null,
   "id": "42323b6d",
   "metadata": {},
   "outputs": [],
   "source": []
  },
  {
   "cell_type": "code",
   "execution_count": null,
   "id": "4fa59970",
   "metadata": {},
   "outputs": [],
   "source": []
  },
  {
   "cell_type": "markdown",
   "id": "a7232dd3",
   "metadata": {},
   "source": [
    "## < 24회 4번 :  신뢰구간 - 모분산을 알 때, 모를 때>\n",
    "주어진 데이터에서 신뢰구간을 구하려한다.  \n",
    "정규분포에서 표폰을 추출함[Z(0.05) = -1.65 , Z(0.025) = -1.96, T(0.05, 8) = 1.860 , T0.025(0.025, 8) = 2.306]  \n",
    "데이터(9개) : [3.1, 3.3, 3.5, 3.7, 3.9, 4.1, 4.3 4.4, 4.7]  \n",
    "\n",
    "1. 모분산을 모르는 경우 주어진 데이터의 95% 신뢰구간을 구하라\n",
    "\n",
    "2. sigma = 0.04인걸 알고 있을때의 95% 신뢰구간을 구하라"
   ]
  },
  {
   "cell_type": "markdown",
   "id": "64ced71e",
   "metadata": {},
   "source": [
    "### 접근 방법\n",
    "- 모평균 구간추정은 크게 모분산을 알 때, 모를 때로 나뉨\n",
    "1. 모분산 모르고, 30개 미만 → T-Test\n",
    "    - 모분산은 모르는 경우 표본표표편차인 s를 대신 사용하여 추정과 검정을 진행\n",
    "<img src =\"https://i.esdrop.com/d/f/3uJKEwVXJL/KshvtIv9NH.jpg\" width=400 />\n",
    "\n",
    "2. 모분산 알면 → Z-Test\n",
    "<img src =\"https://i.esdrop.com/d/f/3uJKEwVXJL/oGpIEY6yss.jpg\" width=400/>\n",
    "\n",
    "3. 모분산 모르지만 30개 이상→ Z-Test \n",
    "    - 모분산은 모르는 경우 표본표표편차인 s를 대신 사용하여 추정과 검정을 진행\n",
    "<img src =\"https://i.esdrop.com/d/f/3uJKEwVXJL/RRLe7vqj5c.jpg\" width=400 />"
   ]
  },
  {
   "cell_type": "code",
   "execution_count": 1,
   "id": "58cda1cc",
   "metadata": {},
   "outputs": [],
   "source": [
    "sample = [3.1, 3.3, 3.5, 3.7, 3.9, 4.1, 4.3, 4.4, 4.7]"
   ]
  },
  {
   "cell_type": "markdown",
   "id": "3c7134fc",
   "metadata": {},
   "source": [
    "### 4-1) 모분산을 모르는 경우 주어진 데이터의 95% 신뢰구간을 구하라\n",
    "- 모분산은 모르는 경우 표본표표편차인 s를 대신 사용하여 추정과 검정을 진행\n",
    "- 표본의 개수가 9개로 적고, 모분산을 모르므로 t 분포를 이용한다."
   ]
  },
  {
   "cell_type": "code",
   "execution_count": 9,
   "id": "9971b644",
   "metadata": {},
   "outputs": [
    {
     "name": "stdout",
     "output_type": "stream",
     "text": [
      "모분산을 모르는 경우의 95% 신뢰구간: (3.501, 4.277)\n"
     ]
    }
   ],
   "source": [
    "import numpy as np\n",
    "from scipy.stats import t\n",
    "\n",
    "n = len(sample) # 표본의 크기 \n",
    "mean = np.mean(sample) # 표본평균\n",
    "s = np.std(sample) # 표본 표준편차\n",
    "alpha = 0.05 # 유의수준\n",
    "df = n-1\n",
    "\n",
    "SE = s / np.sqrt(n) # 표준오차\n",
    "\n",
    "# 자유도가 n-1인 t-분포의 0.025 위치에 해당하는 값 (t통계량)\n",
    "t_value = t.ppf(1 - alpha/2, df)\n",
    "\n",
    "ME = t_value * SE # 신뢰구간의 오차범위 (오차한계)\n",
    "confidence_interval_1 = (mean - ME, mean + ME)  # 신뢰구간\n",
    "\n",
    "# 소수점 아래 세 자리까지 출력\n",
    "confidence_interval_1_rounded = (round(confidence_interval_1[0], 3), round(confidence_interval_1[1], 3))\n",
    "\n",
    "print(\"모분산을 모르는 경우의 95% 신뢰구간:\", confidence_interval_1_rounded)"
   ]
  },
  {
   "cell_type": "markdown",
   "id": "2c560713",
   "metadata": {},
   "source": [
    "### 4-2) sigma = 0.04인걸 알고 있을때의 95% 신뢰구간을 구하라\n",
    "- sigma를 알고 있을 때의 신뢰구간은 z-분포를 이용"
   ]
  },
  {
   "cell_type": "code",
   "execution_count": 12,
   "id": "348c3327",
   "metadata": {},
   "outputs": [
    {
     "name": "stdout",
     "output_type": "stream",
     "text": [
      "sigma = 0.04인 경우의 95% 신뢰구간: (3.863, 3.915)\n"
     ]
    }
   ],
   "source": [
    "from scipy.stats import norm # z분포\n",
    "\n",
    "n = len(sample) # 표본의 크기 \n",
    "mean = np.mean(sample) # 표본평균\n",
    "sigma = 0.04 \n",
    "alpha = 0.05 # 유의수준\n",
    "\n",
    "SE = sigma / np.sqrt(n) # 표준오차\n",
    "\n",
    "z_value = norm.ppf(1 - alpha/2)\n",
    "ME = z_value * SE # 허용오차\n",
    "\n",
    "confidence_interval_2 = (mean - ME, mean + ME)  # 신뢰구간\n",
    "\n",
    "# 소수점 아래 세 자리까지 출력\n",
    "confidence_interval_2_rounded = (round(confidence_interval_2[0], 3), round(confidence_interval_2[1], 3))\n",
    "print(\"sigma = 0.04인 경우의 95% 신뢰구간:\", confidence_interval_2_rounded)"
   ]
  },
  {
   "cell_type": "markdown",
   "id": "b1fa6fea",
   "metadata": {},
   "source": [
    "---"
   ]
  },
  {
   "cell_type": "markdown",
   "id": "dcc5b339",
   "metadata": {},
   "source": [
    "# [ 23회 ]"
   ]
  },
  {
   "cell_type": "markdown",
   "id": "0bb8630c",
   "metadata": {},
   "source": [
    "## < 23회 1번 : 부호검정 >\n",
    "- 시제품 샘플 농도 데이터\n",
    "- 공장에서는 진공관 수명이 1만 시간이라고 주장하여 품질관리팀에서 12개 샘플을 뽑았다. 유의수준 5%에서 부호 검정하시오.   \n",
    "(부호검정이라고 명시해준듯)\n",
    "\n",
    "1. 귀무가설 연구가설 세우기\n",
    "2. 유효한 데이터의 숫자는?\n",
    "3. 검정통계량 및 연구 가설 채택 여부를 작성하라"
   ]
  },
  {
   "cell_type": "code",
   "execution_count": 15,
   "id": "50d67886",
   "metadata": {},
   "outputs": [
    {
     "data": {
      "text/html": [
       "<div>\n",
       "<style scoped>\n",
       "    .dataframe tbody tr th:only-of-type {\n",
       "        vertical-align: middle;\n",
       "    }\n",
       "\n",
       "    .dataframe tbody tr th {\n",
       "        vertical-align: top;\n",
       "    }\n",
       "\n",
       "    .dataframe thead th {\n",
       "        text-align: right;\n",
       "    }\n",
       "</style>\n",
       "<table border=\"1\" class=\"dataframe\">\n",
       "  <thead>\n",
       "    <tr style=\"text-align: right;\">\n",
       "      <th></th>\n",
       "      <th>name</th>\n",
       "      <th>life span</th>\n",
       "    </tr>\n",
       "  </thead>\n",
       "  <tbody>\n",
       "    <tr>\n",
       "      <th>0</th>\n",
       "      <td>sample1</td>\n",
       "      <td>10000</td>\n",
       "    </tr>\n",
       "    <tr>\n",
       "      <th>1</th>\n",
       "      <td>sample2</td>\n",
       "      <td>9000</td>\n",
       "    </tr>\n",
       "    <tr>\n",
       "      <th>2</th>\n",
       "      <td>sample3</td>\n",
       "      <td>9500</td>\n",
       "    </tr>\n",
       "    <tr>\n",
       "      <th>3</th>\n",
       "      <td>sample4</td>\n",
       "      <td>10000</td>\n",
       "    </tr>\n",
       "    <tr>\n",
       "      <th>4</th>\n",
       "      <td>sample5</td>\n",
       "      <td>10000</td>\n",
       "    </tr>\n",
       "    <tr>\n",
       "      <th>5</th>\n",
       "      <td>sample6</td>\n",
       "      <td>8900</td>\n",
       "    </tr>\n",
       "    <tr>\n",
       "      <th>6</th>\n",
       "      <td>sample7</td>\n",
       "      <td>9900</td>\n",
       "    </tr>\n",
       "    <tr>\n",
       "      <th>7</th>\n",
       "      <td>sample8</td>\n",
       "      <td>10100</td>\n",
       "    </tr>\n",
       "    <tr>\n",
       "      <th>8</th>\n",
       "      <td>sample9</td>\n",
       "      <td>10300</td>\n",
       "    </tr>\n",
       "    <tr>\n",
       "      <th>9</th>\n",
       "      <td>sample10</td>\n",
       "      <td>10020</td>\n",
       "    </tr>\n",
       "    <tr>\n",
       "      <th>10</th>\n",
       "      <td>sample11</td>\n",
       "      <td>10000</td>\n",
       "    </tr>\n",
       "    <tr>\n",
       "      <th>11</th>\n",
       "      <td>sample12</td>\n",
       "      <td>9800</td>\n",
       "    </tr>\n",
       "  </tbody>\n",
       "</table>\n",
       "</div>"
      ],
      "text/plain": [
       "        name  life span\n",
       "0    sample1      10000\n",
       "1    sample2       9000\n",
       "2    sample3       9500\n",
       "3    sample4      10000\n",
       "4    sample5      10000\n",
       "5    sample6       8900\n",
       "6    sample7       9900\n",
       "7    sample8      10100\n",
       "8    sample9      10300\n",
       "9   sample10      10020\n",
       "10  sample11      10000\n",
       "11  sample12       9800"
      ]
     },
     "execution_count": 15,
     "metadata": {},
     "output_type": "execute_result"
    }
   ],
   "source": [
    "import pandas as pd\n",
    "df = pd.read_csv('https://raw.githubusercontent.com/Datamanim/datarepo/main/adp/23/problem2.csv')\n",
    "df"
   ]
  },
  {
   "cell_type": "markdown",
   "id": "747c613d",
   "metadata": {},
   "source": [
    "### 접근방법\n",
    "1. 부호검정은 표본의 순서를 이용하여 모집단의 중앙값에 대한 가설을 검정하는 비모수적인 방법\n",
    "2. 일표본, 부호검정 -> 대칭성에 따라 일표본 부호검정 vs. 윌콕슨 검정 (엄격하게 따르지는 않는다고 하는듯)\n",
    "3. wilcoxon 검정의 경우 대칭성을 전제로 함\n",
    "4. 유효한 샘플 수 : 알려진 중앙값(모수)과 같은 값을 제외"
   ]
  },
  {
   "cell_type": "markdown",
   "id": "4cbc64dc",
   "metadata": {},
   "source": [
    "### 2-1) 귀무가설, 대립가설 작성\n",
    "- 귀무가설 H0 : 진공관 수명은 1만 시간과 차이가 없다. (진공관 모집단의 중위수는 1만 시간이다.)\n",
    "- 대립가설 H1 : 진공관 수명은 1만 시간과 차이가 있다. "
   ]
  },
  {
   "cell_type": "markdown",
   "id": "66b8f0c5",
   "metadata": {},
   "source": [
    "### 2-2) 유효한 샘플의 수 계산\n",
    "\n",
    "#### 알려진 중앙값과의 차이가 0이 아닌 데이터만 유효하다고 본다 !\n",
    "#### '모수'와 같은 값을 제외하는 방식으로 유효 샘플수를 구함\n",
    "- 유효한 샘플수를 계산할 때, 표본의 중위수와 같은 값을 제외해서 구했는데 잘못된 방식"
   ]
  },
  {
   "cell_type": "code",
   "execution_count": 16,
   "id": "0b23cfd7",
   "metadata": {},
   "outputs": [
    {
     "name": "stdout",
     "output_type": "stream",
     "text": [
      "<class 'pandas.core.frame.DataFrame'>\n",
      "RangeIndex: 12 entries, 0 to 11\n",
      "Data columns (total 2 columns):\n",
      " #   Column     Non-Null Count  Dtype \n",
      "---  ------     --------------  ----- \n",
      " 0   name       12 non-null     object\n",
      " 1   life span  12 non-null     int64 \n",
      "dtypes: int64(1), object(1)\n",
      "memory usage: 320.0+ bytes\n"
     ]
    }
   ],
   "source": [
    "df.info()"
   ]
  },
  {
   "cell_type": "code",
   "execution_count": 17,
   "id": "65751bab",
   "metadata": {},
   "outputs": [
    {
     "name": "stdout",
     "output_type": "stream",
     "text": [
      "중위수와 동일한 데이터 수 : 4\n"
     ]
    }
   ],
   "source": [
    "# Shape[0] : 데이터프레임의 행의 개수를 반환\n",
    "print('중위수와 동일한 데이터 수 :', \n",
    "      df[df['life span']==10000].shape[0])\n",
    "\n",
    "# 10000이 아닌 값만 반환\n",
    "df_fillter = df[df['life span'] != 10000]"
   ]
  },
  {
   "cell_type": "markdown",
   "id": "230ec536",
   "metadata": {},
   "source": [
    "#### 총 데이터 개수 12개에서 10000과 같은 값 4개를 제외하면, 유효한 샘플 수는 8이 된다."
   ]
  },
  {
   "cell_type": "markdown",
   "id": "b8c28be0",
   "metadata": {},
   "source": [
    "### 2-3) 검정통계량 및 연구가설 채택 여부를 작성"
   ]
  },
  {
   "cell_type": "code",
   "execution_count": 18,
   "id": "0e93d8eb",
   "metadata": {},
   "outputs": [
    {
     "name": "stdout",
     "output_type": "stream",
     "text": [
      "검정통계량: 8.5\n",
      "p-value: 0.1953125\n"
     ]
    }
   ],
   "source": [
    "from scipy.stats import wilcoxon\n",
    "static, pvalue = wilcoxon(df_fillter['life span']-10000)\n",
    "\n",
    "print(\"검정통계량:\", static)\n",
    "print(\"p-value:\", pvalue)"
   ]
  },
  {
   "cell_type": "markdown",
   "id": "0125c5d5",
   "metadata": {},
   "source": [
    "#### 검정통계량은 8.5,  p-value는 0.19로 0.05의 유의 수준에서 귀무가설을 기각할 수 없다. \n",
    "#### 따라서 진공관 수명은 1만 시간과 차이가 없다. 즉 진공관 수명은 1만 시간이라는 주장을 지지할 수 있다."
   ]
  },
  {
   "cell_type": "markdown",
   "id": "40d3c336",
   "metadata": {},
   "source": [
    "  "
   ]
  },
  {
   "cell_type": "markdown",
   "id": "a69eaebd",
   "metadata": {},
   "source": [
    "### 참고 : R 코드\n",
    "- R에서 부호검정을 실시할 때는 BSDA패키지의 SIGN.test()함수를 이용하면 쉽게 수행할 수 있음\n",
    "\n",
    "- 일표본 부호검정 R 코드\n",
    "\n",
    "```R\n",
    "# 일표본 부호검정\n",
    "library(readr)\n",
    "\n",
    "sign_test <- read.csv(\"https://raw.githubusercontent.com/Datamanim/datarepo/main/adp/23/problem2.csv\")\n",
    "sign_test\n",
    "\n",
    "install.packages(\"BSDA\")\n",
    "library(BSDA)\n",
    "\n",
    "SIGN.test(sign_test$life.span, \n",
    "          md=10000, # md : 귀무가설에서 설정한 중위수 값\n",
    "          alternative = \"two.sided\")\n",
    "          \n",
    "          \n",
    "# Output\n",
    "\n",
    "\tOne-sample Sign-Test\n",
    "\n",
    "data:  sign_test$life.span\n",
    "s = 3, p-value = 0.7266\n",
    "alternative hypothesis: true median is not equal to 10000\n",
    "95 percent confidence interval:\n",
    "  9531.909 10017.873\n",
    "sample estimates:\n",
    "median of x \n",
    "      10000 \n",
    "\n",
    "Achieved and Interpolated Confidence Intervals: \n",
    "\n",
    "                  Conf.Level   L.E.pt   U.E.pt\n",
    "Lower Achieved CI     0.8540 9800.000 10000.00\n",
    "Interpolated CI       0.9500 9531.909 10017.87\n",
    "Upper Achieved CI     0.9614 9500.000 10020.00\n",
    "\n",
    "```\n"
   ]
  },
  {
   "cell_type": "markdown",
   "id": "81bc8798",
   "metadata": {},
   "source": [
    "검정통계량 s는 3, p-value는 0.7266로 0.05의 유의 수준에서 귀무가설을 기각할 수 없다.  \n",
    "따라서 진공관 수명은 1만 시간과 차이가 없다. 즉 진공관 수명은 1만 시간이라는 주장을 지지할 수 있다.  "
   ]
  },
  {
   "cell_type": "markdown",
   "id": "fb3aef1d",
   "metadata": {},
   "source": [
    "- 일표본 윌콕슨 부호순위검정 R 코드\n",
    "```R\n",
    "result <- wilcox.test(x, mu = 0, alternative = \"two.sided\")\n",
    "``` \n",
    "\n",
    "- 이표본 윌콕슨 부호순위검정 R 코드\n",
    "```R\n",
    "result <- wilcox.test(x, y = NULL, alternative = \"two.sided\", paired = TRUE)\n",
    "```"
   ]
  },
  {
   "cell_type": "markdown",
   "id": "12076659",
   "metadata": {},
   "source": [
    "## < 23회 2번 : 독립성 검정, 카이제곱 검정 >\n",
    "\n",
    "아래 이미지와 같은 학과별 학점 분포 인원수 표가 있다. 학과와 성적이 관계있는지를 검정하라.\n",
    "\n",
    "<img src=\"https://github.com/Datamanim/datarepo/blob/main/adp/23/problem4.png?raw=true\" width=300 />\n",
    "\n",
    "1. 귀무가설 연구가설 세우기\n",
    "2. 학과와 성적이 독립일 경우의 기댓값을 구하시오\n",
    "3. 검정통계량 및 연구 가설 채택 여부를 작성하라"
   ]
  },
  {
   "cell_type": "markdown",
   "id": "c9740897",
   "metadata": {},
   "source": [
    "### 접근 방법\n",
    "1. 교차표 등장 -> 카이제곱 떠올리기\n",
    "2. 학과, 학점 인원 수 -> 모두 범주형\n",
    "3. 학과와 성적, 두 범주형 변수가 관계있는지 검정 -> '두 범주형 변수의 관계, 연관성'은 곧 '독립성 검정'\n",
    "4. 카이제곱검정 - 독립성 검정 시행!"
   ]
  },
  {
   "cell_type": "markdown",
   "id": "9d5fa5a4",
   "metadata": {},
   "source": [
    "### 2-1) 귀무가설, 대립가설 작성\n",
    "- 귀무가설 : 학과와 성적은 관련이 없다 (독립이다)\n",
    "- 연구가설 : 학과와 성적은 관련이 있다 (독립이 아니다)"
   ]
  },
  {
   "cell_type": "markdown",
   "id": "4d0032b1",
   "metadata": {},
   "source": [
    "### 2-2) 학과와 성적이 독립일 경우의 기댓값을 구하시오."
   ]
  },
  {
   "cell_type": "code",
   "execution_count": 4,
   "id": "3554065d",
   "metadata": {},
   "outputs": [
    {
     "data": {
      "text/html": [
       "<div>\n",
       "<style scoped>\n",
       "    .dataframe tbody tr th:only-of-type {\n",
       "        vertical-align: middle;\n",
       "    }\n",
       "\n",
       "    .dataframe tbody tr th {\n",
       "        vertical-align: top;\n",
       "    }\n",
       "\n",
       "    .dataframe thead th {\n",
       "        text-align: right;\n",
       "    }\n",
       "</style>\n",
       "<table border=\"1\" class=\"dataframe\">\n",
       "  <thead>\n",
       "    <tr style=\"text-align: right;\">\n",
       "      <th></th>\n",
       "      <th>사회과학</th>\n",
       "      <th>자연과학</th>\n",
       "      <th>공학</th>\n",
       "    </tr>\n",
       "  </thead>\n",
       "  <tbody>\n",
       "    <tr>\n",
       "      <th>1.5-2.5</th>\n",
       "      <td>15</td>\n",
       "      <td>25</td>\n",
       "      <td>10</td>\n",
       "    </tr>\n",
       "    <tr>\n",
       "      <th>2.5-3.5</th>\n",
       "      <td>60</td>\n",
       "      <td>69</td>\n",
       "      <td>77</td>\n",
       "    </tr>\n",
       "    <tr>\n",
       "      <th>3.5-4.5</th>\n",
       "      <td>24</td>\n",
       "      <td>5</td>\n",
       "      <td>13</td>\n",
       "    </tr>\n",
       "  </tbody>\n",
       "</table>\n",
       "</div>"
      ],
      "text/plain": [
       "         사회과학  자연과학  공학\n",
       "1.5-2.5    15    25  10\n",
       "2.5-3.5    60    69  77\n",
       "3.5-4.5    24     5  13"
      ]
     },
     "execution_count": 4,
     "metadata": {},
     "output_type": "execute_result"
    }
   ],
   "source": [
    "problem2 = pd.DataFrame({'사회과학':[15,60,24],\n",
    "                         '자연과학':[25,69,5],\n",
    "                         '공학':[10,77,13]})\n",
    "problem2.index = ['1.5-2.5', '2.5-3.5', '3.5-4.5']\n",
    "problem2"
   ]
  },
  {
   "cell_type": "code",
   "execution_count": 5,
   "id": "5a1ca217",
   "metadata": {},
   "outputs": [
    {
     "name": "stdout",
     "output_type": "stream",
     "text": [
      "[[16.61073826 16.61073826 16.77852349]\n",
      " [68.43624161 68.43624161 69.12751678]\n",
      " [13.95302013 13.95302013 14.09395973]]\n"
     ]
    }
   ],
   "source": [
    "from scipy.stats import chi2_contingency\n",
    "\n",
    "chi2, p, df, expected = chi2_contingency(problem2)\n",
    "print(expected)\n",
    "\n",
    "# chi2_contingency(problem2)"
   ]
  },
  {
   "cell_type": "markdown",
   "id": "c69029ef",
   "metadata": {},
   "source": [
    "### 2-3) 검정통계량 구하고 연구가설의 채택여부 작성"
   ]
  },
  {
   "cell_type": "code",
   "execution_count": 12,
   "id": "52fc23af",
   "metadata": {},
   "outputs": [
    {
     "name": "stdout",
     "output_type": "stream",
     "text": [
      "검정통계량 :  22.13692\n",
      "p-value :  0.00019\n"
     ]
    }
   ],
   "source": [
    "print(\"검정통계량 : \", round(chi2, 5))\n",
    "print(\"p-value : \", round(p, 5))"
   ]
  },
  {
   "cell_type": "markdown",
   "id": "585a2886",
   "metadata": {},
   "source": [
    "#### 위 형태에서 검정 통계량은 22.13692, p-value는 0.00019로 나타났다. \n",
    "#### 유의수준 0.05에서 p-value 값이 유의수준보다 작기 때문에 귀무가설을 기각한다. 따라서 학과와 성적은  관련이 있다고 말할 수 있다."
   ]
  },
  {
   "cell_type": "markdown",
   "id": "d17f27f8",
   "metadata": {},
   "source": [
    "---"
   ]
  },
  {
   "cell_type": "markdown",
   "id": "6c8bb7b7",
   "metadata": {},
   "source": [
    "# [ 22회 ]"
   ]
  },
  {
   "cell_type": "markdown",
   "id": "38ce1f1e",
   "metadata": {},
   "source": [
    "## < 22회 1번 : 일표본 분산검정 (카이제곱검정) >\n",
    "- 금속 성분 함유량 데이터(변수 1개)\n",
    "- 제품에 금속 재질 함유량의 분산이 1.3을 넘으면 불량이라고 보고 있는데 제조사별로 차이가 난다고 제보를 받았다. 분산에 대해 검정을 수행하시오. (유의확률 0.05)\n",
    "\n",
    "1. 연구가설과 귀무가설 작성\n",
    "2. 양측 검정 시행\n",
    "3. 검정통계량, 가설채택"
   ]
  },
  {
   "cell_type": "code",
   "execution_count": 34,
   "id": "595f3596",
   "metadata": {},
   "outputs": [
    {
     "data": {
      "text/html": [
       "<div>\n",
       "<style scoped>\n",
       "    .dataframe tbody tr th:only-of-type {\n",
       "        vertical-align: middle;\n",
       "    }\n",
       "\n",
       "    .dataframe tbody tr th {\n",
       "        vertical-align: top;\n",
       "    }\n",
       "\n",
       "    .dataframe thead th {\n",
       "        text-align: right;\n",
       "    }\n",
       "</style>\n",
       "<table border=\"1\" class=\"dataframe\">\n",
       "  <thead>\n",
       "    <tr style=\"text-align: right;\">\n",
       "      <th></th>\n",
       "      <th>content</th>\n",
       "    </tr>\n",
       "  </thead>\n",
       "  <tbody>\n",
       "    <tr>\n",
       "      <th>0</th>\n",
       "      <td>97.995295</td>\n",
       "    </tr>\n",
       "    <tr>\n",
       "      <th>1</th>\n",
       "      <td>101.478315</td>\n",
       "    </tr>\n",
       "    <tr>\n",
       "      <th>2</th>\n",
       "      <td>102.284913</td>\n",
       "    </tr>\n",
       "    <tr>\n",
       "      <th>3</th>\n",
       "      <td>98.993634</td>\n",
       "    </tr>\n",
       "    <tr>\n",
       "      <th>4</th>\n",
       "      <td>104.635232</td>\n",
       "    </tr>\n",
       "  </tbody>\n",
       "</table>\n",
       "</div>"
      ],
      "text/plain": [
       "      content\n",
       "0   97.995295\n",
       "1  101.478315\n",
       "2  102.284913\n",
       "3   98.993634\n",
       "4  104.635232"
      ]
     },
     "execution_count": 34,
     "metadata": {},
     "output_type": "execute_result"
    }
   ],
   "source": [
    "import pandas as pd\n",
    "\n",
    "var_test = pd.read_csv('https://raw.githubusercontent.com/Datamanim/datarepo/main/adp/22/content.csv')\n",
    "var_test.head()"
   ]
  },
  {
   "cell_type": "markdown",
   "id": "0b666031",
   "metadata": {},
   "source": [
    "### 접근 방법\n",
    "1. Chi-square test for a single variance\n",
    "2. 일표본 분산 검정은 카이제곱 통계량을 따름\n",
    "<img src = \"https://i.esdrop.com/d/f/3uJKEwVXJL/c9ZKgwq8yP.jpg\" width=200 />\n",
    "3. Python에 패키지가 없으므로 R사용\n",
    "    - EnvStats의 varTest"
   ]
  },
  {
   "cell_type": "markdown",
   "id": "a1b90ddb",
   "metadata": {},
   "source": [
    "### 1-1) 연구가설과 귀무가설 작성\n",
    "- 귀무가설(H0) : 제품들의 금속 재질 함유량 분산은 1.3이다.\n",
    "- 대립가설(H1) : 제품들의 금속 재질 함유량 분산은 1.3이 아니다."
   ]
  },
  {
   "cell_type": "markdown",
   "id": "cd2f73b0",
   "metadata": {},
   "source": [
    "### 1-2) 양측 검정 시행"
   ]
  },
  {
   "cell_type": "markdown",
   "id": "b6f00ccb",
   "metadata": {},
   "source": [
    "### 1-3) 검정통계량, 가설채택"
   ]
  },
  {
   "cell_type": "markdown",
   "id": "63c5a615",
   "metadata": {},
   "source": [
    "``` R \n",
    "# code\n",
    "library(readr)\n",
    "\n",
    "df <- read_csv(\"https://raw.githubusercontent.com/Datamanim/datarepo/main/adp/22/content.csv\")\n",
    "df\n",
    "\n",
    "\n",
    "library(\"EnvStats\")\n",
    "\n",
    "# 단일 분산에 대한 카이제곱 검정을 수행하는 함수\n",
    "# 귀무가설로 설정할 분산의 값\n",
    "chi_vartest <- varTest(df$content, \n",
    "                       alternative = \"two.sided\",\n",
    "                       conf.level = 0.95, \n",
    "                       sigma.squared = 1.3) #  귀무가설로 설정할 분산의 값\n",
    "\n",
    "print(chi_vartest$statistic)\n",
    "p <- chi_vartest$p.value\n",
    "formatted <- sprintf(\"%.3f\", p) # 소수점 세자리까지\n",
    "print(formatted)\n",
    "```"
   ]
  },
  {
   "cell_type": "markdown",
   "id": "b8ecef20",
   "metadata": {},
   "source": [
    "```R\n",
    "# Output\n",
    "\n",
    "> print(chi_vartest$statistic)\n",
    "Chi-Squared \n",
    "   328.2923 \n",
    "\n",
    "> p <- chi_vartest$p.value\n",
    "> formatted <- sprintf(\"%.3f\", p)\n",
    "> print(formatted)\n",
    "[1] \"0.000\"\n",
    "\n",
    "        \n",
    "# 그냥 함수 실행하면 모든 값 출력\n",
    "> varTest(df$content, \n",
    "+         alternative = \"two.sided\",\n",
    "+         conf.level = 0.95, \n",
    "+         sigma.squared = 1.3) #  귀무가설로 설정할 분산의 값\n",
    "$statistic\n",
    "Chi-Squared \n",
    "   328.2923 \n",
    "\n",
    "$parameters\n",
    " df \n",
    "199 \n",
    "\n",
    "$p.value\n",
    "[1] 4.272667e-08\n",
    "\n",
    "$estimate\n",
    "variance \n",
    "2.144623 \n",
    "\n",
    "$null.value\n",
    "variance \n",
    "     1.3 \n",
    "\n",
    "$alternative\n",
    "[1] \"two.sided\"\n",
    "\n",
    "$method\n",
    "[1] \"Chi-Squared Test on Variance\"\n",
    "\n",
    "$data.name\n",
    "[1] \"df$content\"\n",
    "\n",
    "$conf.int\n",
    "     LCL      UCL \n",
    "1.778549 2.637274 \n",
    "attr(,\"conf.level\")\n",
    "[1] 0.95\n",
    "\n",
    "attr(,\"class\")\n",
    "[1] \"htestEnvStats\"\n",
    "```"
   ]
  },
  {
   "cell_type": "markdown",
   "id": "1c9f9fd3",
   "metadata": {},
   "source": [
    "#### 일표본 분산 검정에는 카이제곱검정 통계량을 이용하고, R에서 EnvStats의 VarTest 함수를 이용할 수 있다.\n",
    "#### 검정 결과 p-value값이 유의수준 0.05보다 작으므로, 귀무가설을 기각한다. \n",
    "#### 따라서, 제품들의 금속 재질 함유량 분산은 1.3이 아니라고 할 수 있다."
   ]
  },
  {
   "cell_type": "markdown",
   "id": "bff7684b",
   "metadata": {},
   "source": [
    "### 참고 : python 함수로 구현\n",
    "- 정규분포 모분산 검정"
   ]
  },
  {
   "cell_type": "code",
   "execution_count": 33,
   "id": "7e32441d",
   "metadata": {},
   "outputs": [],
   "source": [
    "# 정규분포 모분산 검정\n",
    "import numpy as np\n",
    "import scipy.stats as stats\n",
    "\n",
    "def pvar_test(sample, var0, alpha=0.05):\n",
    "    u_var = np.var(sample, ddof=1)\n",
    "    n = len(sample)\n",
    "    rv = stats.chi2(df=n-1)\n",
    "    interval = rv.interval(1-alpha)\n",
    "    \n",
    "    y = (n-1)*u_var / var0\n",
    "    \n",
    "    if interval[0] <= y <= interval[1]:\n",
    "        print(\"귀무가설을 채택\")\n",
    "    else:\n",
    "        print(\"귀무가설을 기각\")\n",
    "    \n",
    "    if y < rv.isf(0.5):\n",
    "        p = rv.cdf(y)*2\n",
    "    else:\n",
    "        p = (1-rv.cdf(y))*2\n",
    "    print(f'p값은 {p:.3f}')"
   ]
  },
  {
   "cell_type": "code",
   "execution_count": 35,
   "id": "92c62fc7",
   "metadata": {},
   "outputs": [
    {
     "name": "stdout",
     "output_type": "stream",
     "text": [
      "귀무가설을 기각\n",
      "p값은 0.000\n"
     ]
    }
   ],
   "source": [
    "pvar_test(var_test.values, 1.3, alpha=0.05)"
   ]
  },
  {
   "cell_type": "markdown",
   "id": "21e85d3b",
   "metadata": {},
   "source": [
    "## < 22회 2번 : 관리도 > \n",
    "Lot별 200개에 대한 불량 제품 수량 데이터(변수 2개 - lot번호, 불량제품수)\n",
    "\n",
    "1. 불량률 관리도에 따라 관리중심선(CL : Center Line), 관리 상한선(UCL : Upper Control Limit), 하한선(LCL : Lower Control Limit) 구하기\n",
    "2. 관리도 시각화\n"
   ]
  },
  {
   "cell_type": "markdown",
   "id": "a8f9590c",
   "metadata": {},
   "source": [
    "#### 접근 방법 "
   ]
  },
  {
   "cell_type": "code",
   "execution_count": null,
   "id": "dbfb3189",
   "metadata": {},
   "outputs": [],
   "source": []
  },
  {
   "cell_type": "markdown",
   "id": "2c725b51",
   "metadata": {},
   "source": [
    "## < 22회 3번 : \n",
    "제품 1, 2를 만드는 데 재료 a, b, c가 일부 사용되며, 제품 1과 2를 만들 때 12만원과 18만원을 벌 수 있다. 재료는 한정적으로 주어지는데, 이때 최대 수익을 낼 수 있을 때의 제품 1과 제품 2의 개수를 구하라.\n",
    "\n",
    "- 재료 공급량 {a: 1300, b: 1000, c: 1200}\n",
    "\n",
    "| 구분 | 재료 a | 재료 b | 재료 c |\n",
    "| --- | --- | --- | --- |\n",
    "| 제품 1 | 20 | 20 | 20 |\n",
    "| 제품 2 | 40 | 30 | 30 |"
   ]
  },
  {
   "cell_type": "markdown",
   "id": "812c52c4",
   "metadata": {},
   "source": [
    "## < 22회 4번 : >"
   ]
  },
  {
   "cell_type": "code",
   "execution_count": null,
   "id": "e73ce574",
   "metadata": {},
   "outputs": [],
   "source": []
  },
  {
   "cell_type": "code",
   "execution_count": null,
   "id": "ace53d4e",
   "metadata": {},
   "outputs": [],
   "source": []
  },
  {
   "cell_type": "markdown",
   "id": "b05c0c0c",
   "metadata": {},
   "source": [
    "---"
   ]
  },
  {
   "cell_type": "markdown",
   "id": "162e0958",
   "metadata": {},
   "source": [
    "# [ 21회 ]"
   ]
  },
  {
   "cell_type": "markdown",
   "id": "0b31f57d",
   "metadata": {},
   "source": [
    "## < 21회 1번 : 이원분산분석 >\n",
    "이원분산분석을 수행하고 통계표를 작성하시오. \n",
    "- 변수 3개(하나는 수치형 변수/ 나머지 두 개는 범주형 변수)\n",
    "- 원래 시험 : 변수 3개(하나는 abcde 각각을 값으로 갖는 범주형 변수, 나머지 두 개는 수치형 연속변수)"
   ]
  },
  {
   "cell_type": "code",
   "execution_count": 2,
   "id": "57ebbfe4",
   "metadata": {},
   "outputs": [
    {
     "data": {
      "text/html": [
       "<div>\n",
       "<style scoped>\n",
       "    .dataframe tbody tr th:only-of-type {\n",
       "        vertical-align: middle;\n",
       "    }\n",
       "\n",
       "    .dataframe tbody tr th {\n",
       "        vertical-align: top;\n",
       "    }\n",
       "\n",
       "    .dataframe thead th {\n",
       "        text-align: right;\n",
       "    }\n",
       "</style>\n",
       "<table border=\"1\" class=\"dataframe\">\n",
       "  <thead>\n",
       "    <tr style=\"text-align: right;\">\n",
       "      <th></th>\n",
       "      <th>AveragePrice</th>\n",
       "      <th>type</th>\n",
       "      <th>region</th>\n",
       "    </tr>\n",
       "  </thead>\n",
       "  <tbody>\n",
       "    <tr>\n",
       "      <th>0</th>\n",
       "      <td>1.13</td>\n",
       "      <td>conventional</td>\n",
       "      <td>Boston</td>\n",
       "    </tr>\n",
       "    <tr>\n",
       "      <th>1</th>\n",
       "      <td>1.07</td>\n",
       "      <td>conventional</td>\n",
       "      <td>Boston</td>\n",
       "    </tr>\n",
       "    <tr>\n",
       "      <th>2</th>\n",
       "      <td>1.01</td>\n",
       "      <td>conventional</td>\n",
       "      <td>Boston</td>\n",
       "    </tr>\n",
       "    <tr>\n",
       "      <th>3</th>\n",
       "      <td>1.02</td>\n",
       "      <td>conventional</td>\n",
       "      <td>Boston</td>\n",
       "    </tr>\n",
       "    <tr>\n",
       "      <th>4</th>\n",
       "      <td>1.19</td>\n",
       "      <td>conventional</td>\n",
       "      <td>Boston</td>\n",
       "    </tr>\n",
       "    <tr>\n",
       "      <th>...</th>\n",
       "      <td>...</td>\n",
       "      <td>...</td>\n",
       "      <td>...</td>\n",
       "    </tr>\n",
       "    <tr>\n",
       "      <th>1009</th>\n",
       "      <td>1.36</td>\n",
       "      <td>organic</td>\n",
       "      <td>Orlando</td>\n",
       "    </tr>\n",
       "    <tr>\n",
       "      <th>1010</th>\n",
       "      <td>1.67</td>\n",
       "      <td>organic</td>\n",
       "      <td>Orlando</td>\n",
       "    </tr>\n",
       "    <tr>\n",
       "      <th>1011</th>\n",
       "      <td>1.53</td>\n",
       "      <td>organic</td>\n",
       "      <td>Orlando</td>\n",
       "    </tr>\n",
       "    <tr>\n",
       "      <th>1012</th>\n",
       "      <td>1.55</td>\n",
       "      <td>organic</td>\n",
       "      <td>Orlando</td>\n",
       "    </tr>\n",
       "    <tr>\n",
       "      <th>1013</th>\n",
       "      <td>1.56</td>\n",
       "      <td>organic</td>\n",
       "      <td>Orlando</td>\n",
       "    </tr>\n",
       "  </tbody>\n",
       "</table>\n",
       "<p>1014 rows × 3 columns</p>\n",
       "</div>"
      ],
      "text/plain": [
       "      AveragePrice          type   region\n",
       "0             1.13  conventional   Boston\n",
       "1             1.07  conventional   Boston\n",
       "2             1.01  conventional   Boston\n",
       "3             1.02  conventional   Boston\n",
       "4             1.19  conventional   Boston\n",
       "...            ...           ...      ...\n",
       "1009          1.36       organic  Orlando\n",
       "1010          1.67       organic  Orlando\n",
       "1011          1.53       organic  Orlando\n",
       "1012          1.55       organic  Orlando\n",
       "1013          1.56       organic  Orlando\n",
       "\n",
       "[1014 rows x 3 columns]"
      ]
     },
     "execution_count": 2,
     "metadata": {},
     "output_type": "execute_result"
    }
   ],
   "source": [
    "import pandas as pd\n",
    "import numpy as np\n",
    "\n",
    "avocado = pd.read_csv('../Data/avocado.csv')\n",
    "avocado = avocado[[\"AveragePrice\",\"type\",\"region\"]]\n",
    "avocado = avocado[(avocado['region']=='Orlando') | (avocado['region']=='Boston' )| (avocado['region']=='Chicago')].reset_index(drop=True)\n",
    "avocado"
   ]
  },
  {
   "cell_type": "markdown",
   "id": "8ae5ac18",
   "metadata": {},
   "source": [
    "### 접근 방법\n",
    "- 이원분산분석은 종속변수(반응변수)에 대해 두 개의 범주형 변수 A,B의 영향을 알아보기 위해 사용되는 검증 방법\n",
    "- 독립변수 두 개 이상 집단 간 차이가 유의한지 검증"
   ]
  },
  {
   "cell_type": "markdown",
   "id": "e32856b5",
   "metadata": {},
   "source": [
    "### 가설\n",
    "<b> 가. 교호작용효과 검정에 대한 가설</b><br>\n",
    "    1) 귀무가설 H0: region과 avocado type 간에는 교호작용 효과가 없다. <br>\n",
    "    2) 대립가설 H1: region과 avocado type 간에는 교호작용 효과가 있다. <br>\n",
    "\n",
    "\n",
    "<b> 나. 주효과 검정에 대한 가설</b> <br>\n",
    "    1) 귀무가설 H0: region 종류에 따른 AveragePrice 차이는 존재하지 않는다. <br>\n",
    "    2) 대립가설 H1: region 종류에 따른 AveragePrice 차이는 존재한다. <br> \n",
    "    3) 귀무가설 H0: type 종류에 따른 AveragePrice 차이는 존재하지 않는다. <br>\n",
    "    4) 대립가설 H1: type 종류에 따른 AveragePrice 차이는 존재한다. <br> "
   ]
  },
  {
   "cell_type": "code",
   "execution_count": 3,
   "id": "3709a22b",
   "metadata": {},
   "outputs": [],
   "source": [
    "# 독립변수 type,region / 종속변수 AveragePrice을 Series로 변경 \n",
    "AveragePrice = avocado[\"AveragePrice\"]\n",
    "avocado_type = avocado[\"type\"]\n",
    "region = avocado[\"region\"]"
   ]
  },
  {
   "cell_type": "code",
   "execution_count": null,
   "id": "6f4aae01",
   "metadata": {},
   "outputs": [],
   "source": [
    "# 분산분석 수행 \n",
    "from statsmodels.formula.api import ols\n",
    "from statsmodels.stats.anova import anova_lm\n",
    "\n",
    "# C() :범주형(factor) 변수로 취급하며, 이를 컬럼으로 변환\n",
    "formula = 'AveragePrice ~ C(avocado_type) * C(region)' \n",
    "model = ols(formula, avocado).fit()\n",
    "aov_table = anova_lm(model, typ=2)\n",
    "aov_table"
   ]
  },
  {
   "cell_type": "code",
   "execution_count": null,
   "id": "9baab2f8",
   "metadata": {},
   "outputs": [],
   "source": []
  },
  {
   "cell_type": "markdown",
   "id": "5fe3145f",
   "metadata": {},
   "source": [
    "[결과해석] \n",
    "\n",
    "1. 주효과(type,region) 모두 AveragePrice에 영향을 미침.(2개 인자 모두 pvalue가 일반적인 유의수준 0.05이하임)\n",
    "    - 단 주효과중에서 type의 영향력이 훨씬 더 큼.(p value값)\n",
    "    - region은 p값이 0.05근처로서, 통계적으로 경계에 있기 때문에, 주의깊게 확인 필요\n",
    "    \n",
    "\n",
    "2. 교호작용 인자도 유의하다.(교호작용 있음) p-value 0.05d이하임"
   ]
  },
  {
   "cell_type": "code",
   "execution_count": null,
   "id": "b515148b",
   "metadata": {},
   "outputs": [],
   "source": []
  },
  {
   "cell_type": "code",
   "execution_count": null,
   "id": "7d1062fb",
   "metadata": {},
   "outputs": [],
   "source": []
  },
  {
   "cell_type": "code",
   "execution_count": null,
   "id": "9fea805c",
   "metadata": {},
   "outputs": [],
   "source": []
  },
  {
   "cell_type": "code",
   "execution_count": null,
   "id": "b0fba075",
   "metadata": {},
   "outputs": [],
   "source": []
  }
 ],
 "metadata": {
  "kernelspec": {
   "display_name": "Python 3 (ipykernel)",
   "language": "python",
   "name": "python3"
  },
  "language_info": {
   "codemirror_mode": {
    "name": "ipython",
    "version": 3
   },
   "file_extension": ".py",
   "mimetype": "text/x-python",
   "name": "python",
   "nbconvert_exporter": "python",
   "pygments_lexer": "ipython3",
   "version": "3.9.13"
  }
 },
 "nbformat": 4,
 "nbformat_minor": 5
}
