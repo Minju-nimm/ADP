{
 "cells": [
  {
   "cell_type": "markdown",
   "id": "281562bf",
   "metadata": {},
   "source": [
    "# ADP 통계 기출 24회 ~ 21회"
   ]
  },
  {
   "cell_type": "code",
   "execution_count": 15,
   "id": "2459516b",
   "metadata": {},
   "outputs": [],
   "source": [
    "import pandas as pd\n",
    "import numpy as np\n",
    "from scipy import stats\n",
    "\n",
    "import warnings\n",
    "warnings.filterwarnings(\"ignore\")"
   ]
  },
  {
   "cell_type": "markdown",
   "id": "d662eb48",
   "metadata": {},
   "source": [
    "---"
   ]
  },
  {
   "cell_type": "markdown",
   "id": "d699a843",
   "metadata": {},
   "source": [
    "# [ 24회 ]"
   ]
  },
  {
   "cell_type": "markdown",
   "id": "ca3beeb2",
   "metadata": {},
   "source": [
    "# < 24회 1번 : 다중회귀, 가변수 >\n",
    "광고횟수와 광고비에 따른 매출액의 데이터이다.\n",
    "\n",
    "1. 광고비 변수를 가변수 처리후 다중회귀를 수행하여 회귀계수가 유의한지 검정\n",
    "2. 회귀식이 유의한지 판단 - 모형검정?"
   ]
  },
  {
   "cell_type": "code",
   "execution_count": 29,
   "id": "94168385",
   "metadata": {},
   "outputs": [
    {
     "data": {
      "text/html": [
       "<div>\n",
       "<style scoped>\n",
       "    .dataframe tbody tr th:only-of-type {\n",
       "        vertical-align: middle;\n",
       "    }\n",
       "\n",
       "    .dataframe tbody tr th {\n",
       "        vertical-align: top;\n",
       "    }\n",
       "\n",
       "    .dataframe thead th {\n",
       "        text-align: right;\n",
       "    }\n",
       "</style>\n",
       "<table border=\"1\" class=\"dataframe\">\n",
       "  <thead>\n",
       "    <tr style=\"text-align: right;\">\n",
       "      <th></th>\n",
       "      <th>광고횟수</th>\n",
       "      <th>광고비</th>\n",
       "      <th>매출액</th>\n",
       "    </tr>\n",
       "  </thead>\n",
       "  <tbody>\n",
       "    <tr>\n",
       "      <th>0</th>\n",
       "      <td>2</td>\n",
       "      <td>낮음</td>\n",
       "      <td>15</td>\n",
       "    </tr>\n",
       "    <tr>\n",
       "      <th>1</th>\n",
       "      <td>3</td>\n",
       "      <td>낮음</td>\n",
       "      <td>16</td>\n",
       "    </tr>\n",
       "    <tr>\n",
       "      <th>2</th>\n",
       "      <td>4</td>\n",
       "      <td>낮음</td>\n",
       "      <td>17</td>\n",
       "    </tr>\n",
       "    <tr>\n",
       "      <th>3</th>\n",
       "      <td>4</td>\n",
       "      <td>높음</td>\n",
       "      <td>18</td>\n",
       "    </tr>\n",
       "    <tr>\n",
       "      <th>4</th>\n",
       "      <td>5</td>\n",
       "      <td>높음</td>\n",
       "      <td>20</td>\n",
       "    </tr>\n",
       "  </tbody>\n",
       "</table>\n",
       "</div>"
      ],
      "text/plain": [
       "   광고횟수 광고비  매출액\n",
       "0     2  낮음   15\n",
       "1     3  낮음   16\n",
       "2     4  낮음   17\n",
       "3     4  높음   18\n",
       "4     5  높음   20"
      ]
     },
     "execution_count": 29,
     "metadata": {},
     "output_type": "execute_result"
    }
   ],
   "source": [
    "import pandas as pd\n",
    "df = pd.read_csv('https://raw.githubusercontent.com/Datamanim/datarepo/main/adp/24/problem2.csv', encoding='cp949')\n",
    "df.head()"
   ]
  },
  {
   "cell_type": "markdown",
   "id": "bf8cbd23",
   "metadata": {},
   "source": [
    "### 접근 방법\n",
    "1. 광고횟수와 광고비에 따른 매출액\n",
    "    - 광고횟수, 광고비 : 독립변수 X\n",
    "    - 매출액 : 종속변수 y\n",
    "    <br><br/>\n",
    "    \n",
    "2. 가변수 처리 : get_dummies() 이용\n",
    "    - OLS 함수는 자동으로 가변수화 해준다 !\n",
    "    - formula를 이용하는 smf.ols()는 자동으로 상수항 가정\n",
    "    - sm,ols(y, X)는 상수항 추가해줘야함\n",
    "    <br><br/>\n",
    "    \n",
    "3. 회귀계수 유의성 검정\n",
    "    - 회귀계수가 유의하지 않다면?! $\\rightarrow$ 추후 방법에 대해서도 생각해보자\n",
    "    <br><br/>\n",
    "    \n",
    "4. 회귀식 유의성 검정\n",
    "    - 검정통계량(F-통계량)\n",
    "    - p-value(모델이 유의한지)"
   ]
  },
  {
   "cell_type": "markdown",
   "id": "6f34bfd4",
   "metadata": {},
   "source": [
    "### 1-1) 광고비 변수를 가변수 처리후 다중회귀를 수행하여 회귀계수가 유의한지 검정\n",
    "- smf.ols랑 sm.ols 두 shell 코드 결과 동일함\n",
    "- smf.ols가 훨씬 간략 !!"
   ]
  },
  {
   "cell_type": "code",
   "execution_count": 28,
   "id": "bbe5ce95",
   "metadata": {},
   "outputs": [
    {
     "data": {
      "text/html": [
       "<table class=\"simpletable\">\n",
       "<caption>OLS Regression Results</caption>\n",
       "<tr>\n",
       "  <th>Dep. Variable:</th>           <td>매출액</td>       <th>  R-squared:         </th> <td>   0.982</td>\n",
       "</tr>\n",
       "<tr>\n",
       "  <th>Model:</th>                   <td>OLS</td>       <th>  Adj. R-squared:    </th> <td>   0.978</td>\n",
       "</tr>\n",
       "<tr>\n",
       "  <th>Method:</th>             <td>Least Squares</td>  <th>  F-statistic:       </th> <td>   221.2</td>\n",
       "</tr>\n",
       "<tr>\n",
       "  <th>Date:</th>             <td>Wed, 24 May 2023</td> <th>  Prob (F-statistic):</th> <td>9.96e-08</td>\n",
       "</tr>\n",
       "<tr>\n",
       "  <th>Time:</th>                 <td>15:49:37</td>     <th>  Log-Likelihood:    </th> <td> -11.883</td>\n",
       "</tr>\n",
       "<tr>\n",
       "  <th>No. Observations:</th>      <td>    11</td>      <th>  AIC:               </th> <td>   29.77</td>\n",
       "</tr>\n",
       "<tr>\n",
       "  <th>Df Residuals:</th>          <td>     8</td>      <th>  BIC:               </th> <td>   30.96</td>\n",
       "</tr>\n",
       "<tr>\n",
       "  <th>Df Model:</th>              <td>     2</td>      <th>                     </th>     <td> </td>   \n",
       "</tr>\n",
       "<tr>\n",
       "  <th>Covariance Type:</th>      <td>nonrobust</td>    <th>                     </th>     <td> </td>   \n",
       "</tr>\n",
       "</table>\n",
       "<table class=\"simpletable\">\n",
       "<tr>\n",
       "      <td></td>         <th>coef</th>     <th>std err</th>      <th>t</th>      <th>P>|t|</th>  <th>[0.025</th>    <th>0.975]</th>  \n",
       "</tr>\n",
       "<tr>\n",
       "  <th>Intercept</th> <td>   12.1641</td> <td>    0.556</td> <td>   21.876</td> <td> 0.000</td> <td>   10.882</td> <td>   13.446</td>\n",
       "</tr>\n",
       "<tr>\n",
       "  <th>광고비[T.높음]</th> <td>    0.5227</td> <td>    0.536</td> <td>    0.975</td> <td> 0.358</td> <td>   -0.713</td> <td>    1.759</td>\n",
       "</tr>\n",
       "<tr>\n",
       "  <th>광고횟수</th>      <td>    1.4350</td> <td>    0.074</td> <td>   19.518</td> <td> 0.000</td> <td>    1.265</td> <td>    1.605</td>\n",
       "</tr>\n",
       "</table>\n",
       "<table class=\"simpletable\">\n",
       "<tr>\n",
       "  <th>Omnibus:</th>       <td> 7.665</td> <th>  Durbin-Watson:     </th> <td>   0.919</td>\n",
       "</tr>\n",
       "<tr>\n",
       "  <th>Prob(Omnibus):</th> <td> 0.022</td> <th>  Jarque-Bera (JB):  </th> <td>   3.407</td>\n",
       "</tr>\n",
       "<tr>\n",
       "  <th>Skew:</th>          <td> 1.265</td> <th>  Prob(JB):          </th> <td>   0.182</td>\n",
       "</tr>\n",
       "<tr>\n",
       "  <th>Kurtosis:</th>      <td> 4.015</td> <th>  Cond. No.          </th> <td>    18.9</td>\n",
       "</tr>\n",
       "</table><br/><br/>Notes:<br/>[1] Standard Errors assume that the covariance matrix of the errors is correctly specified."
      ],
      "text/plain": [
       "<class 'statsmodels.iolib.summary.Summary'>\n",
       "\"\"\"\n",
       "                            OLS Regression Results                            \n",
       "==============================================================================\n",
       "Dep. Variable:                    매출액   R-squared:                       0.982\n",
       "Model:                            OLS   Adj. R-squared:                  0.978\n",
       "Method:                 Least Squares   F-statistic:                     221.2\n",
       "Date:                Wed, 24 May 2023   Prob (F-statistic):           9.96e-08\n",
       "Time:                        15:49:37   Log-Likelihood:                -11.883\n",
       "No. Observations:                  11   AIC:                             29.77\n",
       "Df Residuals:                       8   BIC:                             30.96\n",
       "Df Model:                           2                                         \n",
       "Covariance Type:            nonrobust                                         \n",
       "==============================================================================\n",
       "                 coef    std err          t      P>|t|      [0.025      0.975]\n",
       "------------------------------------------------------------------------------\n",
       "Intercept     12.1641      0.556     21.876      0.000      10.882      13.446\n",
       "광고비[T.높음]      0.5227      0.536      0.975      0.358      -0.713       1.759\n",
       "광고횟수           1.4350      0.074     19.518      0.000       1.265       1.605\n",
       "==============================================================================\n",
       "Omnibus:                        7.665   Durbin-Watson:                   0.919\n",
       "Prob(Omnibus):                  0.022   Jarque-Bera (JB):                3.407\n",
       "Skew:                           1.265   Prob(JB):                        0.182\n",
       "Kurtosis:                       4.015   Cond. No.                         18.9\n",
       "==============================================================================\n",
       "\n",
       "Notes:\n",
       "[1] Standard Errors assume that the covariance matrix of the errors is correctly specified.\n",
       "\"\"\""
      ]
     },
     "execution_count": 28,
     "metadata": {},
     "output_type": "execute_result"
    }
   ],
   "source": [
    "import statsmodels.formula.api as smf\n",
    "\n",
    "# mapping을 통한 가변수 처리\n",
    "# df['광고비'] = df['광고비'].map({'낮음':0,'높음':1})\n",
    "\n",
    "formula = '매출액 ~ 광고횟수 + 광고비'\n",
    "result = smf.ols(formula, df).fit()\n",
    "result.summary()"
   ]
  },
  {
   "cell_type": "markdown",
   "id": "3580a834",
   "metadata": {},
   "source": [
    "#### 분석 결과를 살펴봤을 때, 광고비의 경우 p-value 값이 0.358로 유의수준 0.05에서 유의하지 않고, 나머지 계수는 유의하다고 할 수 있다."
   ]
  },
  {
   "cell_type": "markdown",
   "id": "103d5814",
   "metadata": {},
   "source": [
    "### 1-2) 회귀식이 유의한지 판단"
   ]
  },
  {
   "cell_type": "markdown",
   "id": "1f8ae66d",
   "metadata": {},
   "source": [
    "#### F 통계량의 p-value는 유의수준 0.05보다 작으므로, 회귀식은 유의하다고 할 수 있다."
   ]
  },
  {
   "cell_type": "markdown",
   "id": "157773db",
   "metadata": {},
   "source": [
    "  "
   ]
  },
  {
   "cell_type": "markdown",
   "id": "361b621f",
   "metadata": {},
   "source": [
    "### 참고 : sm.ols 이용 (smf.ols랑 결과 동일함)"
   ]
  },
  {
   "cell_type": "code",
   "execution_count": 30,
   "id": "2779dfe4",
   "metadata": {},
   "outputs": [
    {
     "data": {
      "text/html": [
       "<table class=\"simpletable\">\n",
       "<caption>OLS Regression Results</caption>\n",
       "<tr>\n",
       "  <th>Dep. Variable:</th>           <td>매출액</td>       <th>  R-squared:         </th> <td>   0.982</td>\n",
       "</tr>\n",
       "<tr>\n",
       "  <th>Model:</th>                   <td>OLS</td>       <th>  Adj. R-squared:    </th> <td>   0.978</td>\n",
       "</tr>\n",
       "<tr>\n",
       "  <th>Method:</th>             <td>Least Squares</td>  <th>  F-statistic:       </th> <td>   221.2</td>\n",
       "</tr>\n",
       "<tr>\n",
       "  <th>Date:</th>             <td>Wed, 24 May 2023</td> <th>  Prob (F-statistic):</th> <td>9.96e-08</td>\n",
       "</tr>\n",
       "<tr>\n",
       "  <th>Time:</th>                 <td>15:53:16</td>     <th>  Log-Likelihood:    </th> <td> -11.883</td>\n",
       "</tr>\n",
       "<tr>\n",
       "  <th>No. Observations:</th>      <td>    11</td>      <th>  AIC:               </th> <td>   29.77</td>\n",
       "</tr>\n",
       "<tr>\n",
       "  <th>Df Residuals:</th>          <td>     8</td>      <th>  BIC:               </th> <td>   30.96</td>\n",
       "</tr>\n",
       "<tr>\n",
       "  <th>Df Model:</th>              <td>     2</td>      <th>                     </th>     <td> </td>   \n",
       "</tr>\n",
       "<tr>\n",
       "  <th>Covariance Type:</th>      <td>nonrobust</td>    <th>                     </th>     <td> </td>   \n",
       "</tr>\n",
       "</table>\n",
       "<table class=\"simpletable\">\n",
       "<tr>\n",
       "     <td></td>       <th>coef</th>     <th>std err</th>      <th>t</th>      <th>P>|t|</th>  <th>[0.025</th>    <th>0.975]</th>  \n",
       "</tr>\n",
       "<tr>\n",
       "  <th>const</th>  <td>   12.1641</td> <td>    0.556</td> <td>   21.876</td> <td> 0.000</td> <td>   10.882</td> <td>   13.446</td>\n",
       "</tr>\n",
       "<tr>\n",
       "  <th>광고횟수</th>   <td>    1.4350</td> <td>    0.074</td> <td>   19.518</td> <td> 0.000</td> <td>    1.265</td> <td>    1.605</td>\n",
       "</tr>\n",
       "<tr>\n",
       "  <th>광고비_높음</th> <td>    0.5227</td> <td>    0.536</td> <td>    0.975</td> <td> 0.358</td> <td>   -0.713</td> <td>    1.759</td>\n",
       "</tr>\n",
       "</table>\n",
       "<table class=\"simpletable\">\n",
       "<tr>\n",
       "  <th>Omnibus:</th>       <td> 7.665</td> <th>  Durbin-Watson:     </th> <td>   0.919</td>\n",
       "</tr>\n",
       "<tr>\n",
       "  <th>Prob(Omnibus):</th> <td> 0.022</td> <th>  Jarque-Bera (JB):  </th> <td>   3.407</td>\n",
       "</tr>\n",
       "<tr>\n",
       "  <th>Skew:</th>          <td> 1.265</td> <th>  Prob(JB):          </th> <td>   0.182</td>\n",
       "</tr>\n",
       "<tr>\n",
       "  <th>Kurtosis:</th>      <td> 4.015</td> <th>  Cond. No.          </th> <td>    18.9</td>\n",
       "</tr>\n",
       "</table><br/><br/>Notes:<br/>[1] Standard Errors assume that the covariance matrix of the errors is correctly specified."
      ],
      "text/plain": [
       "<class 'statsmodels.iolib.summary.Summary'>\n",
       "\"\"\"\n",
       "                            OLS Regression Results                            \n",
       "==============================================================================\n",
       "Dep. Variable:                    매출액   R-squared:                       0.982\n",
       "Model:                            OLS   Adj. R-squared:                  0.978\n",
       "Method:                 Least Squares   F-statistic:                     221.2\n",
       "Date:                Wed, 24 May 2023   Prob (F-statistic):           9.96e-08\n",
       "Time:                        15:53:16   Log-Likelihood:                -11.883\n",
       "No. Observations:                  11   AIC:                             29.77\n",
       "Df Residuals:                       8   BIC:                             30.96\n",
       "Df Model:                           2                                         \n",
       "Covariance Type:            nonrobust                                         \n",
       "==============================================================================\n",
       "                 coef    std err          t      P>|t|      [0.025      0.975]\n",
       "------------------------------------------------------------------------------\n",
       "const         12.1641      0.556     21.876      0.000      10.882      13.446\n",
       "광고횟수           1.4350      0.074     19.518      0.000       1.265       1.605\n",
       "광고비_높음         0.5227      0.536      0.975      0.358      -0.713       1.759\n",
       "==============================================================================\n",
       "Omnibus:                        7.665   Durbin-Watson:                   0.919\n",
       "Prob(Omnibus):                  0.022   Jarque-Bera (JB):                3.407\n",
       "Skew:                           1.265   Prob(JB):                        0.182\n",
       "Kurtosis:                       4.015   Cond. No.                         18.9\n",
       "==============================================================================\n",
       "\n",
       "Notes:\n",
       "[1] Standard Errors assume that the covariance matrix of the errors is correctly specified.\n",
       "\"\"\""
      ]
     },
     "execution_count": 30,
     "metadata": {},
     "output_type": "execute_result"
    }
   ],
   "source": [
    "import pandas as pd\n",
    "import statsmodels.api as sm\n",
    "\n",
    "# 가변수 처리\n",
    "df = pd.get_dummies(df, columns=['광고비'], drop_first=True)\n",
    "\n",
    "# 독립변수와 종속변수 설정\n",
    "X = df.drop('매출액', axis=1)\n",
    "y = df['매출액']\n",
    "\n",
    "# 다중회귀 모델 학습\n",
    "X = sm.add_constant(X)  # 상수항 추가\n",
    "model = sm.OLS(y, X)\n",
    "result = model.fit()\n",
    "\n",
    "result.summary()"
   ]
  },
  {
   "cell_type": "code",
   "execution_count": 31,
   "id": "b54c3a55",
   "metadata": {},
   "outputs": [
    {
     "name": "stdout",
     "output_type": "stream",
     "text": [
      "유의한 회귀계수:\n",
      "광고횟수    4.935243e-08\n",
      "dtype: float64\n",
      "회귀식이 유의합니다.\n"
     ]
    }
   ],
   "source": [
    "# 회귀계수 유의성 검정\n",
    "p_values = result.pvalues[1:]  # 상수항 제외한 변수의 p-value\n",
    "significant_coeffs = p_values[p_values < 0.05]  # 유의수준 0.05로 설정\n",
    "\n",
    "print(\"유의한 회귀계수:\")\n",
    "print(significant_coeffs)\n",
    "\n",
    "# 회귀식 유의성 검정\n",
    "if result.f_pvalue < 0.05:\n",
    "    print(\"회귀식이 유의합니다.\")\n",
    "else:\n",
    "    print(\"회귀식이 유의하지 않습니다.\")"
   ]
  },
  {
   "cell_type": "markdown",
   "id": "791cd7c7",
   "metadata": {},
   "source": [
    "## < 24회 2번 : 이표본 '평균 차이' 검정, t 대신 Z 이용 >\n",
    "A생산라인의 제품 평균은 5.7mm이고 표준편차는 0.03, B생산라인의 제품 평균은 5.6mm이고 표준편차는 0.04라면 5%유의수준으로 두 제품의 평균이 차이가 있는지 여부를 검정하기 Z(0.05) = 1.65\n",
    "\n",
    "1. 귀무가설과 대립가설을 세워라\n",
    "2. 두 평균이 차이가 있는지 검정하라"
   ]
  },
  {
   "cell_type": "markdown",
   "id": "c5728317",
   "metadata": {},
   "source": [
    "### 접근 방법\n",
    "<img src=\"https://mblogthumb-phinf.pstatic.net/MjAxOTA4MDlfMTYz/MDAxNTY1MzIzODM5OTQx.JbcPG_pxwnRcKYl4CKxTg3E8rejV9eWOsGtbhYWGJYsg.Xxl3go8epcSsHgRExiFYC0axuPeNS2RPcUobncuESjQg.PNG.oooasd73/image.png?type=w800\" width=300>\n",
    "\n",
    "- 독립된 두 집단의 평균을 비교하는 독립표본 t-검정을 사용할 수 있음\n",
    "    - 하지만 주어진 문제에서 표준편차를 알고 있으므로 Z-검정을 사용해도 됨\n",
    "\n",
    "- 먼저, 가설을 검정하기 위해 Z-검정 통계량을 계산\n",
    "    - 차이가 없다는 귀무가설 하에 검정을 진행하므로, $\\mu_1-\\mu_2=0$이 됨"
   ]
  },
  {
   "cell_type": "markdown",
   "id": "86bd3bf4",
   "metadata": {},
   "source": [
    "### 2-1) 귀무가설과 대립가설을 세워라\n",
    "- 귀무가설(H0): A생산라인의 제품 평균과 B생산라인의 제품 평균은 같다.\n",
    "- 대립가설(H1): A생산라인의 제품 평균과 B생산라인의 제품 평균은 다르다."
   ]
  },
  {
   "cell_type": "markdown",
   "id": "22223f86",
   "metadata": {},
   "source": [
    "### 2-2) 두 평균이 차이가 있는지 검정하라"
   ]
  },
  {
   "cell_type": "code",
   "execution_count": 2,
   "id": "2cb5b29f",
   "metadata": {},
   "outputs": [
    {
     "name": "stdout",
     "output_type": "stream",
     "text": [
      "두 평균은 차이가 있다. (대립가설을 채택)\n"
     ]
    }
   ],
   "source": [
    "import math\n",
    "\n",
    "mean1 = 5.7\n",
    "std_dev1 = 0.03\n",
    "n1 = 1\n",
    "\n",
    "mean2 = 5.6\n",
    "std_dev2 = 0.04\n",
    "n2 = 1\n",
    "\n",
    "mean_difference = mean1 - mean2\n",
    "\n",
    "standard_error = math.sqrt((std_dev1**2 / n1) + (std_dev2**2 / n2))\n",
    "\n",
    "z_score = mean_difference / standard_error\n",
    "\n",
    "z_critical = 1.65\n",
    "\n",
    "if abs(z_score) > z_critical:\n",
    "    print(\"두 평균은 차이가 있다. (대립가설을 채택)\")\n",
    "else:\n",
    "    print(\"두 평균은 차이가 없다. (귀무가설을 채택)\")"
   ]
  },
  {
   "cell_type": "markdown",
   "id": "1d07fd2c",
   "metadata": {},
   "source": [
    "## < 24회 3번 : 베이즈 확률 (따로 기재) >\n",
    "바이러스 감염 분류표를 보고 베이지안 분류 방법을 사용해 양성으로 예측된 사람이 실제로 양성일 확률을 구하라. (유병률 0.01)"
   ]
  },
  {
   "attachments": {},
   "cell_type": "markdown",
   "id": "1532bc04",
   "metadata": {},
   "source": [
    "<img src =\"https://i.esdrop.com/d/f/3uJKEwVXJL/qCn5px1ydX.jpg\"/>"
   ]
  },
  {
   "cell_type": "code",
   "execution_count": 1,
   "id": "8865ba40",
   "metadata": {},
   "outputs": [
    {
     "data": {
      "text/html": [
       "<div>\n",
       "<style scoped>\n",
       "    .dataframe tbody tr th:only-of-type {\n",
       "        vertical-align: middle;\n",
       "    }\n",
       "\n",
       "    .dataframe tbody tr th {\n",
       "        vertical-align: top;\n",
       "    }\n",
       "\n",
       "    .dataframe thead th {\n",
       "        text-align: right;\n",
       "    }\n",
       "</style>\n",
       "<table border=\"1\" class=\"dataframe\">\n",
       "  <thead>\n",
       "    <tr style=\"text-align: right;\">\n",
       "      <th></th>\n",
       "      <th>실제_감염</th>\n",
       "      <th>실제_비감염</th>\n",
       "    </tr>\n",
       "  </thead>\n",
       "  <tbody>\n",
       "    <tr>\n",
       "      <th>예측_양성</th>\n",
       "      <td>370</td>\n",
       "      <td>10</td>\n",
       "    </tr>\n",
       "    <tr>\n",
       "      <th>예측_음성</th>\n",
       "      <td>15</td>\n",
       "      <td>690</td>\n",
       "    </tr>\n",
       "  </tbody>\n",
       "</table>\n",
       "</div>"
      ],
      "text/plain": [
       "       실제_감염  실제_비감염\n",
       "예측_양성    370      10\n",
       "예측_음성     15     690"
      ]
     },
     "execution_count": 1,
     "metadata": {},
     "output_type": "execute_result"
    }
   ],
   "source": [
    "import pandas as pd\n",
    "\n",
    "data = pd.DataFrame([[370, 10], [15,690]],\n",
    "                    index = [\"예측_양성\", \"예측_음성\"],\n",
    "                    columns=[\"실제_감염\", \"실제_비감염\"])\n",
    "data"
   ]
  },
  {
   "cell_type": "code",
   "execution_count": 2,
   "id": "e6ba823b",
   "metadata": {},
   "outputs": [
    {
     "name": "stdout",
     "output_type": "stream",
     "text": [
      "0.00961038961038961\n",
      "0.4045926735921268\n"
     ]
    }
   ],
   "source": [
    "pro_a_and_b = ((1/100) * (370/385))\n",
    "print(pro_a_and_b)\n",
    "\n",
    "pro_b =  ((1/100) * (370/385)) + ((99/100) * (10/700))\n",
    "pro_a_bar_b = pro_a_and_b / pro_b\n",
    "print(pro_a_bar_b)"
   ]
  },
  {
   "cell_type": "markdown",
   "id": "a7232dd3",
   "metadata": {},
   "source": [
    "## < 24회 4번 :  신뢰구간 - 모분산을 알 때, 모를 때 >\n",
    "주어진 데이터에서 신뢰구간을 구하려한다.  \n",
    "정규분포에서 표폰을 추출함[Z(0.05) = -1.65 , Z(0.025) = -1.96, T(0.05, 8) = 1.860 , T0.025(0.025, 8) = 2.306]  \n",
    "데이터(9개) : [3.1, 3.3, 3.5, 3.7, 3.9, 4.1, 4.3 4.4, 4.7]  \n",
    "\n",
    "1. 모분산을 모르는 경우 주어진 데이터의 95% 신뢰구간을 구하라\n",
    "\n",
    "2. sigma = 0.04인걸 알고 있을때의 95% 신뢰구간을 구하라"
   ]
  },
  {
   "cell_type": "markdown",
   "id": "64ced71e",
   "metadata": {},
   "source": [
    "### 접근 방법\n",
    "- 모평균 구간추정은 크게 모분산을 알 때, 모를 때로 나뉨\n",
    "1. 모분산 모르고, 30개 미만 → T-Test\n",
    "    - 모분산은 모르는 경우 표본표표편차인 s를 대신 사용하여 추정과 검정을 진행\n",
    "<img src =\"https://i.esdrop.com/d/f/3uJKEwVXJL/KshvtIv9NH.jpg\" width=400 />\n",
    "\n",
    "2. 모분산 알면 → Z-Test\n",
    "<img src =\"https://i.esdrop.com/d/f/3uJKEwVXJL/oGpIEY6yss.jpg\" width=400/>\n",
    "\n",
    "3. 모분산 모르지만 30개 이상→ Z-Test \n",
    "    - 모분산은 모르는 경우 표본표표편차인 s를 대신 사용하여 추정과 검정을 진행\n",
    "<img src =\"https://i.esdrop.com/d/f/3uJKEwVXJL/RRLe7vqj5c.jpg\" width=400 />"
   ]
  },
  {
   "cell_type": "code",
   "execution_count": 1,
   "id": "58cda1cc",
   "metadata": {},
   "outputs": [],
   "source": [
    "sample = [3.1, 3.3, 3.5, 3.7, 3.9, 4.1, 4.3, 4.4, 4.7]"
   ]
  },
  {
   "cell_type": "markdown",
   "id": "3c7134fc",
   "metadata": {},
   "source": [
    "### 4-1) 모분산을 모르는 경우 주어진 데이터의 95% 신뢰구간을 구하라\n",
    "- 모분산은 모르는 경우 표본표표편차인 s를 대신 사용하여 추정과 검정을 진행\n",
    "- 표본의 개수가 9개로 적고, 모분산을 모르므로 t 분포를 이용한다."
   ]
  },
  {
   "cell_type": "code",
   "execution_count": 9,
   "id": "9971b644",
   "metadata": {},
   "outputs": [
    {
     "name": "stdout",
     "output_type": "stream",
     "text": [
      "모분산을 모르는 경우의 95% 신뢰구간: (3.501, 4.277)\n"
     ]
    }
   ],
   "source": [
    "import numpy as np\n",
    "from scipy.stats import t\n",
    "\n",
    "n = len(sample) # 표본의 크기 \n",
    "mean = np.mean(sample) # 표본평균\n",
    "s = np.std(sample) # 표본 표준편차\n",
    "alpha = 0.05 # 유의수준\n",
    "df = n-1\n",
    "\n",
    "SE = s / np.sqrt(n) # 표준오차\n",
    "\n",
    "# 자유도가 n-1인 t-분포의 0.025 위치에 해당하는 값 (t통계량)\n",
    "t_value = t.ppf(1 - alpha/2, df)\n",
    "\n",
    "ME = t_value * SE # 신뢰구간의 오차범위 (오차한계)\n",
    "confidence_interval_1 = (mean - ME, mean + ME)  # 신뢰구간\n",
    "\n",
    "# 소수점 아래 세 자리까지 출력\n",
    "confidence_interval_1_rounded = (round(confidence_interval_1[0], 3),\n",
    "                                 round(confidence_interval_1[1], 3))\n",
    "\n",
    "print(\"모분산을 모르는 경우의 95% 신뢰구간:\", confidence_interval_1_rounded)"
   ]
  },
  {
   "cell_type": "markdown",
   "id": "2c560713",
   "metadata": {},
   "source": [
    "### 4-2) sigma = 0.04인걸 알고 있을때의 95% 신뢰구간을 구하라\n",
    "- sigma를 알고 있을 때의 신뢰구간은 z-분포를 이용"
   ]
  },
  {
   "cell_type": "code",
   "execution_count": 12,
   "id": "348c3327",
   "metadata": {},
   "outputs": [
    {
     "name": "stdout",
     "output_type": "stream",
     "text": [
      "sigma = 0.04인 경우의 95% 신뢰구간: (3.863, 3.915)\n"
     ]
    }
   ],
   "source": [
    "from scipy.stats import norm # z분포\n",
    "\n",
    "n = len(sample) # 표본의 크기 \n",
    "mean = np.mean(sample) # 표본평균\n",
    "sigma = 0.04 \n",
    "alpha = 0.05 # 유의수준\n",
    "\n",
    "SE = sigma / np.sqrt(n) # 표준오차\n",
    "\n",
    "z_value = norm.ppf(1 - alpha/2)\n",
    "ME = z_value * SE # 허용오차\n",
    "\n",
    "confidence_interval_2 = (mean - ME, mean + ME)  # 신뢰구간\n",
    "\n",
    "# 소수점 아래 세 자리까지 출력\n",
    "confidence_interval_2_rounded = (round(confidence_interval_2[0], 3),\n",
    "                                 round(confidence_interval_2[1], 3))\n",
    "print(\"sigma = 0.04인 경우의 95% 신뢰구간:\", confidence_interval_2_rounded)"
   ]
  },
  {
   "cell_type": "markdown",
   "id": "b1fa6fea",
   "metadata": {},
   "source": [
    "---"
   ]
  },
  {
   "cell_type": "markdown",
   "id": "dcc5b339",
   "metadata": {},
   "source": [
    "# [ 23회 ]"
   ]
  },
  {
   "cell_type": "markdown",
   "id": "0bb8630c",
   "metadata": {},
   "source": [
    "## < 23회 1번 : 부호검정 >\n",
    "- 시제품 샘플 농도 데이터\n",
    "- 공장에서는 진공관 수명이 1만 시간이라고 주장하여 품질관리팀에서 12개 샘플을 뽑았다. 유의수준 5%에서 부호 검정하시오.   \n",
    "(부호검정이라고 명시해준듯)\n",
    "\n",
    "1. 귀무가설 연구가설 세우기\n",
    "2. 유효한 데이터의 숫자는?\n",
    "3. 검정통계량 및 연구 가설 채택 여부를 작성하라"
   ]
  },
  {
   "cell_type": "code",
   "execution_count": 15,
   "id": "50d67886",
   "metadata": {},
   "outputs": [
    {
     "data": {
      "text/html": [
       "<div>\n",
       "<style scoped>\n",
       "    .dataframe tbody tr th:only-of-type {\n",
       "        vertical-align: middle;\n",
       "    }\n",
       "\n",
       "    .dataframe tbody tr th {\n",
       "        vertical-align: top;\n",
       "    }\n",
       "\n",
       "    .dataframe thead th {\n",
       "        text-align: right;\n",
       "    }\n",
       "</style>\n",
       "<table border=\"1\" class=\"dataframe\">\n",
       "  <thead>\n",
       "    <tr style=\"text-align: right;\">\n",
       "      <th></th>\n",
       "      <th>name</th>\n",
       "      <th>life span</th>\n",
       "    </tr>\n",
       "  </thead>\n",
       "  <tbody>\n",
       "    <tr>\n",
       "      <th>0</th>\n",
       "      <td>sample1</td>\n",
       "      <td>10000</td>\n",
       "    </tr>\n",
       "    <tr>\n",
       "      <th>1</th>\n",
       "      <td>sample2</td>\n",
       "      <td>9000</td>\n",
       "    </tr>\n",
       "    <tr>\n",
       "      <th>2</th>\n",
       "      <td>sample3</td>\n",
       "      <td>9500</td>\n",
       "    </tr>\n",
       "    <tr>\n",
       "      <th>3</th>\n",
       "      <td>sample4</td>\n",
       "      <td>10000</td>\n",
       "    </tr>\n",
       "    <tr>\n",
       "      <th>4</th>\n",
       "      <td>sample5</td>\n",
       "      <td>10000</td>\n",
       "    </tr>\n",
       "    <tr>\n",
       "      <th>5</th>\n",
       "      <td>sample6</td>\n",
       "      <td>8900</td>\n",
       "    </tr>\n",
       "    <tr>\n",
       "      <th>6</th>\n",
       "      <td>sample7</td>\n",
       "      <td>9900</td>\n",
       "    </tr>\n",
       "    <tr>\n",
       "      <th>7</th>\n",
       "      <td>sample8</td>\n",
       "      <td>10100</td>\n",
       "    </tr>\n",
       "    <tr>\n",
       "      <th>8</th>\n",
       "      <td>sample9</td>\n",
       "      <td>10300</td>\n",
       "    </tr>\n",
       "    <tr>\n",
       "      <th>9</th>\n",
       "      <td>sample10</td>\n",
       "      <td>10020</td>\n",
       "    </tr>\n",
       "    <tr>\n",
       "      <th>10</th>\n",
       "      <td>sample11</td>\n",
       "      <td>10000</td>\n",
       "    </tr>\n",
       "    <tr>\n",
       "      <th>11</th>\n",
       "      <td>sample12</td>\n",
       "      <td>9800</td>\n",
       "    </tr>\n",
       "  </tbody>\n",
       "</table>\n",
       "</div>"
      ],
      "text/plain": [
       "        name  life span\n",
       "0    sample1      10000\n",
       "1    sample2       9000\n",
       "2    sample3       9500\n",
       "3    sample4      10000\n",
       "4    sample5      10000\n",
       "5    sample6       8900\n",
       "6    sample7       9900\n",
       "7    sample8      10100\n",
       "8    sample9      10300\n",
       "9   sample10      10020\n",
       "10  sample11      10000\n",
       "11  sample12       9800"
      ]
     },
     "execution_count": 15,
     "metadata": {},
     "output_type": "execute_result"
    }
   ],
   "source": [
    "import pandas as pd\n",
    "df = pd.read_csv('https://raw.githubusercontent.com/Datamanim/datarepo/main/adp/23/problem2.csv')\n",
    "df"
   ]
  },
  {
   "cell_type": "markdown",
   "id": "747c613d",
   "metadata": {},
   "source": [
    "### 접근방법\n",
    "1. 부호검정은 표본의 순서를 이용하여 모집단의 중앙값에 대한 가설을 검정하는 비모수적인 방법\n",
    "2. 일표본, 부호검정 -> 대칭성에 따라 일표본 부호검정 vs. 윌콕슨 검정 (엄격하게 따르지는 않는다고 하는듯)\n",
    "3. wilcoxon 검정의 경우 대칭성을 전제로 함\n",
    "4. 유효한 샘플 수 : 알려진 중앙값(모수)과 같은 값을 제외"
   ]
  },
  {
   "cell_type": "markdown",
   "id": "4cbc64dc",
   "metadata": {},
   "source": [
    "### 2-1) 귀무가설, 대립가설 작성\n",
    "- 귀무가설 H0 : 진공관 수명은 1만 시간과 차이가 없다. (진공관 모집단의 중위수는 1만 시간이다.)\n",
    "- 대립가설 H1 : 진공관 수명은 1만 시간과 차이가 있다. "
   ]
  },
  {
   "cell_type": "code",
   "execution_count": null,
   "id": "b5ce6827",
   "metadata": {},
   "outputs": [],
   "source": [
    "# import matplotlib.pyplot as plt\n",
    "\n",
    "# # 'life span' 열을 사용하여 히스토그램 그리기\n",
    "# plt.hist(problem2['life span'], bins=12)\n",
    "\n",
    "# # 축과 타이틀 설정\n",
    "# plt.xlabel('Life Span')\n",
    "# plt.ylabel('Frequency')\n",
    "# plt.title('Histogram of Life Span')\n",
    "\n",
    "# # 그래프 보여주기\n",
    "# plt.show()"
   ]
  },
  {
   "cell_type": "markdown",
   "id": "66b8f0c5",
   "metadata": {},
   "source": [
    "### 2-2) 유효한 샘플의 수 계산\n",
    "\n",
    "#### 알려진 중앙값과의 차이가 0이 아닌 데이터만 유효하다고 본다 !\n",
    "#### '모수'와 같은 값을 제외하는 방식으로 유효 샘플수를 구함\n",
    "- 유효한 샘플수를 계산할 때, 표본의 중위수와 같은 값을 제외해서 구했는데 잘못된 방식"
   ]
  },
  {
   "cell_type": "code",
   "execution_count": 16,
   "id": "0b23cfd7",
   "metadata": {},
   "outputs": [
    {
     "name": "stdout",
     "output_type": "stream",
     "text": [
      "<class 'pandas.core.frame.DataFrame'>\n",
      "RangeIndex: 12 entries, 0 to 11\n",
      "Data columns (total 2 columns):\n",
      " #   Column     Non-Null Count  Dtype \n",
      "---  ------     --------------  ----- \n",
      " 0   name       12 non-null     object\n",
      " 1   life span  12 non-null     int64 \n",
      "dtypes: int64(1), object(1)\n",
      "memory usage: 320.0+ bytes\n"
     ]
    }
   ],
   "source": [
    "df.info()"
   ]
  },
  {
   "cell_type": "code",
   "execution_count": 17,
   "id": "65751bab",
   "metadata": {},
   "outputs": [
    {
     "name": "stdout",
     "output_type": "stream",
     "text": [
      "중위수와 동일한 데이터 수 : 4\n"
     ]
    }
   ],
   "source": [
    "# Shape[0] : 데이터프레임의 행의 개수를 반환\n",
    "print('중위수와 동일한 데이터 수 :', \n",
    "      df[df['life span']==10000].shape[0])\n",
    "\n",
    "# 10000이 아닌 값만 반환\n",
    "df_fillter = df[df['life span'] != 10000]"
   ]
  },
  {
   "cell_type": "markdown",
   "id": "230ec536",
   "metadata": {},
   "source": [
    "#### 총 데이터 개수 12개에서 10000과 같은 값 4개를 제외하면, 유효한 샘플 수는 8이 된다."
   ]
  },
  {
   "cell_type": "markdown",
   "id": "b8c28be0",
   "metadata": {},
   "source": [
    "### 2-3) 검정통계량 및 연구가설 채택 여부를 작성"
   ]
  },
  {
   "cell_type": "code",
   "execution_count": 18,
   "id": "0e93d8eb",
   "metadata": {},
   "outputs": [
    {
     "name": "stdout",
     "output_type": "stream",
     "text": [
      "검정통계량: 8.5\n",
      "p-value: 0.1953125\n"
     ]
    }
   ],
   "source": [
    "from scipy.stats import wilcoxon\n",
    "static, pvalue = wilcoxon(df_fillter['life span']-10000)\n",
    "\n",
    "print(\"검정통계량:\", static)\n",
    "print(\"p-value:\", pvalue)"
   ]
  },
  {
   "cell_type": "markdown",
   "id": "0125c5d5",
   "metadata": {},
   "source": [
    "#### 검정통계량은 8.5,  p-value는 0.19로 0.05의 유의 수준에서 귀무가설을 기각할 수 없다. \n",
    "#### 따라서 진공관 수명은 1만 시간과 차이가 없다. 즉 진공관 수명은 1만 시간이라는 주장을 지지할 수 있다."
   ]
  },
  {
   "cell_type": "markdown",
   "id": "40d3c336",
   "metadata": {},
   "source": [
    "  "
   ]
  },
  {
   "cell_type": "markdown",
   "id": "a69eaebd",
   "metadata": {},
   "source": [
    "### 참고 : R 코드\n",
    "- R에서 부호검정을 실시할 때는 BSDA패키지의 SIGN.test()함수를 이용하면 쉽게 수행할 수 있음\n",
    "\n",
    "- 일표본 부호검정 R 코드\n",
    "\n",
    "```R\n",
    "# 일표본 부호검정\n",
    "library(readr)\n",
    "\n",
    "sign_test <- read.csv(\"https://raw.githubusercontent.com/Datamanim/datarepo/main/adp/23/problem2.csv\")\n",
    "sign_test\n",
    "\n",
    "install.packages(\"BSDA\")\n",
    "library(BSDA)\n",
    "\n",
    "SIGN.test(sign_test$life.span, \n",
    "          md=10000, # md : 귀무가설에서 설정한 중위수 값\n",
    "          alternative = \"two.sided\")\n",
    "          \n",
    "          \n",
    "# Output\n",
    "\n",
    "\tOne-sample Sign-Test\n",
    "\n",
    "data:  sign_test$life.span\n",
    "s = 3, p-value = 0.7266\n",
    "alternative hypothesis: true median is not equal to 10000\n",
    "95 percent confidence interval:\n",
    "  9531.909 10017.873\n",
    "sample estimates:\n",
    "median of x \n",
    "      10000 \n",
    "\n",
    "Achieved and Interpolated Confidence Intervals: \n",
    "\n",
    "                  Conf.Level   L.E.pt   U.E.pt\n",
    "Lower Achieved CI     0.8540 9800.000 10000.00\n",
    "Interpolated CI       0.9500 9531.909 10017.87\n",
    "Upper Achieved CI     0.9614 9500.000 10020.00\n",
    "\n",
    "```\n"
   ]
  },
  {
   "cell_type": "markdown",
   "id": "81bc8798",
   "metadata": {},
   "source": [
    "검정통계량 s는 3, p-value는 0.7266로 0.05의 유의 수준에서 귀무가설을 기각할 수 없다.  \n",
    "따라서 진공관 수명은 1만 시간과 차이가 없다. 즉 진공관 수명은 1만 시간이라는 주장을 지지할 수 있다.  "
   ]
  },
  {
   "cell_type": "markdown",
   "id": "fb3aef1d",
   "metadata": {},
   "source": [
    "- 일표본 윌콕슨 부호순위검정 R 코드\n",
    "```R\n",
    "result <- wilcox.test(x, mu = 0, alternative = \"two.sided\")\n",
    "``` \n",
    "\n",
    "- 이표본 윌콕슨 부호순위검정 R 코드\n",
    "```R\n",
    "result <- wilcox.test(x, y = NULL, alternative = \"two.sided\", paired = TRUE)\n",
    "```"
   ]
  },
  {
   "cell_type": "markdown",
   "id": "12076659",
   "metadata": {},
   "source": [
    "## < 23회 2번 : 독립성 검정, 카이제곱 검정 >\n",
    "\n",
    "아래 이미지와 같은 학과별 학점 분포 인원수 표가 있다. 학과와 성적이 관계있는지를 검정하라.\n",
    "\n",
    "<img src=\"https://github.com/Datamanim/datarepo/blob/main/adp/23/problem4.png?raw=true\" width=300 />\n",
    "\n",
    "1. 귀무가설 연구가설 세우기\n",
    "2. 학과와 성적이 독립일 경우의 기댓값을 구하시오\n",
    "3. 검정통계량 및 연구 가설 채택 여부를 작성하라"
   ]
  },
  {
   "cell_type": "markdown",
   "id": "c9740897",
   "metadata": {},
   "source": [
    "### 접근 방법\n",
    "1. 교차표 등장 -> 카이제곱 떠올리기\n",
    "2. 학과, 학점 인원 수 -> 모두 범주형\n",
    "3. 학과와 성적, 두 범주형 변수가 관계있는지 검정 -> '두 범주형 변수의 관계, 연관성'은 곧 '독립성 검정'\n",
    "4. 카이제곱검정 - 독립성 검정 시행!"
   ]
  },
  {
   "cell_type": "markdown",
   "id": "9d5fa5a4",
   "metadata": {},
   "source": [
    "### 2-1) 귀무가설, 대립가설 작성\n",
    "- 귀무가설 : 학과와 성적은 관련이 없다 (독립이다)\n",
    "- 연구가설 : 학과와 성적은 관련이 있다 (독립이 아니다)"
   ]
  },
  {
   "cell_type": "markdown",
   "id": "4d0032b1",
   "metadata": {},
   "source": [
    "### 2-2) 학과와 성적이 독립일 경우의 기댓값을 구하시오."
   ]
  },
  {
   "cell_type": "code",
   "execution_count": 4,
   "id": "3554065d",
   "metadata": {},
   "outputs": [
    {
     "data": {
      "text/html": [
       "<div>\n",
       "<style scoped>\n",
       "    .dataframe tbody tr th:only-of-type {\n",
       "        vertical-align: middle;\n",
       "    }\n",
       "\n",
       "    .dataframe tbody tr th {\n",
       "        vertical-align: top;\n",
       "    }\n",
       "\n",
       "    .dataframe thead th {\n",
       "        text-align: right;\n",
       "    }\n",
       "</style>\n",
       "<table border=\"1\" class=\"dataframe\">\n",
       "  <thead>\n",
       "    <tr style=\"text-align: right;\">\n",
       "      <th></th>\n",
       "      <th>사회과학</th>\n",
       "      <th>자연과학</th>\n",
       "      <th>공학</th>\n",
       "    </tr>\n",
       "  </thead>\n",
       "  <tbody>\n",
       "    <tr>\n",
       "      <th>1.5-2.5</th>\n",
       "      <td>15</td>\n",
       "      <td>25</td>\n",
       "      <td>10</td>\n",
       "    </tr>\n",
       "    <tr>\n",
       "      <th>2.5-3.5</th>\n",
       "      <td>60</td>\n",
       "      <td>69</td>\n",
       "      <td>77</td>\n",
       "    </tr>\n",
       "    <tr>\n",
       "      <th>3.5-4.5</th>\n",
       "      <td>24</td>\n",
       "      <td>5</td>\n",
       "      <td>13</td>\n",
       "    </tr>\n",
       "  </tbody>\n",
       "</table>\n",
       "</div>"
      ],
      "text/plain": [
       "         사회과학  자연과학  공학\n",
       "1.5-2.5    15    25  10\n",
       "2.5-3.5    60    69  77\n",
       "3.5-4.5    24     5  13"
      ]
     },
     "execution_count": 4,
     "metadata": {},
     "output_type": "execute_result"
    }
   ],
   "source": [
    "problem2 = pd.DataFrame({'사회과학':[15,60,24],\n",
    "                         '자연과학':[25,69,5],\n",
    "                         '공학':[10,77,13]})\n",
    "problem2.index = ['1.5-2.5', '2.5-3.5', '3.5-4.5']\n",
    "problem2"
   ]
  },
  {
   "cell_type": "code",
   "execution_count": 5,
   "id": "5a1ca217",
   "metadata": {},
   "outputs": [
    {
     "name": "stdout",
     "output_type": "stream",
     "text": [
      "[[16.61073826 16.61073826 16.77852349]\n",
      " [68.43624161 68.43624161 69.12751678]\n",
      " [13.95302013 13.95302013 14.09395973]]\n"
     ]
    }
   ],
   "source": [
    "from scipy.stats import chi2_contingency\n",
    "\n",
    "chi2, p, df, expected = chi2_contingency(problem2)\n",
    "print(expected)\n",
    "\n",
    "# chi2_contingency(problem2)"
   ]
  },
  {
   "cell_type": "markdown",
   "id": "c69029ef",
   "metadata": {},
   "source": [
    "### 2-3) 검정통계량 구하고 연구가설의 채택여부 작성"
   ]
  },
  {
   "cell_type": "code",
   "execution_count": 12,
   "id": "52fc23af",
   "metadata": {},
   "outputs": [
    {
     "name": "stdout",
     "output_type": "stream",
     "text": [
      "검정통계량 :  22.13692\n",
      "p-value :  0.00019\n"
     ]
    }
   ],
   "source": [
    "print(\"검정통계량 : \", round(chi2, 5))\n",
    "print(\"p-value : \", round(p, 5))"
   ]
  },
  {
   "cell_type": "markdown",
   "id": "585a2886",
   "metadata": {},
   "source": [
    "#### 위 형태에서 검정 통계량은 22.13692, p-value는 0.00019로 나타났다. \n",
    "#### 유의수준 0.05에서 p-value 값이 유의수준보다 작기 때문에 귀무가설을 기각한다. 따라서 학과와 성적은  관련이 있다고 말할 수 있다."
   ]
  },
  {
   "cell_type": "markdown",
   "id": "9b45e3bc",
   "metadata": {},
   "source": [
    "## < 23회 3번 : 시계열 군집분석 >\n",
    "- 코로나 시계열 데이터\n",
    "- 일자/국가명/확진자수\n",
    "- 데이터 출처(후처리과정 미포함) : https://www.kaggle.com/antgoldbloom/covid19panels?select=country_panel.csv "
   ]
  },
  {
   "cell_type": "code",
   "execution_count": 1,
   "id": "2aa18241",
   "metadata": {},
   "outputs": [
    {
     "data": {
      "text/html": [
       "<div>\n",
       "<style scoped>\n",
       "    .dataframe tbody tr th:only-of-type {\n",
       "        vertical-align: middle;\n",
       "    }\n",
       "\n",
       "    .dataframe tbody tr th {\n",
       "        vertical-align: top;\n",
       "    }\n",
       "\n",
       "    .dataframe thead th {\n",
       "        text-align: right;\n",
       "    }\n",
       "</style>\n",
       "<table border=\"1\" class=\"dataframe\">\n",
       "  <thead>\n",
       "    <tr style=\"text-align: right;\">\n",
       "      <th></th>\n",
       "      <th>location</th>\n",
       "      <th>date</th>\n",
       "      <th>new_cases</th>\n",
       "    </tr>\n",
       "  </thead>\n",
       "  <tbody>\n",
       "    <tr>\n",
       "      <th>0</th>\n",
       "      <td>Austria</td>\n",
       "      <td>2021-01-01</td>\n",
       "      <td>2096.0</td>\n",
       "    </tr>\n",
       "    <tr>\n",
       "      <th>1</th>\n",
       "      <td>Austria</td>\n",
       "      <td>2021-01-02</td>\n",
       "      <td>1391.0</td>\n",
       "    </tr>\n",
       "    <tr>\n",
       "      <th>2</th>\n",
       "      <td>Austria</td>\n",
       "      <td>2021-01-03</td>\n",
       "      <td>1466.0</td>\n",
       "    </tr>\n",
       "    <tr>\n",
       "      <th>3</th>\n",
       "      <td>Austria</td>\n",
       "      <td>2021-01-04</td>\n",
       "      <td>1642.0</td>\n",
       "    </tr>\n",
       "    <tr>\n",
       "      <th>4</th>\n",
       "      <td>Austria</td>\n",
       "      <td>2021-01-05</td>\n",
       "      <td>2311.0</td>\n",
       "    </tr>\n",
       "  </tbody>\n",
       "</table>\n",
       "</div>"
      ],
      "text/plain": [
       "  location        date  new_cases\n",
       "0  Austria  2021-01-01     2096.0\n",
       "1  Austria  2021-01-02     1391.0\n",
       "2  Austria  2021-01-03     1466.0\n",
       "3  Austria  2021-01-04     1642.0\n",
       "4  Austria  2021-01-05     2311.0"
      ]
     },
     "execution_count": 1,
     "metadata": {},
     "output_type": "execute_result"
    }
   ],
   "source": [
    "import pandas as pd\n",
    "problem3 = pd.read_csv('https://raw.githubusercontent.com/Datamanim/datarepo/main/adp/23/problem3_covid2.csv')\n",
    "problem3.head()"
   ]
  },
  {
   "cell_type": "markdown",
   "id": "f183e8c3",
   "metadata": {},
   "source": [
    "### 3-1) 데이터는 일자별 각 나라의 일일 확진자수를 나타낸다. 각 나라의 일자별 누적확진자 수를 나타내는 데이터 프레임을 생성하라"
   ]
  },
  {
   "cell_type": "code",
   "execution_count": 2,
   "id": "f5e63030",
   "metadata": {},
   "outputs": [
    {
     "name": "stdout",
     "output_type": "stream",
     "text": [
      "  location        date  cumulative_cases\n",
      "0  Austria  2021-01-01            2096.0\n",
      "1  Austria  2021-01-02            3487.0\n",
      "2  Austria  2021-01-03            4953.0\n",
      "3  Austria  2021-01-04            6595.0\n",
      "4  Austria  2021-01-05            8906.0\n"
     ]
    }
   ],
   "source": [
    "# 일자별 각 나라의 일일 확진자 수를 그룹핑하여 누적합(cumulative sum) 구하기\n",
    "problem3_cumsum = problem3.groupby(['location', \n",
    "                                    'date'])['new_cases'].sum().groupby(level=0).cumsum()\n",
    "\n",
    "# 결과 데이터프레임 생성\n",
    "problem3_result = pd.DataFrame(problem3_cumsum)\n",
    "problem3_result = problem3_result.reset_index()\n",
    "problem3_result.columns = ['location', 'date', 'cumulative_cases']\n",
    "\n",
    "# 결과 출력\n",
    "problem3_result.head()"
   ]
  },
  {
   "cell_type": "code",
   "execution_count": 3,
   "id": "c4f71ccf",
   "metadata": {},
   "outputs": [
    {
     "data": {
      "text/plain": [
       "0    2096.0\n",
       "1    1391.0\n",
       "2    1466.0\n",
       "3    1642.0\n",
       "4    2311.0\n",
       "Name: new_cases, dtype: float64"
      ]
     },
     "execution_count": 3,
     "metadata": {},
     "output_type": "execute_result"
    }
   ],
   "source": [
    "# 이해를 돕기위한 확인용\n",
    "# con = problem3.groupby(['location', 'date'])['new_cases'].cumsum()\n",
    "# con.head()\n",
    "\n",
    "# 이렇게 되면 나라별, 날짜별로 new_cases 누적합해봤자 날짜가 다 다르게 적용되니 값이 그대로 나옴\n",
    "# 따라서 한번더 level=0 으로 groupby 한 후 cumsum 해줘야함"
   ]
  },
  {
   "cell_type": "markdown",
   "id": "50b17fa7",
   "metadata": {},
   "source": [
    "### 3-2) ACF 구하기, ACF로 distance\n",
    "1에서 구한 데이터를 각 나라별로 ACF값을 구하고(lag는 50개까지 구하고 첫번째 값을 제외하라), 국가를 기준으로 ACF를 이용해 distance를 구하라. "
   ]
  },
  {
   "cell_type": "markdown",
   "id": "c36c3112",
   "metadata": {},
   "source": [
    "- acf_values[0:]는 acf_values의 전체 값을 가져오는 것을 의미. 즉, 자기상관 함수의 모든 값이 포함된 리스트를 반환한다.\n",
    "- 일반적으로 자기상관 함수에서 첫 번째 값은 1로 고정되어 있으므로, 분석 목적에 따라 첫 번째 값은 제외하고 다음 값부터 사용하는 것이 일반적\n",
    "- acf_values[1:]를 사용하여 첫 번째 값을 제외하고 자기상관 함수 값을 추출"
   ]
  },
  {
   "cell_type": "code",
   "execution_count": 10,
   "id": "e24a7acb",
   "metadata": {},
   "outputs": [
    {
     "data": {
      "text/html": [
       "<div>\n",
       "<style scoped>\n",
       "    .dataframe tbody tr th:only-of-type {\n",
       "        vertical-align: middle;\n",
       "    }\n",
       "\n",
       "    .dataframe tbody tr th {\n",
       "        vertical-align: top;\n",
       "    }\n",
       "\n",
       "    .dataframe thead th {\n",
       "        text-align: right;\n",
       "    }\n",
       "</style>\n",
       "<table border=\"1\" class=\"dataframe\">\n",
       "  <thead>\n",
       "    <tr style=\"text-align: right;\">\n",
       "      <th></th>\n",
       "      <th>0</th>\n",
       "      <th>1</th>\n",
       "      <th>2</th>\n",
       "      <th>3</th>\n",
       "      <th>4</th>\n",
       "      <th>5</th>\n",
       "      <th>6</th>\n",
       "      <th>7</th>\n",
       "      <th>8</th>\n",
       "      <th>9</th>\n",
       "      <th>...</th>\n",
       "      <th>41</th>\n",
       "      <th>42</th>\n",
       "      <th>43</th>\n",
       "      <th>44</th>\n",
       "      <th>45</th>\n",
       "      <th>46</th>\n",
       "      <th>47</th>\n",
       "      <th>48</th>\n",
       "      <th>49</th>\n",
       "      <th>50</th>\n",
       "    </tr>\n",
       "  </thead>\n",
       "  <tbody>\n",
       "    <tr>\n",
       "      <th>0</th>\n",
       "      <td>Austria</td>\n",
       "      <td>0.986910</td>\n",
       "      <td>0.973895</td>\n",
       "      <td>0.961027</td>\n",
       "      <td>0.948347</td>\n",
       "      <td>0.935884</td>\n",
       "      <td>0.923563</td>\n",
       "      <td>0.911388</td>\n",
       "      <td>0.899286</td>\n",
       "      <td>0.887245</td>\n",
       "      <td>...</td>\n",
       "      <td>0.520420</td>\n",
       "      <td>0.509183</td>\n",
       "      <td>0.497960</td>\n",
       "      <td>0.486745</td>\n",
       "      <td>0.475543</td>\n",
       "      <td>0.464370</td>\n",
       "      <td>0.453267</td>\n",
       "      <td>0.442242</td>\n",
       "      <td>0.431334</td>\n",
       "      <td>0.420483</td>\n",
       "    </tr>\n",
       "    <tr>\n",
       "      <th>1</th>\n",
       "      <td>Bangladesh</td>\n",
       "      <td>0.993958</td>\n",
       "      <td>0.987757</td>\n",
       "      <td>0.981401</td>\n",
       "      <td>0.974895</td>\n",
       "      <td>0.968240</td>\n",
       "      <td>0.961439</td>\n",
       "      <td>0.954491</td>\n",
       "      <td>0.947394</td>\n",
       "      <td>0.940150</td>\n",
       "      <td>...</td>\n",
       "      <td>0.644404</td>\n",
       "      <td>0.633643</td>\n",
       "      <td>0.622824</td>\n",
       "      <td>0.611950</td>\n",
       "      <td>0.601019</td>\n",
       "      <td>0.590035</td>\n",
       "      <td>0.579005</td>\n",
       "      <td>0.567934</td>\n",
       "      <td>0.556820</td>\n",
       "      <td>0.545668</td>\n",
       "    </tr>\n",
       "    <tr>\n",
       "      <th>2</th>\n",
       "      <td>Bhutan</td>\n",
       "      <td>0.994586</td>\n",
       "      <td>0.989147</td>\n",
       "      <td>0.983590</td>\n",
       "      <td>0.977976</td>\n",
       "      <td>0.972226</td>\n",
       "      <td>0.966459</td>\n",
       "      <td>0.960636</td>\n",
       "      <td>0.954678</td>\n",
       "      <td>0.948797</td>\n",
       "      <td>...</td>\n",
       "      <td>0.700749</td>\n",
       "      <td>0.691193</td>\n",
       "      <td>0.681564</td>\n",
       "      <td>0.671847</td>\n",
       "      <td>0.662047</td>\n",
       "      <td>0.652165</td>\n",
       "      <td>0.642174</td>\n",
       "      <td>0.632091</td>\n",
       "      <td>0.621911</td>\n",
       "      <td>0.611642</td>\n",
       "    </tr>\n",
       "    <tr>\n",
       "      <th>3</th>\n",
       "      <td>Chile</td>\n",
       "      <td>0.992455</td>\n",
       "      <td>0.984846</td>\n",
       "      <td>0.977165</td>\n",
       "      <td>0.969415</td>\n",
       "      <td>0.961598</td>\n",
       "      <td>0.953711</td>\n",
       "      <td>0.945768</td>\n",
       "      <td>0.937768</td>\n",
       "      <td>0.929723</td>\n",
       "      <td>...</td>\n",
       "      <td>0.647890</td>\n",
       "      <td>0.638302</td>\n",
       "      <td>0.628672</td>\n",
       "      <td>0.618999</td>\n",
       "      <td>0.609285</td>\n",
       "      <td>0.599527</td>\n",
       "      <td>0.589710</td>\n",
       "      <td>0.579831</td>\n",
       "      <td>0.569911</td>\n",
       "      <td>0.559947</td>\n",
       "    </tr>\n",
       "    <tr>\n",
       "      <th>4</th>\n",
       "      <td>Colombia</td>\n",
       "      <td>0.993340</td>\n",
       "      <td>0.986596</td>\n",
       "      <td>0.979760</td>\n",
       "      <td>0.972838</td>\n",
       "      <td>0.965857</td>\n",
       "      <td>0.958820</td>\n",
       "      <td>0.951729</td>\n",
       "      <td>0.944587</td>\n",
       "      <td>0.937384</td>\n",
       "      <td>...</td>\n",
       "      <td>0.679471</td>\n",
       "      <td>0.670459</td>\n",
       "      <td>0.661382</td>\n",
       "      <td>0.652238</td>\n",
       "      <td>0.643029</td>\n",
       "      <td>0.633751</td>\n",
       "      <td>0.624406</td>\n",
       "      <td>0.615000</td>\n",
       "      <td>0.605532</td>\n",
       "      <td>0.596002</td>\n",
       "    </tr>\n",
       "  </tbody>\n",
       "</table>\n",
       "<p>5 rows × 51 columns</p>\n",
       "</div>"
      ],
      "text/plain": [
       "           0         1         2         3         4         5         6   \\\n",
       "0     Austria  0.986910  0.973895  0.961027  0.948347  0.935884  0.923563   \n",
       "1  Bangladesh  0.993958  0.987757  0.981401  0.974895  0.968240  0.961439   \n",
       "2      Bhutan  0.994586  0.989147  0.983590  0.977976  0.972226  0.966459   \n",
       "3       Chile  0.992455  0.984846  0.977165  0.969415  0.961598  0.953711   \n",
       "4    Colombia  0.993340  0.986596  0.979760  0.972838  0.965857  0.958820   \n",
       "\n",
       "         7         8         9   ...        41        42        43        44  \\\n",
       "0  0.911388  0.899286  0.887245  ...  0.520420  0.509183  0.497960  0.486745   \n",
       "1  0.954491  0.947394  0.940150  ...  0.644404  0.633643  0.622824  0.611950   \n",
       "2  0.960636  0.954678  0.948797  ...  0.700749  0.691193  0.681564  0.671847   \n",
       "3  0.945768  0.937768  0.929723  ...  0.647890  0.638302  0.628672  0.618999   \n",
       "4  0.951729  0.944587  0.937384  ...  0.679471  0.670459  0.661382  0.652238   \n",
       "\n",
       "         45        46        47        48        49        50  \n",
       "0  0.475543  0.464370  0.453267  0.442242  0.431334  0.420483  \n",
       "1  0.601019  0.590035  0.579005  0.567934  0.556820  0.545668  \n",
       "2  0.662047  0.652165  0.642174  0.632091  0.621911  0.611642  \n",
       "3  0.609285  0.599527  0.589710  0.579831  0.569911  0.559947  \n",
       "4  0.643029  0.633751  0.624406  0.615000  0.605532  0.596002  \n",
       "\n",
       "[5 rows x 51 columns]"
      ]
     },
     "execution_count": 10,
     "metadata": {},
     "output_type": "execute_result"
    }
   ],
   "source": [
    "from scipy.spatial import distance\n",
    "import statsmodels.api as sm\n",
    "\n",
    "# 각 나라별 ACF 값 계산\n",
    "name = []\n",
    "\n",
    "# 해당 location에 대한 cumulative_cases 컬럼을 추출하여 시계열 데이터로 사용\n",
    "# loc와 자기상관 함수 값인 v[1:]를 리스트로 묶어 name 리스트에 추가\n",
    "for loc in problem3_result.location.unique():\n",
    "    acf_values = sm.tsa.stattools.acf(problem3_result[problem3_result.location == loc]\\\n",
    "                                      ['cumulative_cases'], \n",
    "                                      nlags=50, \n",
    "                                      fft=False) \n",
    "    name.append([loc] + list(acf_values[1:]))  \n",
    "\n",
    "acf_df = pd.DataFrame(name)\n",
    "acf_df.head() "
   ]
  },
  {
   "cell_type": "code",
   "execution_count": 23,
   "id": "ef248d76",
   "metadata": {},
   "outputs": [
    {
     "data": {
      "text/html": [
       "<div>\n",
       "<style scoped>\n",
       "    .dataframe tbody tr th:only-of-type {\n",
       "        vertical-align: middle;\n",
       "    }\n",
       "\n",
       "    .dataframe tbody tr th {\n",
       "        vertical-align: top;\n",
       "    }\n",
       "\n",
       "    .dataframe thead th {\n",
       "        text-align: right;\n",
       "    }\n",
       "</style>\n",
       "<table border=\"1\" class=\"dataframe\">\n",
       "  <thead>\n",
       "    <tr style=\"text-align: right;\">\n",
       "      <th></th>\n",
       "      <th>Austria</th>\n",
       "      <th>Bangladesh</th>\n",
       "      <th>Bhutan</th>\n",
       "      <th>Chile</th>\n",
       "      <th>Colombia</th>\n",
       "      <th>Costa Rica</th>\n",
       "      <th>Dominica</th>\n",
       "      <th>Dominican Republic</th>\n",
       "      <th>Eswatini</th>\n",
       "      <th>Ethiopia</th>\n",
       "      <th>...</th>\n",
       "      <th>Palau</th>\n",
       "      <th>Poland</th>\n",
       "      <th>Portugal</th>\n",
       "      <th>Russia</th>\n",
       "      <th>Saint Pierre and Miquelon</th>\n",
       "      <th>Slovenia</th>\n",
       "      <th>Solomon Islands</th>\n",
       "      <th>Tunisia</th>\n",
       "      <th>Uruguay</th>\n",
       "      <th>Vanuatu</th>\n",
       "    </tr>\n",
       "    <tr>\n",
       "      <th>0</th>\n",
       "      <th></th>\n",
       "      <th></th>\n",
       "      <th></th>\n",
       "      <th></th>\n",
       "      <th></th>\n",
       "      <th></th>\n",
       "      <th></th>\n",
       "      <th></th>\n",
       "      <th></th>\n",
       "      <th></th>\n",
       "      <th></th>\n",
       "      <th></th>\n",
       "      <th></th>\n",
       "      <th></th>\n",
       "      <th></th>\n",
       "      <th></th>\n",
       "      <th></th>\n",
       "      <th></th>\n",
       "      <th></th>\n",
       "      <th></th>\n",
       "      <th></th>\n",
       "    </tr>\n",
       "  </thead>\n",
       "  <tbody>\n",
       "    <tr>\n",
       "      <th>Austria</th>\n",
       "      <td>0.000000</td>\n",
       "      <td>0.695750</td>\n",
       "      <td>0.968077</td>\n",
       "      <td>0.675538</td>\n",
       "      <td>0.835995</td>\n",
       "      <td>0.529079</td>\n",
       "      <td>0.871321</td>\n",
       "      <td>0.338206</td>\n",
       "      <td>0.189740</td>\n",
       "      <td>0.178802</td>\n",
       "      <td>...</td>\n",
       "      <td>1.338832</td>\n",
       "      <td>0.226343</td>\n",
       "      <td>0.794202</td>\n",
       "      <td>0.199574</td>\n",
       "      <td>0.987467</td>\n",
       "      <td>0.298763</td>\n",
       "      <td>0.104651</td>\n",
       "      <td>0.662252</td>\n",
       "      <td>0.845863</td>\n",
       "      <td>0.297836</td>\n",
       "    </tr>\n",
       "    <tr>\n",
       "      <th>Bangladesh</th>\n",
       "      <td>0.695750</td>\n",
       "      <td>0.000000</td>\n",
       "      <td>0.278343</td>\n",
       "      <td>0.067448</td>\n",
       "      <td>0.162990</td>\n",
       "      <td>0.172966</td>\n",
       "      <td>1.552049</td>\n",
       "      <td>0.398954</td>\n",
       "      <td>0.567603</td>\n",
       "      <td>0.530821</td>\n",
       "      <td>...</td>\n",
       "      <td>2.029987</td>\n",
       "      <td>0.499366</td>\n",
       "      <td>1.480636</td>\n",
       "      <td>0.524374</td>\n",
       "      <td>1.663077</td>\n",
       "      <td>0.989232</td>\n",
       "      <td>0.732873</td>\n",
       "      <td>0.059057</td>\n",
       "      <td>0.156793</td>\n",
       "      <td>0.975552</td>\n",
       "    </tr>\n",
       "    <tr>\n",
       "      <th>Bhutan</th>\n",
       "      <td>0.968077</td>\n",
       "      <td>0.278343</td>\n",
       "      <td>0.000000</td>\n",
       "      <td>0.293359</td>\n",
       "      <td>0.136996</td>\n",
       "      <td>0.439539</td>\n",
       "      <td>1.829406</td>\n",
       "      <td>0.652772</td>\n",
       "      <td>0.845886</td>\n",
       "      <td>0.807515</td>\n",
       "      <td>...</td>\n",
       "      <td>2.304289</td>\n",
       "      <td>0.777323</td>\n",
       "      <td>1.744871</td>\n",
       "      <td>0.787310</td>\n",
       "      <td>1.922267</td>\n",
       "      <td>1.257016</td>\n",
       "      <td>1.008270</td>\n",
       "      <td>0.305996</td>\n",
       "      <td>0.122696</td>\n",
       "      <td>1.240930</td>\n",
       "    </tr>\n",
       "    <tr>\n",
       "      <th>Chile</th>\n",
       "      <td>0.675538</td>\n",
       "      <td>0.067448</td>\n",
       "      <td>0.293359</td>\n",
       "      <td>0.000000</td>\n",
       "      <td>0.160874</td>\n",
       "      <td>0.147441</td>\n",
       "      <td>1.540228</td>\n",
       "      <td>0.361766</td>\n",
       "      <td>0.562880</td>\n",
       "      <td>0.518830</td>\n",
       "      <td>...</td>\n",
       "      <td>2.012874</td>\n",
       "      <td>0.493143</td>\n",
       "      <td>1.452266</td>\n",
       "      <td>0.494354</td>\n",
       "      <td>1.631659</td>\n",
       "      <td>0.963817</td>\n",
       "      <td>0.718622</td>\n",
       "      <td>0.019977</td>\n",
       "      <td>0.172433</td>\n",
       "      <td>0.949716</td>\n",
       "    </tr>\n",
       "    <tr>\n",
       "      <th>Colombia</th>\n",
       "      <td>0.835995</td>\n",
       "      <td>0.162990</td>\n",
       "      <td>0.136996</td>\n",
       "      <td>0.160874</td>\n",
       "      <td>0.000000</td>\n",
       "      <td>0.308191</td>\n",
       "      <td>1.701053</td>\n",
       "      <td>0.516565</td>\n",
       "      <td>0.721971</td>\n",
       "      <td>0.679438</td>\n",
       "      <td>...</td>\n",
       "      <td>2.173173</td>\n",
       "      <td>0.652546</td>\n",
       "      <td>1.609043</td>\n",
       "      <td>0.652240</td>\n",
       "      <td>1.785880</td>\n",
       "      <td>1.122564</td>\n",
       "      <td>0.878930</td>\n",
       "      <td>0.175974</td>\n",
       "      <td>0.043327</td>\n",
       "      <td>1.107345</td>\n",
       "    </tr>\n",
       "  </tbody>\n",
       "</table>\n",
       "<p>5 rows × 39 columns</p>\n",
       "</div>"
      ],
      "text/plain": [
       "0            Austria  Bangladesh    Bhutan     Chile  Colombia  Costa Rica  \\\n",
       "0                                                                            \n",
       "Austria     0.000000    0.695750  0.968077  0.675538  0.835995    0.529079   \n",
       "Bangladesh  0.695750    0.000000  0.278343  0.067448  0.162990    0.172966   \n",
       "Bhutan      0.968077    0.278343  0.000000  0.293359  0.136996    0.439539   \n",
       "Chile       0.675538    0.067448  0.293359  0.000000  0.160874    0.147441   \n",
       "Colombia    0.835995    0.162990  0.136996  0.160874  0.000000    0.308191   \n",
       "\n",
       "0           Dominica  Dominican Republic  Eswatini  Ethiopia  ...     Palau  \\\n",
       "0                                                             ...             \n",
       "Austria     0.871321            0.338206  0.189740  0.178802  ...  1.338832   \n",
       "Bangladesh  1.552049            0.398954  0.567603  0.530821  ...  2.029987   \n",
       "Bhutan      1.829406            0.652772  0.845886  0.807515  ...  2.304289   \n",
       "Chile       1.540228            0.361766  0.562880  0.518830  ...  2.012874   \n",
       "Colombia    1.701053            0.516565  0.721971  0.679438  ...  2.173173   \n",
       "\n",
       "0             Poland  Portugal    Russia  Saint Pierre and Miquelon  Slovenia  \\\n",
       "0                                                                               \n",
       "Austria     0.226343  0.794202  0.199574                   0.987467  0.298763   \n",
       "Bangladesh  0.499366  1.480636  0.524374                   1.663077  0.989232   \n",
       "Bhutan      0.777323  1.744871  0.787310                   1.922267  1.257016   \n",
       "Chile       0.493143  1.452266  0.494354                   1.631659  0.963817   \n",
       "Colombia    0.652546  1.609043  0.652240                   1.785880  1.122564   \n",
       "\n",
       "0           Solomon Islands   Tunisia   Uruguay   Vanuatu  \n",
       "0                                                          \n",
       "Austria            0.104651  0.662252  0.845863  0.297836  \n",
       "Bangladesh         0.732873  0.059057  0.156793  0.975552  \n",
       "Bhutan             1.008270  0.305996  0.122696  1.240930  \n",
       "Chile              0.718622  0.019977  0.172433  0.949716  \n",
       "Colombia           0.878930  0.175974  0.043327  1.107345  \n",
       "\n",
       "[5 rows x 39 columns]"
      ]
     },
     "execution_count": 23,
     "metadata": {},
     "output_type": "execute_result"
    }
   ],
   "source": [
    "# 국가를 기준으로 ACF 값을 이용해 거리 계산\n",
    "dist_matrix = distance.squareform(distance.pdist(acf_df.iloc[:, 1:], metric='euclidean'))\n",
    "dist_df = pd.DataFrame(dist_matrix, index=acf_df.iloc[:, 0], columns=acf_df.iloc[:, 0])\n",
    "\n",
    "dist_df.head()"
   ]
  },
  {
   "cell_type": "markdown",
   "id": "6e62f59a",
   "metadata": {},
   "source": [
    "### 3-3) 유클리디안 거리 클러스터링을 진행 후, 계층적 군집 분석을 위해 덴드로그램 작성하라."
   ]
  },
  {
   "cell_type": "markdown",
   "id": "3a2299a2",
   "metadata": {},
   "source": [
    "```python \n",
    "cutoff = 0.3*max(dend3[:,2]) \n",
    "```\n",
    "- 세 번째 열은 클러스터의 결합 거리(연결 거리)\n",
    "- 연결 거리는 각 클러스터가 서로 결합된 시점의 거리를 나타내며, 덴드로그램에서 클러스터를 나누는 기준으로 사용"
   ]
  },
  {
   "cell_type": "code",
   "execution_count": 22,
   "id": "ce94bba5",
   "metadata": {},
   "outputs": [
    {
     "data": {
      "image/png": "[encoded data removed]",
      "text/plain": [
       "<Figure size 1700x1000 with 1 Axes>"
      ]
     },
     "metadata": {},
     "output_type": "display_data"
    }
   ],
   "source": [
    "import numpy as np\n",
    "import seaborn as sns\n",
    "import scipy\n",
    "import matplotlib.pyplot as plt\n",
    "import scipy.cluster.hierarchy as sch\n",
    "\n",
    "data = acf_df.set_index(0) # 국가명을 index로 지정\n",
    "label = np.array(data.index) \n",
    "\n",
    "fig = plt.figure(figsize=(17,10))\n",
    "ax3 = fig.add_subplot(1,1,1)\n",
    "\n",
    "# 계층적 군집분석 수행\n",
    "dend3 = sch.linkage(data.values, \n",
    "                    method='average', \n",
    "                    metric='euclidean')\n",
    "\n",
    "# 덴드로그램에서 클러스터를 나누는 기준인 임계값(cutoff)을 설정\n",
    "# 여기서는 최대 연결 거리의 30%를 임계값으로 사용\n",
    "# 해당 값 이상의 거리에서 클러스터가 서로 다른 색상으로 구분\n",
    "\n",
    "cutoff = 0.3*max(dend3[:,2]) \n",
    "dend_res3 = sch.dendrogram(dend3, \n",
    "                           color_threshold=cutoff) \n",
    "\n",
    "ax3.set_xticklabels(label[dend_res3['leaves']], minor=False)\n",
    "\n",
    "plt.show()"
   ]
  },
  {
   "cell_type": "markdown",
   "id": "d17f27f8",
   "metadata": {},
   "source": [
    "---"
   ]
  },
  {
   "cell_type": "markdown",
   "id": "6c8bb7b7",
   "metadata": {},
   "source": [
    "# [ 22회 ]"
   ]
  },
  {
   "cell_type": "markdown",
   "id": "38ce1f1e",
   "metadata": {},
   "source": [
    "## < 22회 1번 : 일표본 분산검정 (카이제곱검정) >\n",
    "- 금속 성분 함유량 데이터(변수 1개)\n",
    "- 제품에 금속 재질 함유량의 분산이 1.3을 넘으면 불량이라고 보고 있는데 제조사별로 차이가 난다고 제보를 받았다. 분산에 대해 검정을 수행하시오. (유의확률 0.05)\n",
    "\n",
    "1. 연구가설과 귀무가설 작성\n",
    "2. 양측 검정 시행\n",
    "3. 검정통계량, 가설채택"
   ]
  },
  {
   "cell_type": "code",
   "execution_count": 34,
   "id": "595f3596",
   "metadata": {},
   "outputs": [
    {
     "data": {
      "text/html": [
       "<div>\n",
       "<style scoped>\n",
       "    .dataframe tbody tr th:only-of-type {\n",
       "        vertical-align: middle;\n",
       "    }\n",
       "\n",
       "    .dataframe tbody tr th {\n",
       "        vertical-align: top;\n",
       "    }\n",
       "\n",
       "    .dataframe thead th {\n",
       "        text-align: right;\n",
       "    }\n",
       "</style>\n",
       "<table border=\"1\" class=\"dataframe\">\n",
       "  <thead>\n",
       "    <tr style=\"text-align: right;\">\n",
       "      <th></th>\n",
       "      <th>content</th>\n",
       "    </tr>\n",
       "  </thead>\n",
       "  <tbody>\n",
       "    <tr>\n",
       "      <th>0</th>\n",
       "      <td>97.995295</td>\n",
       "    </tr>\n",
       "    <tr>\n",
       "      <th>1</th>\n",
       "      <td>101.478315</td>\n",
       "    </tr>\n",
       "    <tr>\n",
       "      <th>2</th>\n",
       "      <td>102.284913</td>\n",
       "    </tr>\n",
       "    <tr>\n",
       "      <th>3</th>\n",
       "      <td>98.993634</td>\n",
       "    </tr>\n",
       "    <tr>\n",
       "      <th>4</th>\n",
       "      <td>104.635232</td>\n",
       "    </tr>\n",
       "  </tbody>\n",
       "</table>\n",
       "</div>"
      ],
      "text/plain": [
       "      content\n",
       "0   97.995295\n",
       "1  101.478315\n",
       "2  102.284913\n",
       "3   98.993634\n",
       "4  104.635232"
      ]
     },
     "execution_count": 34,
     "metadata": {},
     "output_type": "execute_result"
    }
   ],
   "source": [
    "import pandas as pd\n",
    "\n",
    "var_test = pd.read_csv('https://raw.githubusercontent.com/Datamanim/datarepo/main/adp/22/content.csv')\n",
    "var_test.head()"
   ]
  },
  {
   "cell_type": "markdown",
   "id": "0b666031",
   "metadata": {},
   "source": [
    "### 접근 방법\n",
    "1. Chi-square test for a single variance\n",
    "2. 일표본 분산 검정은 카이제곱 통계량을 따름\n",
    "<img src = \"https://i.esdrop.com/d/f/3uJKEwVXJL/c9ZKgwq8yP.jpg\" width=200 />\n",
    "3. Python에 패키지가 없으므로 R사용\n",
    "    - EnvStats의 varTest"
   ]
  },
  {
   "cell_type": "markdown",
   "id": "a1b90ddb",
   "metadata": {},
   "source": [
    "### 1-1) 연구가설과 귀무가설 작성\n",
    "- 귀무가설(H0) : 제품들의 금속 재질 함유량 분산은 1.3이다.\n",
    "- 대립가설(H1) : 제품들의 금속 재질 함유량 분산은 1.3이 아니다."
   ]
  },
  {
   "cell_type": "markdown",
   "id": "cd2f73b0",
   "metadata": {},
   "source": [
    "### 1-2) 양측 검정 시행"
   ]
  },
  {
   "cell_type": "markdown",
   "id": "b6f00ccb",
   "metadata": {},
   "source": [
    "### 1-3) 검정통계량, 가설채택"
   ]
  },
  {
   "cell_type": "markdown",
   "id": "63c5a615",
   "metadata": {},
   "source": [
    "``` R \n",
    "# code\n",
    "library(readr)\n",
    "\n",
    "df <- read_csv(\"https://raw.githubusercontent.com/Datamanim/datarepo/main/adp/22/content.csv\")\n",
    "df\n",
    "\n",
    "\n",
    "library(\"EnvStats\")\n",
    "\n",
    "# 단일 분산에 대한 카이제곱 검정을 수행하는 함수\n",
    "# 귀무가설로 설정할 분산의 값\n",
    "chi_vartest <- varTest(df$content, \n",
    "                       alternative = \"two.sided\",\n",
    "                       conf.level = 0.95, \n",
    "                       sigma.squared = 1.3) #  귀무가설로 설정할 분산의 값\n",
    "\n",
    "print(chi_vartest$statistic)\n",
    "p <- chi_vartest$p.value\n",
    "formatted <- sprintf(\"%.3f\", p) # 소수점 세자리까지\n",
    "print(formatted)\n",
    "```"
   ]
  },
  {
   "cell_type": "markdown",
   "id": "b8ecef20",
   "metadata": {},
   "source": [
    "```R\n",
    "# Output\n",
    "\n",
    "> print(chi_vartest$statistic)\n",
    "Chi-Squared \n",
    "   328.2923 \n",
    "\n",
    "> p <- chi_vartest$p.value\n",
    "> formatted <- sprintf(\"%.3f\", p)\n",
    "> print(formatted)\n",
    "[1] \"0.000\"\n",
    "\n",
    "        \n",
    "# 그냥 함수 실행하면 모든 값 출력\n",
    "> varTest(df$content, \n",
    "+         alternative = \"two.sided\",\n",
    "+         conf.level = 0.95, \n",
    "+         sigma.squared = 1.3) #  귀무가설로 설정할 분산의 값\n",
    "$statistic\n",
    "Chi-Squared \n",
    "   328.2923 \n",
    "\n",
    "$parameters\n",
    " df \n",
    "199 \n",
    "\n",
    "$p.value\n",
    "[1] 4.272667e-08\n",
    "\n",
    "$estimate\n",
    "variance \n",
    "2.144623 \n",
    "\n",
    "$null.value\n",
    "variance \n",
    "     1.3 \n",
    "\n",
    "$alternative\n",
    "[1] \"two.sided\"\n",
    "\n",
    "$method\n",
    "[1] \"Chi-Squared Test on Variance\"\n",
    "\n",
    "$data.name\n",
    "[1] \"df$content\"\n",
    "\n",
    "$conf.int\n",
    "     LCL      UCL \n",
    "1.778549 2.637274 \n",
    "attr(,\"conf.level\")\n",
    "[1] 0.95\n",
    "\n",
    "attr(,\"class\")\n",
    "[1] \"htestEnvStats\"\n",
    "```"
   ]
  },
  {
   "cell_type": "markdown",
   "id": "1c9f9fd3",
   "metadata": {},
   "source": [
    "#### 일표본 분산 검정에는 카이제곱검정 통계량을 이용하고, R에서 EnvStats의 VarTest 함수를 이용할 수 있다.\n",
    "#### 검정 결과 p-value값이 유의수준 0.05보다 작으므로, 귀무가설을 기각한다. \n",
    "#### 따라서, 제품들의 금속 재질 함유량 분산은 1.3이 아니라고 할 수 있다."
   ]
  },
  {
   "cell_type": "markdown",
   "id": "bff7684b",
   "metadata": {},
   "source": [
    "### 참고 : python 함수로 구현\n",
    "- 정규분포 모분산 검정"
   ]
  },
  {
   "cell_type": "code",
   "execution_count": 33,
   "id": "7e32441d",
   "metadata": {},
   "outputs": [],
   "source": [
    "# 정규분포 모분산 검정\n",
    "import numpy as np\n",
    "import scipy.stats as stats\n",
    "\n",
    "def pvar_test(sample, var0, alpha=0.05):\n",
    "    u_var = np.var(sample, ddof=1)\n",
    "    n = len(sample)\n",
    "    rv = stats.chi2(df=n-1)\n",
    "    interval = rv.interval(1-alpha)\n",
    "    \n",
    "    y = (n-1)*u_var / var0\n",
    "    \n",
    "    if interval[0] <= y <= interval[1]:\n",
    "        print(\"귀무가설을 채택\")\n",
    "    else:\n",
    "        print(\"귀무가설을 기각\")\n",
    "    \n",
    "    if y < rv.isf(0.5):\n",
    "        p = rv.cdf(y)*2\n",
    "    else:\n",
    "        p = (1-rv.cdf(y))*2\n",
    "    print(f'p값은 {p:.3f}')"
   ]
  },
  {
   "cell_type": "code",
   "execution_count": 35,
   "id": "92c62fc7",
   "metadata": {},
   "outputs": [
    {
     "name": "stdout",
     "output_type": "stream",
     "text": [
      "귀무가설을 기각\n",
      "p값은 0.000\n"
     ]
    }
   ],
   "source": [
    "pvar_test(var_test.values, 1.3, alpha=0.05)"
   ]
  },
  {
   "cell_type": "markdown",
   "id": "21e85d3b",
   "metadata": {},
   "source": [
    "## < 22회 2번 : 관리도 > \n",
    "Lot별 200개에 대한 불량 제품 수량 데이터(변수 2개 - lot번호, 불량제품수)\n",
    "\n",
    "1. 불량률 관리도에 따라 관리중심선(CL : Center Line), 관리 상한선(UCL : Upper Control Limit), 하한선(LCL : Lower Control Limit) 구하기\n",
    "2. 관리도 시각화\n"
   ]
  },
  {
   "cell_type": "code",
   "execution_count": 21,
   "id": "611b44de",
   "metadata": {},
   "outputs": [
    {
     "data": {
      "text/html": [
       "<div>\n",
       "<style scoped>\n",
       "    .dataframe tbody tr th:only-of-type {\n",
       "        vertical-align: middle;\n",
       "    }\n",
       "\n",
       "    .dataframe tbody tr th {\n",
       "        vertical-align: top;\n",
       "    }\n",
       "\n",
       "    .dataframe thead th {\n",
       "        text-align: right;\n",
       "    }\n",
       "</style>\n",
       "<table border=\"1\" class=\"dataframe\">\n",
       "  <thead>\n",
       "    <tr style=\"text-align: right;\">\n",
       "      <th></th>\n",
       "      <th>iot_number</th>\n",
       "      <th>error_case_number</th>\n",
       "    </tr>\n",
       "  </thead>\n",
       "  <tbody>\n",
       "    <tr>\n",
       "      <th>0</th>\n",
       "      <td>1</td>\n",
       "      <td>4.5</td>\n",
       "    </tr>\n",
       "    <tr>\n",
       "      <th>1</th>\n",
       "      <td>2</td>\n",
       "      <td>2.5</td>\n",
       "    </tr>\n",
       "    <tr>\n",
       "      <th>2</th>\n",
       "      <td>3</td>\n",
       "      <td>2.0</td>\n",
       "    </tr>\n",
       "    <tr>\n",
       "      <th>3</th>\n",
       "      <td>4</td>\n",
       "      <td>3.0</td>\n",
       "    </tr>\n",
       "    <tr>\n",
       "      <th>4</th>\n",
       "      <td>5</td>\n",
       "      <td>0.5</td>\n",
       "    </tr>\n",
       "  </tbody>\n",
       "</table>\n",
       "</div>"
      ],
      "text/plain": [
       "   iot_number  error_case_number\n",
       "0           1                4.5\n",
       "1           2                2.5\n",
       "2           3                2.0\n",
       "3           4                3.0\n",
       "4           5                0.5"
      ]
     },
     "execution_count": 21,
     "metadata": {},
     "output_type": "execute_result"
    }
   ],
   "source": [
    "import pandas as pd\n",
    "\n",
    "df = pd.read_csv('https://raw.githubusercontent.com/Datamanim/datarepo/main/adp/22/error.csv')\n",
    "df.head()"
   ]
  },
  {
   "cell_type": "code",
   "execution_count": 12,
   "id": "ee30c632",
   "metadata": {},
   "outputs": [
    {
     "data": {
      "text/plain": [
       "(100, 2)"
      ]
     },
     "execution_count": 12,
     "metadata": {},
     "output_type": "execute_result"
    }
   ],
   "source": [
    "df.shape"
   ]
  },
  {
   "cell_type": "code",
   "execution_count": 11,
   "id": "f0f64aad",
   "metadata": {},
   "outputs": [
    {
     "data": {
      "text/plain": [
       "1      1\n",
       "64     1\n",
       "74     1\n",
       "73     1\n",
       "72     1\n",
       "      ..\n",
       "31     1\n",
       "30     1\n",
       "29     1\n",
       "28     1\n",
       "100    1\n",
       "Name: iot_number, Length: 100, dtype: int64"
      ]
     },
     "execution_count": 11,
     "metadata": {},
     "output_type": "execute_result"
    }
   ],
   "source": [
    "df[\"iot_number\"].value_counts()"
   ]
  },
  {
   "cell_type": "markdown",
   "id": "a8f9590c",
   "metadata": {},
   "source": [
    "### 접근 방법 \n",
    "<img src=\"https://i.esdrop.com/d/f/3uJKEwVXJL/9YhsmW6Xpw.png\"/>\n",
    "\n",
    "#### 관리도 : SPC  Statstic Process Control 로서 기본적으로 +/-3 시그마로 이상치를 탐색하기 위한 도구\n",
    "\n",
    "- 관리 중심선 = 평균\n",
    "- 관리 상한선, 하한선은 평균 기준 3표준편차씩 거리에 위치한 선\n",
    "<br></br>\n",
    "- p : lot별 생산수량 n or s = 200 지정해줌 -> 불량개수/200(총사이즈)\n",
    "<br></br>\n",
    "- CL은 중심선(Center Line)으로, 공정에서 불량품의 평균 비율을 나타냄\n",
    "     - 이는 모든 표본에서의 불량품 비율의 평균으로 계산"
   ]
  },
  {
   "cell_type": "markdown",
   "id": "adc2b008",
   "metadata": {},
   "source": [
    "### 2-1) 불량률 관리도에 따라 관리중심선(CL : Center Line), 관리 상한선(UCL : Upper Control Limit), 하한선(LCL : Lower Control Limit) 구하기"
   ]
  },
  {
   "cell_type": "code",
   "execution_count": 24,
   "id": "fe9d2abf",
   "metadata": {},
   "outputs": [
    {
     "data": {
      "text/plain": [
       "iot_number\n",
       "1      4.5\n",
       "2      2.5\n",
       "3      2.0\n",
       "4      3.0\n",
       "5      0.5\n",
       "      ... \n",
       "96     2.0\n",
       "97     3.0\n",
       "98     5.5\n",
       "99     2.0\n",
       "100    1.0\n",
       "Name: error_case_number, Length: 100, dtype: float64"
      ]
     },
     "metadata": {},
     "output_type": "display_data"
    },
    {
     "name": "stdout",
     "output_type": "stream",
     "text": [
      "3.41\n"
     ]
    }
   ],
   "source": [
    "# Lot별 불량 수량 계산\n",
    "lot_counts = df_p.groupby('iot_number')['error_case_number'].sum()\n",
    "display(lot_counts)\n",
    "\n",
    "# 관리중심선(CL) : 평균 불량 수량 \n",
    "CL = lot_counts.mean()\n",
    "print(CL)"
   ]
  },
  {
   "cell_type": "code",
   "execution_count": 27,
   "id": "e7eb4d75",
   "metadata": {},
   "outputs": [
    {
     "name": "stdout",
     "output_type": "stream",
     "text": [
      "관리 중심선 :  0.017049999999999992\n",
      "관리 상한선 :  0.04451212641985322\n",
      "관리 하한선 :  -0.010412126419853219\n"
     ]
    }
   ],
   "source": [
    "import statistics\n",
    "import matplotlib.pyplot as plt\n",
    "\n",
    "size = 200\n",
    "\n",
    "# 불량이 날 확률\n",
    "df[\"p\"] = df[\"error_case_number\"]/size\n",
    "\n",
    "CL = df[\"p\"].mean()\n",
    "UCL = statistics.mean(df[\"p\"]) + 3 * (np.sqrt((statistics.mean(df[\"p\"]) \\\n",
    "                                               * (1 - statistics.mean(df[\"p\"])))/(size)))\n",
    "LCL = statistics.mean(df[\"p\"]) - 3 * (np.sqrt((statistics.mean(df[\"p\"]) \\\n",
    "                                               * (1 - statistics.mean(df[\"p\"])))/(size)))\n",
    "\n",
    "\n",
    "print(\"관리 중심선 : \", CL)\n",
    "print(\"관리 상한선 : \", UCL)\n",
    "print(\"관리 하한선 : \", LCL)"
   ]
  },
  {
   "cell_type": "markdown",
   "id": "8422a54d",
   "metadata": {},
   "source": [
    "### 2-2) 관리도 시각화"
   ]
  },
  {
   "cell_type": "code",
   "execution_count": 28,
   "id": "8f5f58a2",
   "metadata": {},
   "outputs": [
    {
     "data": {
      "image/png": "[encoded data removed]",
      "text/plain": [
       "<Figure size 1500x800 with 1 Axes>"
      ]
     },
     "metadata": {},
     "output_type": "display_data"
    }
   ],
   "source": [
    "# plot p-chart\n",
    "plt.figure(figsize=(15, 8))\n",
    "plt.plot(df[\"p\"], linestyle=\"-\", marker=\"o\", color=\"black\")\n",
    "\n",
    "plt.axhline(statistics.mean(df[\"p\"]) \\\n",
    "            + 3 * (np.sqrt((statistics.mean(df[\"p\"]) \\\n",
    "                            * (1 - statistics.mean(df[\"p\"])))/(size))), \n",
    "            color=\"red\", linestyle=\"dashed\")\n",
    "\n",
    "plt.axhline(statistics.mean(df[\"p\"]) \\\n",
    "            - 3 * (np.sqrt((statistics.mean(df[\"p\"]) \\\n",
    "                            * (1 - statistics.mean(df[\"p\"])))/(size))), \n",
    "            color=\"red\", linestyle=\"dashed\")\n",
    "\n",
    "plt.axhline(statistics.mean(df[\"p\"]), color=\"blue\")\n",
    "\n",
    "plt.title(\"p chart\", fontsize=20)\n",
    "plt.xlabel(\"Group\", fontsize=15)\n",
    "plt.ylabel(\"Fraction Defective\", fontsize=15)\n",
    "plt.show()"
   ]
  },
  {
   "cell_type": "markdown",
   "id": "9dc240c4",
   "metadata": {},
   "source": [
    "### 참고 : 표준편차 시그마 관점"
   ]
  },
  {
   "cell_type": "code",
   "execution_count": 30,
   "id": "6f12cb07",
   "metadata": {},
   "outputs": [
    {
     "data": {
      "image/png": "[encoded data removed]",
      "text/plain": [
       "<Figure size 1200x600 with 1 Axes>"
      ]
     },
     "metadata": {},
     "output_type": "display_data"
    },
    {
     "name": "stdout",
     "output_type": "stream",
     "text": [
      "관리중심선(CL): 3.41\n",
      "관리 상한선(UCL): 13.358458080618231\n",
      "하한선(LCL): -6.538458080618231\n"
     ]
    }
   ],
   "source": [
    "import pandas as pd\n",
    "import numpy as np\n",
    "import matplotlib.pyplot as plt\n",
    "\n",
    "# 데이터 불러오기\n",
    "df_p = pd.read_csv('https://raw.githubusercontent.com/Datamanim/datarepo/main/adp/22/error.csv')\n",
    "\n",
    "# Lot별 불량 수량 계산\n",
    "lot_counts = df_p.groupby('iot_number')['error_case_number'].sum()\n",
    "\n",
    "# 관리중심선(CL) 계산\n",
    "cl = lot_counts.mean()\n",
    "\n",
    "# 표준편차 계산\n",
    "sigma = lot_counts.std()\n",
    "\n",
    "# 관리 상한선(UCL), 하한선(LCL) 계산\n",
    "ucl = cl + 3 * sigma\n",
    "lcl = cl - 3 * sigma\n",
    "\n",
    "# 관리도 시각화\n",
    "plt.figure(figsize=(12, 6))\n",
    "plt.plot(lot_counts.index, lot_counts.values, marker='o')\n",
    "plt.axhline(cl, color='r', linestyle='--', label='CL')\n",
    "plt.axhline(ucl, color='b', linestyle='--', label='UCL')\n",
    "plt.axhline(lcl, color='b', linestyle='--', label='LCL')\n",
    "plt.xlabel('Lot')\n",
    "plt.ylabel('error case number')\n",
    "plt.title('p chart')\n",
    "plt.legend()\n",
    "plt.show()\n",
    "\n",
    "# 결과 출력\n",
    "print('관리중심선(CL):', cl)\n",
    "print('관리 상한선(UCL):', ucl)\n",
    "print('하한선(LCL):', lcl)"
   ]
  },
  {
   "cell_type": "markdown",
   "id": "2c725b51",
   "metadata": {},
   "source": [
    "## < 22회 3번 : 반복문/제약조건 사용 >\n",
    "제품 1, 2를 만드는 데 재료 a, b, c가 일부 사용되며, 제품 1과 2를 만들 때 12만원과 18만원을 벌 수 있다. 재료는 한정적으로 주어지는데, 이때 최대 수익을 낼 수 있을 때의 제품 1과 제품 2의 개수를 구하라.\n",
    "\n",
    "- 재료 공급량 {a: 1300, b: 1000, c: 1200}\n",
    "\n",
    "| 구분 | 재료 a | 재료 b | 재료 c |\n",
    "| --- | --- | --- | --- |\n",
    "| 제품 1 | 20 | 20 | 20 |\n",
    "| 제품 2 | 40 | 30 | 30 |"
   ]
  },
  {
   "cell_type": "markdown",
   "id": "a75c7ec4",
   "metadata": {},
   "source": [
    "### 접근 방법 1\n",
    "1. 임의의 제품1과 제품2의 조합을 생성\n",
    "2. 각 조합별 재료를 합산\n",
    "3. 제약조건에 부합하는지 확인\n",
    "4. 수익 계산 후 최대 수익이 나는 조합 확인"
   ]
  },
  {
   "cell_type": "code",
   "execution_count": 5,
   "id": "0be2ab76",
   "metadata": {},
   "outputs": [
    {
     "data": {
      "text/html": [
       "<div>\n",
       "<style scoped>\n",
       "    .dataframe tbody tr th:only-of-type {\n",
       "        vertical-align: middle;\n",
       "    }\n",
       "\n",
       "    .dataframe tbody tr th {\n",
       "        vertical-align: top;\n",
       "    }\n",
       "\n",
       "    .dataframe thead th {\n",
       "        text-align: right;\n",
       "    }\n",
       "</style>\n",
       "<table border=\"1\" class=\"dataframe\">\n",
       "  <thead>\n",
       "    <tr style=\"text-align: right;\">\n",
       "      <th></th>\n",
       "      <th>n_x</th>\n",
       "      <th>n_y</th>\n",
       "      <th>a</th>\n",
       "      <th>b</th>\n",
       "      <th>c</th>\n",
       "      <th>is_possible</th>\n",
       "      <th>profit</th>\n",
       "    </tr>\n",
       "  </thead>\n",
       "  <tbody>\n",
       "    <tr>\n",
       "      <th>50</th>\n",
       "      <td>50</td>\n",
       "      <td>0</td>\n",
       "      <td>1000</td>\n",
       "      <td>1000</td>\n",
       "      <td>1000</td>\n",
       "      <td>True</td>\n",
       "      <td>600</td>\n",
       "    </tr>\n",
       "    <tr>\n",
       "      <th>247</th>\n",
       "      <td>47</td>\n",
       "      <td>2</td>\n",
       "      <td>1020</td>\n",
       "      <td>1000</td>\n",
       "      <td>1000</td>\n",
       "      <td>True</td>\n",
       "      <td>600</td>\n",
       "    </tr>\n",
       "    <tr>\n",
       "      <th>444</th>\n",
       "      <td>44</td>\n",
       "      <td>4</td>\n",
       "      <td>1040</td>\n",
       "      <td>1000</td>\n",
       "      <td>1000</td>\n",
       "      <td>True</td>\n",
       "      <td>600</td>\n",
       "    </tr>\n",
       "    <tr>\n",
       "      <th>641</th>\n",
       "      <td>41</td>\n",
       "      <td>6</td>\n",
       "      <td>1060</td>\n",
       "      <td>1000</td>\n",
       "      <td>1000</td>\n",
       "      <td>True</td>\n",
       "      <td>600</td>\n",
       "    </tr>\n",
       "    <tr>\n",
       "      <th>838</th>\n",
       "      <td>38</td>\n",
       "      <td>8</td>\n",
       "      <td>1080</td>\n",
       "      <td>1000</td>\n",
       "      <td>1000</td>\n",
       "      <td>True</td>\n",
       "      <td>600</td>\n",
       "    </tr>\n",
       "    <tr>\n",
       "      <th>1035</th>\n",
       "      <td>35</td>\n",
       "      <td>10</td>\n",
       "      <td>1100</td>\n",
       "      <td>1000</td>\n",
       "      <td>1000</td>\n",
       "      <td>True</td>\n",
       "      <td>600</td>\n",
       "    </tr>\n",
       "    <tr>\n",
       "      <th>1232</th>\n",
       "      <td>32</td>\n",
       "      <td>12</td>\n",
       "      <td>1120</td>\n",
       "      <td>1000</td>\n",
       "      <td>1000</td>\n",
       "      <td>True</td>\n",
       "      <td>600</td>\n",
       "    </tr>\n",
       "    <tr>\n",
       "      <th>1429</th>\n",
       "      <td>29</td>\n",
       "      <td>14</td>\n",
       "      <td>1140</td>\n",
       "      <td>1000</td>\n",
       "      <td>1000</td>\n",
       "      <td>True</td>\n",
       "      <td>600</td>\n",
       "    </tr>\n",
       "    <tr>\n",
       "      <th>1626</th>\n",
       "      <td>26</td>\n",
       "      <td>16</td>\n",
       "      <td>1160</td>\n",
       "      <td>1000</td>\n",
       "      <td>1000</td>\n",
       "      <td>True</td>\n",
       "      <td>600</td>\n",
       "    </tr>\n",
       "    <tr>\n",
       "      <th>1823</th>\n",
       "      <td>23</td>\n",
       "      <td>18</td>\n",
       "      <td>1180</td>\n",
       "      <td>1000</td>\n",
       "      <td>1000</td>\n",
       "      <td>True</td>\n",
       "      <td>600</td>\n",
       "    </tr>\n",
       "    <tr>\n",
       "      <th>2020</th>\n",
       "      <td>20</td>\n",
       "      <td>20</td>\n",
       "      <td>1200</td>\n",
       "      <td>1000</td>\n",
       "      <td>1000</td>\n",
       "      <td>True</td>\n",
       "      <td>600</td>\n",
       "    </tr>\n",
       "    <tr>\n",
       "      <th>2217</th>\n",
       "      <td>17</td>\n",
       "      <td>22</td>\n",
       "      <td>1220</td>\n",
       "      <td>1000</td>\n",
       "      <td>1000</td>\n",
       "      <td>True</td>\n",
       "      <td>600</td>\n",
       "    </tr>\n",
       "    <tr>\n",
       "      <th>2414</th>\n",
       "      <td>14</td>\n",
       "      <td>24</td>\n",
       "      <td>1240</td>\n",
       "      <td>1000</td>\n",
       "      <td>1000</td>\n",
       "      <td>True</td>\n",
       "      <td>600</td>\n",
       "    </tr>\n",
       "    <tr>\n",
       "      <th>2611</th>\n",
       "      <td>11</td>\n",
       "      <td>26</td>\n",
       "      <td>1260</td>\n",
       "      <td>1000</td>\n",
       "      <td>1000</td>\n",
       "      <td>True</td>\n",
       "      <td>600</td>\n",
       "    </tr>\n",
       "    <tr>\n",
       "      <th>2808</th>\n",
       "      <td>8</td>\n",
       "      <td>28</td>\n",
       "      <td>1280</td>\n",
       "      <td>1000</td>\n",
       "      <td>1000</td>\n",
       "      <td>True</td>\n",
       "      <td>600</td>\n",
       "    </tr>\n",
       "    <tr>\n",
       "      <th>3005</th>\n",
       "      <td>5</td>\n",
       "      <td>30</td>\n",
       "      <td>1300</td>\n",
       "      <td>1000</td>\n",
       "      <td>1000</td>\n",
       "      <td>True</td>\n",
       "      <td>600</td>\n",
       "    </tr>\n",
       "  </tbody>\n",
       "</table>\n",
       "</div>"
      ],
      "text/plain": [
       "      n_x  n_y     a     b     c  is_possible  profit\n",
       "50     50    0  1000  1000  1000         True     600\n",
       "247    47    2  1020  1000  1000         True     600\n",
       "444    44    4  1040  1000  1000         True     600\n",
       "641    41    6  1060  1000  1000         True     600\n",
       "838    38    8  1080  1000  1000         True     600\n",
       "1035   35   10  1100  1000  1000         True     600\n",
       "1232   32   12  1120  1000  1000         True     600\n",
       "1429   29   14  1140  1000  1000         True     600\n",
       "1626   26   16  1160  1000  1000         True     600\n",
       "1823   23   18  1180  1000  1000         True     600\n",
       "2020   20   20  1200  1000  1000         True     600\n",
       "2217   17   22  1220  1000  1000         True     600\n",
       "2414   14   24  1240  1000  1000         True     600\n",
       "2611   11   26  1260  1000  1000         True     600\n",
       "2808    8   28  1280  1000  1000         True     600\n",
       "3005    5   30  1300  1000  1000         True     600"
      ]
     },
     "execution_count": 5,
     "metadata": {},
     "output_type": "execute_result"
    }
   ],
   "source": [
    "import pandas as pd\n",
    "import numpy as np\n",
    "\n",
    "# 임의의 x, y 개수에 대한 조합 생성\n",
    "df = pd.DataFrame(\n",
    "    {\n",
    "        'n_x': np.array([[y for y in range(0, 100)] for x in range(0, 100)]).flatten(),\n",
    "        'n_y': np.array([[x for y in range(0, 100)] for x in range(0, 100)]).flatten()\n",
    "    }\n",
    ")\n",
    "\n",
    "# 재료 \n",
    "df['a'] = df['n_x'] * 20 + df['n_y'] * 40\n",
    "df['b'] = df['n_x'] * 20 + df['n_y'] * 30\n",
    "df['c'] = df['n_x'] * 20 + df['n_y'] * 30\n",
    "\n",
    "# 제약 조건\n",
    "df['is_possible'] = (df['a'] <= 1300) & (df['b'] <= 1000) & (df['c'] <= 1200)\n",
    "\n",
    "# 수익 계산\n",
    "df['profit'] = df['n_x'] * 12 + df['n_y'] * 18\n",
    "\n",
    "# 수익 기준 내림차순 정렬\n",
    "df.loc[df.is_possible & (df.profit==600)].sort_values('profit', ascending=False)"
   ]
  },
  {
   "cell_type": "markdown",
   "id": "812c52c4",
   "metadata": {},
   "source": [
    "## < 22회 4번 : 일표본 Run 검정 >\n",
    "상품 a와 b가 있을 때 다음과 같은 구매 패턴이 있다고 한다.\n",
    "\n",
    "[a, a, b, b, a, a, a, a, b, b, b, b, b, a, a, b, b, a, b, b ]\n",
    "\n",
    "1) 구매 패턴으로 볼 때 두 상품이 연관이 있는지 가설을 세우고 검정하시오.  \n",
    "2) 가설을 채택하시오."
   ]
  },
  {
   "cell_type": "markdown",
   "id": "807ff6ff",
   "metadata": {},
   "source": [
    "### 접근 방법\n",
    "#### Run-test : 일련의 연속적인 관측값들이 임의적(random)으로 나타난 것인지를 검정하는 방법\n",
    "- 관측값들이 얻어진 순서에 근거하는 비모수적 검정법\n",
    "\n",
    "<img src=\"https://user-images.githubusercontent.com/54492747/134380617-2e9ed1e2-0a98-405f-bbcf-bf49d9d59364.png\">"
   ]
  },
  {
   "cell_type": "markdown",
   "id": "f68448f4",
   "metadata": {},
   "source": [
    "### 4-1) 구매 패턴으로 볼 때 두 상품이 연관이 있는지 가설을 세우고 검정하시오.\n",
    "- 귀무가설: 연속적인 관측값이 임의적이다(연관성이 **없다**).\n",
    "- 대립가설: 연속적인 관측값이 임의적이 아니다(연관성이 **있다**)."
   ]
  },
  {
   "cell_type": "code",
   "execution_count": 3,
   "id": "ace53d4e",
   "metadata": {},
   "outputs": [
    {
     "name": "stdout",
     "output_type": "stream",
     "text": [
      "statistics: -1.114488, p-value: 0.265070\n"
     ]
    }
   ],
   "source": [
    "import pandas as pd\n",
    "from statsmodels.sandbox.stats.runs import runstest_1samp\n",
    "\n",
    "data = pd.DataFrame({\n",
    "    'product': ['a', 'a', \n",
    "                'b', 'b', \n",
    "                'a', 'a', 'a', 'a',\n",
    "                'b', 'b', 'b', 'b', 'b',\n",
    "                'a', 'a',\n",
    "                'b', 'b',\n",
    "                'a',\n",
    "                'b', 'b']})\n",
    "\n",
    "# 데이터를 수치형으로 변환\n",
    "data['product'].replace({'a': 1, 'b': 0}, inplace=True)\n",
    "\n",
    "runtest = runstest_1samp(data['product'])\n",
    "print(f'statistics: {runtest[0]:.6f}, p-value: {runtest[1]:.6f}')\n",
    "\n",
    "# statistics: -1.114488, p-value: 0.265070"
   ]
  },
  {
   "cell_type": "markdown",
   "id": "51b8060c",
   "metadata": {},
   "source": [
    "### 4-2) 가설을 채택하시오.\n",
    "검정 결과 p-value는 유의수준 0.05보다 크므로, 귀무가설을 기각할 수 없다. 즉 상품 a와 b의 구매에는 연관이 없다고 할 수 있다."
   ]
  },
  {
   "cell_type": "markdown",
   "id": "b05c0c0c",
   "metadata": {},
   "source": [
    "---"
   ]
  },
  {
   "cell_type": "markdown",
   "id": "162e0958",
   "metadata": {},
   "source": [
    "# [ 21회 ]"
   ]
  },
  {
   "cell_type": "markdown",
   "id": "0b31f57d",
   "metadata": {},
   "source": [
    "## < 21회 1번 : 이원분산분석 >\n",
    "이원분산분석을 수행하고 통계표를 작성하시오. \n",
    "- 변수 3개(하나는 수치형 변수/ 나머지 두 개는 범주형 변수)\n",
    "- 원래 시험 : 변수 3개(하나는 abcde 각각을 값으로 갖는 범주형 변수, 나머지 두 개는 수치형 연속변수)"
   ]
  },
  {
   "cell_type": "code",
   "execution_count": 9,
   "id": "57ebbfe4",
   "metadata": {},
   "outputs": [
    {
     "data": {
      "text/html": [
       "<div>\n",
       "<style scoped>\n",
       "    .dataframe tbody tr th:only-of-type {\n",
       "        vertical-align: middle;\n",
       "    }\n",
       "\n",
       "    .dataframe tbody tr th {\n",
       "        vertical-align: top;\n",
       "    }\n",
       "\n",
       "    .dataframe thead th {\n",
       "        text-align: right;\n",
       "    }\n",
       "</style>\n",
       "<table border=\"1\" class=\"dataframe\">\n",
       "  <thead>\n",
       "    <tr style=\"text-align: right;\">\n",
       "      <th></th>\n",
       "      <th>AveragePrice</th>\n",
       "      <th>type</th>\n",
       "      <th>region</th>\n",
       "    </tr>\n",
       "  </thead>\n",
       "  <tbody>\n",
       "    <tr>\n",
       "      <th>0</th>\n",
       "      <td>1.13</td>\n",
       "      <td>conventional</td>\n",
       "      <td>Boston</td>\n",
       "    </tr>\n",
       "    <tr>\n",
       "      <th>1</th>\n",
       "      <td>1.07</td>\n",
       "      <td>conventional</td>\n",
       "      <td>Boston</td>\n",
       "    </tr>\n",
       "    <tr>\n",
       "      <th>2</th>\n",
       "      <td>1.01</td>\n",
       "      <td>conventional</td>\n",
       "      <td>Boston</td>\n",
       "    </tr>\n",
       "    <tr>\n",
       "      <th>3</th>\n",
       "      <td>1.02</td>\n",
       "      <td>conventional</td>\n",
       "      <td>Boston</td>\n",
       "    </tr>\n",
       "    <tr>\n",
       "      <th>4</th>\n",
       "      <td>1.19</td>\n",
       "      <td>conventional</td>\n",
       "      <td>Boston</td>\n",
       "    </tr>\n",
       "    <tr>\n",
       "      <th>...</th>\n",
       "      <td>...</td>\n",
       "      <td>...</td>\n",
       "      <td>...</td>\n",
       "    </tr>\n",
       "    <tr>\n",
       "      <th>1009</th>\n",
       "      <td>1.36</td>\n",
       "      <td>organic</td>\n",
       "      <td>Orlando</td>\n",
       "    </tr>\n",
       "    <tr>\n",
       "      <th>1010</th>\n",
       "      <td>1.67</td>\n",
       "      <td>organic</td>\n",
       "      <td>Orlando</td>\n",
       "    </tr>\n",
       "    <tr>\n",
       "      <th>1011</th>\n",
       "      <td>1.53</td>\n",
       "      <td>organic</td>\n",
       "      <td>Orlando</td>\n",
       "    </tr>\n",
       "    <tr>\n",
       "      <th>1012</th>\n",
       "      <td>1.55</td>\n",
       "      <td>organic</td>\n",
       "      <td>Orlando</td>\n",
       "    </tr>\n",
       "    <tr>\n",
       "      <th>1013</th>\n",
       "      <td>1.56</td>\n",
       "      <td>organic</td>\n",
       "      <td>Orlando</td>\n",
       "    </tr>\n",
       "  </tbody>\n",
       "</table>\n",
       "<p>1014 rows × 3 columns</p>\n",
       "</div>"
      ],
      "text/plain": [
       "      AveragePrice          type   region\n",
       "0             1.13  conventional   Boston\n",
       "1             1.07  conventional   Boston\n",
       "2             1.01  conventional   Boston\n",
       "3             1.02  conventional   Boston\n",
       "4             1.19  conventional   Boston\n",
       "...            ...           ...      ...\n",
       "1009          1.36       organic  Orlando\n",
       "1010          1.67       organic  Orlando\n",
       "1011          1.53       organic  Orlando\n",
       "1012          1.55       organic  Orlando\n",
       "1013          1.56       organic  Orlando\n",
       "\n",
       "[1014 rows x 3 columns]"
      ]
     },
     "execution_count": 9,
     "metadata": {},
     "output_type": "execute_result"
    }
   ],
   "source": [
    "import pandas as pd\n",
    "import numpy as np\n",
    "\n",
    "avocado = pd.read_csv('../Data/avocado.csv')\n",
    "avocado = avocado[[\"AveragePrice\",\"type\",\"region\"]]\n",
    "avocado = avocado[(avocado['region']=='Orlando') |\\\n",
    "                  (avocado['region']=='Boston' )|\\\n",
    "                  (avocado['region']=='Chicago')].reset_index(drop=True)\n",
    "avocado"
   ]
  },
  {
   "cell_type": "markdown",
   "id": "8ae5ac18",
   "metadata": {},
   "source": [
    "### 접근 방법\n",
    "- 이원분산분석은 종속변수(반응변수)에 대해 두 개의 범주형 변수 A,B의 영향을 알아보기 위해 사용되는 검증 방법\n",
    "- 독립변수 두 개 이상 집단 간 차이가 유의한지 검증"
   ]
  },
  {
   "cell_type": "markdown",
   "id": "e32856b5",
   "metadata": {},
   "source": [
    "### 가설\n",
    "<b> 가. 교호작용효과 검정에 대한 가설</b><br>\n",
    "    1) 귀무가설 H0: region과 avocado type 간에는 교호작용 효과가 없다. <br>\n",
    "    2) 대립가설 H1: region과 avocado type 간에는 교호작용 효과가 있다. <br>\n",
    "\n",
    "\n",
    "<b> 나. 주효과 검정에 대한 가설</b> <br>\n",
    "    1) 귀무가설 H0: region 종류에 따른 AveragePrice 차이는 존재하지 않는다. <br>\n",
    "    2) 대립가설 H1: region 종류에 따른 AveragePrice 차이는 존재한다. <br> \n",
    "    3) 귀무가설 H0: type 종류에 따른 AveragePrice 차이는 존재하지 않는다. <br>\n",
    "    4) 대립가설 H1: type 종류에 따른 AveragePrice 차이는 존재한다. <br> "
   ]
  },
  {
   "cell_type": "code",
   "execution_count": 10,
   "id": "3709a22b",
   "metadata": {},
   "outputs": [],
   "source": [
    "# 독립변수 type,region / 종속변수 AveragePrice을 Series로 변경 \n",
    "AveragePrice = avocado[\"AveragePrice\"]\n",
    "avocado_type = avocado[\"type\"]\n",
    "region = avocado[\"region\"]"
   ]
  },
  {
   "cell_type": "code",
   "execution_count": 11,
   "id": "6f4aae01",
   "metadata": {},
   "outputs": [
    {
     "data": {
      "text/html": [
       "<div>\n",
       "<style scoped>\n",
       "    .dataframe tbody tr th:only-of-type {\n",
       "        vertical-align: middle;\n",
       "    }\n",
       "\n",
       "    .dataframe tbody tr th {\n",
       "        vertical-align: top;\n",
       "    }\n",
       "\n",
       "    .dataframe thead th {\n",
       "        text-align: right;\n",
       "    }\n",
       "</style>\n",
       "<table border=\"1\" class=\"dataframe\">\n",
       "  <thead>\n",
       "    <tr style=\"text-align: right;\">\n",
       "      <th></th>\n",
       "      <th>sum_sq</th>\n",
       "      <th>df</th>\n",
       "      <th>F</th>\n",
       "      <th>PR(&gt;F)</th>\n",
       "    </tr>\n",
       "  </thead>\n",
       "  <tbody>\n",
       "    <tr>\n",
       "      <th>C(avocado_type)</th>\n",
       "      <td>56.111007</td>\n",
       "      <td>1.0</td>\n",
       "      <td>828.218296</td>\n",
       "      <td>1.989417e-133</td>\n",
       "    </tr>\n",
       "    <tr>\n",
       "      <th>C(region)</th>\n",
       "      <td>0.432136</td>\n",
       "      <td>2.0</td>\n",
       "      <td>3.189242</td>\n",
       "      <td>4.161918e-02</td>\n",
       "    </tr>\n",
       "    <tr>\n",
       "      <th>C(avocado_type):C(region)</th>\n",
       "      <td>1.878817</td>\n",
       "      <td>2.0</td>\n",
       "      <td>13.866003</td>\n",
       "      <td>1.146622e-06</td>\n",
       "    </tr>\n",
       "    <tr>\n",
       "      <th>Residual</th>\n",
       "      <td>68.291047</td>\n",
       "      <td>1008.0</td>\n",
       "      <td>NaN</td>\n",
       "      <td>NaN</td>\n",
       "    </tr>\n",
       "  </tbody>\n",
       "</table>\n",
       "</div>"
      ],
      "text/plain": [
       "                              sum_sq      df           F         PR(>F)\n",
       "C(avocado_type)            56.111007     1.0  828.218296  1.989417e-133\n",
       "C(region)                   0.432136     2.0    3.189242   4.161918e-02\n",
       "C(avocado_type):C(region)   1.878817     2.0   13.866003   1.146622e-06\n",
       "Residual                   68.291047  1008.0         NaN            NaN"
      ]
     },
     "execution_count": 11,
     "metadata": {},
     "output_type": "execute_result"
    }
   ],
   "source": [
    "# 분산분석 수행 \n",
    "from statsmodels.formula.api import ols\n",
    "from statsmodels.stats.anova import anova_lm\n",
    "\n",
    "# C() :범주형(factor) 변수로 취급하며, 이를 컬럼으로 변환\n",
    "formula = 'AveragePrice ~ C(avocado_type) * C(region)' \n",
    "model = ols(formula, avocado).fit()\n",
    "aov_table = anova_lm(model, typ=2)\n",
    "aov_table"
   ]
  },
  {
   "cell_type": "markdown",
   "id": "5fe3145f",
   "metadata": {},
   "source": [
    "[결과해석] \n",
    "\n",
    "1. 주효과(type,region) 모두 AveragePrice에 영향을 미침. (2개 인자 모두 pvalue가 일반적인 유의수준 0.05이하임)\n",
    "    - 단 주효과중에서 type의 영향력이 훨씬 더 큼.(p value값)\n",
    "    - region은 p값이 0.05근처로서, 통계적으로 경계에 있기 때문에, 주의깊게 확인 필요\n",
    "\n",
    "2. 교호작용 인자도 유의하다.(교호작용 있음) p-value 0.05 이하임"
   ]
  },
  {
   "cell_type": "code",
   "execution_count": 12,
   "id": "fe75d656",
   "metadata": {},
   "outputs": [
    {
     "data": {
      "image/png": "[encoded data removed]",
      "text/plain": [
       "<Figure size 600x600 with 1 Axes>"
      ]
     },
     "metadata": {},
     "output_type": "display_data"
    }
   ],
   "source": [
    "from statsmodels.graphics.factorplots import interaction_plot\n",
    "import matplotlib.pyplot as plt\n",
    "\n",
    "fig, ax = plt.subplots(figsize=(6, 6))\n",
    "fig = interaction_plot(avocado_type, \n",
    "                       region , \n",
    "                       AveragePrice,colors=['red', 'blue', 'black'], \n",
    "                       markers=['D', '^','o'], \n",
    "                       ms=10, \n",
    "                       ax=ax)"
   ]
  },
  {
   "cell_type": "markdown",
   "id": "87e69187",
   "metadata": {},
   "source": [
    "[그래프 해석] 각 선들의 패턴이 다름(교차함) --> region과 type사이에 교호작용 존재함"
   ]
  },
  {
   "cell_type": "code",
   "execution_count": 13,
   "id": "26515f30",
   "metadata": {},
   "outputs": [
    {
     "data": {
      "image/png": "[encoded data removed]",
      "text/plain": [
       "<Figure size 1000x600 with 1 Axes>"
      ]
     },
     "metadata": {},
     "output_type": "display_data"
    }
   ],
   "source": [
    "# 다중비교 참고\n",
    "\n",
    "from statsmodels.stats.multicomp import pairwise_tukeyhsd\n",
    "from statsmodels.stats.multicomp import MultiComparison\n",
    "mc = MultiComparison(data= avocado[\"AveragePrice\"], groups=avocado[\"region\"] )\n",
    "tuekeyhsd = mc.tukeyhsd(alpha=0.05)\n",
    "fig = tuekeyhsd.plot_simultaneous()"
   ]
  },
  {
   "cell_type": "code",
   "execution_count": 14,
   "id": "750805d3",
   "metadata": {},
   "outputs": [
    {
     "data": {
      "text/html": [
       "<table class=\"simpletable\">\n",
       "<caption>Multiple Comparison of Means - Tukey HSD, FWER=0.05</caption>\n",
       "<tr>\n",
       "  <th>group1</th>  <th>group2</th>  <th>meandiff</th>  <th>p-adj</th>  <th>lower</th>   <th>upper</th> <th>reject</th>\n",
       "</tr>\n",
       "<tr>\n",
       "  <td>Boston</td>  <td>Chicago</td>  <td>0.0259</td>  <td>0.6073</td> <td>-0.0379</td> <td>0.0897</td>  <td>False</td>\n",
       "</tr>\n",
       "<tr>\n",
       "  <td>Boston</td>  <td>Orlando</td>  <td>-0.0247</td> <td>0.6356</td> <td>-0.0885</td> <td>0.0391</td>  <td>False</td>\n",
       "</tr>\n",
       "<tr>\n",
       "  <td>Chicago</td> <td>Orlando</td>  <td>-0.0506</td>  <td>0.151</td> <td>-0.1144</td> <td>0.0132</td>  <td>False</td>\n",
       "</tr>\n",
       "</table>"
      ],
      "text/plain": [
       "<class 'statsmodels.iolib.table.SimpleTable'>"
      ]
     },
     "execution_count": 14,
     "metadata": {},
     "output_type": "execute_result"
    }
   ],
   "source": [
    "tuekeyhsd.summary()"
   ]
  }
 ],
 "metadata": {
  "kernelspec": {
   "display_name": "Python 3 (ipykernel)",
   "language": "python",
   "name": "python3"
  },
  "language_info": {
   "codemirror_mode": {
    "name": "ipython",
    "version": 3
   },
   "file_extension": ".py",
   "mimetype": "text/x-python",
   "name": "python",
   "nbconvert_exporter": "python",
   "pygments_lexer": "ipython3",
   "version": "3.9.13"
  }
 },
 "nbformat": 4,
 "nbformat_minor": 5
}
