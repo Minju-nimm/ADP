{
 "cells": [
  {
   "cell_type": "markdown",
   "id": "6dac52b2",
   "metadata": {},
   "source": [
    "# ADP 통계 기출 28회 ~ 25회"
   ]
  },
  {
   "cell_type": "code",
   "execution_count": 2,
   "id": "826641de",
   "metadata": {},
   "outputs": [],
   "source": [
    "import pandas as pd\n",
    "import numpy as np\n",
    "from scipy import stats\n",
    "\n",
    "import warnings\n",
    "warnings.filterwarnings(\"ignore\")"
   ]
  },
  {
   "cell_type": "markdown",
   "id": "7d106c01",
   "metadata": {},
   "source": [
    "---"
   ]
  },
  {
   "cell_type": "markdown",
   "id": "578c6d2f",
   "metadata": {},
   "source": [
    "# [ 28회 ]"
   ]
  },
  {
   "cell_type": "code",
   "execution_count": null,
   "id": "b1aababb",
   "metadata": {},
   "outputs": [],
   "source": []
  },
  {
   "cell_type": "code",
   "execution_count": null,
   "id": "d2e03b69",
   "metadata": {},
   "outputs": [],
   "source": []
  },
  {
   "cell_type": "markdown",
   "id": "a60bc451",
   "metadata": {},
   "source": [
    "---"
   ]
  },
  {
   "cell_type": "markdown",
   "id": "de1b6225",
   "metadata": {},
   "source": [
    "# [ 26회 ]"
   ]
  },
  {
   "cell_type": "markdown",
   "id": "cc8d4e1a",
   "metadata": {},
   "source": [
    "## < 26회 1번 : 최소 표본 크기 > \n",
    "철강제품의 불량률을 조사하고자 한다. 이 때, 불량률의 90%, 추정오차한계가 5% 이내가 되기 위하여 적절한 표본의 크기 중 최소값은 얼마인가?"
   ]
  },
  {
   "cell_type": "code",
   "execution_count": null,
   "id": "f352be35",
   "metadata": {},
   "outputs": [],
   "source": []
  },
  {
   "cell_type": "markdown",
   "id": "f505c6e1",
   "metadata": {},
   "source": [
    "## < 26회 2번 : 이동평균, 시계열 시각화 > \n",
    "아래 그래프는 1월부터 9월까지의 은의 가격이다\n",
    "\n",
    "1. 은의 가격 및 이동평균값 3이 설정된 시계열 그래프를 그려라\n",
    "2. 1월 대비 9월의 은의 가격은 몇 % 올랐는가? 소수점 두번째 자리에서 반올림"
   ]
  },
  {
   "cell_type": "code",
   "execution_count": null,
   "id": "9a3cdc04",
   "metadata": {},
   "outputs": [],
   "source": []
  },
  {
   "cell_type": "markdown",
   "id": "61695eb9",
   "metadata": {},
   "source": [
    "## < 26회 3번 : 동질성 검정, 카이제곱 검정 >\n",
    "아래 그래프는 A,B,C 자치구별 W 의원에 대한 찬성, 반대 지지를 나타낸다. 자치구별 지지율이 같은지에 대해서 검정하라\n",
    "<img src=\"https://user-images.githubusercontent.com/119478998/237022541-b0af58eb-e31e-4c89-bdab-92b337014a71.png\" width=300>\n",
    "\n",
    "1. 연구가설과 귀무가설을 설정하라\n",
    "2. 검정통계량 구하고 결론을 내라"
   ]
  },
  {
   "cell_type": "markdown",
   "id": "14754ba3",
   "metadata": {},
   "source": [
    "### 5-1) 연구가설과 귀무가설을 설정하라."
   ]
  },
  {
   "cell_type": "code",
   "execution_count": 9,
   "id": "851bd747",
   "metadata": {},
   "outputs": [
    {
     "data": {
      "text/html": [
       "<div>\n",
       "<style scoped>\n",
       "    .dataframe tbody tr th:only-of-type {\n",
       "        vertical-align: middle;\n",
       "    }\n",
       "\n",
       "    .dataframe tbody tr th {\n",
       "        vertical-align: top;\n",
       "    }\n",
       "\n",
       "    .dataframe thead th {\n",
       "        text-align: right;\n",
       "    }\n",
       "</style>\n",
       "<table border=\"1\" class=\"dataframe\">\n",
       "  <thead>\n",
       "    <tr style=\"text-align: right;\">\n",
       "      <th></th>\n",
       "      <th>vote</th>\n",
       "      <th>A</th>\n",
       "      <th>B</th>\n",
       "      <th>C</th>\n",
       "    </tr>\n",
       "  </thead>\n",
       "  <tbody>\n",
       "    <tr>\n",
       "      <th>0</th>\n",
       "      <td>찬성</td>\n",
       "      <td>176</td>\n",
       "      <td>193</td>\n",
       "      <td>159</td>\n",
       "    </tr>\n",
       "    <tr>\n",
       "      <th>1</th>\n",
       "      <td>반대</td>\n",
       "      <td>124</td>\n",
       "      <td>107</td>\n",
       "      <td>141</td>\n",
       "    </tr>\n",
       "  </tbody>\n",
       "</table>\n",
       "</div>"
      ],
      "text/plain": [
       "  vote    A    B    C\n",
       "0   찬성  176  193  159\n",
       "1   반대  124  107  141"
      ]
     },
     "execution_count": 9,
     "metadata": {},
     "output_type": "execute_result"
    }
   ],
   "source": [
    "df = pd.DataFrame({\"vote\" :[\"찬성\",\"반대\"],\n",
    "                    \"A\" : [176,124],\n",
    "                    \"B\" : [193,107],\n",
    "                    \"C\" : [159,141]})\n",
    "df "
   ]
  },
  {
   "cell_type": "code",
   "execution_count": 10,
   "id": "9d62dc09",
   "metadata": {},
   "outputs": [
    {
     "data": {
      "text/html": [
       "<div>\n",
       "<style scoped>\n",
       "    .dataframe tbody tr th:only-of-type {\n",
       "        vertical-align: middle;\n",
       "    }\n",
       "\n",
       "    .dataframe tbody tr th {\n",
       "        vertical-align: top;\n",
       "    }\n",
       "\n",
       "    .dataframe thead th {\n",
       "        text-align: right;\n",
       "    }\n",
       "</style>\n",
       "<table border=\"1\" class=\"dataframe\">\n",
       "  <thead>\n",
       "    <tr style=\"text-align: right;\">\n",
       "      <th></th>\n",
       "      <th>A</th>\n",
       "      <th>B</th>\n",
       "      <th>C</th>\n",
       "    </tr>\n",
       "    <tr>\n",
       "      <th>vote</th>\n",
       "      <th></th>\n",
       "      <th></th>\n",
       "      <th></th>\n",
       "    </tr>\n",
       "  </thead>\n",
       "  <tbody>\n",
       "    <tr>\n",
       "      <th>찬성</th>\n",
       "      <td>176</td>\n",
       "      <td>193</td>\n",
       "      <td>159</td>\n",
       "    </tr>\n",
       "    <tr>\n",
       "      <th>반대</th>\n",
       "      <td>124</td>\n",
       "      <td>107</td>\n",
       "      <td>141</td>\n",
       "    </tr>\n",
       "  </tbody>\n",
       "</table>\n",
       "</div>"
      ],
      "text/plain": [
       "        A    B    C\n",
       "vote               \n",
       "찬성    176  193  159\n",
       "반대    124  107  141"
      ]
     },
     "execution_count": 10,
     "metadata": {},
     "output_type": "execute_result"
    }
   ],
   "source": [
    "df.set_index(\"vote\",inplace=True) ## 교차표를 만들어 주기 위해 인덱스 설정\n",
    "df"
   ]
  },
  {
   "cell_type": "code",
   "execution_count": 11,
   "id": "c9c5c8c1",
   "metadata": {},
   "outputs": [
    {
     "name": "stdout",
     "output_type": "stream",
     "text": [
      "검정통계량 :  7.94538\n",
      "p-value :  0.01882\n"
     ]
    }
   ],
   "source": [
    "# 카이제곱 검정을 통한 동질성 검정 수행\n",
    "from scipy.stats import chi2_contingency\n",
    "\n",
    "chi2, p, df, expect = chi2_contingency(df) \n",
    "\n",
    "# chi2_contingency(df)\n",
    "\n",
    "print(\"검정통계량 : \", round(chi2, 5))\n",
    "print(\"p-value : \", round(p, 5))"
   ]
  },
  {
   "cell_type": "markdown",
   "id": "04811dbd",
   "metadata": {},
   "source": [
    " p-value가 유의수준 0.05보다 작으므로 귀무가설을 기각\n",
    "\n",
    " 자치구와 지지율은 독립이 아니라고 할 수 있다. 즉, 자치구별 H의원에 대한 지지율은 다르다."
   ]
  },
  {
   "cell_type": "markdown",
   "id": "c4470c0a",
   "metadata": {},
   "source": [
    "---"
   ]
  },
  {
   "cell_type": "markdown",
   "id": "ad6fe392",
   "metadata": {},
   "source": [
    "# [ 25회 ]"
   ]
  },
  {
   "cell_type": "markdown",
   "id": "8784fc81",
   "metadata": {},
   "source": [
    "- 여러 통계 문제 (각 5점씩 총 20점)\n",
    "\n",
    "## < 25회 1-1 : 조화평균 >\n",
    "서울에서 영동까지 100km/h로 가고 영동에서 서울까지 80km/로 돌아왔을 때, 평균 속도는?"
   ]
  },
  {
   "cell_type": "code",
   "execution_count": null,
   "id": "af3e0883",
   "metadata": {},
   "outputs": [],
   "source": []
  },
  {
   "cell_type": "markdown",
   "id": "c02a44a2",
   "metadata": {},
   "source": [
    "## < 25회 1-2 : 기하평균 >\n",
    "연매출이 3000, 4000, 5000이었다면 연평균 몇배가 증가한 것인가?"
   ]
  },
  {
   "cell_type": "code",
   "execution_count": null,
   "id": "6bf2689b",
   "metadata": {},
   "outputs": [],
   "source": []
  },
  {
   "cell_type": "markdown",
   "id": "29a7a46d",
   "metadata": {},
   "source": [
    "## < 25회 1-3 : 조건부 확률 >\n",
    "남성, 여성의 등산, 수영에 대한 취미 선호도 빈도표(2x2)를 보고, 남성 중에서 등산을 좋아할 확률을 구하시오."
   ]
  },
  {
   "cell_type": "code",
   "execution_count": null,
   "id": "dc64085d",
   "metadata": {},
   "outputs": [],
   "source": []
  },
  {
   "cell_type": "markdown",
   "id": "d3753558",
   "metadata": {},
   "source": [
    "## < 25회 1-4 : 모분산 신뢰구간 추정 >\n",
    "표본 10개의 분산이 90일 때 신뢰도 95%로 모분산의 신뢰구간을 추정"
   ]
  },
  {
   "cell_type": "markdown",
   "id": "57289b8c",
   "metadata": {},
   "source": [
    "### 접근 방법\n",
    "- 모분산의 신뢰구간 추정은 카이제곱과 연관 !\n",
    "<img src=\"https://i.esdrop.com/d/f/3uJKEwVXJL/hhZ8I83b6n.jpg\" width=300/>"
   ]
  },
  {
   "cell_type": "code",
   "execution_count": null,
   "id": "b09afd98",
   "metadata": {},
   "outputs": [],
   "source": []
  },
  {
   "cell_type": "markdown",
   "id": "5224d83c",
   "metadata": {},
   "source": [
    "## < 25회 2번 : paired t-test (대응표본 t검정) >\n",
    "임상 대상 20명에 대해 혈압약 투약 이전과 이후의 차이가 24, 표준편차 9  신뢰구간 95%, 차이가 존재하는지 확인하려한다\n",
    "\n",
    "1. 귀무가설과 연구가설을 제시하시오.\n",
    "2. 검정 후 귀무가설 기각 여부 제시"
   ]
  },
  {
   "cell_type": "code",
   "execution_count": null,
   "id": "5ea7db2d",
   "metadata": {},
   "outputs": [],
   "source": []
  },
  {
   "cell_type": "code",
   "execution_count": null,
   "id": "8de4f9b5",
   "metadata": {},
   "outputs": [],
   "source": []
  },
  {
   "cell_type": "markdown",
   "id": "9438f07b",
   "metadata": {},
   "source": [
    "## < 25회 3번 : 크루스컬 윌리스 검정 ?????????? >\n",
    "공장 X, Y, Z의 평균 출하 소요시간을 여러 일자에 거쳐 측정한 데이터이다. 각 공장의 중위수의 차이가 존재하는지 확인하려 한다.\n",
    "\n",
    "1. 귀무가설과 연구가설을 제시하시오\n",
    "2. 검정 후 귀무가설 기각 여부 제시"
   ]
  },
  {
   "cell_type": "code",
   "execution_count": 7,
   "id": "47015163",
   "metadata": {},
   "outputs": [
    {
     "data": {
      "text/html": [
       "<div>\n",
       "<style scoped>\n",
       "    .dataframe tbody tr th:only-of-type {\n",
       "        vertical-align: middle;\n",
       "    }\n",
       "\n",
       "    .dataframe tbody tr th {\n",
       "        vertical-align: top;\n",
       "    }\n",
       "\n",
       "    .dataframe thead th {\n",
       "        text-align: right;\n",
       "    }\n",
       "</style>\n",
       "<table border=\"1\" class=\"dataframe\">\n",
       "  <thead>\n",
       "    <tr style=\"text-align: right;\">\n",
       "      <th></th>\n",
       "      <th>출하 소요시간</th>\n",
       "      <th>공장명</th>\n",
       "      <th>공장별 출하 소요시간 순위</th>\n",
       "    </tr>\n",
       "  </thead>\n",
       "  <tbody>\n",
       "    <tr>\n",
       "      <th>0</th>\n",
       "      <td>71</td>\n",
       "      <td>Z</td>\n",
       "      <td>11</td>\n",
       "    </tr>\n",
       "    <tr>\n",
       "      <th>1</th>\n",
       "      <td>75</td>\n",
       "      <td>X</td>\n",
       "      <td>14</td>\n",
       "    </tr>\n",
       "    <tr>\n",
       "      <th>2</th>\n",
       "      <td>71</td>\n",
       "      <td>X</td>\n",
       "      <td>12</td>\n",
       "    </tr>\n",
       "    <tr>\n",
       "      <th>3</th>\n",
       "      <td>53</td>\n",
       "      <td>Z</td>\n",
       "      <td>1</td>\n",
       "    </tr>\n",
       "    <tr>\n",
       "      <th>4</th>\n",
       "      <td>50</td>\n",
       "      <td>X</td>\n",
       "      <td>1</td>\n",
       "    </tr>\n",
       "  </tbody>\n",
       "</table>\n",
       "</div>"
      ],
      "text/plain": [
       "   출하 소요시간 공장명  공장별 출하 소요시간 순위\n",
       "0       71   Z              11\n",
       "1       75   X              14\n",
       "2       71   X              12\n",
       "3       53   Z               1\n",
       "4       50   X               1"
      ]
     },
     "execution_count": 7,
     "metadata": {},
     "output_type": "execute_result"
    }
   ],
   "source": [
    "import pandas as pd\n",
    "df = pd.read_csv('https://raw.githubusercontent.com/Datamanim/datarepo/main/adp/25/problem5.csv',encoding='cp949')\n",
    "df.head()"
   ]
  },
  {
   "cell_type": "markdown",
   "id": "809c5bdc",
   "metadata": {},
   "source": [
    "### 접근 방법 \n",
    "- 3개 이상 표본 & '순위'가 들어간 서열 척도 데이터 $\\rightarrow$ 크루스컬 윌리스 검정\n",
    "- 비모수 검정 \n",
    "- 독립변수는 범주형변수고 종속변수는 연속형변수라 분산분석중 일원배치\n",
    "    - 정규성을 따르면 평균으로 비교했을 것\n",
    "    - 중위수로 비교 하므로 정규성을 만족하지 못한다고 판단, 크루스칼로 문제를 풀이\n",
    "    \n",
    "1. 집단별로 데이터 분할해주기"
   ]
  },
  {
   "cell_type": "markdown",
   "id": "41418366",
   "metadata": {},
   "source": [
    "###  3-1) 귀무가설과 연구가설을 제시하시오.\n",
    "- 귀무가설 : 공장 X, Y, Z의 평균 출하 소요시간의 중위수는 모두 같다.\n",
    "- 대립가설 : 공장 X, Y, Z의 평균 출하 소요시간의 중위수 중 적어도 하나가 다르다. (적어도 하나는 ~ 차이가 있다.)"
   ]
  },
  {
   "cell_type": "markdown",
   "id": "0a5de6c3",
   "metadata": {},
   "source": [
    "## 3-2) 검정 후 귀무가설 기각 여부 제시"
   ]
  },
  {
   "cell_type": "code",
   "execution_count": 9,
   "id": "c80a00c9",
   "metadata": {},
   "outputs": [
    {
     "name": "stdout",
     "output_type": "stream",
     "text": [
      "Statistic: 0.7217886080379153\n",
      "p-value: 0.6970526702392181\n"
     ]
    }
   ],
   "source": [
    "from scipy.stats import kruskal\n",
    "\n",
    "# 각 공장의 데이터 추출\n",
    "factory_X = df[df['공장명'] == 'X']['출하 소요시간']\n",
    "factory_Y = df[df['공장명'] == 'Y']['출하 소요시간']\n",
    "factory_Z = df[df['공장명'] == 'Z']['출하 소요시간']\n",
    "\n",
    "# 크루스칼-윌리스 검정 수행\n",
    "statistic, p_value = kruskal(factory_X, factory_Y, factory_Z)\n",
    "\n",
    "# 결과 출력\n",
    "print(\"Statistic:\", statistic)\n",
    "print(\"p-value:\", p_value)"
   ]
  },
  {
   "cell_type": "code",
   "execution_count": 10,
   "id": "8c064744",
   "metadata": {},
   "outputs": [
    {
     "name": "stdout",
     "output_type": "stream",
     "text": [
      "Statistic: 0.1249463430741201\n",
      "p-value: 0.9394382661600987\n"
     ]
    }
   ],
   "source": [
    "from scipy.stats import kruskal\n",
    "\n",
    "# 각 공장의 데이터 추출\n",
    "factory_X = df[df['공장명'] == 'X']['공장별 출하 소요시간 순위']\n",
    "factory_Y = df[df['공장명'] == 'Y']['공장별 출하 소요시간 순위']\n",
    "factory_Z = df[df['공장명'] == 'Z']['공장별 출하 소요시간 순위']\n",
    "\n",
    "# 크루스칼-윌리스 검정 수행\n",
    "statistic, p_value = kruskal(factory_X, factory_Y, factory_Z)\n",
    "\n",
    "# 결과 출력\n",
    "print(\"Statistic:\", statistic)\n",
    "print(\"p-value:\", p_value)"
   ]
  }
 ],
 "metadata": {
  "kernelspec": {
   "display_name": "Python 3 (ipykernel)",
   "language": "python",
   "name": "python3"
  },
  "language_info": {
   "codemirror_mode": {
    "name": "ipython",
    "version": 3
   },
   "file_extension": ".py",
   "mimetype": "text/x-python",
   "name": "python",
   "nbconvert_exporter": "python",
   "pygments_lexer": "ipython3",
   "version": "3.9.13"
  }
 },
 "nbformat": 4,
 "nbformat_minor": 5
}
