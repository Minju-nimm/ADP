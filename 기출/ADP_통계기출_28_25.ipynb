{
 "cells": [
  {
   "cell_type": "markdown",
   "id": "6dac52b2",
   "metadata": {},
   "source": [
    "# ADP 통계 기출 28회 ~ 25회"
   ]
  },
  {
   "cell_type": "code",
   "execution_count": 2,
   "id": "8e7d3f4b",
   "metadata": {},
   "outputs": [],
   "source": [
    "import pandas as pd\n",
    "import numpy as np\n",
    "from scipy import stats\n",
    "\n",
    "import warnings\n",
    "warnings.filterwarnings(\"ignore\")"
   ]
  },
  {
   "cell_type": "markdown",
   "id": "5e19cb94",
   "metadata": {},
   "source": [
    "---"
   ]
  },
  {
   "cell_type": "markdown",
   "id": "3a22c051",
   "metadata": {},
   "source": [
    "# [ 28회 ]"
   ]
  },
  {
   "cell_type": "markdown",
   "id": "86113b83",
   "metadata": {},
   "source": [
    "## < 28회 1번 : 카플란 마이어 생존분석 >\n",
    "카플란 마이어 생존분석을 수행하라\n",
    "1. 시간별, 제조사별 불량률을 분석하라\n",
    "2. 25, 30, 35년 후에 불량률은?\n",
    "3. log ranktest를 이용하여 두 제조사별 유의미한 차이가 있는지 검정하라\n",
    "\n",
    "(복기 관련 내용 추가 : 생존분석 데이터는 두개 회사로부터 한 회사가 받은 다수의 특정 부품이 n일후에도 생존했는지에 대한 거)"
   ]
  },
  {
   "cell_type": "code",
   "execution_count": 16,
   "id": "05e2af88",
   "metadata": {},
   "outputs": [
    {
     "data": {
      "text/html": [
       "<div>\n",
       "<style scoped>\n",
       "    .dataframe tbody tr th:only-of-type {\n",
       "        vertical-align: middle;\n",
       "    }\n",
       "\n",
       "    .dataframe tbody tr th {\n",
       "        vertical-align: top;\n",
       "    }\n",
       "\n",
       "    .dataframe thead th {\n",
       "        text-align: right;\n",
       "    }\n",
       "</style>\n",
       "<table border=\"1\" class=\"dataframe\">\n",
       "  <thead>\n",
       "    <tr style=\"text-align: right;\">\n",
       "      <th></th>\n",
       "      <th>소요시간</th>\n",
       "      <th>공장</th>\n",
       "      <th>불량여부</th>\n",
       "    </tr>\n",
       "  </thead>\n",
       "  <tbody>\n",
       "    <tr>\n",
       "      <th>0</th>\n",
       "      <td>42</td>\n",
       "      <td>Y</td>\n",
       "      <td>0</td>\n",
       "    </tr>\n",
       "    <tr>\n",
       "      <th>1</th>\n",
       "      <td>80</td>\n",
       "      <td>X</td>\n",
       "      <td>0</td>\n",
       "    </tr>\n",
       "    <tr>\n",
       "      <th>2</th>\n",
       "      <td>16</td>\n",
       "      <td>X</td>\n",
       "      <td>1</td>\n",
       "    </tr>\n",
       "    <tr>\n",
       "      <th>3</th>\n",
       "      <td>17</td>\n",
       "      <td>Y</td>\n",
       "      <td>0</td>\n",
       "    </tr>\n",
       "    <tr>\n",
       "      <th>4</th>\n",
       "      <td>7</td>\n",
       "      <td>X</td>\n",
       "      <td>1</td>\n",
       "    </tr>\n",
       "  </tbody>\n",
       "</table>\n",
       "</div>"
      ],
      "text/plain": [
       "   소요시간 공장  불량여부\n",
       "0    42  Y     0\n",
       "1    80  X     0\n",
       "2    16  X     1\n",
       "3    17  Y     0\n",
       "4     7  X     1"
      ]
     },
     "execution_count": 16,
     "metadata": {},
     "output_type": "execute_result"
    }
   ],
   "source": [
    "df_survive = pd.read_csv(\"./df_survive.csv\")\n",
    "df_survive.drop(\"Unnamed: 0\", axis=1).head()"
   ]
  },
  {
   "cell_type": "code",
   "execution_count": 17,
   "id": "e978b06a",
   "metadata": {},
   "outputs": [
    {
     "name": "stdout",
     "output_type": "stream",
     "text": [
      "<class 'pandas.core.frame.DataFrame'>\n",
      "RangeIndex: 50 entries, 0 to 49\n",
      "Data columns (total 4 columns):\n",
      " #   Column      Non-Null Count  Dtype \n",
      "---  ------      --------------  ----- \n",
      " 0   Unnamed: 0  50 non-null     int64 \n",
      " 1   소요시간        50 non-null     int64 \n",
      " 2   공장          50 non-null     object\n",
      " 3   불량여부        50 non-null     int64 \n",
      "dtypes: int64(3), object(1)\n",
      "memory usage: 1.7+ KB\n"
     ]
    }
   ],
   "source": [
    "df_survive.info()"
   ]
  },
  {
   "cell_type": "markdown",
   "id": "46f99ab5",
   "metadata": {},
   "source": [
    "### 접근 방법\n",
    "#### 생존분석(Survival Analysis)\n",
    "- 시간에 따른 사건 발생 여부를 분석하는 통계적인 방법론\n",
    "- 사건 발생까지의 시간을 예측하거나 그룹 간의 생존 시간 비교 등을 수행\n",
    "\n",
    "#### 생존분석법 흐름\n",
    "1. 명확하게 그룹을 나눌 필요가 있다면, 나눠서 분석을 수행해야 한다.\n",
    "```python\n",
    "# predict에 기간을 입력하면 timeline의 생존확률 알려줌\n",
    "kmf.predict(시간) \n",
    "```\n",
    "\n",
    "#### log ranktest\n",
    "```python\n",
    "from lifelines.statistics import logrank_test\n",
    "logrank_test(event_times_A, \n",
    "             event_times_B, \n",
    "             event_observed_A=None, \n",
    "             event_observed_B=None, \n",
    "             **kwargs)\n",
    "\n",
    "```\n",
    "\n",
    "- 생존 분석에서 두 개의 생존 곡선 간에 유의미한 차이가 있는지를 평가\n",
    "- 로그 순위법은 두 군 차이에서 유의미한 차이가 있는가를 확인하기 위해 사용\n",
    "- 두 집단의 생존률을 비교하는 비모수적 가설 검정 방법"
   ]
  },
  {
   "cell_type": "markdown",
   "id": "a0f72053",
   "metadata": {},
   "source": [
    "### 1-1) 시간별, 제조사별 불량률을 분석하여 25, 30, 35년 후에 불량률 계산"
   ]
  },
  {
   "cell_type": "code",
   "execution_count": 20,
   "id": "5846d1c3",
   "metadata": {},
   "outputs": [
    {
     "data": {
      "text/plain": [
       "X    28\n",
       "Y    22\n",
       "Name: 공장, dtype: int64"
      ]
     },
     "execution_count": 20,
     "metadata": {},
     "output_type": "execute_result"
    }
   ],
   "source": [
    "df_survive[\"공장\"].value_counts()"
   ]
  },
  {
   "cell_type": "code",
   "execution_count": 19,
   "id": "c21a82b9",
   "metadata": {},
   "outputs": [],
   "source": [
    "# 제조사별 데이터 나누기 \n",
    "\n",
    "df_x = df_survive[df_survive['공장']=='X']\n",
    "df_y = df_survive[df_survive['공장']=='Y']"
   ]
  },
  {
   "cell_type": "code",
   "execution_count": 24,
   "id": "e9ba98cb",
   "metadata": {},
   "outputs": [
    {
     "data": {
      "text/plain": [
       "<AxesSubplot:xlabel='timeline'>"
      ]
     },
     "execution_count": 24,
     "metadata": {},
     "output_type": "execute_result"
    },
    {
     "data": {
      "image/png": "[encoded data removed]",
      "text/plain": [
       "<Figure size 640x480 with 1 Axes>"
      ]
     },
     "metadata": {},
     "output_type": "display_data"
    }
   ],
   "source": [
    "from lifelines import KaplanMeierFitter\n",
    "\n",
    "# 시간별, 제조사별 생존분석 수행 \n",
    "# 1이 불량 발생여부니 1을 불량률로 보아도 될 듯\n",
    "\n",
    "kmf_x = KaplanMeierFitter()\n",
    "kmf_x.fit(df_x['소요시간'], df_x['불량여부'])\n",
    "kmf_x.plot()"
   ]
  },
  {
   "cell_type": "code",
   "execution_count": 25,
   "id": "c67da828",
   "metadata": {},
   "outputs": [
    {
     "data": {
      "text/plain": [
       "<AxesSubplot:xlabel='timeline'>"
      ]
     },
     "execution_count": 25,
     "metadata": {},
     "output_type": "execute_result"
    },
    {
     "data": {
      "image/png": "[encoded data removed]",
      "text/plain": [
       "<Figure size 640x480 with 1 Axes>"
      ]
     },
     "metadata": {},
     "output_type": "display_data"
    }
   ],
   "source": [
    "kmf_y = KaplanMeierFitter()\n",
    "kmf_y.fit(df_y['소요시간'], df_y['불량여부'])\n",
    "kmf_y.plot()"
   ]
  },
  {
   "cell_type": "code",
   "execution_count": 39,
   "id": "13e8439d",
   "metadata": {},
   "outputs": [
    {
     "name": "stdout",
     "output_type": "stream",
     "text": [
      "x의 25년 후 불량률 :  0.771\n",
      "x의 30년 후 불량률 :  0.728\n",
      "x의 35년 후 불량률 :  0.683\n",
      "\n",
      "\n",
      "y의 25년 후 불량률 :  0.952\n",
      "y의 30년 후 불량률 :  0.952\n",
      "y의 35년 후 불량률 :  0.952\n"
     ]
    }
   ],
   "source": [
    "#  25, 30, 35 개월 불량률 계산\n",
    "\n",
    "print(\"x의 25년 후 불량률 : \", round(kmf_x.predict(25), 3))\n",
    "print(\"x의 30년 후 불량률 : \", round(kmf_x.predict(30), 3))\n",
    "print(\"x의 35년 후 불량률 : \", round(kmf_x.predict(35), 3))\n",
    "print(\"\\n\")\n",
    "print(\"y의 25년 후 불량률 : \", round(kmf_y.predict(25), 3))\n",
    "print(\"y의 30년 후 불량률 : \", round(kmf_y.predict(30), 3))\n",
    "print(\"y의 35년 후 불량률 : \", round(kmf_y.predict(35), 3))"
   ]
  },
  {
   "cell_type": "markdown",
   "id": "fc287f70",
   "metadata": {},
   "source": [
    "### 1-2) log ranktest를 이용하여 두 제조사별 유의미한 차이가 있는지 검정하라\n",
    "- 귀무가설 : 두 집단의 생존함수가 동일하다.\n",
    "- 대립가설 : 두 집단의 생존함수가 동일하지 않다. (두 집단의 생존함수가 차이가 있다.)"
   ]
  },
  {
   "cell_type": "code",
   "execution_count": 40,
   "id": "38a774ce",
   "metadata": {},
   "outputs": [
    {
     "data": {
      "text/html": [
       "<div>\n",
       "<style scoped>\n",
       "    .dataframe tbody tr th:only-of-type {\n",
       "        vertical-align: middle;\n",
       "    }\n",
       "\n",
       "    .dataframe tbody tr th {\n",
       "        vertical-align: top;\n",
       "    }\n",
       "\n",
       "    .dataframe thead th {\n",
       "        text-align: right;\n",
       "    }\n",
       "</style>\n",
       "<table border=\"1\" class=\"dataframe\">\n",
       "  <tbody>\n",
       "    <tr>\n",
       "      <th>t_0</th>\n",
       "      <td>-1</td>\n",
       "    </tr>\n",
       "    <tr>\n",
       "      <th>null_distribution</th>\n",
       "      <td>chi squared</td>\n",
       "    </tr>\n",
       "    <tr>\n",
       "      <th>degrees_of_freedom</th>\n",
       "      <td>1</td>\n",
       "    </tr>\n",
       "    <tr>\n",
       "      <th>test_name</th>\n",
       "      <td>logrank_test</td>\n",
       "    </tr>\n",
       "  </tbody>\n",
       "</table>\n",
       "</div><table border=\"1\" class=\"dataframe\">\n",
       "  <thead>\n",
       "    <tr style=\"text-align: right;\">\n",
       "      <th></th>\n",
       "      <th>test_statistic</th>\n",
       "      <th>p</th>\n",
       "      <th>-log2(p)</th>\n",
       "    </tr>\n",
       "  </thead>\n",
       "  <tbody>\n",
       "    <tr>\n",
       "      <th>0</th>\n",
       "      <td>4.94</td>\n",
       "      <td>0.03</td>\n",
       "      <td>5.25</td>\n",
       "    </tr>\n",
       "  </tbody>\n",
       "</table>"
      ],
      "text/latex": [
       "\\begin{tabular}{lrrr}\n",
       " & test_statistic & p & -log2(p) \\\\\n",
       "0 & 4.94 & 0.03 & 5.25 \\\\\n",
       "\\end{tabular}\n"
      ],
      "text/plain": [
       "<lifelines.StatisticalResult: logrank_test>\n",
       "               t_0 = -1\n",
       " null_distribution = chi squared\n",
       "degrees_of_freedom = 1\n",
       "         test_name = logrank_test\n",
       "\n",
       "---\n",
       " test_statistic    p  -log2(p)\n",
       "           4.94 0.03      5.25"
      ]
     },
     "execution_count": 40,
     "metadata": {},
     "output_type": "execute_result"
    }
   ],
   "source": [
    "# 로그 순위법으로 제조사별 차이 검정\n",
    "from lifelines.statistics import logrank_test\n",
    "logrank_test(df_x['소요시간'], df_y['소요시간'], df_x['불량여부'], df_y['불량여부'])"
   ]
  },
  {
   "cell_type": "markdown",
   "id": "64da8771",
   "metadata": {},
   "source": [
    "#### p-value가 0.03으로, 유의수준 0.05보다 작아 귀무가설을 기각한다. \n",
    "#### 즉, 두 집단의 생존함수가 동일하지 않다고 할 수 있다."
   ]
  },
  {
   "cell_type": "markdown",
   "id": "0e5700e6",
   "metadata": {},
   "source": [
    "## < 28회 2번 : 윌콕슨 순위합 검정 / 만 위트니 U검정 >\n",
    "두 고등학교 성적 분포 차이\n",
    "- A 고등학교 12명, B 고등학교 24명\n",
    "- 샘플이 30보다 작음"
   ]
  },
  {
   "cell_type": "markdown",
   "id": "84d591db",
   "metadata": {},
   "source": [
    "### 접근 방법\n",
    "#### 독립 이표본의 비모수 검정\n",
    "1. 두 고등학교 $\\rightarrow$ 이표본, 독립\n",
    "    - 두 고등학교 모두 샘플이 30개보다 작음\n",
    "<br></br>\n",
    "2. B 고등학교에서 정규성 검정을 위해 shapiro test -> p 값이 통계적으로 유의\n",
    "3. **만 위트니 U검정 / 윌콕슨 순위합 검정(Wilcoxon rank-sum test)** 사용 (얘가 실제 시험 풀이)"
   ]
  },
  {
   "cell_type": "markdown",
   "id": "52755f40",
   "metadata": {},
   "source": [
    "- 데이터 없으므로 흐름 참고 !\n",
    "```Python\n",
    "# 정규성 검정\n",
    "print('정규성 검정 상류:', stats.shapiro(df_river['up']))\n",
    "print('정규성 검정 하류:', stats.shapiro(df_river['down']))\n",
    "# 결과에 따라 정규성 여부 판단\n",
    "``` \n",
    "- shapiro 정규성 검정 가설\n",
    "    - 귀무가설 : 정규분포를 따른다.\n",
    "    - 대립가설 : 정규분포를 따르지 않는다.\n",
    "<br></br>\n",
    "- 정규성을 따른다면 독립표본 t검정\n",
    "- 정규성을 위배한다면 윌콕슨 검정"
   ]
  },
  {
   "cell_type": "markdown",
   "id": "ff0b01b6",
   "metadata": {},
   "source": [
    "### 가설\n",
    "- 귀무가설 : 두 고등학교 성적 분포 차이가 없다.\n",
    "- 대립가설 : 두 고등학교 성적 분포 차이가 있다."
   ]
  },
  {
   "cell_type": "code",
   "execution_count": 6,
   "id": "962e3bed",
   "metadata": {},
   "outputs": [
    {
     "name": "stdout",
     "output_type": "stream",
     "text": [
      "Statistic: 18.0\n",
      "p-value: 0.30952380952380953\n"
     ]
    }
   ],
   "source": [
    "from scipy.stats import mannwhitneyu\n",
    "\n",
    "# 두 그룹의 데이터 예시\n",
    "group1 = [12, 15, 17, 18, 20]\n",
    "group2 = [10, 11, 14, 16, 19]\n",
    "\n",
    "# 만 위트니 U 검정 실행\n",
    "# 제공되는 데이터는 df형식일테니 df[\"group1\"] 이런식으로 넣자\n",
    "statistic, p_value = mannwhitneyu(group1, group2, alternative='two-sided')\n",
    "\n",
    "# 결과 출력\n",
    "print(\"Statistic:\", statistic)\n",
    "print(\"p-value:\", p_value)"
   ]
  },
  {
   "cell_type": "code",
   "execution_count": 8,
   "id": "51814869",
   "metadata": {},
   "outputs": [
    {
     "name": "stdout",
     "output_type": "stream",
     "text": [
      "Statistic: 1.1489125293076057\n",
      "p-value: 0.25059205068568424\n"
     ]
    }
   ],
   "source": [
    "from scipy.stats import ranksums\n",
    "\n",
    "# 두 그룹의 데이터 예시\n",
    "group1 = [12, 15, 17, 18, 20]\n",
    "group2 = [10, 11, 14, 16, 19]\n",
    "\n",
    "# 윌콕슨 순위합 검정 실행\n",
    "statistic, p_value = ranksums(group1, group2) # 디폴트 양방검정\n",
    "\n",
    "# 결과 출력\n",
    "print(\"Statistic:\", statistic)\n",
    "print(\"p-value:\", p_value)"
   ]
  },
  {
   "cell_type": "markdown",
   "id": "fdd59d14",
   "metadata": {},
   "source": [
    "## < 28회 3번 : 맥니마 검정 - 대응 2표본, 범주형 >\n",
    "시식 전 후 구매 의도를 가진 사람 비율 차이 검정 (교차표 형식으로 표 그림 제공)\n",
    "```\n",
    "[예시 데이터 확인]\n",
    "              시식_전  시식_후\n",
    "구매의도_있음     9    12\n",
    "구매의도_없음    24    35\n",
    "```"
   ]
  },
  {
   "cell_type": "code",
   "execution_count": 50,
   "id": "02faf280",
   "metadata": {},
   "outputs": [
    {
     "data": {
      "text/html": [
       "<div>\n",
       "<style scoped>\n",
       "    .dataframe tbody tr th:only-of-type {\n",
       "        vertical-align: middle;\n",
       "    }\n",
       "\n",
       "    .dataframe tbody tr th {\n",
       "        vertical-align: top;\n",
       "    }\n",
       "\n",
       "    .dataframe thead th {\n",
       "        text-align: right;\n",
       "    }\n",
       "</style>\n",
       "<table border=\"1\" class=\"dataframe\">\n",
       "  <thead>\n",
       "    <tr style=\"text-align: right;\">\n",
       "      <th></th>\n",
       "      <th>시식_전</th>\n",
       "      <th>시식_후</th>\n",
       "    </tr>\n",
       "  </thead>\n",
       "  <tbody>\n",
       "    <tr>\n",
       "      <th>구매의도_있음</th>\n",
       "      <td>9</td>\n",
       "      <td>12</td>\n",
       "    </tr>\n",
       "    <tr>\n",
       "      <th>구매의도_없음</th>\n",
       "      <td>24</td>\n",
       "      <td>35</td>\n",
       "    </tr>\n",
       "  </tbody>\n",
       "</table>\n",
       "</div>"
      ],
      "text/plain": [
       "         시식_전  시식_후\n",
       "구매의도_있음     9    12\n",
       "구매의도_없음    24    35"
      ]
     },
     "execution_count": 50,
     "metadata": {},
     "output_type": "execute_result"
    }
   ],
   "source": [
    "import pandas as pd\n",
    " \n",
    "table = pd.DataFrame([[9,12], [24,35]], \n",
    "                     index=[\"구매의도_있음\", \"구매의도_없음\"], \n",
    "                     columns=[\"시식_전\", \"시식_후\"])\n",
    "table"
   ]
  },
  {
   "cell_type": "markdown",
   "id": "75b11f76",
   "metadata": {},
   "source": [
    "### 접근 방법\n",
    "-  2개의 대응 표본을 가지고 범주형 변수의 분포가 변화했는지 검정 : 맥네마\n",
    "\n",
    "#### Examples\n",
    "80명을 모집해 프로모션 이벤트를 열고, 이벤트 전후로 상품에 흥미가 있는지를 설문조사하여 얻은 결과가 다음과 같다. 흥미를 갖다가 사라진 사람보다 흥미를 갖지않다가 갖게 된 사람이 더 많았다. 이것이 우연인지 이벤트의 효과인지를 유의수준 0.05로 검정하라.\n",
    "\n",
    "- 가설\n",
    "    - H0 : 흥미가 없다가 있게 된 경우와 있다가 없게된 경우는 동일한 확률로 배분된다.\n",
    "    - H1 : 흥미가 없다가 있게 된 경우와 있다가 없게된 경우는 동일한 확률로 배분되지 않는다.\n",
    "    \n",
    "\n",
    "투표권이 있는 나이의 미국인 1,600명에 대해 대통령 지지율을 조사한 결과로, 1st Survey와 2nd Survey는 한 달 간격으로 조사된 데이터이다.\n",
    "- 가설\n",
    "    - H0 : 1차 조사와 2차 조사의 Approve, Disapprove **비율은 같다.**\n",
    "    - H1 : 1차 조사와 2차 조사의 Approve, Disapprove **비율은 다르다.**"
   ]
  },
  {
   "cell_type": "markdown",
   "id": "ecce381d",
   "metadata": {},
   "source": [
    "### 3-1) 귀무가설과 대립가설을 세우시오.\n",
    "- 귀무가설 : 시식 전, 후의 구매의도를 가진 사람의 비율은 같다.\n",
    "- 대립가설 : 시식 전, 후의 구매의도를 가진 사람의 비율은 같지 않다."
   ]
  },
  {
   "cell_type": "markdown",
   "id": "9a247fd7",
   "metadata": {},
   "source": [
    "### 3-2) 검정 통계량과 유의 확률을 구하고, 연구가설 채택여부를 검정하시오."
   ]
  },
  {
   "cell_type": "code",
   "execution_count": 56,
   "id": "1c1d669f",
   "metadata": {},
   "outputs": [
    {
     "name": "stdout",
     "output_type": "stream",
     "text": [
      "McNemar's Chi-squared test\n",
      "pvalue      0.04550026389635857\n",
      "statistic   4.0\n"
     ]
    }
   ],
   "source": [
    "# 라이브러리 검정\n",
    "from statsmodels.stats.contingency_tables import mcnemar\n",
    "\n",
    "mc = mcnemar(table.values,\n",
    "             exact=False, # True -> 이항분포, False -> 카이제곱분포 사용\n",
    "             correction=False) # correction=False는 연속성 보정 허용 X\n",
    "\n",
    "print(\"McNemar's Chi-squared test\")\n",
    "print(mc)\n",
    "\n",
    "# # 3f 소수점 이하 세자리까지\n",
    "# print(\"검정통계량 {:3f}, p-value {:3f}\".format(mc.statistic, mc.pvalue))"
   ]
  },
  {
   "cell_type": "markdown",
   "id": "0f48b9b3",
   "metadata": {},
   "source": [
    "#### p-value가 약 0.0455로 유의수준 0.05보다 작으므로, 귀무가설을 기각한다.\n",
    "#### 따라서 시식 전, 후의 구매의도를 가진 사람의 비율은 같지 않다고 할 수 있다."
   ]
  },
  {
   "cell_type": "markdown",
   "id": "03f4e8a9",
   "metadata": {},
   "source": [
    "## < 28회 4번 : 편상관분석 >\n",
    "1. 몸무게 제외 나이와 콜레스테롤 상관계수와 유의확률 구하기 (몸무게를 통제했을 때 콜레스테롤 지수와 나이의 영향이 있을까)\n",
    "2. 0.05 하에서 검정 결과 제시 하기"
   ]
  },
  {
   "cell_type": "code",
   "execution_count": 30,
   "id": "03cbd017",
   "metadata": {},
   "outputs": [
    {
     "data": {
      "text/html": [
       "<div>\n",
       "<style scoped>\n",
       "    .dataframe tbody tr th:only-of-type {\n",
       "        vertical-align: middle;\n",
       "    }\n",
       "\n",
       "    .dataframe tbody tr th {\n",
       "        vertical-align: top;\n",
       "    }\n",
       "\n",
       "    .dataframe thead th {\n",
       "        text-align: right;\n",
       "    }\n",
       "</style>\n",
       "<table border=\"1\" class=\"dataframe\">\n",
       "  <thead>\n",
       "    <tr style=\"text-align: right;\">\n",
       "      <th></th>\n",
       "      <th>age</th>\n",
       "      <th>weight</th>\n",
       "      <th>cholesterol</th>\n",
       "    </tr>\n",
       "  </thead>\n",
       "  <tbody>\n",
       "    <tr>\n",
       "      <th>0</th>\n",
       "      <td>50</td>\n",
       "      <td>62.0</td>\n",
       "      <td>1</td>\n",
       "    </tr>\n",
       "    <tr>\n",
       "      <th>1</th>\n",
       "      <td>55</td>\n",
       "      <td>85.0</td>\n",
       "      <td>3</td>\n",
       "    </tr>\n",
       "    <tr>\n",
       "      <th>2</th>\n",
       "      <td>52</td>\n",
       "      <td>64.0</td>\n",
       "      <td>3</td>\n",
       "    </tr>\n",
       "    <tr>\n",
       "      <th>3</th>\n",
       "      <td>48</td>\n",
       "      <td>82.0</td>\n",
       "      <td>1</td>\n",
       "    </tr>\n",
       "    <tr>\n",
       "      <th>4</th>\n",
       "      <td>48</td>\n",
       "      <td>56.0</td>\n",
       "      <td>1</td>\n",
       "    </tr>\n",
       "  </tbody>\n",
       "</table>\n",
       "</div>"
      ],
      "text/plain": [
       "   age  weight  cholesterol\n",
       "0   50    62.0            1\n",
       "1   55    85.0            3\n",
       "2   52    64.0            3\n",
       "3   48    82.0            1\n",
       "4   48    56.0            1"
      ]
     },
     "execution_count": 30,
     "metadata": {},
     "output_type": "execute_result"
    }
   ],
   "source": [
    "# 임의적으로 만든 데이터\n",
    "data = pd.read_csv(\"./df_pcor.csv\")\n",
    "data.head()"
   ]
  },
  {
   "cell_type": "markdown",
   "id": "51bf239a",
   "metadata": {},
   "source": [
    "### 접근 방법\n",
    "#### 편상관분석(Partial Correlation Analysis)\n",
    "- 상관관계를 보는 것이므로 partial_corr함수에서 x, y 바꿔도 동일한 결과\n",
    "- 콜레스테를 지수는 3개의 범주\n",
    "\n",
    "#### 스피어만 상관계수\n",
    "- 서열 척도로 측정된 데이터와 연속형 데이터 간의 상관계수를 계산 \n",
    "<br></br>\n",
    "- 참고 : ANCOVA?\n",
    "    - 주 목적은 한 개의 '종속 변수를 설명'하기 위해 독립 변수와 공변량(covariate) 간의 관계를 조사하는 것\n",
    "    - 그래서 본 문제는 '상관관계'라고 명시했으니 편상관분석을 하는게 맞음. "
   ]
  },
  {
   "cell_type": "markdown",
   "id": "c63148ce",
   "metadata": {},
   "source": [
    "## 4-1) 몸무게 제외 나이와 콜레스테롤 상관계수와 유의확률 구하기\n",
    "$\\rightarrow$몸무게를 통제했을 때 콜레스테롤 지수와 나이의 영향이 있을까"
   ]
  },
  {
   "cell_type": "code",
   "execution_count": 38,
   "id": "832ab229",
   "metadata": {},
   "outputs": [
    {
     "data": {
      "text/plain": [
       "1    52385\n",
       "2     9549\n",
       "3     8066\n",
       "Name: cholesterol, dtype: int64"
      ]
     },
     "execution_count": 38,
     "metadata": {},
     "output_type": "execute_result"
    }
   ],
   "source": [
    "df[\"cholesterol\"].value_counts()"
   ]
  },
  {
   "cell_type": "code",
   "execution_count": 34,
   "id": "1d97d910",
   "metadata": {},
   "outputs": [
    {
     "data": {
      "text/html": [
       "<div>\n",
       "<style scoped>\n",
       "    .dataframe tbody tr th:only-of-type {\n",
       "        vertical-align: middle;\n",
       "    }\n",
       "\n",
       "    .dataframe tbody tr th {\n",
       "        vertical-align: top;\n",
       "    }\n",
       "\n",
       "    .dataframe thead th {\n",
       "        text-align: right;\n",
       "    }\n",
       "</style>\n",
       "<table border=\"1\" class=\"dataframe\">\n",
       "  <thead>\n",
       "    <tr style=\"text-align: right;\">\n",
       "      <th></th>\n",
       "      <th>n</th>\n",
       "      <th>r</th>\n",
       "      <th>CI95%</th>\n",
       "      <th>p-val</th>\n",
       "    </tr>\n",
       "  </thead>\n",
       "  <tbody>\n",
       "    <tr>\n",
       "      <th>spearman</th>\n",
       "      <td>50</td>\n",
       "      <td>0.182556</td>\n",
       "      <td>[-0.1, 0.44]</td>\n",
       "      <td>0.209303</td>\n",
       "    </tr>\n",
       "  </tbody>\n",
       "</table>\n",
       "</div>"
      ],
      "text/plain": [
       "           n         r         CI95%     p-val\n",
       "spearman  50  0.182556  [-0.1, 0.44]  0.209303"
      ]
     },
     "execution_count": 34,
     "metadata": {},
     "output_type": "execute_result"
    }
   ],
   "source": [
    "import pingouin as pg\n",
    "\n",
    "pg.partial_corr(data=data, \n",
    "                x='age', \n",
    "                y='cholesterol', \n",
    "                covar='weight', # 제어변수\n",
    "                method='spearman') # 연속형 x 범주형 = 스피어만"
   ]
  },
  {
   "cell_type": "markdown",
   "id": "e850e305",
   "metadata": {},
   "source": [
    "### 4-2) 0.05 하에서 검정 결과 제시 하기\n",
    "#### p-value가 0.209303으로, 유의수준 0.05보다 크므로 통계적으로 유의한 상관관계가 없다고 할 수 있다.\n",
    "#### 즉,  몸무게를 제어했을 때 콜레스테롤 지수와 나이 간의 상관관계는 통계적으로 유의미하지 않다고 할 수 있다."
   ]
  },
  {
   "cell_type": "markdown",
   "id": "a8c1ddbc",
   "metadata": {},
   "source": [
    "---"
   ]
  },
  {
   "cell_type": "markdown",
   "id": "bdd69fc3",
   "metadata": {},
   "source": [
    "# [ 27회 ]\n"
   ]
  },
  {
   "cell_type": "markdown",
   "id": "3d0305b7",
   "metadata": {},
   "source": [
    "## < 27회 1번  : 기하평균 >\n",
    "2년 전 제품 생산량이 100,000개, 1년 전 제품 생산량이 150,000개, 그 후 팩토리 기술의 상승으로 제품 생산량이 250,000개 되었을 때, 연평균 상승률의 대푯값을 구하시오 (반올림하여 소수점 아래 둘째자리까지 표기하라)"
   ]
  },
  {
   "cell_type": "markdown",
   "id": "b32efe86",
   "metadata": {},
   "source": [
    "### 접근 방법\n",
    "#### 기하평균\n",
    "- 인구증가율, 물가상승율, 경제성장률 등과 같이 **연속적인 변화율 데이터를 기반으로 어느 구간에서의 '평균 변화율'을 구할 때 사용**\n",
    "- **변화율**에 대한 데이터 값 $x_i$ 들을 모두 곱한 후에 데이터의 갯수로 n제곱근을 취한 값\n",
    "\n",
    "$$ \\sqrt[n]{\\prod_{k=1}^n x_i} = (x_1 \\times x_2 \\times \\dots \\times x_{n-1} \\times x_n )^{1/n}$$\n",
    "\n",
    "- 연평균 성장률 (CAGR, compound annual growth rate)\n",
    "\n",
    "<img src=\"https://user-images.githubusercontent.com/119478998/235287878-a16ae605-c2ff-4e4b-abf2-f8031de9ad1e.png\" width=500>\n",
    "<br>\n",
    "<img src=\"https://user-images.githubusercontent.com/119478998/235287971-54d3965d-4669-4d9d-9dba-2d420fe12f45.png\" width=500>"
   ]
  },
  {
   "cell_type": "code",
   "execution_count": null,
   "id": "78409896",
   "metadata": {},
   "outputs": [],
   "source": [
    "p2 = 100000 # 2년 전\n",
    "p1 = 150000 # 1년 전\n",
    "p0 = 250000 # 현재\n",
    "\n",
    "rt1 = (p1/p2) # 10만 -> 15만의 증가율\n",
    "rt2 = (p0/p1) # 10만 -> 15만의 증가율\n",
    "\n",
    "# 100% + 평균증가율(%)로 계산돼서 1.xxx %로 나오기 때문에 1을 빼준다.\n",
    "# -1을 해줌으로써 상승률을 계산\n",
    "geo_mean = np.sqrt(rt1 * rt2) - 1\n",
    "\n",
    "print('기하평균:', round(geo_mean * 100, 2), '%')\n",
    "print('CAGR : ', round(((p0/p2)**(1/2)-1)*100, 2), '%')"
   ]
  },
  {
   "cell_type": "markdown",
   "id": "a9fcf926",
   "metadata": {},
   "source": [
    "설명 참고\n",
    "```python\n",
    "# 10만 -> 15만 의 증가율\n",
    "# => 15/10 = 10/10 + 5/10  = 1 + 0.5 = 100% + 50% = 150%\n",
    "# 즉 50% 증가했고 이를 비율로 나타내면 1.5 \n",
    "rt1 = (p1/p2)  \n",
    "\n",
    "# 10만 -> 15만 의 증가율\n",
    "# 25/15 = 15/15 + 10/15  = 1 + 0.66 = 100% + 66% = 166%\n",
    "# 즉 66% 증가했고 이를 비율로 나타내면 1.66\n",
    "rt2 = (p0/p1) \n",
    "```\n",
    "\n",
    "``` 계산편리를 위해서 p1/p2, p0/p1이 됨\n",
    "이게 100퍼센트에다가 더한것과 같음\n",
    "상승'률'이 궁금한 것\n",
    "\n",
    "ex) 전년대비 120%가 되었다 : 120%가 아니라 20%가 상승, 그래서 100을 빼줌\n",
    "즉 비율에선 1을 빼주는 것과 같음\n",
    "```"
   ]
  },
  {
   "cell_type": "markdown",
   "id": "18b816aa",
   "metadata": {},
   "source": [
    "## < 27회 2번 :  신뢰구간 >\n",
    "12건의 광고 시간 측정. 평균 15.5초, 분산 3.2초 일때 90% 신뢰구간은?"
   ]
  },
  {
   "cell_type": "markdown",
   "id": "fb252646",
   "metadata": {},
   "source": [
    "### 접근 방법\n",
    "#### t 분포 사용\n",
    "- 정규분포를 가정하고, 표본 수가 30건 미만이므로 t-분포를 사용하여 검정\n",
    "\n",
    "```python\n",
    "# t-분포를 기반으로 신뢰구간을 계산하는 라이브러리\n",
    "stats.t.interval(alpha, # 신뢰수준\n",
    "                 df, # 자유도(degree of freedom)로, t-분포의 형태를 결정하는 매개변수\n",
    "                 loc=0, # 분포의 평균\n",
    "                 scale=1) # 분포의 표준편차\n",
    "```"
   ]
  },
  {
   "cell_type": "code",
   "execution_count": 3,
   "id": "8814d22d",
   "metadata": {},
   "outputs": [
    {
     "name": "stdout",
     "output_type": "stream",
     "text": [
      "신뢰구간\n",
      "(14.572609067393861, 16.427390932606137)\n"
     ]
    }
   ],
   "source": [
    "from scipy import stats\n",
    "\n",
    "# 라이브러리\n",
    "\n",
    "mu = 15.5\n",
    "var = 3.2\n",
    "n = 12\n",
    "\n",
    "print('신뢰구간')\n",
    "print(stats.t.interval(alpha=0.9, \n",
    "                       loc=15.5, # 분포의 평균\n",
    "                       scale = np.sqrt(var/n), # 분포의 표준편차\n",
    "                       df = n-1))"
   ]
  },
  {
   "cell_type": "code",
   "execution_count": 6,
   "id": "826c3df8",
   "metadata": {},
   "outputs": [
    {
     "name": "stdout",
     "output_type": "stream",
     "text": [
      "t-분포 기반 신뢰구간: [14.57, 16.43]\n"
     ]
    }
   ],
   "source": [
    "from scipy.stats import t\n",
    "\n",
    "# t-분포 기반 신뢰구간, 수기 작성\n",
    "\n",
    "# 표본평균, 표본표준편차, 표본크기\n",
    "mean = 15.5\n",
    "std = np.sqrt(3.2)\n",
    "n = 12\n",
    "\n",
    "confidence = 0.9\n",
    "\n",
    "t_value = t.ppf((1 + confidence) / 2, n - 1)\n",
    "margin_error = t_value * std / np.sqrt(n)\n",
    "\n",
    "lower_bound = mean - margin_error\n",
    "upper_bound = mean + margin_error\n",
    "\n",
    "print(f\"t-분포 기반 신뢰구간: [{lower_bound:.2f}, {upper_bound:.2f}]\")"
   ]
  },
  {
   "cell_type": "markdown",
   "id": "5859ab82",
   "metadata": {},
   "source": [
    "## < 27회 3번 : paired t-test, 대응표본 t검정 vs. 윌콕슨 부호순위검정 >\n",
    "강의 상류와 하류의 생물 다양성 점수에 차이가 있는지 검정하시오. (단, 같은 강에서 상류와 하류는 서로 독립적이지 않으며, 종속적인 관계에 있다.)\n",
    "\n",
    "1. 귀무가설과 대립가설을 세우시오\n",
    "2. 검정 통계량과 유의 확률을 구하고, 연구가설 채택여부를 검정하시오.\n"
   ]
  },
  {
   "cell_type": "code",
   "execution_count": 39,
   "id": "1e4f9719",
   "metadata": {},
   "outputs": [
    {
     "data": {
      "text/html": [
       "<div>\n",
       "<style scoped>\n",
       "    .dataframe tbody tr th:only-of-type {\n",
       "        vertical-align: middle;\n",
       "    }\n",
       "\n",
       "    .dataframe tbody tr th {\n",
       "        vertical-align: top;\n",
       "    }\n",
       "\n",
       "    .dataframe thead th {\n",
       "        text-align: right;\n",
       "    }\n",
       "</style>\n",
       "<table border=\"1\" class=\"dataframe\">\n",
       "  <thead>\n",
       "    <tr style=\"text-align: right;\">\n",
       "      <th></th>\n",
       "      <th>River</th>\n",
       "      <th>up</th>\n",
       "      <th>down</th>\n",
       "    </tr>\n",
       "  </thead>\n",
       "  <tbody>\n",
       "    <tr>\n",
       "      <th>0</th>\n",
       "      <td>A</td>\n",
       "      <td>57.1</td>\n",
       "      <td>45.7</td>\n",
       "    </tr>\n",
       "    <tr>\n",
       "      <th>1</th>\n",
       "      <td>B</td>\n",
       "      <td>51.6</td>\n",
       "      <td>37.2</td>\n",
       "    </tr>\n",
       "    <tr>\n",
       "      <th>2</th>\n",
       "      <td>C</td>\n",
       "      <td>53.9</td>\n",
       "      <td>53.3</td>\n",
       "    </tr>\n",
       "    <tr>\n",
       "      <th>3</th>\n",
       "      <td>D</td>\n",
       "      <td>59.0</td>\n",
       "      <td>54.3</td>\n",
       "    </tr>\n",
       "    <tr>\n",
       "      <th>4</th>\n",
       "      <td>E</td>\n",
       "      <td>57.5</td>\n",
       "      <td>46.3</td>\n",
       "    </tr>\n",
       "  </tbody>\n",
       "</table>\n",
       "</div>"
      ],
      "text/plain": [
       "  River    up  down\n",
       "0     A  57.1  45.7\n",
       "1     B  51.6  37.2\n",
       "2     C  53.9  53.3\n",
       "3     D  59.0  54.3\n",
       "4     E  57.5  46.3"
      ]
     },
     "execution_count": 39,
     "metadata": {},
     "output_type": "execute_result"
    }
   ],
   "source": [
    "df_river = pd.read_csv('https://raw.githubusercontent.com/Datamanim/datarepo/main/adp/27/river.csv')\n",
    "df_river.head()"
   ]
  },
  {
   "cell_type": "code",
   "execution_count": 40,
   "id": "0ba534f1",
   "metadata": {},
   "outputs": [
    {
     "name": "stdout",
     "output_type": "stream",
     "text": [
      "<class 'pandas.core.frame.DataFrame'>\n",
      "RangeIndex: 19 entries, 0 to 18\n",
      "Data columns (total 3 columns):\n",
      " #   Column  Non-Null Count  Dtype  \n",
      "---  ------  --------------  -----  \n",
      " 0   River   19 non-null     object \n",
      " 1   up      19 non-null     float64\n",
      " 2   down    19 non-null     float64\n",
      "dtypes: float64(2), object(1)\n",
      "memory usage: 584.0+ bytes\n"
     ]
    }
   ],
   "source": [
    "df_river.info()"
   ]
  },
  {
   "cell_type": "markdown",
   "id": "dee83424",
   "metadata": {},
   "source": [
    "### 접근 방법   \n",
    "#### 1. 데이터 확인 후, 검정방법 결정\n",
    "- t-분포를 사용하여 검정\n",
    "- 같은 강, 상/하류간 종속 $\\rightarrow$ 대응표본 검정\n",
    "\n",
    "#### 2. 검정방법의 가정이 만족 하는지 확인\n",
    "- 표본의 수가 30개 미만인 경우 $\\rightarrow$ 정규성검정을 통해 정규성을 입증해야 함\n",
    "    - t-검정에서는 중심극한정리를 사용하여 정규분포를 가정하기 때문에 표본의 수가 30개 이상 이어야 하기 때문\n",
    "- 정규성검정이 기각 $\\rightarrow$ 비모수적 방법 사용 (윌콕슨 순위합검정)\n",
    "- 샘플 사이즈가 너무 작은 경우 $\\rightarrow$ 정규성 검정 불가능\n",
    "\n",
    "#### 3. 가정 확인\n",
    "- 상/하류의 데이터(변수) 각각 정규성 검정\n",
    "    - shapiro 정규성 검정 H0: 정규분포를 따른다.\n",
    "    - shapiro 정규성 검정 H1: 정규분포를 따르지 않는다.\n",
    "<br></br>\n",
    "- 아래 샘플 데이터는 p값이 둘 다 0.05를 초과하여 정규성을 만족함. $\\rightarrow$ paird t-test\n",
    "- 실제 시험에선 하나가 정규성을 만족하지 못함 => 윌콕슨부호검정 해야함"
   ]
  },
  {
   "cell_type": "markdown",
   "id": "9a67660e",
   "metadata": {},
   "source": [
    "### 3-1) 귀무가설과 대립가설을 세우시오.\n",
    "- 귀무가설 : 강의 상류와 하류의 생물 다양성 점수에 차이가 없다.\n",
    "- 대립가설 : 강의 상류와 하류의 생물 다양성 점수에 차이가 있다."
   ]
  },
  {
   "cell_type": "markdown",
   "id": "eb482c70",
   "metadata": {},
   "source": [
    "### 3-2) 검정 통계량과 유의 확률을 구하고, 연구가설 채택여부를 검정하시오."
   ]
  },
  {
   "cell_type": "markdown",
   "id": "d98a4e2d",
   "metadata": {},
   "source": [
    "#### 정규성 검정"
   ]
  },
  {
   "cell_type": "code",
   "execution_count": 42,
   "id": "b532cd8c",
   "metadata": {},
   "outputs": [
    {
     "name": "stdout",
     "output_type": "stream",
     "text": [
      "정규성 검정 상류: ShapiroResult(statistic=0.9635884165763855, pvalue=0.6447699666023254)\n",
      "정규성 검정 하류: ShapiroResult(statistic=0.9821230173110962, pvalue=0.9640804529190063)\n"
     ]
    }
   ],
   "source": [
    "print('정규성 검정 상류:', stats.shapiro(df_river['up']))\n",
    "print('정규성 검정 하류:', stats.shapiro(df_river['down']))"
   ]
  },
  {
   "cell_type": "markdown",
   "id": "43032c33",
   "metadata": {},
   "source": [
    "#### 이 데이터는 상류, 하류의 p-value가 유의수준 0.05보다 크므로 귀무가설을 기각하지 않는다.\n",
    "#### 따라서 정규성을 따른다고 할 수 있고, 대응표본 t-검정을 진행한다."
   ]
  },
  {
   "cell_type": "code",
   "execution_count": 45,
   "id": "5a2f3101",
   "metadata": {},
   "outputs": [
    {
     "data": {
      "text/plain": [
       "Ttest_relResult(statistic=1.2922226959983891, pvalue=0.21262429174344777)"
      ]
     },
     "execution_count": 45,
     "metadata": {},
     "output_type": "execute_result"
    }
   ],
   "source": [
    "# 정규성 만족, paired t-test 실행\n",
    "import scipy.stats as stats\n",
    "stats.ttest_rel(df_river['up'],df_river['down']) # default two-sided"
   ]
  },
  {
   "cell_type": "markdown",
   "id": "ebbb892e",
   "metadata": {},
   "source": [
    "#### p-value가 0.21로 유의수준 0.05보다 크므로, 귀무가설을 기각하지 않는다.\n",
    "#### 따라서 강의 상류와 하류의 생물 다양성 점수에 차이가 없다고 할 수 있다."
   ]
  },
  {
   "cell_type": "markdown",
   "id": "3a05322f",
   "metadata": {},
   "source": [
    "### 참고 : 정규성 가정 위배 $\\rightarrow$ 윌콕슨 부호검정 "
   ]
  },
  {
   "cell_type": "markdown",
   "id": "5c154516",
   "metadata": {},
   "source": [
    "- 둘 중 하나가 정규성을 만족하지 못해\n",
    "- stats.ttest_rel을 쓰지 못하고, 윌콕슨 부호검정 수행\n",
    "\n",
    "### 대응표본 검정 => stats.ttest_rel(df_river['up'], df_river['down']))\n",
    "- 귀무가설 : 강의 상류와 하류의 생물 다양성 점수에 차이가 없다.\n",
    "- 실제 데이터에선 부호검정 결과 p값이 0.05 미만으로 나와 귀무가설을 기각\n",
    "- 즉, 상-하류간 어류 다양성 점수에 유의미한 차이가 있다."
   ]
  },
  {
   "cell_type": "code",
   "execution_count": 43,
   "id": "dda2685e",
   "metadata": {},
   "outputs": [
    {
     "name": "stdout",
     "output_type": "stream",
     "text": [
      "WilcoxonResult(statistic=64.5, pvalue=0.24125289916992188)\n"
     ]
    }
   ],
   "source": [
    "# 여기선 데이터가 달라서 기각이 안됨\n",
    "print(stats.wilcoxon(df_river['up'], df_river['down']))"
   ]
  },
  {
   "cell_type": "markdown",
   "id": "8348bbee",
   "metadata": {},
   "source": [
    "## < 27회 4번 : 분위수 회귀분석 (Quntile Regression) >\n",
    "user_counts를 종속변수로 하는 데이터이다.\n",
    "1. 분위수 회귀분석 (Quantile Regression) 을 사용하여 회귀 계수를 구하시오. (반올림하여 소수점 아래 둘째자리까지 표기하시오.)\n",
    "2. 8.1의 모델의 회귀계수를 활용하여 temperature : 10.5 , wind : 8.2 , precipitation : 3.5 일때 user_counts를 예측하시오"
   ]
  },
  {
   "cell_type": "code",
   "execution_count": 8,
   "id": "1a2fdf4a",
   "metadata": {},
   "outputs": [
    {
     "data": {
      "text/html": [
       "<div>\n",
       "<style scoped>\n",
       "    .dataframe tbody tr th:only-of-type {\n",
       "        vertical-align: middle;\n",
       "    }\n",
       "\n",
       "    .dataframe tbody tr th {\n",
       "        vertical-align: top;\n",
       "    }\n",
       "\n",
       "    .dataframe thead th {\n",
       "        text-align: right;\n",
       "    }\n",
       "</style>\n",
       "<table border=\"1\" class=\"dataframe\">\n",
       "  <thead>\n",
       "    <tr style=\"text-align: right;\">\n",
       "      <th></th>\n",
       "      <th>temperature</th>\n",
       "      <th>wind</th>\n",
       "      <th>precipitation</th>\n",
       "      <th>user_counts</th>\n",
       "    </tr>\n",
       "  </thead>\n",
       "  <tbody>\n",
       "    <tr>\n",
       "      <th>0</th>\n",
       "      <td>10.400000</td>\n",
       "      <td>4.600</td>\n",
       "      <td>0.844944</td>\n",
       "      <td>6368</td>\n",
       "    </tr>\n",
       "    <tr>\n",
       "      <th>1</th>\n",
       "      <td>5.666667</td>\n",
       "      <td>4.625</td>\n",
       "      <td>0.040860</td>\n",
       "      <td>5902</td>\n",
       "    </tr>\n",
       "    <tr>\n",
       "      <th>2</th>\n",
       "      <td>4.933333</td>\n",
       "      <td>4.725</td>\n",
       "      <td>0.008696</td>\n",
       "      <td>6226</td>\n",
       "    </tr>\n",
       "    <tr>\n",
       "      <th>3</th>\n",
       "      <td>3.400000</td>\n",
       "      <td>2.675</td>\n",
       "      <td>0.156989</td>\n",
       "      <td>5829</td>\n",
       "    </tr>\n",
       "    <tr>\n",
       "      <th>4</th>\n",
       "      <td>8.900000</td>\n",
       "      <td>3.950</td>\n",
       "      <td>7.988462</td>\n",
       "      <td>7589</td>\n",
       "    </tr>\n",
       "  </tbody>\n",
       "</table>\n",
       "</div>"
      ],
      "text/plain": [
       "   temperature   wind  precipitation  user_counts\n",
       "0    10.400000  4.600       0.844944         6368\n",
       "1     5.666667  4.625       0.040860         5902\n",
       "2     4.933333  4.725       0.008696         6226\n",
       "3     3.400000  2.675       0.156989         5829\n",
       "4     8.900000  3.950       7.988462         7589"
      ]
     },
     "execution_count": 8,
     "metadata": {},
     "output_type": "execute_result"
    }
   ],
   "source": [
    "import pandas as pd\n",
    "import numpy as np\n",
    "\n",
    "df_user = pd.read_csv('https://raw.githubusercontent.com/Datamanim/datarepo/main/adp/27/problem8.csv')\n",
    "df_user.head()"
   ]
  },
  {
   "cell_type": "markdown",
   "id": "b3ff6343",
   "metadata": {},
   "source": [
    "### 접근 방법\n",
    "#### 분위수 회귀분석 (Quntile Regression)\n",
    "- Quantile regression은 일반적인 회귀분석에서 종속변수의 조건부 평균 대신 조건부 분위수를 추정하는 방법\n",
    "- 이 방법은 종속변수와 독립변수 간의 비선형 관계, 이상치 또는 이상치에 민감한 회귀모형을 처리하는 데 유용\n",
    "<br/>\n",
    "\n",
    "#### 장점\n",
    "- 조건부 분위수 추정\n",
    "    - Quantile regression은 종속변수의 분위수를 추정하므로 종속변수의 분포에 대한 정보를 제공\n",
    "    - 즉, 회귀모형이 어떤 구간에서 더 불안정한지를 파악 가능\n",
    "- 이상치에 민감하지 않음\n",
    "    - 일반적인 회귀분석은 이상치에 민감하게 작동할 수 있음\n",
    "    - 그러나 Quantile regression은 중앙값과 같은 중심적인 분위수에서 이상치에 대한 영향력이 상대적으로 낮아짐\n",
    "- 비선형성을 처리할 수 있음\n",
    "    - 종속변수와 독립변수 간의 비선형 관계가 있는 경우, 일반적인 회귀분석에서는 이를 처리하기 어려움\n",
    "    - 그러나 Quantile regression은 비선형성을 쉽게 처리 가능\n",
    "    \n",
    "<br/>\n",
    "\n",
    "- 예시\n",
    "    - 의료 분야: 환자의 진단 결과를 예측하거나 치료의 효과를 예측하는 데 사용\n",
    "    - 경제학에서는 소득 분포나 소비 패턴을 분석하는 데 사용\n",
    "    - 기후학에서는 기온이나 강수량의 분포를 예측하는 데 사용."
   ]
  },
  {
   "cell_type": "markdown",
   "id": "6e0cef80",
   "metadata": {},
   "source": [
    "### 8-1) 분위수 회귀분석 (Quantile Regression) 을 사용하여 회귀 계수를 구하시오. \n",
    "(반올림하여 소수점 아래 둘째자리까지 표기하시오.)"
   ]
  },
  {
   "cell_type": "code",
   "execution_count": 22,
   "id": "dc5cfb47",
   "metadata": {},
   "outputs": [
    {
     "data": {
      "text/html": [
       "<table class=\"simpletable\">\n",
       "<caption>QuantReg Regression Results</caption>\n",
       "<tr>\n",
       "  <th>Dep. Variable:</th>    <td>user_counts</td>   <th>  Pseudo R-squared:  </th> <td>  0.3723</td>\n",
       "</tr>\n",
       "<tr>\n",
       "  <th>Model:</th>             <td>QuantReg</td>     <th>  Bandwidth:         </th> <td>   840.9</td>\n",
       "</tr>\n",
       "<tr>\n",
       "  <th>Method:</th>          <td>Least Squares</td>  <th>  Sparsity:          </th> <td>   5590.</td>\n",
       "</tr>\n",
       "<tr>\n",
       "  <th>Date:</th>          <td>Sat, 27 May 2023</td> <th>  No. Observations:  </th>  <td>  2097</td> \n",
       "</tr>\n",
       "<tr>\n",
       "  <th>Time:</th>              <td>15:39:26</td>     <th>  Df Residuals:      </th>  <td>  2093</td> \n",
       "</tr>\n",
       "<tr>\n",
       "  <th> </th>                      <td> </td>        <th>  Df Model:          </th>  <td>     3</td> \n",
       "</tr>\n",
       "</table>\n",
       "<table class=\"simpletable\">\n",
       "<tr>\n",
       "        <td></td>           <th>coef</th>     <th>std err</th>      <th>t</th>      <th>P>|t|</th>  <th>[0.025</th>    <th>0.975]</th>  \n",
       "</tr>\n",
       "<tr>\n",
       "  <th>Intercept</th>     <td> 5941.8395</td> <td>  198.127</td> <td>   29.990</td> <td> 0.000</td> <td> 5553.293</td> <td> 6330.386</td>\n",
       "</tr>\n",
       "<tr>\n",
       "  <th>temperature</th>   <td>  268.8920</td> <td>    6.571</td> <td>   40.918</td> <td> 0.000</td> <td>  256.005</td> <td>  281.779</td>\n",
       "</tr>\n",
       "<tr>\n",
       "  <th>wind</th>          <td> -129.4050</td> <td>   46.259</td> <td>   -2.797</td> <td> 0.005</td> <td> -220.124</td> <td>  -38.686</td>\n",
       "</tr>\n",
       "<tr>\n",
       "  <th>precipitation</th> <td>  -83.3843</td> <td>    7.891</td> <td>  -10.567</td> <td> 0.000</td> <td>  -98.859</td> <td>  -67.910</td>\n",
       "</tr>\n",
       "</table>"
      ],
      "text/plain": [
       "<class 'statsmodels.iolib.summary.Summary'>\n",
       "\"\"\"\n",
       "                         QuantReg Regression Results                          \n",
       "==============================================================================\n",
       "Dep. Variable:            user_counts   Pseudo R-squared:               0.3723\n",
       "Model:                       QuantReg   Bandwidth:                       840.9\n",
       "Method:                 Least Squares   Sparsity:                        5590.\n",
       "Date:                Sat, 27 May 2023   No. Observations:                 2097\n",
       "Time:                        15:39:26   Df Residuals:                     2093\n",
       "                                        Df Model:                            3\n",
       "=================================================================================\n",
       "                    coef    std err          t      P>|t|      [0.025      0.975]\n",
       "---------------------------------------------------------------------------------\n",
       "Intercept      5941.8395    198.127     29.990      0.000    5553.293    6330.386\n",
       "temperature     268.8920      6.571     40.918      0.000     256.005     281.779\n",
       "wind           -129.4050     46.259     -2.797      0.005    -220.124     -38.686\n",
       "precipitation   -83.3843      7.891    -10.567      0.000     -98.859     -67.910\n",
       "=================================================================================\n",
       "\"\"\""
      ]
     },
     "metadata": {},
     "output_type": "display_data"
    },
    {
     "name": "stdout",
     "output_type": "stream",
     "text": [
      "Intercept        5941.839469\n",
      "temperature       268.892015\n",
      "wind             -129.405013\n",
      "precipitation     -83.384281\n",
      "dtype: float64\n"
     ]
    }
   ],
   "source": [
    "# formula를 이용하는 smf.ols()는 자동으로 상수항 가정\n",
    "import statsmodels.formula.api as smf\n",
    "\n",
    "# 모델링\n",
    "formula = 'user_counts ~ temperature + wind + precipitation'\n",
    "model = smf.quantreg(formula, df_user)\n",
    "result = model.fit(q=0.5) # 백분위 50%\n",
    "\n",
    "display(result.summary())\n",
    "print(result.params)"
   ]
  },
  {
   "cell_type": "code",
   "execution_count": 21,
   "id": "1a504b3f",
   "metadata": {},
   "outputs": [
    {
     "name": "stdout",
     "output_type": "stream",
     "text": [
      "각 회귀 계수. 소수점 2자리 반올림\n",
      "===================================\n",
      "temperature : 268.89\n",
      "wind : -129.41\n",
      "precipitation : -83.38\n"
     ]
    }
   ],
   "source": [
    "# intercept가 0부터 시작하므로 회귀계수만 가져오려고 1부터 시작\n",
    "names = result.params[1:].index    \n",
    "values = result.params[1:].values \n",
    "\n",
    "print('각 회귀 계수. 소수점 2자리 반올림')\n",
    "print('======='*5)\n",
    "for name, val in zip(names, values) :\n",
    "    print(name, ':', round(val, 2))"
   ]
  },
  {
   "cell_type": "markdown",
   "id": "fcaa43f6",
   "metadata": {},
   "source": [
    "### 8-2) 8-1의 모델의 회귀계수를 활용하여 temperature : 10.5 , wind : 8.2 , precipitation : 3.5 일때 user_counts를 예측하시오."
   ]
  },
  {
   "cell_type": "code",
   "execution_count": 23,
   "id": "0af53a35",
   "metadata": {},
   "outputs": [
    {
     "name": "stdout",
     "output_type": "stream",
     "text": [
      "user_counts: [7412.23953726]\n"
     ]
    }
   ],
   "source": [
    "df_sample = pd.DataFrame(data={'temperature':[10.5], \n",
    "                               'wind': [8.2], \n",
    "                               'precipitation': [3.5]})\n",
    "\n",
    "y_predict = result.predict(df_sample)\n",
    "print('user_counts:', y_predict.values)"
   ]
  },
  {
   "cell_type": "markdown",
   "id": "065f3388",
   "metadata": {},
   "source": [
    "## < 27회 5번 : Type 3 ANOVA >\n",
    "지하철 호선과 월별, 승객 수 간 상관관계가 있는 지 확인 (Type III Anova 사용)\n",
    "1. 귀무가설과 대립가설을 설정하라\n",
    "2. 검정통계량과 유의확률을 구하고, 대립가설 채택여부를 기술하라 (반올림하여 소수점 아래 둘째자리까지 표기하시오)"
   ]
  },
  {
   "cell_type": "code",
   "execution_count": 5,
   "id": "86663e12",
   "metadata": {},
   "outputs": [
    {
     "data": {
      "text/html": [
       "<div>\n",
       "<style scoped>\n",
       "    .dataframe tbody tr th:only-of-type {\n",
       "        vertical-align: middle;\n",
       "    }\n",
       "\n",
       "    .dataframe tbody tr th {\n",
       "        vertical-align: top;\n",
       "    }\n",
       "\n",
       "    .dataframe thead th {\n",
       "        text-align: right;\n",
       "    }\n",
       "</style>\n",
       "<table border=\"1\" class=\"dataframe\">\n",
       "  <thead>\n",
       "    <tr style=\"text-align: right;\">\n",
       "      <th></th>\n",
       "      <th>line</th>\n",
       "      <th>month</th>\n",
       "      <th>total</th>\n",
       "    </tr>\n",
       "  </thead>\n",
       "  <tbody>\n",
       "    <tr>\n",
       "      <th>0</th>\n",
       "      <td>1</td>\n",
       "      <td>1</td>\n",
       "      <td>1310</td>\n",
       "    </tr>\n",
       "    <tr>\n",
       "      <th>1</th>\n",
       "      <td>1</td>\n",
       "      <td>2</td>\n",
       "      <td>1300</td>\n",
       "    </tr>\n",
       "    <tr>\n",
       "      <th>2</th>\n",
       "      <td>1</td>\n",
       "      <td>3</td>\n",
       "      <td>1305</td>\n",
       "    </tr>\n",
       "    <tr>\n",
       "      <th>3</th>\n",
       "      <td>1</td>\n",
       "      <td>4</td>\n",
       "      <td>1200</td>\n",
       "    </tr>\n",
       "    <tr>\n",
       "      <th>4</th>\n",
       "      <td>1</td>\n",
       "      <td>5</td>\n",
       "      <td>1301</td>\n",
       "    </tr>\n",
       "  </tbody>\n",
       "</table>\n",
       "</div>"
      ],
      "text/plain": [
       "   line  month  total\n",
       "0     1      1   1310\n",
       "1     1      2   1300\n",
       "2     1      3   1305\n",
       "3     1      4   1200\n",
       "4     1      5   1301"
      ]
     },
     "execution_count": 5,
     "metadata": {},
     "output_type": "execute_result"
    }
   ],
   "source": [
    "import pandas as pd\n",
    "df_subway = pd.read_csv('https://github.com/johyunkang/adp_certificate/files/10883822/subway.csv')\n",
    "df_subway.head()"
   ]
  },
  {
   "cell_type": "markdown",
   "id": "fd471de8",
   "metadata": {},
   "source": [
    "### 접근 방법\n",
    "- 상호작용 = 교호작용 $\\rightarrow$ 다원분산분석\n",
    "\n",
    "#### Type 3 ANOVA란?\n",
    "- **비균형설계자료**의 경우 사용하는 분산분석 방법\n",
    "- value_counts()로 값들 확인해보고, 비균형설계임을 간단히라도 언급해주자 !\n",
    "- anova_lm 옵션에 typ=3만 추가해주면 됨\n",
    "\n",
    "```python\n",
    "print(anova_lm(model, typ=3))     # type 3 ANOVA\n",
    "```"
   ]
  },
  {
   "cell_type": "code",
   "execution_count": 20,
   "id": "d9831eca",
   "metadata": {},
   "outputs": [
    {
     "name": "stdout",
     "output_type": "stream",
     "text": [
      "<class 'pandas.core.frame.DataFrame'>\n",
      "RangeIndex: 72 entries, 0 to 71\n",
      "Data columns (total 3 columns):\n",
      " #   Column  Non-Null Count  Dtype\n",
      "---  ------  --------------  -----\n",
      " 0   line    72 non-null     int64\n",
      " 1   month   72 non-null     int64\n",
      " 2   total   72 non-null     int64\n",
      "dtypes: int64(3)\n",
      "memory usage: 1.8 KB\n"
     ]
    }
   ],
   "source": [
    "df_subway.info()"
   ]
  },
  {
   "cell_type": "code",
   "execution_count": 21,
   "id": "24f7f8fa",
   "metadata": {},
   "outputs": [
    {
     "data": {
      "text/plain": [
       "1    24\n",
       "2    24\n",
       "3    24\n",
       "Name: line, dtype: int64"
      ]
     },
     "execution_count": 21,
     "metadata": {},
     "output_type": "execute_result"
    }
   ],
   "source": [
    "df_subway[\"line\"].value_counts()"
   ]
  },
  {
   "cell_type": "code",
   "execution_count": 22,
   "id": "7a4a5cd1",
   "metadata": {},
   "outputs": [
    {
     "data": {
      "text/plain": [
       "1     6\n",
       "2     6\n",
       "3     6\n",
       "4     6\n",
       "5     6\n",
       "6     6\n",
       "7     6\n",
       "8     6\n",
       "9     6\n",
       "10    6\n",
       "11    6\n",
       "12    6\n",
       "Name: month, dtype: int64"
      ]
     },
     "execution_count": 22,
     "metadata": {},
     "output_type": "execute_result"
    }
   ],
   "source": [
    "df_subway[\"month\"].value_counts()"
   ]
  },
  {
   "cell_type": "markdown",
   "id": "f6996505",
   "metadata": {},
   "source": [
    "### 5-1) 귀무가설과 대립가설을 설정하라\n",
    "- 귀무가설(H0) : 지하철 호선과 월별은, 승객 수와 상관관계가 없다.\n",
    "- 대립가설(H1) : 지하철 호선과 월별은, 승객 수와 상관관계가 있다.\n",
    "\n",
    "\n",
    "```\n",
    "가. 상호작용효과 검정에 대한 가설\n",
    "- 귀무가설 H0: 지하철 호선과 월별, 승객 수 간 상관관계가 없다.\n",
    "- 대립가설 H1: 지하철 호선과 월별, 승객 수 간 상관관계가 있다.\n",
    "\n",
    "나. 주효과 검정에 대한 가설\n",
    "- 귀무가설 H0: 지하철 호선 승객 수 차이는 존재하지 않는다.\n",
    "- 대립가설 H1: 지하철 호선 승객 수 차이는 존재한다.\n",
    "\n",
    "- 귀무가설 H0: 월별 승객 수 차이는 존재하지 않는다.\n",
    "- 대립가설 H1: 월별 승객 수 차이는 존재한다.\n",
    "```"
   ]
  },
  {
   "cell_type": "markdown",
   "id": "36e9c416",
   "metadata": {},
   "source": [
    "### 5-2) 검정통계량과 유의확률을 구하고, 대립가설 채택여부를 기술하라 (반올림하여 소수점 아래 둘째자리까지 표기하시오)"
   ]
  },
  {
   "cell_type": "code",
   "execution_count": 26,
   "id": "ee5d4a4c",
   "metadata": {
    "scrolled": true
   },
   "outputs": [
    {
     "data": {
      "text/html": [
       "<table class=\"simpletable\">\n",
       "<caption>OLS Regression Results</caption>\n",
       "<tr>\n",
       "  <th>Dep. Variable:</th>          <td>total</td>      <th>  R-squared:         </th> <td>   0.998</td>\n",
       "</tr>\n",
       "<tr>\n",
       "  <th>Model:</th>                   <td>OLS</td>       <th>  Adj. R-squared:    </th> <td>   0.997</td>\n",
       "</tr>\n",
       "<tr>\n",
       "  <th>Method:</th>             <td>Least Squares</td>  <th>  F-statistic:       </th> <td>   627.8</td>\n",
       "</tr>\n",
       "<tr>\n",
       "  <th>Date:</th>             <td>Fri, 26 May 2023</td> <th>  Prob (F-statistic):</th> <td>2.18e-41</td>\n",
       "</tr>\n",
       "<tr>\n",
       "  <th>Time:</th>                 <td>13:45:11</td>     <th>  Log-Likelihood:    </th> <td> -244.27</td>\n",
       "</tr>\n",
       "<tr>\n",
       "  <th>No. Observations:</th>      <td>    72</td>      <th>  AIC:               </th> <td>   560.5</td>\n",
       "</tr>\n",
       "<tr>\n",
       "  <th>Df Residuals:</th>          <td>    36</td>      <th>  BIC:               </th> <td>   642.5</td>\n",
       "</tr>\n",
       "<tr>\n",
       "  <th>Df Model:</th>              <td>    35</td>      <th>                     </th>     <td> </td>   \n",
       "</tr>\n",
       "<tr>\n",
       "  <th>Covariance Type:</th>      <td>nonrobust</td>    <th>                     </th>     <td> </td>   \n",
       "</tr>\n",
       "</table>\n",
       "<table class=\"simpletable\">\n",
       "<tr>\n",
       "               <td></td>                  <th>coef</th>     <th>std err</th>      <th>t</th>      <th>P>|t|</th>  <th>[0.025</th>    <th>0.975]</th>  \n",
       "</tr>\n",
       "<tr>\n",
       "  <th>Intercept</th>                   <td> 1316.5000</td> <td>    7.198</td> <td>  182.908</td> <td> 0.000</td> <td> 1301.903</td> <td> 1331.097</td>\n",
       "</tr>\n",
       "<tr>\n",
       "  <th>C(line)[T.2]</th>                <td>  321.5000</td> <td>   10.179</td> <td>   31.585</td> <td> 0.000</td> <td>  300.856</td> <td>  342.144</td>\n",
       "</tr>\n",
       "<tr>\n",
       "  <th>C(line)[T.3]</th>                <td>   10.0000</td> <td>   10.179</td> <td>    0.982</td> <td> 0.332</td> <td>  -10.644</td> <td>   30.644</td>\n",
       "</tr>\n",
       "<tr>\n",
       "  <th>C(month)[T.2]</th>               <td>  -10.0000</td> <td>   10.179</td> <td>   -0.982</td> <td> 0.332</td> <td>  -30.644</td> <td>   10.644</td>\n",
       "</tr>\n",
       "<tr>\n",
       "  <th>C(month)[T.3]</th>               <td>   -5.0000</td> <td>   10.179</td> <td>   -0.491</td> <td> 0.626</td> <td>  -25.644</td> <td>   15.644</td>\n",
       "</tr>\n",
       "<tr>\n",
       "  <th>C(month)[T.4]</th>               <td> -110.5000</td> <td>   10.179</td> <td>  -10.856</td> <td> 0.000</td> <td> -131.144</td> <td>  -89.856</td>\n",
       "</tr>\n",
       "<tr>\n",
       "  <th>C(month)[T.5]</th>               <td>   -9.0000</td> <td>   10.179</td> <td>   -0.884</td> <td> 0.382</td> <td>  -29.644</td> <td>   11.644</td>\n",
       "</tr>\n",
       "<tr>\n",
       "  <th>C(month)[T.6]</th>               <td>   -6.0000</td> <td>   10.179</td> <td>   -0.589</td> <td> 0.559</td> <td>  -26.644</td> <td>   14.644</td>\n",
       "</tr>\n",
       "<tr>\n",
       "  <th>C(month)[T.7]</th>               <td>   20.0000</td> <td>   10.179</td> <td>    1.965</td> <td> 0.057</td> <td>   -0.644</td> <td>   40.644</td>\n",
       "</tr>\n",
       "<tr>\n",
       "  <th>C(month)[T.8]</th>               <td>  -80.5000</td> <td>   10.179</td> <td>   -7.908</td> <td> 0.000</td> <td> -101.144</td> <td>  -59.856</td>\n",
       "</tr>\n",
       "<tr>\n",
       "  <th>C(month)[T.9]</th>               <td>   20.0000</td> <td>   10.179</td> <td>    1.965</td> <td> 0.057</td> <td>   -0.644</td> <td>   40.644</td>\n",
       "</tr>\n",
       "<tr>\n",
       "  <th>C(month)[T.10]</th>              <td>   20.0000</td> <td>   10.179</td> <td>    1.965</td> <td> 0.057</td> <td>   -0.644</td> <td>   40.644</td>\n",
       "</tr>\n",
       "<tr>\n",
       "  <th>C(month)[T.11]</th>              <td>   20.0000</td> <td>   10.179</td> <td>    1.965</td> <td> 0.057</td> <td>   -0.644</td> <td>   40.644</td>\n",
       "</tr>\n",
       "<tr>\n",
       "  <th>C(month)[T.12]</th>              <td>   20.0000</td> <td>   10.179</td> <td>    1.965</td> <td> 0.057</td> <td>   -0.644</td> <td>   40.644</td>\n",
       "</tr>\n",
       "<tr>\n",
       "  <th>C(line)[T.2]:C(month)[T.2]</th>  <td>  131.0000</td> <td>   14.395</td> <td>    9.100</td> <td> 0.000</td> <td>  101.805</td> <td>  160.195</td>\n",
       "</tr>\n",
       "<tr>\n",
       "  <th>C(line)[T.3]:C(month)[T.2]</th>  <td>   42.5000</td> <td>   14.395</td> <td>    2.952</td> <td> 0.006</td> <td>   13.305</td> <td>   71.695</td>\n",
       "</tr>\n",
       "<tr>\n",
       "  <th>C(line)[T.2]:C(month)[T.3]</th>  <td>  -15.0000</td> <td>   14.395</td> <td>   -1.042</td> <td> 0.304</td> <td>  -44.195</td> <td>   14.195</td>\n",
       "</tr>\n",
       "<tr>\n",
       "  <th>C(line)[T.3]:C(month)[T.3]</th>  <td>  -15.0000</td> <td>   14.395</td> <td>   -1.042</td> <td> 0.304</td> <td>  -44.195</td> <td>   14.195</td>\n",
       "</tr>\n",
       "<tr>\n",
       "  <th>C(line)[T.2]:C(month)[T.4]</th>  <td>  221.0000</td> <td>   14.395</td> <td>   15.352</td> <td> 0.000</td> <td>  191.805</td> <td>  250.195</td>\n",
       "</tr>\n",
       "<tr>\n",
       "  <th>C(line)[T.3]:C(month)[T.4]</th>  <td>  135.5000</td> <td>   14.395</td> <td>    9.413</td> <td> 0.000</td> <td>  106.305</td> <td>  164.695</td>\n",
       "</tr>\n",
       "<tr>\n",
       "  <th>C(line)[T.2]:C(month)[T.5]</th>  <td>   -1.0000</td> <td>   14.395</td> <td>   -0.069</td> <td> 0.945</td> <td>  -30.195</td> <td>   28.195</td>\n",
       "</tr>\n",
       "<tr>\n",
       "  <th>C(line)[T.3]:C(month)[T.5]</th>  <td>   -1.0000</td> <td>   14.395</td> <td>   -0.069</td> <td> 0.945</td> <td>  -30.195</td> <td>   28.195</td>\n",
       "</tr>\n",
       "<tr>\n",
       "  <th>C(line)[T.2]:C(month)[T.6]</th>  <td>   86.5000</td> <td>   14.395</td> <td>    6.009</td> <td> 0.000</td> <td>   57.305</td> <td>  115.695</td>\n",
       "</tr>\n",
       "<tr>\n",
       "  <th>C(line)[T.3]:C(month)[T.6]</th>  <td>    3.0000</td> <td>   14.395</td> <td>    0.208</td> <td> 0.836</td> <td>  -26.195</td> <td>   32.195</td>\n",
       "</tr>\n",
       "<tr>\n",
       "  <th>C(line)[T.2]:C(month)[T.7]</th>  <td>  -50.0000</td> <td>   14.395</td> <td>   -3.473</td> <td> 0.001</td> <td>  -79.195</td> <td>  -20.805</td>\n",
       "</tr>\n",
       "<tr>\n",
       "  <th>C(line)[T.3]:C(month)[T.7]</th>  <td>  -37.0000</td> <td>   14.395</td> <td>   -2.570</td> <td> 0.014</td> <td>  -66.195</td> <td>   -7.805</td>\n",
       "</tr>\n",
       "<tr>\n",
       "  <th>C(line)[T.2]:C(month)[T.8]</th>  <td>  201.5000</td> <td>   14.395</td> <td>   13.998</td> <td> 0.000</td> <td>  172.305</td> <td>  230.695</td>\n",
       "</tr>\n",
       "<tr>\n",
       "  <th>C(line)[T.3]:C(month)[T.8]</th>  <td>  112.0000</td> <td>   14.395</td> <td>    7.780</td> <td> 0.000</td> <td>   82.805</td> <td>  141.195</td>\n",
       "</tr>\n",
       "<tr>\n",
       "  <th>C(line)[T.2]:C(month)[T.9]</th>  <td>   20.5000</td> <td>   14.395</td> <td>    1.424</td> <td> 0.163</td> <td>   -8.695</td> <td>   49.695</td>\n",
       "</tr>\n",
       "<tr>\n",
       "  <th>C(line)[T.3]:C(month)[T.9]</th>  <td>   20.5000</td> <td>   14.395</td> <td>    1.424</td> <td> 0.163</td> <td>   -8.695</td> <td>   49.695</td>\n",
       "</tr>\n",
       "<tr>\n",
       "  <th>C(line)[T.2]:C(month)[T.10]</th> <td>   70.5000</td> <td>   14.395</td> <td>    4.897</td> <td> 0.000</td> <td>   41.305</td> <td>   99.695</td>\n",
       "</tr>\n",
       "<tr>\n",
       "  <th>C(line)[T.3]:C(month)[T.10]</th> <td>  -16.0000</td> <td>   14.395</td> <td>   -1.111</td> <td> 0.274</td> <td>  -45.195</td> <td>   13.195</td>\n",
       "</tr>\n",
       "<tr>\n",
       "  <th>C(line)[T.2]:C(month)[T.11]</th> <td>  -40.0000</td> <td>   14.395</td> <td>   -2.779</td> <td> 0.009</td> <td>  -69.195</td> <td>  -10.805</td>\n",
       "</tr>\n",
       "<tr>\n",
       "  <th>C(line)[T.3]:C(month)[T.11]</th> <td>  -21.0000</td> <td>   14.395</td> <td>   -1.459</td> <td> 0.153</td> <td>  -50.195</td> <td>    8.195</td>\n",
       "</tr>\n",
       "<tr>\n",
       "  <th>C(line)[T.2]:C(month)[T.12]</th> <td>   70.5000</td> <td>   14.395</td> <td>    4.897</td> <td> 0.000</td> <td>   41.305</td> <td>   99.695</td>\n",
       "</tr>\n",
       "<tr>\n",
       "  <th>C(line)[T.3]:C(month)[T.12]</th> <td>  -10.0000</td> <td>   14.395</td> <td>   -0.695</td> <td> 0.492</td> <td>  -39.195</td> <td>   19.195</td>\n",
       "</tr>\n",
       "</table>\n",
       "<table class=\"simpletable\">\n",
       "<tr>\n",
       "  <th>Omnibus:</th>       <td>873.224</td> <th>  Durbin-Watson:     </th> <td>   0.052</td>\n",
       "</tr>\n",
       "<tr>\n",
       "  <th>Prob(Omnibus):</th> <td> 0.000</td>  <th>  Jarque-Bera (JB):  </th> <td>  11.171</td>\n",
       "</tr>\n",
       "<tr>\n",
       "  <th>Skew:</th>          <td>-0.000</td>  <th>  Prob(JB):          </th> <td> 0.00375</td>\n",
       "</tr>\n",
       "<tr>\n",
       "  <th>Kurtosis:</th>      <td> 1.070</td>  <th>  Cond. No.          </th> <td>    48.2</td>\n",
       "</tr>\n",
       "</table><br/><br/>Notes:<br/>[1] Standard Errors assume that the covariance matrix of the errors is correctly specified."
      ],
      "text/plain": [
       "<class 'statsmodels.iolib.summary.Summary'>\n",
       "\"\"\"\n",
       "                            OLS Regression Results                            \n",
       "==============================================================================\n",
       "Dep. Variable:                  total   R-squared:                       0.998\n",
       "Model:                            OLS   Adj. R-squared:                  0.997\n",
       "Method:                 Least Squares   F-statistic:                     627.8\n",
       "Date:                Fri, 26 May 2023   Prob (F-statistic):           2.18e-41\n",
       "Time:                        13:45:11   Log-Likelihood:                -244.27\n",
       "No. Observations:                  72   AIC:                             560.5\n",
       "Df Residuals:                      36   BIC:                             642.5\n",
       "Df Model:                          35                                         \n",
       "Covariance Type:            nonrobust                                         \n",
       "===============================================================================================\n",
       "                                  coef    std err          t      P>|t|      [0.025      0.975]\n",
       "-----------------------------------------------------------------------------------------------\n",
       "Intercept                    1316.5000      7.198    182.908      0.000    1301.903    1331.097\n",
       "C(line)[T.2]                  321.5000     10.179     31.585      0.000     300.856     342.144\n",
       "C(line)[T.3]                   10.0000     10.179      0.982      0.332     -10.644      30.644\n",
       "C(month)[T.2]                 -10.0000     10.179     -0.982      0.332     -30.644      10.644\n",
       "C(month)[T.3]                  -5.0000     10.179     -0.491      0.626     -25.644      15.644\n",
       "C(month)[T.4]                -110.5000     10.179    -10.856      0.000    -131.144     -89.856\n",
       "C(month)[T.5]                  -9.0000     10.179     -0.884      0.382     -29.644      11.644\n",
       "C(month)[T.6]                  -6.0000     10.179     -0.589      0.559     -26.644      14.644\n",
       "C(month)[T.7]                  20.0000     10.179      1.965      0.057      -0.644      40.644\n",
       "C(month)[T.8]                 -80.5000     10.179     -7.908      0.000    -101.144     -59.856\n",
       "C(month)[T.9]                  20.0000     10.179      1.965      0.057      -0.644      40.644\n",
       "C(month)[T.10]                 20.0000     10.179      1.965      0.057      -0.644      40.644\n",
       "C(month)[T.11]                 20.0000     10.179      1.965      0.057      -0.644      40.644\n",
       "C(month)[T.12]                 20.0000     10.179      1.965      0.057      -0.644      40.644\n",
       "C(line)[T.2]:C(month)[T.2]    131.0000     14.395      9.100      0.000     101.805     160.195\n",
       "C(line)[T.3]:C(month)[T.2]     42.5000     14.395      2.952      0.006      13.305      71.695\n",
       "C(line)[T.2]:C(month)[T.3]    -15.0000     14.395     -1.042      0.304     -44.195      14.195\n",
       "C(line)[T.3]:C(month)[T.3]    -15.0000     14.395     -1.042      0.304     -44.195      14.195\n",
       "C(line)[T.2]:C(month)[T.4]    221.0000     14.395     15.352      0.000     191.805     250.195\n",
       "C(line)[T.3]:C(month)[T.4]    135.5000     14.395      9.413      0.000     106.305     164.695\n",
       "C(line)[T.2]:C(month)[T.5]     -1.0000     14.395     -0.069      0.945     -30.195      28.195\n",
       "C(line)[T.3]:C(month)[T.5]     -1.0000     14.395     -0.069      0.945     -30.195      28.195\n",
       "C(line)[T.2]:C(month)[T.6]     86.5000     14.395      6.009      0.000      57.305     115.695\n",
       "C(line)[T.3]:C(month)[T.6]      3.0000     14.395      0.208      0.836     -26.195      32.195\n",
       "C(line)[T.2]:C(month)[T.7]    -50.0000     14.395     -3.473      0.001     -79.195     -20.805\n",
       "C(line)[T.3]:C(month)[T.7]    -37.0000     14.395     -2.570      0.014     -66.195      -7.805\n",
       "C(line)[T.2]:C(month)[T.8]    201.5000     14.395     13.998      0.000     172.305     230.695\n",
       "C(line)[T.3]:C(month)[T.8]    112.0000     14.395      7.780      0.000      82.805     141.195\n",
       "C(line)[T.2]:C(month)[T.9]     20.5000     14.395      1.424      0.163      -8.695      49.695\n",
       "C(line)[T.3]:C(month)[T.9]     20.5000     14.395      1.424      0.163      -8.695      49.695\n",
       "C(line)[T.2]:C(month)[T.10]    70.5000     14.395      4.897      0.000      41.305      99.695\n",
       "C(line)[T.3]:C(month)[T.10]   -16.0000     14.395     -1.111      0.274     -45.195      13.195\n",
       "C(line)[T.2]:C(month)[T.11]   -40.0000     14.395     -2.779      0.009     -69.195     -10.805\n",
       "C(line)[T.3]:C(month)[T.11]   -21.0000     14.395     -1.459      0.153     -50.195       8.195\n",
       "C(line)[T.2]:C(month)[T.12]    70.5000     14.395      4.897      0.000      41.305      99.695\n",
       "C(line)[T.3]:C(month)[T.12]   -10.0000     14.395     -0.695      0.492     -39.195      19.195\n",
       "==============================================================================\n",
       "Omnibus:                      873.224   Durbin-Watson:                   0.052\n",
       "Prob(Omnibus):                  0.000   Jarque-Bera (JB):               11.171\n",
       "Skew:                          -0.000   Prob(JB):                      0.00375\n",
       "Kurtosis:                       1.070   Cond. No.                         48.2\n",
       "==============================================================================\n",
       "\n",
       "Notes:\n",
       "[1] Standard Errors assume that the covariance matrix of the errors is correctly specified.\n",
       "\"\"\""
      ]
     },
     "metadata": {},
     "output_type": "display_data"
    }
   ],
   "source": [
    "import statsmodels.formula.api as smf     \n",
    "from statsmodels.stats.anova import anova_lm  # anova table을 생성해줌\n",
    "\n",
    "# 모델링\n",
    "# 범주형 변수는 C(변수)화 \n",
    "# = total ~ line + month + line:month  # 모델링 할 때 독립변수 순서 주의!\n",
    "formula = 'total ~ C(line) * C(month)' \n",
    "model = smf.ols(formula, df_subway).fit()\n",
    "\n",
    "display(model.summary())"
   ]
  },
  {
   "cell_type": "code",
   "execution_count": 25,
   "id": "3fb122b1",
   "metadata": {},
   "outputs": [
    {
     "data": {
      "text/html": [
       "<div>\n",
       "<style scoped>\n",
       "    .dataframe tbody tr th:only-of-type {\n",
       "        vertical-align: middle;\n",
       "    }\n",
       "\n",
       "    .dataframe tbody tr th {\n",
       "        vertical-align: top;\n",
       "    }\n",
       "\n",
       "    .dataframe thead th {\n",
       "        text-align: right;\n",
       "    }\n",
       "</style>\n",
       "<table border=\"1\" class=\"dataframe\">\n",
       "  <thead>\n",
       "    <tr style=\"text-align: right;\">\n",
       "      <th></th>\n",
       "      <th>sum_sq</th>\n",
       "      <th>df</th>\n",
       "      <th>F</th>\n",
       "      <th>PR(&gt;F)</th>\n",
       "    </tr>\n",
       "  </thead>\n",
       "  <tbody>\n",
       "    <tr>\n",
       "      <th>Intercept</th>\n",
       "      <td>3.466345e+06</td>\n",
       "      <td>1.0</td>\n",
       "      <td>33455.335657</td>\n",
       "      <td>4.849033e-55</td>\n",
       "    </tr>\n",
       "    <tr>\n",
       "      <th>C(line)</th>\n",
       "      <td>1.336630e+05</td>\n",
       "      <td>2.0</td>\n",
       "      <td>645.022520</td>\n",
       "      <td>6.417946e-29</td>\n",
       "    </tr>\n",
       "    <tr>\n",
       "      <th>C(month)</th>\n",
       "      <td>3.942483e+04</td>\n",
       "      <td>11.0</td>\n",
       "      <td>34.591616</td>\n",
       "      <td>7.896179e-16</td>\n",
       "    </tr>\n",
       "    <tr>\n",
       "      <th>C(line):C(month)</th>\n",
       "      <td>9.696908e+04</td>\n",
       "      <td>22.0</td>\n",
       "      <td>42.540665</td>\n",
       "      <td>1.582232e-19</td>\n",
       "    </tr>\n",
       "    <tr>\n",
       "      <th>Residual</th>\n",
       "      <td>3.730000e+03</td>\n",
       "      <td>36.0</td>\n",
       "      <td>NaN</td>\n",
       "      <td>NaN</td>\n",
       "    </tr>\n",
       "  </tbody>\n",
       "</table>\n",
       "</div>"
      ],
      "text/plain": [
       "                        sum_sq    df             F        PR(>F)\n",
       "Intercept         3.466345e+06   1.0  33455.335657  4.849033e-55\n",
       "C(line)           1.336630e+05   2.0    645.022520  6.417946e-29\n",
       "C(month)          3.942483e+04  11.0     34.591616  7.896179e-16\n",
       "C(line):C(month)  9.696908e+04  22.0     42.540665  1.582232e-19\n",
       "Residual          3.730000e+03  36.0           NaN           NaN"
      ]
     },
     "metadata": {},
     "output_type": "display_data"
    }
   ],
   "source": [
    "# type 3 ANOVA 결과\n",
    "display(anova_lm(model, typ=3))"
   ]
  },
  {
   "cell_type": "markdown",
   "id": "7557f504",
   "metadata": {},
   "source": [
    "#### 결과 테이블의 C(line):C(month)를 보면 서로의 차이를 총분산으로 설명하는 F 통계량에 대한 P-value가 0.05보다 작다. 따라서 귀무가설을 기각한다.\n",
    "\n",
    "#### 즉, 둘의 상관관계(교호작용, 상호작용)는 존재한다고 할 수 있다."
   ]
  },
  {
   "cell_type": "markdown",
   "id": "5937d0fb",
   "metadata": {},
   "source": [
    " "
   ]
  },
  {
   "cell_type": "markdown",
   "id": "520d5f4f",
   "metadata": {},
   "source": [
    "### 참고 : 교호작용 시각화 그래프 "
   ]
  },
  {
   "cell_type": "code",
   "execution_count": 27,
   "id": "24f86d6b",
   "metadata": {},
   "outputs": [],
   "source": [
    "# 독립변수 cyl,am와 종속변수 mpg을 Series로 변경 \n",
    "\n",
    "total = df_subway[\"total\"]\n",
    "line = df_subway[\"line\"]\n",
    "month = df_subway[\"month\"]"
   ]
  },
  {
   "cell_type": "code",
   "execution_count": 33,
   "id": "d4bbcd01",
   "metadata": {},
   "outputs": [
    {
     "data": {
      "image/png": "[encoded data removed]",
      "text/plain": [
       "<Figure size 600x400 with 1 Axes>"
      ]
     },
     "metadata": {},
     "output_type": "display_data"
    }
   ],
   "source": [
    "from statsmodels.graphics.factorplots import interaction_plot\n",
    "import matplotlib.pyplot as plt\n",
    "\n",
    "fig, ax = plt.subplots(figsize=(6, 4))\n",
    "fig = interaction_plot(month,line, total,ms=10, ax=ax)"
   ]
  },
  {
   "cell_type": "markdown",
   "id": "0d5e3f2f",
   "metadata": {},
   "source": [
    "#### 교호작용 그래프 결과 해석\n",
    "- 일반적으로 상호작용 그래프에서 두 선이 서로 교차하고 있을 때, x축에 있는 독립변수와 그래프에서 시각화된 독립변수 간에는 상호작용이 존재한다고 해석할 수 있다."
   ]
  },
  {
   "cell_type": "markdown",
   "id": "03c5ed8d",
   "metadata": {},
   "source": [
    "---"
   ]
  },
  {
   "cell_type": "markdown",
   "id": "3225de83",
   "metadata": {},
   "source": [
    "# [ 26회 ]"
   ]
  },
  {
   "cell_type": "markdown",
   "id": "4f70a5b9",
   "metadata": {},
   "source": [
    "## < 26회 1번 : 모비율 관련, 최소 표본 크기 > \n",
    "철강제품의 불량률을 조사하고자 한다. 이 때, 불량률의 90%, 추정오차한계가 5% 이내가 되기 위하여 적절한 표본의 크기 중 최소값은 얼마인가?"
   ]
  },
  {
   "cell_type": "markdown",
   "id": "174cc51f",
   "metadata": {},
   "source": [
    "### 접근 방법\n",
    "- 불량률의 추정값이 90%일 것으로 가정하고, 그 추정값의 추정 오차 한계가 5% 이내가 되도록 표본 크기를 결정하라는 의미\n",
    "- 불량률'의' 90% $\\rightarrow$ '모비율' 관련 최소 표본 크기\n",
    "    - 즉, 여기서 90%는 신뢰계수\n",
    "- $p$ 를 모르는 경우 ($p$를 아는 경우는, 아래 처럼 표본 크기를 구할 일이 없음)\n",
    "<img src=\"https://i.esdrop.com/d/f/3uJKEwVXJL/KhNQN7PWRW.jpg\" width=650/>"
   ]
  },
  {
   "cell_type": "code",
   "execution_count": 46,
   "id": "85db0886",
   "metadata": {},
   "outputs": [
    {
     "name": "stdout",
     "output_type": "stream",
     "text": [
      "1.6448536269514722\n",
      "실제 값:  270.554345409541\n",
      "정답:  271\n"
     ]
    }
   ],
   "source": [
    "from scipy import stats\n",
    "from sympy import *\n",
    "import math\n",
    "\n",
    "# 표준정규분포 선언\n",
    "# std_normal = stats.norm(0,1)\n",
    "# z_val = std_normal.ppf(0.95)\n",
    "\n",
    "confidence_level = 0.9  # 신뢰수준 (90%)\n",
    "z_value = norm.ppf(1 - (1 - confidence_level) / 2)  # 임계값 계산\n",
    "\n",
    "print(z_val) # z_val = 1.645  (신뢰계수 90%)\n",
    "\n",
    "# 불량률\n",
    "p = 0.5  # 2차식에서 p=0.5를 넣어야 최소가 됨\n",
    "\n",
    "# n에 관한 방정식(부등식)\n",
    "n = Symbol('n')\n",
    "\n",
    "# 여기서 0.05는 그냥 추정오차한계일 뿐, 신뢰계수 95%가 아님\n",
    "d = z_val * sqrt(p*(1-p)/n) - 0.05 \n",
    "\n",
    "# 정답\n",
    "answer_tmp = solve(d)[0]  # 소수점\n",
    "answer_final = math.trunc(answer_tmp) + 1  # 소수점 버리고 + 1\n",
    "\n",
    "print('실제 값: ', answer_tmp)\n",
    "print('정답: ', answer_final)\n",
    "\n",
    "# 정답\n",
    "## 실제 값:  270.554345409541\n",
    "## 정답:  271"
   ]
  },
  {
   "cell_type": "markdown",
   "id": "e6cf8f10",
   "metadata": {},
   "source": [
    "## < 26회 2번 : 이동평균, 시계열 시각화 > \n",
    "아래 그래프는 1월부터 9월까지의 은의 가격이다\n",
    "\n",
    "<img src=\"https://raw.githubusercontent.com/Datamanim/datarepo/main/adp/26/problem2.png\">\n",
    "\n",
    "1. 은의 가격 및 이동평균값 3이 설정된 시계열 그래프를 그려라\n",
    "2. 1월 대비 9월의 은의 가격은 몇 % 올랐는가? 소수점 두번째 자리에서 반올림"
   ]
  },
  {
   "cell_type": "markdown",
   "id": "7ee1b803",
   "metadata": {},
   "source": [
    "### 접근 방법\n",
    "- 이동평균값 3은 rolling(window=3).mean() 이용 !"
   ]
  },
  {
   "cell_type": "code",
   "execution_count": 21,
   "id": "4ea2105a",
   "metadata": {},
   "outputs": [
    {
     "data": {
      "text/html": [
       "<div>\n",
       "<style scoped>\n",
       "    .dataframe tbody tr th:only-of-type {\n",
       "        vertical-align: middle;\n",
       "    }\n",
       "\n",
       "    .dataframe tbody tr th {\n",
       "        vertical-align: top;\n",
       "    }\n",
       "\n",
       "    .dataframe thead th {\n",
       "        text-align: right;\n",
       "    }\n",
       "</style>\n",
       "<table border=\"1\" class=\"dataframe\">\n",
       "  <thead>\n",
       "    <tr style=\"text-align: right;\">\n",
       "      <th></th>\n",
       "      <th>1M</th>\n",
       "      <th>2M</th>\n",
       "      <th>3M</th>\n",
       "      <th>4M</th>\n",
       "      <th>5M</th>\n",
       "      <th>6M</th>\n",
       "      <th>7M</th>\n",
       "      <th>8M</th>\n",
       "      <th>9M</th>\n",
       "    </tr>\n",
       "  </thead>\n",
       "  <tbody>\n",
       "    <tr>\n",
       "      <th>0</th>\n",
       "      <td>12.14</td>\n",
       "      <td>42.6</td>\n",
       "      <td>34.4</td>\n",
       "      <td>35.29</td>\n",
       "      <td>30.96</td>\n",
       "      <td>57.12</td>\n",
       "      <td>37.84</td>\n",
       "      <td>42.49</td>\n",
       "      <td>31.38</td>\n",
       "    </tr>\n",
       "  </tbody>\n",
       "</table>\n",
       "</div>"
      ],
      "text/plain": [
       "      1M    2M    3M     4M     5M     6M     7M     8M     9M\n",
       "0  12.14  42.6  34.4  35.29  30.96  57.12  37.84  42.49  31.38"
      ]
     },
     "execution_count": 21,
     "metadata": {},
     "output_type": "execute_result"
    }
   ],
   "source": [
    "import pandas as pd \n",
    "import numpy as np\n",
    "\n",
    "df = pd.read_csv(\"../Data/26_problem4.csv\")\n",
    "df"
   ]
  },
  {
   "cell_type": "code",
   "execution_count": 22,
   "id": "db41fa0c",
   "metadata": {},
   "outputs": [
    {
     "name": "stdout",
     "output_type": "stream",
     "text": [
      "<class 'pandas.core.frame.DataFrame'>\n",
      "RangeIndex: 1 entries, 0 to 0\n",
      "Data columns (total 9 columns):\n",
      " #   Column  Non-Null Count  Dtype  \n",
      "---  ------  --------------  -----  \n",
      " 0   1M      1 non-null      float64\n",
      " 1   2M      1 non-null      float64\n",
      " 2   3M      1 non-null      float64\n",
      " 3   4M      1 non-null      float64\n",
      " 4   5M      1 non-null      float64\n",
      " 5   6M      1 non-null      float64\n",
      " 6   7M      1 non-null      float64\n",
      " 7   8M      1 non-null      float64\n",
      " 8   9M      1 non-null      float64\n",
      "dtypes: float64(9)\n",
      "memory usage: 200.0 bytes\n"
     ]
    }
   ],
   "source": [
    "df.info()"
   ]
  },
  {
   "cell_type": "markdown",
   "id": "55761621",
   "metadata": {},
   "source": [
    "### 2-1) 은의 가격 및 이동평균값 3이 설정된 시계열 그래프를 그려라"
   ]
  },
  {
   "cell_type": "code",
   "execution_count": 24,
   "id": "b3936013",
   "metadata": {},
   "outputs": [
    {
     "data": {
      "text/html": [
       "<div>\n",
       "<style scoped>\n",
       "    .dataframe tbody tr th:only-of-type {\n",
       "        vertical-align: middle;\n",
       "    }\n",
       "\n",
       "    .dataframe tbody tr th {\n",
       "        vertical-align: top;\n",
       "    }\n",
       "\n",
       "    .dataframe thead th {\n",
       "        text-align: right;\n",
       "    }\n",
       "</style>\n",
       "<table border=\"1\" class=\"dataframe\">\n",
       "  <thead>\n",
       "    <tr style=\"text-align: right;\">\n",
       "      <th></th>\n",
       "      <th>month_price</th>\n",
       "    </tr>\n",
       "  </thead>\n",
       "  <tbody>\n",
       "    <tr>\n",
       "      <th>1M</th>\n",
       "      <td>12.14</td>\n",
       "    </tr>\n",
       "    <tr>\n",
       "      <th>2M</th>\n",
       "      <td>42.60</td>\n",
       "    </tr>\n",
       "    <tr>\n",
       "      <th>3M</th>\n",
       "      <td>34.40</td>\n",
       "    </tr>\n",
       "    <tr>\n",
       "      <th>4M</th>\n",
       "      <td>35.29</td>\n",
       "    </tr>\n",
       "    <tr>\n",
       "      <th>5M</th>\n",
       "      <td>30.96</td>\n",
       "    </tr>\n",
       "    <tr>\n",
       "      <th>6M</th>\n",
       "      <td>57.12</td>\n",
       "    </tr>\n",
       "    <tr>\n",
       "      <th>7M</th>\n",
       "      <td>37.84</td>\n",
       "    </tr>\n",
       "    <tr>\n",
       "      <th>8M</th>\n",
       "      <td>42.49</td>\n",
       "    </tr>\n",
       "    <tr>\n",
       "      <th>9M</th>\n",
       "      <td>31.38</td>\n",
       "    </tr>\n",
       "  </tbody>\n",
       "</table>\n",
       "</div>"
      ],
      "text/plain": [
       "    month_price\n",
       "1M        12.14\n",
       "2M        42.60\n",
       "3M        34.40\n",
       "4M        35.29\n",
       "5M        30.96\n",
       "6M        57.12\n",
       "7M        37.84\n",
       "8M        42.49\n",
       "9M        31.38"
      ]
     },
     "execution_count": 24,
     "metadata": {},
     "output_type": "execute_result"
    }
   ],
   "source": [
    "MA_data = df.transpose() \n",
    "MA_data.columns = [\"month_price\"]\n",
    "MA_data"
   ]
  },
  {
   "cell_type": "code",
   "execution_count": 26,
   "id": "6ba9d0c1",
   "metadata": {},
   "outputs": [
    {
     "name": "stdout",
     "output_type": "stream",
     "text": [
      "    month_price        MA3\n",
      "1M        12.14        NaN\n",
      "2M        42.60        NaN\n",
      "3M        34.40  29.713333\n",
      "4M        35.29  37.430000\n",
      "5M        30.96  33.550000\n",
      "6M        57.12  41.123333\n",
      "7M        37.84  41.973333\n",
      "8M        42.49  45.816667\n",
      "9M        31.38  37.236667\n"
     ]
    }
   ],
   "source": [
    "import matplotlib.pyplot as plt\n",
    "import pandas as pd\n",
    "\n",
    "# 은의 가격 데이터의 이동평균값 3 계산\n",
    "MA_data[\"MA3\"] = MA_data[\"month_price\"].rolling(window=3).mean()\n",
    "print(MA_data)"
   ]
  },
  {
   "cell_type": "code",
   "execution_count": 28,
   "id": "6dc45717",
   "metadata": {},
   "outputs": [
    {
     "data": {
      "image/png": "[encoded data removed]",
      "text/plain": [
       "<Figure size 640x480 with 1 Axes>"
      ]
     },
     "metadata": {},
     "output_type": "display_data"
    }
   ],
   "source": [
    "# 시계열 그래프 그리기\n",
    "fig, ax = plt.subplots()\n",
    "ax.plot(MA_data[\"month_price\"], label='Silver Prices')\n",
    "ax.plot(MA_data[\"MA3\"], label='Moving Average (3)')\n",
    "\n",
    "ax.set_xlabel('Month')\n",
    "ax.set_ylabel('Price ($)')\n",
    "ax.set_title('Silver Prices and Moving Average (3)')\n",
    "\n",
    "ax.legend()\n",
    "plt.show()"
   ]
  },
  {
   "cell_type": "markdown",
   "id": "2778af99",
   "metadata": {},
   "source": [
    "### 2-2) 1월 대비 9월의 은의 가격은 몇 % 올랐는가? 소수점 두번째 자리에서 반올림\n",
    "- A 대비 B의 증가율 = (B값 - A 값) / A값 * 100"
   ]
  },
  {
   "cell_type": "code",
   "execution_count": 29,
   "id": "78d33123",
   "metadata": {},
   "outputs": [
    {
     "name": "stdout",
     "output_type": "stream",
     "text": [
      "158.5\n"
     ]
    }
   ],
   "source": [
    "# 1월과 9월의 가격\n",
    "price_jan = MA_data[\"month_price\"][0]\n",
    "price_sep = MA_data[\"month_price\"][-1]\n",
    "\n",
    "\n",
    "# 증감률 계산\n",
    "# A 대비 B의 증가율 = (B값 - A 값) / A값 * 100\n",
    "change = (price_sep - price_jan) / price_jan * 100\n",
    "\n",
    "# 반올림하여 출력\n",
    "print(round(change, 1))"
   ]
  },
  {
   "cell_type": "markdown",
   "id": "d16e0029",
   "metadata": {},
   "source": [
    "## < 26회 3번 : 동질성 검정, 카이제곱 검정 >\n",
    "아래 그래프는 A,B,C 자치구별 W 의원에 대한 찬성, 반대 지지를 나타낸다. 자치구별 지지율이 같은지에 대해서 검정하라\n",
    "<img src=\"https://user-images.githubusercontent.com/119478998/237022541-b0af58eb-e31e-4c89-bdab-92b337014a71.png\" width=300>\n",
    "\n",
    "1. 연구가설과 귀무가설을 설정하라\n",
    "2. 검정통계량 구하고 결론을 내라"
   ]
  },
  {
   "cell_type": "markdown",
   "id": "705bf03c",
   "metadata": {},
   "source": [
    "### 접근 방법\n",
    "#### 두 범주형 변수에 대한 검정 $\\rightarrow$ 카이제곱\n",
    "- 자치구별 지지율 동일한지 검정, 즉 행과 행의 관련성이므로 동질성에 가깝다고 생각함"
   ]
  },
  {
   "cell_type": "markdown",
   "id": "dc3bb90c",
   "metadata": {},
   "source": [
    "### 3-1) 연구가설과 귀무가설을 설정하라.\n",
    "- 귀무가설 : A, B, C 자치구별 W 의원에 대한 찬성, 반대 지지의 지지율은 모두 같다.\n",
    "- 대립가설 : A, B, C 자치구별 W 의원에 대한 찬성, 반대 지지의 지지율 중 적어도 하나는 다르다."
   ]
  },
  {
   "cell_type": "code",
   "execution_count": 9,
   "id": "1bd66288",
   "metadata": {},
   "outputs": [
    {
     "data": {
      "text/html": [
       "<div>\n",
       "<style scoped>\n",
       "    .dataframe tbody tr th:only-of-type {\n",
       "        vertical-align: middle;\n",
       "    }\n",
       "\n",
       "    .dataframe tbody tr th {\n",
       "        vertical-align: top;\n",
       "    }\n",
       "\n",
       "    .dataframe thead th {\n",
       "        text-align: right;\n",
       "    }\n",
       "</style>\n",
       "<table border=\"1\" class=\"dataframe\">\n",
       "  <thead>\n",
       "    <tr style=\"text-align: right;\">\n",
       "      <th></th>\n",
       "      <th>vote</th>\n",
       "      <th>A</th>\n",
       "      <th>B</th>\n",
       "      <th>C</th>\n",
       "    </tr>\n",
       "  </thead>\n",
       "  <tbody>\n",
       "    <tr>\n",
       "      <th>0</th>\n",
       "      <td>찬성</td>\n",
       "      <td>176</td>\n",
       "      <td>193</td>\n",
       "      <td>159</td>\n",
       "    </tr>\n",
       "    <tr>\n",
       "      <th>1</th>\n",
       "      <td>반대</td>\n",
       "      <td>124</td>\n",
       "      <td>107</td>\n",
       "      <td>141</td>\n",
       "    </tr>\n",
       "  </tbody>\n",
       "</table>\n",
       "</div>"
      ],
      "text/plain": [
       "  vote    A    B    C\n",
       "0   찬성  176  193  159\n",
       "1   반대  124  107  141"
      ]
     },
     "execution_count": 9,
     "metadata": {},
     "output_type": "execute_result"
    }
   ],
   "source": [
    "df = pd.DataFrame({\"vote\" :[\"찬성\",\"반대\"],\n",
    "                    \"A\" : [176,124],\n",
    "                    \"B\" : [193,107],\n",
    "                    \"C\" : [159,141]})\n",
    "df "
   ]
  },
  {
   "cell_type": "code",
   "execution_count": 10,
   "id": "8d414a97",
   "metadata": {},
   "outputs": [
    {
     "data": {
      "text/html": [
       "<div>\n",
       "<style scoped>\n",
       "    .dataframe tbody tr th:only-of-type {\n",
       "        vertical-align: middle;\n",
       "    }\n",
       "\n",
       "    .dataframe tbody tr th {\n",
       "        vertical-align: top;\n",
       "    }\n",
       "\n",
       "    .dataframe thead th {\n",
       "        text-align: right;\n",
       "    }\n",
       "</style>\n",
       "<table border=\"1\" class=\"dataframe\">\n",
       "  <thead>\n",
       "    <tr style=\"text-align: right;\">\n",
       "      <th></th>\n",
       "      <th>A</th>\n",
       "      <th>B</th>\n",
       "      <th>C</th>\n",
       "    </tr>\n",
       "    <tr>\n",
       "      <th>vote</th>\n",
       "      <th></th>\n",
       "      <th></th>\n",
       "      <th></th>\n",
       "    </tr>\n",
       "  </thead>\n",
       "  <tbody>\n",
       "    <tr>\n",
       "      <th>찬성</th>\n",
       "      <td>176</td>\n",
       "      <td>193</td>\n",
       "      <td>159</td>\n",
       "    </tr>\n",
       "    <tr>\n",
       "      <th>반대</th>\n",
       "      <td>124</td>\n",
       "      <td>107</td>\n",
       "      <td>141</td>\n",
       "    </tr>\n",
       "  </tbody>\n",
       "</table>\n",
       "</div>"
      ],
      "text/plain": [
       "        A    B    C\n",
       "vote               \n",
       "찬성    176  193  159\n",
       "반대    124  107  141"
      ]
     },
     "execution_count": 10,
     "metadata": {},
     "output_type": "execute_result"
    }
   ],
   "source": [
    "# 교차표를 만들어 주기 위해 인덱스 설정\n",
    "df.set_index(\"vote\",inplace=True)\n",
    "df"
   ]
  },
  {
   "cell_type": "markdown",
   "id": "81a9141c",
   "metadata": {},
   "source": [
    "### 3-2) 검정통계량 구하고 결론을 내라"
   ]
  },
  {
   "cell_type": "code",
   "execution_count": 11,
   "id": "cddf53b0",
   "metadata": {},
   "outputs": [
    {
     "name": "stdout",
     "output_type": "stream",
     "text": [
      "검정통계량 :  7.94538\n",
      "p-value :  0.01882\n"
     ]
    }
   ],
   "source": [
    "# 카이제곱 검정을 통한 동질성 검정 수행\n",
    "from scipy.stats import chi2_contingency\n",
    "\n",
    "chi2, p, df, expect = chi2_contingency(df) \n",
    "\n",
    "# chi2_contingency(df)\n",
    "\n",
    "print(\"검정통계량 : \", round(chi2, 5))\n",
    "print(\"p-value : \", round(p, 5))"
   ]
  },
  {
   "cell_type": "markdown",
   "id": "0d11bcbd",
   "metadata": {},
   "source": [
    "#### p-value가 0.01882로 유의수준 0.05보다 작으므로 귀무가설을 기각한다.\n",
    "#### 따라서 A, B, C 자치구별 W 의원에 대한 찬성, 반대 지지의 지지율 중 적어도 하나는 다르다고 할 수 있다."
   ]
  },
  {
   "cell_type": "markdown",
   "id": "a935bbba",
   "metadata": {},
   "source": [
    "## < 26회 4번 : 독립 표본 t 검정, 신뢰구간 >\n",
    "A초등학교 남학생 16명과 여학생 9명의 혈압을 측정한 pressure.csv파일을 가지고 남녀학생의 평균 혈압에 차이가 없는지 분석하라. 단, 남학생과 여학생의 혈압 데이터는 정규분포를 따르며 등분산임을 가정한다.\n",
    "\n",
    "1. 연구가설과 귀무가설을 설정하라\n",
    "2. 통계량을 구하고, 연구가설 채택여부를 기술하라.\n",
    "3. 6.2 에서 구한 검정 통계량 값을 바탕으로 신뢰구간을 구하라"
   ]
  },
  {
   "cell_type": "code",
   "execution_count": 1,
   "id": "fe9e1655",
   "metadata": {},
   "outputs": [
    {
     "data": {
      "text/html": [
       "<div>\n",
       "<style scoped>\n",
       "    .dataframe tbody tr th:only-of-type {\n",
       "        vertical-align: middle;\n",
       "    }\n",
       "\n",
       "    .dataframe tbody tr th {\n",
       "        vertical-align: top;\n",
       "    }\n",
       "\n",
       "    .dataframe thead th {\n",
       "        text-align: right;\n",
       "    }\n",
       "</style>\n",
       "<table border=\"1\" class=\"dataframe\">\n",
       "  <thead>\n",
       "    <tr style=\"text-align: right;\">\n",
       "      <th></th>\n",
       "      <th>gender</th>\n",
       "      <th>pressure</th>\n",
       "    </tr>\n",
       "  </thead>\n",
       "  <tbody>\n",
       "    <tr>\n",
       "      <th>0</th>\n",
       "      <td>male</td>\n",
       "      <td>106.8</td>\n",
       "    </tr>\n",
       "    <tr>\n",
       "      <th>1</th>\n",
       "      <td>male</td>\n",
       "      <td>100.8</td>\n",
       "    </tr>\n",
       "    <tr>\n",
       "      <th>2</th>\n",
       "      <td>male</td>\n",
       "      <td>84.5</td>\n",
       "    </tr>\n",
       "    <tr>\n",
       "      <th>3</th>\n",
       "      <td>male</td>\n",
       "      <td>104.2</td>\n",
       "    </tr>\n",
       "    <tr>\n",
       "      <th>4</th>\n",
       "      <td>male</td>\n",
       "      <td>107.0</td>\n",
       "    </tr>\n",
       "  </tbody>\n",
       "</table>\n",
       "</div>"
      ],
      "text/plain": [
       "  gender  pressure\n",
       "0   male     106.8\n",
       "1   male     100.8\n",
       "2   male      84.5\n",
       "3   male     104.2\n",
       "4   male     107.0"
      ]
     },
     "execution_count": 1,
     "metadata": {},
     "output_type": "execute_result"
    }
   ],
   "source": [
    "import pandas as pd\n",
    "\n",
    "df_pressure = pd.read_csv('https://raw.githubusercontent.com/Datamanim/datarepo/main/adp/26/pressure.csv')\n",
    "df_pressure.head()"
   ]
  },
  {
   "cell_type": "markdown",
   "id": "24e3495b",
   "metadata": {},
   "source": [
    "### 접근 방법\n",
    "#### 독립표본 t 검정\n",
    "1) gender에 따라 데이터 나누기  \n",
    "2) 등분산 가정을 만족하므로, 독립표본 t 검정 수행 (equal_var=True 옵션)  \n",
    "\n",
    "\n",
    "#### 통합 표준편차, 합동(pooled) 표준편차\n",
    "<img src=\"https://user-images.githubusercontent.com/119478998/237030782-14056678-dfe7-46b3-98ad-807d0ae334b4.png\" width=450>\n",
    "\n",
    "- 독립표본 t-test에서 두 집단의 분산이 같다고 가정?\n",
    "    - 두 집단의 표준편차를 결합하여 합동 표준편차(pooled standard deviation)를 구하고 이를 사용하여 통계적 검정 및 신뢰구간을 계산함\n",
    "<br></br>\n",
    "- 합동 표준편차는 두 집단의 표준편차를 가중평균한 값\n",
    "    - 두 집단이 동일한 분산을 가지는 경우, 두 집단에서 추출된 데이터의 분산 추정량의 가중평균이 더 정확한 추정값이 됨\n",
    "    - 합동 표준편차를 사용하면 두 집단의 분산이 다를 때보다 검정력이 더 좋아짐 \n",
    "<br></br>\n",
    "- 합동 표준편차를 사용하여 신뢰구간을 계산하는 이유\n",
    "    - 두 집단의 분산이 다를 때, 각각의 표준오차를 사용하여 신뢰구간을 계산할 경우 신뢰구간이 과소평가되거나 과대평가될 수 있기 때문\n",
    "<br></br>\n",
    "- 두 집단의 분산이 동일 : student's t검정\n",
    "    - 두 집단의 분산이 다른 경우 : Welch's t-test 등을 사용하여 검정 및 신뢰구간을 계산\n",
    "    ```python\n",
    "    # 등분산 만족 X : Welch's t 검정\n",
    "    ttest_ind(x1, x2, equal_var = False)\n",
    "    ```\n",
    "    \n",
    "#### 신뢰구간\n",
    "<img src=\"https://user-images.githubusercontent.com/119478998/237030286-3ee6ed15-624c-4681-ba52-5652399a35c1.png\" width=400>\n"
   ]
  },
  {
   "cell_type": "markdown",
   "id": "0995c8ae",
   "metadata": {},
   "source": [
    "### 4-1) 연구가설과 귀무가설을 설정하라\n",
    "- 귀무가설 : A학교에서 성별에 따른 평균 혈압 차이는 없다. \n",
    "- 대립가설 : A학교에서 성별에 따른 평균 혈압 차이는 있다. "
   ]
  },
  {
   "cell_type": "markdown",
   "id": "c47f06fc",
   "metadata": {},
   "source": [
    "### 4-2) 통계량을 구하고, 연구가설 채택여부를 기술하라."
   ]
  },
  {
   "cell_type": "code",
   "execution_count": 5,
   "id": "1b6069bc",
   "metadata": {},
   "outputs": [],
   "source": [
    "# 데이터 나누기 \n",
    "\n",
    "male = df_pressure.loc[df_pressure.gender == 'male', 'pressure']\n",
    "female = df_pressure.loc[df_pressure.gender == 'female', 'pressure']"
   ]
  },
  {
   "cell_type": "code",
   "execution_count": 3,
   "id": "ca862dc5",
   "metadata": {},
   "outputs": [
    {
     "data": {
      "text/plain": [
       "Ttest_indResult(statistic=1.598335024574904, pvalue=0.12361716364314851)"
      ]
     },
     "execution_count": 3,
     "metadata": {},
     "output_type": "execute_result"
    }
   ],
   "source": [
    "import scipy.stats as stats\n",
    "\n",
    "# 성별에 따른 혈압이 등분산성을 만족한다는 조건\n",
    "# 독립 t검정 수행 (default is 'two-sided')\n",
    "test_result = stats.ttest_ind(male,\n",
    "                              female,\n",
    "                              equal_var=True)\n",
    "test_result"
   ]
  },
  {
   "cell_type": "markdown",
   "id": "1d0d1878",
   "metadata": {},
   "source": [
    "#### p-value 값이 0.12361716364314851로 유의수준 0.05에서 귀무가설을 기각하지 않는다. \n",
    "#### 따라서 A학교에서 성별에 따른 평균 혈압 차이는 없다고 할 수 있다."
   ]
  },
  {
   "cell_type": "markdown",
   "id": "85ae88b9",
   "metadata": {},
   "source": [
    "### 4-3) 4-2에서 구한 검정 통계량 값을 바탕으로 신뢰구간을 구하라"
   ]
  },
  {
   "cell_type": "code",
   "execution_count": 4,
   "id": "aaef57c4",
   "metadata": {},
   "outputs": [
    {
     "data": {
      "text/plain": [
       "6.307638888888917"
      ]
     },
     "execution_count": 4,
     "metadata": {},
     "output_type": "execute_result"
    }
   ],
   "source": [
    "# 남녀 평균 차이\n",
    "male.mean() - female.mean()"
   ]
  },
  {
   "cell_type": "code",
   "execution_count": null,
   "id": "7ef5c9d3",
   "metadata": {},
   "outputs": [],
   "source": [
    "# 평균과 신뢰구간\n",
    "from numpy import array,mean\n",
    "from scipy.stats import sem,t\n",
    "import numpy as np"
   ]
  },
  {
   "cell_type": "code",
   "execution_count": 6,
   "id": "fa71a4d8",
   "metadata": {},
   "outputs": [
    {
     "name": "stdout",
     "output_type": "stream",
     "text": [
      "신뢰구간:  (-1.8560720920085263, 14.47134986978636)\n"
     ]
    }
   ],
   "source": [
    "t_stat, p_val = stats.ttest_ind(male, female, equal_var=True)\n",
    "\n",
    "# 자유도 계산\n",
    "df = len(male) + len(female) - 2\n",
    "\n",
    "# 풀도분산 계산\n",
    "s1, s2 = male.var(), female.var()\n",
    "n1, n2 = len(male), len(female)\n",
    "pooled_var = ((n1 - 1) * s1 + (n2 - 1) * s2) / (n1 + n2 - 2)\n",
    "\n",
    "# 신뢰구간 계산\n",
    "# loc은 신뢰구간 계산 시 평균의 차이를 나타내는 값\n",
    "conf_int = stats.t.interval(0.95,\n",
    "                            df,\n",
    "                            loc = male.mean()-female.mean(), \n",
    "                            scale = (pooled_var*(1/n1 + 1/n2))**0.5)\n",
    "\n",
    "print(\"신뢰구간: \", conf_int)"
   ]
  },
  {
   "cell_type": "markdown",
   "id": "a2eb80b8",
   "metadata": {},
   "source": [
    "## < 26회 5번 : 베이지안 회귀 >\n",
    "height(키), weight(몸무게), waist(허리둘레) 컬럼을 가진 problem7.csv파일을 가지고 다음을 분석하라\n",
    "- A시의 20대 남성 411명을 임의로 추출하여 키, 몸무게, 허리둘레를 조사하여 기록한 데이터이다.\n",
    "- 이 데이터를 이용하여 20대 남성의 키와 허리둘레가 체중에 영향을 미치는지 알아보고자 한다.\n",
    "\n",
    "5-1) 아래 조건을 참고하여 회귀계수(반올림하여 소수점 두자리)를 구하시오.\n",
    "- 베이지안 회귀\n",
    "- 시드넘버 1234로 지정\n",
    "- 1000번의 burn-in 이후 10,000의 MCMC를 수행\n",
    "- 회귀계수의 사전분포는 부적절한 균일분포(inproper uniform prior distribution), 오차항의 분산의 사전분포는 역감마 분포로 지정. (이 때, 형상(Shape)모수와 척도(Scale)모수는 각각 0.005로 지정)\n",
    "\n",
    "5-2) 위에서 만든 모델을 바탕으로 키 180cm, 허리둘레 85cm인 남성의 몸무게를 추정하라."
   ]
  },
  {
   "cell_type": "code",
   "execution_count": 31,
   "id": "a03aef7a",
   "metadata": {},
   "outputs": [
    {
     "data": {
      "text/html": [
       "<div>\n",
       "<style scoped>\n",
       "    .dataframe tbody tr th:only-of-type {\n",
       "        vertical-align: middle;\n",
       "    }\n",
       "\n",
       "    .dataframe tbody tr th {\n",
       "        vertical-align: top;\n",
       "    }\n",
       "\n",
       "    .dataframe thead th {\n",
       "        text-align: right;\n",
       "    }\n",
       "</style>\n",
       "<table border=\"1\" class=\"dataframe\">\n",
       "  <thead>\n",
       "    <tr style=\"text-align: right;\">\n",
       "      <th></th>\n",
       "      <th>height</th>\n",
       "      <th>weight</th>\n",
       "      <th>waistline</th>\n",
       "    </tr>\n",
       "  </thead>\n",
       "  <tbody>\n",
       "    <tr>\n",
       "      <th>0</th>\n",
       "      <td>174.396</td>\n",
       "      <td>72.102</td>\n",
       "      <td>79.3787</td>\n",
       "    </tr>\n",
       "    <tr>\n",
       "      <th>1</th>\n",
       "      <td>179.656</td>\n",
       "      <td>81.255</td>\n",
       "      <td>80.6649</td>\n",
       "    </tr>\n",
       "    <tr>\n",
       "      <th>2</th>\n",
       "      <td>175.079</td>\n",
       "      <td>76.207</td>\n",
       "      <td>80.3166</td>\n",
       "    </tr>\n",
       "    <tr>\n",
       "      <th>3</th>\n",
       "      <td>180.804</td>\n",
       "      <td>81.354</td>\n",
       "      <td>80.8794</td>\n",
       "    </tr>\n",
       "    <tr>\n",
       "      <th>4</th>\n",
       "      <td>177.448</td>\n",
       "      <td>78.768</td>\n",
       "      <td>80.3499</td>\n",
       "    </tr>\n",
       "  </tbody>\n",
       "</table>\n",
       "</div>"
      ],
      "text/plain": [
       "    height  weight  waistline\n",
       "0  174.396  72.102    79.3787\n",
       "1  179.656  81.255    80.6649\n",
       "2  175.079  76.207    80.3166\n",
       "3  180.804  81.354    80.8794\n",
       "4  177.448  78.768    80.3499"
      ]
     },
     "execution_count": 31,
     "metadata": {},
     "output_type": "execute_result"
    }
   ],
   "source": [
    "import pandas as pd\n",
    "\n",
    "df = pd.read_csv('https://raw.githubusercontent.com/Datamanim/datarepo/main/adp/26/problem7.csv')\n",
    "df.head()"
   ]
  },
  {
   "cell_type": "markdown",
   "id": "20863231",
   "metadata": {},
   "source": [
    "### 5-1) 아래 조건을 참고하여 회귀계수(반올림하여 소수점 두자리)를 구하시오.\n",
    "- 베이지안 회귀\n",
    "- 시드넘버 1234로 지정\n",
    "- 1000번의 burn-in 이후 10,000의 MCMC를 수행\n",
    "- 회귀계수의 사전분포는 부적절한 균일분포(inproper uniform prior distribution), 오차항의 분산의 사전분포는 역감마 분포로 지정. (이 때, 형상(Shape)모수와 척도(Scale)모수는 각각 0.005로 지정)"
   ]
  },
  {
   "cell_type": "markdown",
   "id": "5882a2e2",
   "metadata": {},
   "source": [
    "```R\n",
    "data <- read.csv(\"https://raw.githubusercontent.com/Datamanim/datarepo/main/adp/26/problem7.csv\")\n",
    "\n",
    "library(rjags)\n",
    "library(runjags)\n",
    "\n",
    "model_string <- \"\n",
    "model {\n",
    "  # Define variables\n",
    "  for (i in 1:n) {\n",
    "    y[i] ~ dnorm(mu[i], tau)\n",
    "    mu[i] <- beta[1] + beta[2]*x1[i] + beta[3]*x2[i]\n",
    "  }\n",
    "  beta[1] ~ dunif(-1000, 1000)  # Improper uniform prior\n",
    "  beta[2] ~ dunif(-1000, 1000)  # Improper uniform prior\n",
    "  beta[3] ~ dunif(-1000, 1000)  # Improper uniform prior\n",
    "  tau ~ dgamma(0.005, 0.005)    # Inverse gamma prior\n",
    "}\n",
    "\"\n",
    "\n",
    "# Set seed\n",
    "set.seed(1234)\n",
    "\n",
    "# Prepare data\n",
    "data_jags = list(\"x1\" = data$height,\n",
    "                 \"x2\" = data$waist,\n",
    "                 \"y\" = data$weight,\n",
    "                 \"n\" = nrow(data))\n",
    "\n",
    "# Run MCMC\n",
    "jags_model <- jags.model(textConnection(model_string),\n",
    "                         data = data_jags,\n",
    "                         n.chains = 3)\n",
    "update(jags_model, 1000)\n",
    "samples <- coda.samples(jags_model, variable.names = c(\"beta\", \"tau\"), n.iter = 10000)\n",
    "\n",
    "summary(samples)\n",
    "```"
   ]
  },
  {
   "cell_type": "markdown",
   "id": "c2e0b4fa",
   "metadata": {},
   "source": [
    "```R\n",
    "# Output\n",
    "\n",
    "Compiling model graph\n",
    "   Resolving undeclared variables\n",
    "   Allocating nodes\n",
    "Graph information:\n",
    "   Observed stochastic nodes: 411\n",
    "   Unobserved stochastic nodes: 4\n",
    "   Total graph size: 1736\n",
    "\n",
    "Initializing model\n",
    "\n",
    "  |++++++++++++++++++++++++++++++++++++++++++++++++++| 100%\n",
    "> update(jags_model, 1000)\n",
    "  |**************************************************| 100%\n",
    "> samples <- coda.samples(jags_model, variable.names = c(\"beta\", \"tau\"), n.iter = 10000)\n",
    "  |**************************************************| 100%\n",
    "> summary(samples)\n",
    "\n",
    "Iterations = 2001:12000\n",
    "Thinning interval = 1 \n",
    "Number of chains = 3 \n",
    "Sample size per chain = 10000 \n",
    "\n",
    "1. Empirical mean and standard deviation for each variable,\n",
    "   plus standard error of the mean:\n",
    "\n",
    "            Mean      SD  Naive SE Time-series SE\n",
    "beta[1] -26.5886 8.75340 0.0505378        3.03867\n",
    "beta[2]   0.4824 0.27197 0.0015702        0.07157\n",
    "beta[3]   0.2143 0.54911 0.0031703        0.12431\n",
    "tau       0.2491 0.05628 0.0003249        0.01122\n",
    "\n",
    "2. Quantiles for each variable:\n",
    "\n",
    "            2.5%      25%      50%      75%   97.5%\n",
    "beta[1] -42.7128 -32.2536 -26.5532 -19.8254 -9.5844\n",
    "beta[2]  -0.1515   0.3367   0.5501   0.6677  0.8695\n",
    "beta[3]  -0.5297  -0.2884   0.1777   0.4790  1.3939\n",
    "tau       0.1316   0.2135   0.2567   0.2912  0.3410\n",
    "```"
   ]
  },
  {
   "cell_type": "markdown",
   "id": "3383efc9",
   "metadata": {},
   "source": [
    "R에서의 다양한 분포 표현\n",
    "- 정규 분포 (Normal Distribution) : dnorm(mu, sigma)\n",
    "    - 평균(mu)과 표준 편차(sigma)를 가지는 정규 분포\n",
    "    - 정규 분포는 연속형 변수에 적합하며, 파라미터의 사후 분포를 모델링하는 데 사용\n",
    "<br><br/> \n",
    "- 베타 분포 (Beta Distribution) : dbeta(alpha, beta)\n",
    "    - 베이지안 분석에서 0과 1 사이의 값을 가지는 변수의 사후 분포를 모델링하는 데 사용\n",
    "    - 베타 분포는 성공과 실패의 비율을 모델링하는 데 자주 사용\n",
    "<br><br/>    \n",
    "- 감마 분포 (Gamma Distribution) : dgamma(shape, rate)\n",
    "    - 양의 실수 값을 가지는 변수의 사후 분포를 모델링하는 데 사용\n",
    "    - 주로 정확도나 정밀도와 같은 변수를 모델링할 때 사용\n",
    "<br><br/>\n",
    "- 로지스틱 분포 (Logistic Distribution) : dlogis(location, scale)\n",
    "    - 양극 첨도(two-tailed) 대칭 분포로, 이산 선택 결과에 적합\n",
    "    - 주로 이진 분류 문제에서 사후 분포를 모델링하는 데 사용\n",
    "<br><br/>    \n",
    "- 카테고리 분포 (Categorical Distribution) : dcat(p)\n",
    "    - 범주형 변수에 대한 사후 분포를 모델링하는 데 사용\n",
    "    - 주로 다중 클래스 분류 문제에서 사용"
   ]
  },
  {
   "cell_type": "markdown",
   "id": "ddf3c53d",
   "metadata": {},
   "source": [
    "### 5-2. 위에서 만든 모델을 바탕으로 키 180cm, 허리둘레 85cm인 남성의 몸무게를 추정하라."
   ]
  },
  {
   "cell_type": "markdown",
   "id": "3e803868",
   "metadata": {},
   "source": [
    "```R\n",
    "키가 180cm이고 허리둘레가 85cm인 남성의 몸무게를 추정하려면 다음과 같이 계산\n",
    "\n",
    "mu = beta[1] + beta[2]180 + beta[3]85\n",
    "\n",
    "# ex : mu = -21.23 + 0.74 * 180 + -0.42 * 85\n",
    "mu = -26.59 + 0.48180 + 0.2185\n",
    "mu = 74.14\n",
    "\n",
    "따라서 추정된 몸무게는 약 74.14\n",
    "```"
   ]
  },
  {
   "cell_type": "markdown",
   "id": "1f417274",
   "metadata": {},
   "source": [
    "---"
   ]
  },
  {
   "cell_type": "markdown",
   "id": "81611acc",
   "metadata": {},
   "source": [
    "# [ 25회 ]"
   ]
  },
  {
   "cell_type": "markdown",
   "id": "06c9e462",
   "metadata": {},
   "source": [
    "- 여러 통계 문제 (각 5점씩 총 20점)\n",
    "\n",
    "## < 25회 1-1번 : 조화평균 >\n",
    "서울에서 영동까지 100km/h로 가고 영동에서 서울까지 80km/로 돌아왔을 때, 평균 속도는?"
   ]
  },
  {
   "cell_type": "markdown",
   "id": "55fd3752",
   "metadata": {},
   "source": [
    "### 접근 방법\n",
    "$거리= \\cfrac{속도}{시간}$\n",
    "\n",
    "#### 산술, 기하, 조화 평균\n",
    "<img src =\"https://i.esdrop.com/d/f/3uJKEwVXJL/cqOXmS4V0i.jpg\" width=300>"
   ]
  },
  {
   "cell_type": "code",
   "execution_count": 17,
   "id": "1cc9d767",
   "metadata": {},
   "outputs": [
    {
     "name": "stdout",
     "output_type": "stream",
     "text": [
      "평균 속도: 88.88888888888889\n"
     ]
    }
   ],
   "source": [
    "# 거리 = 속도 * 시간\n",
    "\n",
    "distance = 100  # 이동 거리 (서울에서 영동까지 또는 영동에서 서울까지)\n",
    "\n",
    "speed1 = 100  # 속도 (서울에서 영동까지)\n",
    "speed2 = 80  # 속도 (영동에서 서울까지)\n",
    "\n",
    "# 이동에 소요되는 시간\n",
    "time1 = distance / speed1  # 서울에서 영동까지의 시간\n",
    "time2 = distance / speed2  # 영동에서 서울까지의 시간\n",
    "\n",
    "# 총 이동 거리\n",
    "total_distance = 2 * distance\n",
    "\n",
    "# 총 소요 시간\n",
    "total_time = time1 + time2\n",
    "\n",
    "# 평균 속도\n",
    "average_speed = total_distance / total_time\n",
    "\n",
    "print(\"평균 속도:\", average_speed)"
   ]
  },
  {
   "cell_type": "markdown",
   "id": "2f5835b1",
   "metadata": {},
   "source": [
    "## < 25회 1-2번 : 기하평균 > \n",
    "연매출이 3000, 4000, 5000이었다면 연평균 몇배가 증가한 것인가?"
   ]
  },
  {
   "cell_type": "markdown",
   "id": "d9ac9435",
   "metadata": {},
   "source": [
    "### 접근 방법\n",
    "성장률과 기하평균\n",
    "- 27회 1번 문제 유사"
   ]
  },
  {
   "cell_type": "code",
   "execution_count": 29,
   "id": "f83dad82",
   "metadata": {},
   "outputs": [
    {
     "data": {
      "text/plain": [
       "1.2909944487358056"
      ]
     },
     "execution_count": 29,
     "metadata": {},
     "output_type": "execute_result"
    }
   ],
   "source": [
    "p2 = 3000 # 2년 전\n",
    "p1 = 4000 # 1년 전\n",
    "p0 = 5000 # 현재\n",
    "\n",
    "rt1 = (p1/p2) # 10만 -> 15만의 증가율\n",
    "rt2 = (p0/p1) # 10만 -> 15만의 증가율\n",
    "\n",
    "geo_mean = np.sqrt(rt1 * rt2)\n",
    "geo_mean"
   ]
  },
  {
   "cell_type": "code",
   "execution_count": 22,
   "id": "8a2fa97c",
   "metadata": {},
   "outputs": [
    {
     "name": "stdout",
     "output_type": "stream",
     "text": [
      "연평균 1.29배 증가했습니다.\n"
     ]
    }
   ],
   "source": [
    "# 다른 코드 (GPT)\n",
    "\n",
    "def calculate_average_growth_ratio(revenues):\n",
    "    # 연평균 증가율 계산\n",
    "    average_growth_ratio = (revenues[-1] / revenues[0]) ** (1 / (len(revenues) - 1))\n",
    "\n",
    "    return average_growth_ratio\n",
    "\n",
    "# 연매출 데이터\n",
    "revenues = [3000, 4000, 5000]\n",
    "\n",
    "# 연평균 증가율 계산\n",
    "average_growth_ratio = calculate_average_growth_ratio(revenues)\n",
    "\n",
    "# 결과 출력\n",
    "print(f\"연평균 {average_growth_ratio:.2f}배 증가했습니다.\")"
   ]
  },
  {
   "cell_type": "code",
   "execution_count": 21,
   "id": "5068a916",
   "metadata": {},
   "outputs": [
    {
     "name": "stdout",
     "output_type": "stream",
     "text": [
      "연평균 1.73배 증가했습니다.\n"
     ]
    }
   ],
   "source": [
    "# 시험 다른 복기 데이터) 1000, 2000, 3000일 때\n",
    "\n",
    "def calculate_average_growth_ratio(revenues):\n",
    "    # 연평균 증가율 계산\n",
    "    average_growth_ratio = (revenues[-1] / revenues[0]) ** (1 / (len(revenues) - 1))\n",
    "\n",
    "    return average_growth_ratio\n",
    "\n",
    "# 연매출 데이터\n",
    "revenues = [1000, 2000, 3000]\n",
    "\n",
    "# 연평균 증가율 계산\n",
    "average_growth_ratio = calculate_average_growth_ratio(revenues)\n",
    "\n",
    "# 결과 출력\n",
    "print(f\"연평균 {average_growth_ratio:.2f}배 증가했습니다.\")"
   ]
  },
  {
   "cell_type": "markdown",
   "id": "f6beb316",
   "metadata": {},
   "source": [
    "## < 25회 1-3번 : 조건부 확률 >\n",
    "남성, 여성의 등산, 수영에 대한 취미 선호도 빈도표(2x2)를 보고, 남성 중에서 등산을 좋아할 확률을 구하시오.\n",
    "<img src=\"https://github.com/Datamanim/datarepo/blob/main/adp/25/problem3_3.png?raw=true\" width=200/>"
   ]
  },
  {
   "cell_type": "code",
   "execution_count": 15,
   "id": "e415c141",
   "metadata": {},
   "outputs": [
    {
     "data": {
      "text/html": [
       "<div>\n",
       "<style scoped>\n",
       "    .dataframe tbody tr th:only-of-type {\n",
       "        vertical-align: middle;\n",
       "    }\n",
       "\n",
       "    .dataframe tbody tr th {\n",
       "        vertical-align: top;\n",
       "    }\n",
       "\n",
       "    .dataframe thead th {\n",
       "        text-align: right;\n",
       "    }\n",
       "</style>\n",
       "<table border=\"1\" class=\"dataframe\">\n",
       "  <thead>\n",
       "    <tr style=\"text-align: right;\">\n",
       "      <th></th>\n",
       "      <th>등산</th>\n",
       "      <th>수영</th>\n",
       "    </tr>\n",
       "  </thead>\n",
       "  <tbody>\n",
       "    <tr>\n",
       "      <th>남자</th>\n",
       "      <td>20</td>\n",
       "      <td>10</td>\n",
       "    </tr>\n",
       "    <tr>\n",
       "      <th>여자</th>\n",
       "      <td>15</td>\n",
       "      <td>30</td>\n",
       "    </tr>\n",
       "  </tbody>\n",
       "</table>\n",
       "</div>"
      ],
      "text/plain": [
       "    등산  수영\n",
       "남자  20  10\n",
       "여자  15  30"
      ]
     },
     "execution_count": 15,
     "metadata": {},
     "output_type": "execute_result"
    }
   ],
   "source": [
    "import pandas as pd\n",
    "\n",
    "df_swim = pd.DataFrame([[20, 10], [15,30]],\n",
    "                       index = [\"남자\", \"여자\"],\n",
    "                       columns = [\"등산\", \"수영\"]\n",
    "                      )\n",
    "df_swim"
   ]
  },
  {
   "cell_type": "code",
   "execution_count": 16,
   "id": "9f412081",
   "metadata": {},
   "outputs": [
    {
     "name": "stdout",
     "output_type": "stream",
     "text": [
      "남성 중 등산을 좋아할 확률: 0.6666666666666666\n"
     ]
    }
   ],
   "source": [
    "male_hiking_count = df_swim.loc[\"남자\", \"등산\"]\n",
    "total_male_count = df_swim.loc[\"남자\"].sum()\n",
    "\n",
    "probability_male_hiking = male_hiking_count / total_male_count\n",
    "\n",
    "print(\"남성 중 등산을 좋아할 확률:\", probability_male_hiking)\n"
   ]
  },
  {
   "cell_type": "markdown",
   "id": "dfbd0d24",
   "metadata": {},
   "source": [
    "#### 남성 중 등산을 좋아할 확률은 2/3, 즉 0.6666666666666666... 이다. "
   ]
  },
  {
   "cell_type": "markdown",
   "id": "188820da",
   "metadata": {},
   "source": [
    "## < 25회 1-4번 : 모분산 신뢰구간 추정 >\n",
    "표본 10개의 분산이 90일 때 신뢰도 95%로 모분산의 신뢰구간을 추정"
   ]
  },
  {
   "cell_type": "markdown",
   "id": "63f190c3",
   "metadata": {},
   "source": [
    "### 접근 방법\n",
    "- 모분산의 신뢰구간 추정은 카이제곱과 연관 !\n",
    "<img src=\"https://i.esdrop.com/d/f/3uJKEwVXJL/hhZ8I83b6n.jpg\" width=300/>\n",
    "\n",
    "- 만약 $\\sigma^2$의 신뢰수준 95%의 신뢰구간을 구하려면?\n",
    "\n",
    "$\\cfrac{(n-1)s^2}{\\chi^2_{0.025}(n-1)} \\leq \\cfrac{(n-1)s^2}{\\chi^2_{0.975}(n-1)}$ "
   ]
  },
  {
   "cell_type": "code",
   "execution_count": 11,
   "id": "607066d2",
   "metadata": {},
   "outputs": [
    {
     "name": "stdout",
     "output_type": "stream",
     "text": [
      "신뢰구간: (42.58055444790953, 299.95672846672363)\n"
     ]
    }
   ],
   "source": [
    "import numpy as np\n",
    "from scipy import stats\n",
    "\n",
    "sample_var = 90  # 표본 분산\n",
    "sample_size = 10  # 표본 크기\n",
    "confidence_level = 0.95  # 신뢰도\n",
    "\n",
    "# 자유도\n",
    "df = sample_size - 1\n",
    "\n",
    "# 신뢰구간 계산\n",
    "lower = df * sample_var / stats.chi2.ppf((1 + confidence_level) / 2, df)\n",
    "upper = df * sample_var / stats.chi2.ppf((1 - confidence_level) / 2, df)\n",
    "\n",
    "# 결과 출력\n",
    "print(f\"신뢰구간: ({lower}, {upper})\")"
   ]
  },
  {
   "cell_type": "markdown",
   "id": "871b7b6f",
   "metadata": {},
   "source": [
    "## < 25회 2번 : paired t-test (대응표본 t검정) >\n",
    "임상 대상 20명에 대해 혈압약 투약 이전과 이후의 차이가 24, 표준편차 9  신뢰구간 95%, 차이가 존재하는지 확인하려한다\n",
    "\n",
    "1. 귀무가설과 연구가설을 제시하시오.\n",
    "2. 검정 후 귀무가설 기각 여부 제시"
   ]
  },
  {
   "cell_type": "markdown",
   "id": "e563692d",
   "metadata": {},
   "source": [
    "### 접근 방법\n",
    "- 혈압약 투약 이전, 이후 $\\rightarrow$ 대응표본 t검정\n",
    "\n",
    "#### Paired t-test 검정법\n",
    "- $u_D$는 영가설이 옳다는 가정하에 0 (귀무가설 : $u_D = 0$)\n",
    "\n",
    "**1) 통계량과 기각값 비교 : 통계량이 기각역에 포함되는가?**\n",
    "\n",
    "**2) t기각값, 신뢰구간을 이용한 검정**\n",
    "- 95% 신뢰구간이 검정하고자 하는 값인 0을 포함한다면, 유의수준 5%에서 영가설을 기각하는 데 실패 (채택)\n",
    "\n",
    "#### 신뢰구간 유사 문제 : 27회 2번 참고 "
   ]
  },
  {
   "cell_type": "markdown",
   "id": "5fc2f422",
   "metadata": {},
   "source": [
    "### 2-1) 귀무가설과 연구가설을 제시하시오.\n",
    "- 귀무가설 : 혈압약 투약 이전과 이후의 혈압에 유의한 차이가 없다. (혈압약의 투약여부가 혈압에 대해 유의한 영향을 미치지 못한다.)\n",
    "- 대립가설 : 혈압약 투약 이전과 이후의 혈압에 유의한 차이가 있다. (혈압약의 투약여부가 혈압에 대해 유의한 영향을 미친다.)"
   ]
  },
  {
   "cell_type": "markdown",
   "id": "3397aa94",
   "metadata": {},
   "source": [
    "### 2-2) 검정 후 귀무가설 기각 여부 제시"
   ]
  },
  {
   "cell_type": "code",
   "execution_count": 17,
   "id": "0cc7e575",
   "metadata": {},
   "outputs": [
    {
     "name": "stdout",
     "output_type": "stream",
     "text": [
      "t 통계량 :  11.925695879998878\n",
      "t 기각값 :  2.093024054408263\n",
      "신뢰구간 :  19.787870342220813 28.212129657779187\n"
     ]
    }
   ],
   "source": [
    "import numpy as np\n",
    "from scipy import stats\n",
    "\n",
    "d_bar = 24 \n",
    "s_d = 9\n",
    "n = 20\n",
    "\n",
    "# t 통계량\n",
    "t = diff / (s_d / np.sqrt(n))\n",
    "print(\"t 통계량 : \", t)\n",
    "\n",
    "confidence_level = 0.95\n",
    "\n",
    "# t 기각값 계산\n",
    "t_critical = stats.t.ppf(1 - (1 - confidence_level) / 2, df=n-1)\n",
    "print(\"t 기각값 : \", t_critical )\n",
    "\n",
    "margin_of_error = t_critical * (s_d / np.sqrt(n))\n",
    "\n",
    "LCI = d_bar - margin_of_error\n",
    "HCI = d_bar + margin_of_error\n",
    "\n",
    "print(\"신뢰구간 : \", LCI, HCI)"
   ]
  },
  {
   "cell_type": "markdown",
   "id": "892aa565",
   "metadata": {},
   "source": [
    "#### t 통계량 값이 기각역에 속하므로, 귀무가설을 기각한다. (기각값인 2.09 < t 값)\n",
    "#### 신뢰구간 안에 0이 속하지 않으므로,귀무가설을 기각한다. 따라서 혈압약 투약 이전과 이후의 혈압에 유의한 차이가 있다. "
   ]
  },
  {
   "cell_type": "code",
   "execution_count": 8,
   "id": "189af016",
   "metadata": {},
   "outputs": [
    {
     "name": "stdout",
     "output_type": "stream",
     "text": [
      "t 기각값: -2.093024054408263\n",
      "t 기각값: 2.093024054408263\n",
      "t 통계량: 11.925695879998878\n",
      "신뢰구간: 19.787870342220813 28.212129657779187\n"
     ]
    }
   ],
   "source": [
    "import numpy as np\n",
    "from scipy import stats\n",
    "\n",
    "d_bar = 24\n",
    "s_d = 9\n",
    "n = 20\n",
    "\n",
    "# t 통계량\n",
    "t = d_bar / (s_d / np.sqrt(n))\n",
    "\n",
    "confidence_level = 0.95\n",
    "\n",
    "# 양측 검정에서의 t 기각값 계산\n",
    "t_critical_1 = stats.t.ppf((1 - confidence_level) / 2, df=n-1)\n",
    "t_critical_2 = stats.t.ppf((1 + confidence_level) / 2, df=n-1)\n",
    "\n",
    "# 결과 출력\n",
    "print(\"t 기각값:\", t_critical_1)\n",
    "print(\"t 기각값:\", t_critical_2)\n",
    "\n",
    "print(\"t 통계량:\", t)\n",
    "\n",
    "# 신뢰구간\n",
    "LCI = d_bar - t_critical_2 * (s_d / np.sqrt(n))\n",
    "HCI = d_bar + t_critical_2 * (s_d / np.sqrt(n))\n",
    "\n",
    "print(\"신뢰구간:\", LCI, HCI)\n"
   ]
  },
  {
   "cell_type": "markdown",
   "id": "f0564eb6",
   "metadata": {},
   "source": [
    "## < 25회 3번 : 크루스컬 윌리스 검정 >\n",
    "공장 X, Y, Z의 평균 출하 소요시간을 여러 일자에 거쳐 측정한 데이터이다. 각 공장의 중위수의 차이가 존재하는지 확인하려 한다.\n",
    "\n",
    "1. 귀무가설과 연구가설을 제시하시오\n",
    "2. 검정 후 귀무가설 기각 여부 제시"
   ]
  },
  {
   "cell_type": "code",
   "execution_count": 16,
   "id": "eb5a258e",
   "metadata": {},
   "outputs": [
    {
     "data": {
      "text/html": [
       "<div>\n",
       "<style scoped>\n",
       "    .dataframe tbody tr th:only-of-type {\n",
       "        vertical-align: middle;\n",
       "    }\n",
       "\n",
       "    .dataframe tbody tr th {\n",
       "        vertical-align: top;\n",
       "    }\n",
       "\n",
       "    .dataframe thead th {\n",
       "        text-align: right;\n",
       "    }\n",
       "</style>\n",
       "<table border=\"1\" class=\"dataframe\">\n",
       "  <thead>\n",
       "    <tr style=\"text-align: right;\">\n",
       "      <th></th>\n",
       "      <th>출하 소요시간</th>\n",
       "      <th>공장명</th>\n",
       "      <th>공장별 출하 소요시간 순위</th>\n",
       "    </tr>\n",
       "  </thead>\n",
       "  <tbody>\n",
       "    <tr>\n",
       "      <th>0</th>\n",
       "      <td>71</td>\n",
       "      <td>Z</td>\n",
       "      <td>11</td>\n",
       "    </tr>\n",
       "    <tr>\n",
       "      <th>1</th>\n",
       "      <td>75</td>\n",
       "      <td>X</td>\n",
       "      <td>14</td>\n",
       "    </tr>\n",
       "    <tr>\n",
       "      <th>2</th>\n",
       "      <td>71</td>\n",
       "      <td>X</td>\n",
       "      <td>12</td>\n",
       "    </tr>\n",
       "    <tr>\n",
       "      <th>3</th>\n",
       "      <td>53</td>\n",
       "      <td>Z</td>\n",
       "      <td>1</td>\n",
       "    </tr>\n",
       "    <tr>\n",
       "      <th>4</th>\n",
       "      <td>50</td>\n",
       "      <td>X</td>\n",
       "      <td>1</td>\n",
       "    </tr>\n",
       "  </tbody>\n",
       "</table>\n",
       "</div>"
      ],
      "text/plain": [
       "   출하 소요시간 공장명  공장별 출하 소요시간 순위\n",
       "0       71   Z              11\n",
       "1       75   X              14\n",
       "2       71   X              12\n",
       "3       53   Z               1\n",
       "4       50   X               1"
      ]
     },
     "execution_count": 16,
     "metadata": {},
     "output_type": "execute_result"
    }
   ],
   "source": [
    "import pandas as pd\n",
    "df = pd.read_csv('https://raw.githubusercontent.com/Datamanim/datarepo/main/adp/25/problem5.csv',encoding='cp949')\n",
    "df.head()"
   ]
  },
  {
   "cell_type": "markdown",
   "id": "84648c7c",
   "metadata": {},
   "source": [
    "### 접근 방법 \n",
    "#### 3개 이상 표본 & '순위'가 들어간 서열 척도 데이터 $\\rightarrow$ 크루스컬 윌리스 검정\n",
    "- 비모수 검정 \n",
    "- 독립변수는 범주형변수고 종속변수는 연속형변수 $\\rightarrow$ One way ANOVA\n",
    "    - 정규성을 따르면 One way ANOVA로 평균 비교했을 것\n",
    "    - '중위수'로 비교하므로 정규성을 만족하지 못한다고 판단 $\\rightarrow$ 크루스칼로 문제 풀이\n",
    "    \n",
    "1. 집단별로 원데이터(출하 소요시간) 분할해주기\n",
    "    - 순위는 trick\n",
    "2. 집단별 데이터로 kruskal 검정 실행"
   ]
  },
  {
   "cell_type": "markdown",
   "id": "f1dfd88d",
   "metadata": {},
   "source": [
    "###  3-1) 귀무가설과 연구가설을 제시하시오.\n",
    "- 귀무가설 : 공장 X, Y, Z의 평균 출하 소요시간의 중위수는 모두 같다.\n",
    "- 대립가설 : 공장 X, Y, Z의 평균 출하 소요시간의 중위수 중 적어도 하나가 다르다. (적어도 하나는 ~ 차이가 있다.)"
   ]
  },
  {
   "cell_type": "markdown",
   "id": "2a58bf2c",
   "metadata": {},
   "source": [
    "## 3-2) 검정 후 귀무가설 기각 여부 제시"
   ]
  },
  {
   "cell_type": "code",
   "execution_count": 17,
   "id": "b4b72ac4",
   "metadata": {},
   "outputs": [
    {
     "name": "stdout",
     "output_type": "stream",
     "text": [
      "Statistic: 0.7217886080379153\n",
      "p-value: 0.6970526702392181\n"
     ]
    }
   ],
   "source": [
    "from scipy.stats import kruskal\n",
    "\n",
    "# 각 공장의 데이터 추출\n",
    "factory_X = df[df['공장명'] == 'X']['출하 소요시간']\n",
    "factory_Y = df[df['공장명'] == 'Y']['출하 소요시간']\n",
    "factory_Z = df[df['공장명'] == 'Z']['출하 소요시간']\n",
    "\n",
    "# 크루스칼-윌리스 검정 수행\n",
    "statistic, p_value = kruskal(factory_X, factory_Y, factory_Z)\n",
    "\n",
    "# 결과 출력\n",
    "print(\"Statistic:\", statistic)\n",
    "print(\"p-value:\", p_value)"
   ]
  },
  {
   "cell_type": "markdown",
   "id": "ec570926",
   "metadata": {},
   "source": [
    "#### p-value 값이 0.697로 유의수준 0.05보다 크므로, 귀무가설을 기각할 수 없다.\n",
    "#### 따라서 공장 X, Y, Z의 평균 출하 소요시간의 중위수는 모두 같다고 할 수 있다."
   ]
  },
  {
   "cell_type": "markdown",
   "id": "faf82ca9",
   "metadata": {},
   "source": [
    "## < 25회 4번 : NPV(순현재가치) >\n",
    "1개년 50억원, 2개년 60억원, 3개년 70억원의 예산을 가지고 NPV(순현재가치)가 가장 높아지는 안을 제시하시오.\n",
    "\n",
    "<img src=\"https://github.com/Datamanim/datarepo/blob/main/adp/25/problem6.png?raw=true\" width=300/>"
   ]
  },
  {
   "cell_type": "markdown",
   "id": "308d5f6d",
   "metadata": {},
   "source": [
    "### 접근 방법\n",
    "- 선형계획법이라고 하는데 솔직히 잘 모르겠음\n",
    "\n",
    "나름 내가 연구한 방법 \n",
    "- 할인율이 문제에 주어졌을 것 (10%라고 가정하고 풀이 작성)\n",
    "- 기준시점을 현재로 잡고 1개년은 1번 할인하고, 2개년은 2번 할인하고, 3년도는 3번 할인\n",
    "- 원래 시작 기준 연도와 투자금액도 같이 주어져야한다고함. npv 함수 사용하려면 투자금액도 cash_flow에 추가돼서 구현해야하는데 없어서 투자금액 없이 수기로 작성해봄\n",
    "\n",
    "$1안을\\; 예로 \\; 들면 \\; \\cfrac{(50-10)}{1.1} + \\cfrac{(60-20)}{(1.1)^2} + \\cfrac{(70-15)}{(1.1)^3}=110.7438017$"
   ]
  },
  {
   "cell_type": "code",
   "execution_count": 32,
   "id": "a0ddfb30",
   "metadata": {},
   "outputs": [
    {
     "name": "stdout",
     "output_type": "stream",
     "text": [
      "   yr1  yr2  yr3         npv\n",
      "1   40   40   55  110.743802\n",
      "2   35   46   51  108.151766\n",
      "3   38   49   40  105.093914\n",
      "4   37   35   50  100.127724\n",
      "5   34   30   46   90.262960 \n",
      "\n",
      "가장 높은 npv를 가지는 것은 1안이며, npv는 110.74입니다.\n"
     ]
    }
   ],
   "source": [
    "import pandas as pd\n",
    "\n",
    "# 할인율\n",
    "discount_rate = 0.1\n",
    "\n",
    "# 데이터프레임 생성\n",
    "investment_df = pd.DataFrame([[10, 20, 15],\n",
    "                              [15, 14, 19], \n",
    "                              [12, 11, 30], \n",
    "                              [13, 25, 20], \n",
    "                              [16, 30, 24]], \n",
    "                             index=[1, 2, 3, 4, 5], \n",
    "                             columns=['yr1', 'yr2', 'yr3'])\n",
    "\n",
    "# investment_df에서 각 값에 대해 50, 60, 70을 뺀 결과를 구함\n",
    "new_df = pd.DataFrame({\n",
    "    'yr1': 50 - investment_df['yr1'],\n",
    "    'yr2': 60 - investment_df['yr2'],\n",
    "    'yr3': 70 - investment_df['yr3']\n",
    "}, index=investment_df.index)\n",
    "\n",
    "# npv 수기작성\n",
    "for i in range(len(new_df)):\n",
    "    yr1 = new_df.iloc[i]['yr1']\n",
    "    yr2 = new_df.iloc[i]['yr2']\n",
    "    yr3 = new_df.iloc[i]['yr3']\n",
    "\n",
    "    npv = yr1 / (1 + discount_rate) \\\n",
    "    + yr2 / (1 + discount_rate) ** 2 \\\n",
    "    + yr3 / (1 + discount_rate) ** 3\n",
    "\n",
    "    new_df.at[new_df.index[i], 'npv'] = npv\n",
    "\n",
    "print(new_df, \"\\n\")\n",
    "\n",
    "# 가장 높은 npv를 가지는 예산 선택\n",
    "max_npv = new_df['npv'].max()\n",
    "max_index = new_df['npv'].idxmax()\n",
    "\n",
    "# 결과 출력\n",
    "print(f\"가장 높은 npv를 가지는 것은 {max_index}안이며, npv는 {max_npv:.2f}입니다.\")\n"
   ]
  },
  {
   "cell_type": "markdown",
   "id": "867b827b",
   "metadata": {},
   "source": [
    "#### 합격자 다른 풀이 참고"
   ]
  },
  {
   "cell_type": "code",
   "execution_count": 36,
   "id": "16ad6a98",
   "metadata": {},
   "outputs": [
    {
     "data": {
      "text/html": [
       "<div>\n",
       "<style scoped>\n",
       "    .dataframe tbody tr th:only-of-type {\n",
       "        vertical-align: middle;\n",
       "    }\n",
       "\n",
       "    .dataframe tbody tr th {\n",
       "        vertical-align: top;\n",
       "    }\n",
       "\n",
       "    .dataframe thead th {\n",
       "        text-align: right;\n",
       "    }\n",
       "</style>\n",
       "<table border=\"1\" class=\"dataframe\">\n",
       "  <thead>\n",
       "    <tr style=\"text-align: right;\">\n",
       "      <th></th>\n",
       "      <th>yr1</th>\n",
       "      <th>yr2</th>\n",
       "      <th>yr3</th>\n",
       "      <th>total</th>\n",
       "    </tr>\n",
       "  </thead>\n",
       "  <tbody>\n",
       "    <tr>\n",
       "      <th>(2, 3, 4)</th>\n",
       "      <td>40</td>\n",
       "      <td>50</td>\n",
       "      <td>69</td>\n",
       "      <td>159</td>\n",
       "    </tr>\n",
       "    <tr>\n",
       "      <th>(1, 3, 4)</th>\n",
       "      <td>35</td>\n",
       "      <td>56</td>\n",
       "      <td>65</td>\n",
       "      <td>156</td>\n",
       "    </tr>\n",
       "    <tr>\n",
       "      <th>(1, 2, 4)</th>\n",
       "      <td>38</td>\n",
       "      <td>59</td>\n",
       "      <td>54</td>\n",
       "      <td>151</td>\n",
       "    </tr>\n",
       "    <tr>\n",
       "      <th>(1, 2, 3)</th>\n",
       "      <td>37</td>\n",
       "      <td>45</td>\n",
       "      <td>64</td>\n",
       "      <td>146</td>\n",
       "    </tr>\n",
       "    <tr>\n",
       "      <th>(4, 5)</th>\n",
       "      <td>29</td>\n",
       "      <td>55</td>\n",
       "      <td>44</td>\n",
       "      <td>128</td>\n",
       "    </tr>\n",
       "    <tr>\n",
       "      <th>(3, 5)</th>\n",
       "      <td>28</td>\n",
       "      <td>41</td>\n",
       "      <td>54</td>\n",
       "      <td>123</td>\n",
       "    </tr>\n",
       "    <tr>\n",
       "      <th>(2, 5)</th>\n",
       "      <td>31</td>\n",
       "      <td>44</td>\n",
       "      <td>43</td>\n",
       "      <td>118</td>\n",
       "    </tr>\n",
       "    <tr>\n",
       "      <th>(1, 5)</th>\n",
       "      <td>26</td>\n",
       "      <td>50</td>\n",
       "      <td>39</td>\n",
       "      <td>115</td>\n",
       "    </tr>\n",
       "    <tr>\n",
       "      <th>(3, 4)</th>\n",
       "      <td>25</td>\n",
       "      <td>36</td>\n",
       "      <td>50</td>\n",
       "      <td>111</td>\n",
       "    </tr>\n",
       "    <tr>\n",
       "      <th>(2, 4)</th>\n",
       "      <td>28</td>\n",
       "      <td>39</td>\n",
       "      <td>39</td>\n",
       "      <td>106</td>\n",
       "    </tr>\n",
       "    <tr>\n",
       "      <th>(1, 4)</th>\n",
       "      <td>23</td>\n",
       "      <td>45</td>\n",
       "      <td>35</td>\n",
       "      <td>103</td>\n",
       "    </tr>\n",
       "    <tr>\n",
       "      <th>(2, 3)</th>\n",
       "      <td>27</td>\n",
       "      <td>25</td>\n",
       "      <td>49</td>\n",
       "      <td>101</td>\n",
       "    </tr>\n",
       "    <tr>\n",
       "      <th>(1, 3)</th>\n",
       "      <td>22</td>\n",
       "      <td>31</td>\n",
       "      <td>45</td>\n",
       "      <td>98</td>\n",
       "    </tr>\n",
       "    <tr>\n",
       "      <th>(1, 2)</th>\n",
       "      <td>25</td>\n",
       "      <td>34</td>\n",
       "      <td>34</td>\n",
       "      <td>93</td>\n",
       "    </tr>\n",
       "  </tbody>\n",
       "</table>\n",
       "</div>"
      ],
      "text/plain": [
       "           yr1  yr2  yr3  total\n",
       "(2, 3, 4)   40   50   69    159\n",
       "(1, 3, 4)   35   56   65    156\n",
       "(1, 2, 4)   38   59   54    151\n",
       "(1, 2, 3)   37   45   64    146\n",
       "(4, 5)      29   55   44    128\n",
       "(3, 5)      28   41   54    123\n",
       "(2, 5)      31   44   43    118\n",
       "(1, 5)      26   50   39    115\n",
       "(3, 4)      25   36   50    111\n",
       "(2, 4)      28   39   39    106\n",
       "(1, 4)      23   45   35    103\n",
       "(2, 3)      27   25   49    101\n",
       "(1, 3)      22   31   45     98\n",
       "(1, 2)      25   34   34     93"
      ]
     },
     "execution_count": 36,
     "metadata": {},
     "output_type": "execute_result"
    }
   ],
   "source": [
    "from itertools import combinations \n",
    "import pandas as pd \n",
    "\n",
    "investment_df = pd.DataFrame([[10, 20, 15],\n",
    "                              [15, 14, 19], \n",
    "                              [12, 11, 30], \n",
    "                              [13, 25, 20], \n",
    "                              [16, 30, 24]], \n",
    "                             index=[1, 2, 3, 4, 5], columns=['yr1', 'yr2', 'yr3'])\n",
    "\n",
    "\n",
    "items = [1, 2, 3, 4, 5]\n",
    "\n",
    "combination_list = list(combinations(items, 2))+list(combinations(items, 3))\n",
    "\n",
    "result_df = pd.DataFrame() \n",
    "\n",
    "for c in combination_list: \n",
    "    \n",
    "    temp_df = pd.DataFrame()\n",
    "    for item in items: \n",
    "        if item in c: \n",
    "            temp_df = pd.concat([temp_df, investment_df.loc[item]], axis=1) \n",
    "    \n",
    "    result_df = pd.concat([result_df, temp_df.sum(axis=1)], axis=1)\n",
    "    \n",
    "result_df.columns = combination_list\n",
    "\n",
    "df_t = result_df.T\n",
    "df_t = df_t[(df_t['yr1'] < 50) & (df_t['yr2'] < 60) & (df_t['yr3'] < 70)]\n",
    "df_t['total'] = df_t.sum(axis=1)\n",
    "df_t.sort_values(by='total', ascending=False)"
   ]
  }
 ],
 "metadata": {
  "kernelspec": {
   "display_name": "Python 3 (ipykernel)",
   "language": "python",
   "name": "python3"
  },
  "language_info": {
   "codemirror_mode": {
    "name": "ipython",
    "version": 3
   },
   "file_extension": ".py",
   "mimetype": "text/x-python",
   "name": "python",
   "nbconvert_exporter": "python",
   "pygments_lexer": "ipython3",
   "version": "3.9.13"
  }
 },
 "nbformat": 4,
 "nbformat_minor": 5
}
