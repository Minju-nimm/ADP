{
 "cells": [
  {
   "cell_type": "markdown",
   "id": "6dac52b2",
   "metadata": {},
   "source": [
    "# ADP 통계 기출 28회 ~ 25회"
   ]
  },
  {
   "cell_type": "code",
   "execution_count": 2,
   "id": "8e7d3f4b",
   "metadata": {},
   "outputs": [],
   "source": [
    "import pandas as pd\n",
    "import numpy as np\n",
    "from scipy import stats\n",
    "\n",
    "import warnings\n",
    "warnings.filterwarnings(\"ignore\")"
   ]
  },
  {
   "cell_type": "markdown",
   "id": "5e19cb94",
   "metadata": {},
   "source": [
    "---"
   ]
  },
  {
   "cell_type": "markdown",
   "id": "3a22c051",
   "metadata": {},
   "source": [
    "# [ 28회 ]"
   ]
  },
  {
   "cell_type": "code",
   "execution_count": null,
   "id": "0694e00c",
   "metadata": {},
   "outputs": [],
   "source": []
  },
  {
   "cell_type": "code",
   "execution_count": null,
   "id": "5aca8b3d",
   "metadata": {},
   "outputs": [],
   "source": []
  },
  {
   "cell_type": "markdown",
   "id": "bdd69fc3",
   "metadata": {},
   "source": [
    "# [ 27회 ]\n"
   ]
  },
  {
   "cell_type": "code",
   "execution_count": null,
   "id": "dc5cfb47",
   "metadata": {},
   "outputs": [],
   "source": []
  },
  {
   "cell_type": "code",
   "execution_count": null,
   "id": "dd4fdb0a",
   "metadata": {},
   "outputs": [],
   "source": []
  },
  {
   "cell_type": "markdown",
   "id": "03c5ed8d",
   "metadata": {},
   "source": [
    "---"
   ]
  },
  {
   "cell_type": "markdown",
   "id": "3225de83",
   "metadata": {},
   "source": [
    "# [ 26회 ]"
   ]
  },
  {
   "cell_type": "markdown",
   "id": "4f70a5b9",
   "metadata": {},
   "source": [
    "## < 26회 1번 : 모비율 관련, 최소 표본 크기 > \n",
    "철강제품의 불량률을 조사하고자 한다. 이 때, 불량률의 90%, 추정오차한계가 5% 이내가 되기 위하여 적절한 표본의 크기 중 최소값은 얼마인가?"
   ]
  },
  {
   "cell_type": "markdown",
   "id": "174cc51f",
   "metadata": {},
   "source": [
    "### 접근 방법\n",
    "- 불량률의 추정값이 90%일 것으로 가정하고, 그 추정값의 추정 오차 한계가 5% 이내가 되도록 표본 크기를 결정하라는 의미\n",
    "- 불량률'의' 90% $\\rightarrow$ '모비율' 관련 최소 표본 크기\n",
    "    - 즉, 여기서 90%는 신뢰계수\n",
    "- $p$ 를 모르는 경우 ($p$를 아는 경우는, 아래 처럼 표본 크기를 구할 일이 없음)\n",
    "<img src=\"https://i.esdrop.com/d/f/3uJKEwVXJL/KhNQN7PWRW.jpg\" width=650/>"
   ]
  },
  {
   "cell_type": "code",
   "execution_count": 46,
   "id": "85db0886",
   "metadata": {},
   "outputs": [
    {
     "name": "stdout",
     "output_type": "stream",
     "text": [
      "1.6448536269514722\n",
      "실제 값:  270.554345409541\n",
      "정답:  271\n"
     ]
    }
   ],
   "source": [
    "from scipy import stats\n",
    "from sympy import *\n",
    "import math\n",
    "\n",
    "# 표준정규분포 선언\n",
    "# std_normal = stats.norm(0,1)\n",
    "# z_val = std_normal.ppf(0.95)\n",
    "\n",
    "confidence_level = 0.9  # 신뢰수준 (90%)\n",
    "z_value = norm.ppf(1 - (1 - confidence_level) / 2)  # 임계값 계산\n",
    "\n",
    "print(z_val) # z_val = 1.645  (신뢰계수 90%)\n",
    "\n",
    "# 불량률\n",
    "p = 0.5  # 2차식에서 p=0.5를 넣어야 최소가 됨\n",
    "\n",
    "# n에 관한 방정식(부등식)\n",
    "n = Symbol('n')\n",
    "\n",
    "# 여기서 0.05는 그냥 추정오차한계일 뿐, 신뢰계수 95%가 아님\n",
    "d = z_val * sqrt(p*(1-p)/n) - 0.05 \n",
    "\n",
    "# 정답\n",
    "answer_tmp = solve(d)[0]  # 소수점\n",
    "answer_final = math.trunc(answer_tmp) + 1  # 소수점 버리고 + 1\n",
    "\n",
    "print('실제 값: ', answer_tmp)\n",
    "print('정답: ', answer_final)\n",
    "\n",
    "# 정답\n",
    "## 실제 값:  270.554345409541\n",
    "## 정답:  271"
   ]
  },
  {
   "cell_type": "markdown",
   "id": "e6cf8f10",
   "metadata": {},
   "source": [
    "## < 26회 2번 : 이동평균, 시계열 시각화 > \n",
    "아래 그래프는 1월부터 9월까지의 은의 가격이다\n",
    "\n",
    "<img src=\"https://raw.githubusercontent.com/Datamanim/datarepo/main/adp/26/problem2.png\">\n",
    "\n",
    "1. 은의 가격 및 이동평균값 3이 설정된 시계열 그래프를 그려라\n",
    "2. 1월 대비 9월의 은의 가격은 몇 % 올랐는가? 소수점 두번째 자리에서 반올림"
   ]
  },
  {
   "cell_type": "markdown",
   "id": "7ee1b803",
   "metadata": {},
   "source": [
    "### 접근 방법\n",
    "- 이동평균값 3은 rolling(window=3).mean() 이용 !"
   ]
  },
  {
   "cell_type": "code",
   "execution_count": 21,
   "id": "4ea2105a",
   "metadata": {},
   "outputs": [
    {
     "data": {
      "text/html": [
       "<div>\n",
       "<style scoped>\n",
       "    .dataframe tbody tr th:only-of-type {\n",
       "        vertical-align: middle;\n",
       "    }\n",
       "\n",
       "    .dataframe tbody tr th {\n",
       "        vertical-align: top;\n",
       "    }\n",
       "\n",
       "    .dataframe thead th {\n",
       "        text-align: right;\n",
       "    }\n",
       "</style>\n",
       "<table border=\"1\" class=\"dataframe\">\n",
       "  <thead>\n",
       "    <tr style=\"text-align: right;\">\n",
       "      <th></th>\n",
       "      <th>1M</th>\n",
       "      <th>2M</th>\n",
       "      <th>3M</th>\n",
       "      <th>4M</th>\n",
       "      <th>5M</th>\n",
       "      <th>6M</th>\n",
       "      <th>7M</th>\n",
       "      <th>8M</th>\n",
       "      <th>9M</th>\n",
       "    </tr>\n",
       "  </thead>\n",
       "  <tbody>\n",
       "    <tr>\n",
       "      <th>0</th>\n",
       "      <td>12.14</td>\n",
       "      <td>42.6</td>\n",
       "      <td>34.4</td>\n",
       "      <td>35.29</td>\n",
       "      <td>30.96</td>\n",
       "      <td>57.12</td>\n",
       "      <td>37.84</td>\n",
       "      <td>42.49</td>\n",
       "      <td>31.38</td>\n",
       "    </tr>\n",
       "  </tbody>\n",
       "</table>\n",
       "</div>"
      ],
      "text/plain": [
       "      1M    2M    3M     4M     5M     6M     7M     8M     9M\n",
       "0  12.14  42.6  34.4  35.29  30.96  57.12  37.84  42.49  31.38"
      ]
     },
     "execution_count": 21,
     "metadata": {},
     "output_type": "execute_result"
    }
   ],
   "source": [
    "import pandas as pd \n",
    "import numpy as np\n",
    "\n",
    "df = pd.read_csv(\"../Data/26_problem4.csv\")\n",
    "df"
   ]
  },
  {
   "cell_type": "code",
   "execution_count": 22,
   "id": "db41fa0c",
   "metadata": {},
   "outputs": [
    {
     "name": "stdout",
     "output_type": "stream",
     "text": [
      "<class 'pandas.core.frame.DataFrame'>\n",
      "RangeIndex: 1 entries, 0 to 0\n",
      "Data columns (total 9 columns):\n",
      " #   Column  Non-Null Count  Dtype  \n",
      "---  ------  --------------  -----  \n",
      " 0   1M      1 non-null      float64\n",
      " 1   2M      1 non-null      float64\n",
      " 2   3M      1 non-null      float64\n",
      " 3   4M      1 non-null      float64\n",
      " 4   5M      1 non-null      float64\n",
      " 5   6M      1 non-null      float64\n",
      " 6   7M      1 non-null      float64\n",
      " 7   8M      1 non-null      float64\n",
      " 8   9M      1 non-null      float64\n",
      "dtypes: float64(9)\n",
      "memory usage: 200.0 bytes\n"
     ]
    }
   ],
   "source": [
    "df.info()"
   ]
  },
  {
   "cell_type": "markdown",
   "id": "55761621",
   "metadata": {},
   "source": [
    "### 2-1) 은의 가격 및 이동평균값 3이 설정된 시계열 그래프를 그려라"
   ]
  },
  {
   "cell_type": "code",
   "execution_count": 24,
   "id": "b3936013",
   "metadata": {},
   "outputs": [
    {
     "data": {
      "text/html": [
       "<div>\n",
       "<style scoped>\n",
       "    .dataframe tbody tr th:only-of-type {\n",
       "        vertical-align: middle;\n",
       "    }\n",
       "\n",
       "    .dataframe tbody tr th {\n",
       "        vertical-align: top;\n",
       "    }\n",
       "\n",
       "    .dataframe thead th {\n",
       "        text-align: right;\n",
       "    }\n",
       "</style>\n",
       "<table border=\"1\" class=\"dataframe\">\n",
       "  <thead>\n",
       "    <tr style=\"text-align: right;\">\n",
       "      <th></th>\n",
       "      <th>month_price</th>\n",
       "    </tr>\n",
       "  </thead>\n",
       "  <tbody>\n",
       "    <tr>\n",
       "      <th>1M</th>\n",
       "      <td>12.14</td>\n",
       "    </tr>\n",
       "    <tr>\n",
       "      <th>2M</th>\n",
       "      <td>42.60</td>\n",
       "    </tr>\n",
       "    <tr>\n",
       "      <th>3M</th>\n",
       "      <td>34.40</td>\n",
       "    </tr>\n",
       "    <tr>\n",
       "      <th>4M</th>\n",
       "      <td>35.29</td>\n",
       "    </tr>\n",
       "    <tr>\n",
       "      <th>5M</th>\n",
       "      <td>30.96</td>\n",
       "    </tr>\n",
       "    <tr>\n",
       "      <th>6M</th>\n",
       "      <td>57.12</td>\n",
       "    </tr>\n",
       "    <tr>\n",
       "      <th>7M</th>\n",
       "      <td>37.84</td>\n",
       "    </tr>\n",
       "    <tr>\n",
       "      <th>8M</th>\n",
       "      <td>42.49</td>\n",
       "    </tr>\n",
       "    <tr>\n",
       "      <th>9M</th>\n",
       "      <td>31.38</td>\n",
       "    </tr>\n",
       "  </tbody>\n",
       "</table>\n",
       "</div>"
      ],
      "text/plain": [
       "    month_price\n",
       "1M        12.14\n",
       "2M        42.60\n",
       "3M        34.40\n",
       "4M        35.29\n",
       "5M        30.96\n",
       "6M        57.12\n",
       "7M        37.84\n",
       "8M        42.49\n",
       "9M        31.38"
      ]
     },
     "execution_count": 24,
     "metadata": {},
     "output_type": "execute_result"
    }
   ],
   "source": [
    "MA_data = df.transpose() \n",
    "MA_data.columns = [\"month_price\"]\n",
    "MA_data"
   ]
  },
  {
   "cell_type": "code",
   "execution_count": 26,
   "id": "6ba9d0c1",
   "metadata": {},
   "outputs": [
    {
     "name": "stdout",
     "output_type": "stream",
     "text": [
      "    month_price        MA3\n",
      "1M        12.14        NaN\n",
      "2M        42.60        NaN\n",
      "3M        34.40  29.713333\n",
      "4M        35.29  37.430000\n",
      "5M        30.96  33.550000\n",
      "6M        57.12  41.123333\n",
      "7M        37.84  41.973333\n",
      "8M        42.49  45.816667\n",
      "9M        31.38  37.236667\n"
     ]
    }
   ],
   "source": [
    "import matplotlib.pyplot as plt\n",
    "import pandas as pd\n",
    "\n",
    "# 은의 가격 데이터의 이동평균값 3 계산\n",
    "MA_data[\"MA3\"] = MA_data[\"month_price\"].rolling(window=3).mean()\n",
    "print(MA_data)"
   ]
  },
  {
   "cell_type": "code",
   "execution_count": 28,
   "id": "6dc45717",
   "metadata": {},
   "outputs": [
    {
     "data": {
      "image/png": "[encoded data removed]",
      "text/plain": [
       "<Figure size 640x480 with 1 Axes>"
      ]
     },
     "metadata": {},
     "output_type": "display_data"
    }
   ],
   "source": [
    "# 시계열 그래프 그리기\n",
    "fig, ax = plt.subplots()\n",
    "ax.plot(MA_data[\"month_price\"], label='Silver Prices')\n",
    "ax.plot(MA_data[\"MA3\"], label='Moving Average (3)')\n",
    "\n",
    "ax.set_xlabel('Month')\n",
    "ax.set_ylabel('Price ($)')\n",
    "ax.set_title('Silver Prices and Moving Average (3)')\n",
    "\n",
    "ax.legend()\n",
    "plt.show()"
   ]
  },
  {
   "cell_type": "markdown",
   "id": "2778af99",
   "metadata": {},
   "source": [
    "### 2-2) 1월 대비 9월의 은의 가격은 몇 % 올랐는가? 소수점 두번째 자리에서 반올림\n",
    "- A 대비 B의 증가율 = (B값 - A 값) / A값 * 100"
   ]
  },
  {
   "cell_type": "code",
   "execution_count": 29,
   "id": "78d33123",
   "metadata": {},
   "outputs": [
    {
     "name": "stdout",
     "output_type": "stream",
     "text": [
      "158.5\n"
     ]
    }
   ],
   "source": [
    "# 1월과 9월의 가격\n",
    "price_jan = MA_data[\"month_price\"][0]\n",
    "price_sep = MA_data[\"month_price\"][-1]\n",
    "\n",
    "\n",
    "# 증감률 계산\n",
    "# A 대비 B의 증가율 = (B값 - A 값) / A값 * 100\n",
    "change = (price_sep - price_jan) / price_jan * 100\n",
    "\n",
    "# 반올림하여 출력\n",
    "print(round(change, 1))"
   ]
  },
  {
   "cell_type": "markdown",
   "id": "d16e0029",
   "metadata": {},
   "source": [
    "## < 26회 3번 : 동질성 검정, 카이제곱 검정 >\n",
    "아래 그래프는 A,B,C 자치구별 W 의원에 대한 찬성, 반대 지지를 나타낸다. 자치구별 지지율이 같은지에 대해서 검정하라\n",
    "<img src=\"https://user-images.githubusercontent.com/119478998/237022541-b0af58eb-e31e-4c89-bdab-92b337014a71.png\" width=300>\n",
    "\n",
    "1. 연구가설과 귀무가설을 설정하라\n",
    "2. 검정통계량 구하고 결론을 내라"
   ]
  },
  {
   "cell_type": "markdown",
   "id": "705bf03c",
   "metadata": {},
   "source": [
    "### 접근 방법\n",
    "- 두 범주형 변수에 대한 검정 -> 카이제곱\n",
    "- 자치구별 지지율 동일한지 검정, 즉 행과 행의 관련성이므로 동질성에 가깝다고 생각함"
   ]
  },
  {
   "cell_type": "markdown",
   "id": "dc3bb90c",
   "metadata": {},
   "source": [
    "### 3-1) 연구가설과 귀무가설을 설정하라.\n",
    "- 귀무가설 : A, B, C 자치구별 W 의원에 대한 찬성, 반대 지지의 지지율은 모두 같다.\n",
    "- 대립가설 : A, B, C 자치구별 W 의원에 대한 찬성, 반대 지지의 지지율 중 적어도 하나는 다르다."
   ]
  },
  {
   "cell_type": "code",
   "execution_count": 9,
   "id": "1bd66288",
   "metadata": {},
   "outputs": [
    {
     "data": {
      "text/html": [
       "<div>\n",
       "<style scoped>\n",
       "    .dataframe tbody tr th:only-of-type {\n",
       "        vertical-align: middle;\n",
       "    }\n",
       "\n",
       "    .dataframe tbody tr th {\n",
       "        vertical-align: top;\n",
       "    }\n",
       "\n",
       "    .dataframe thead th {\n",
       "        text-align: right;\n",
       "    }\n",
       "</style>\n",
       "<table border=\"1\" class=\"dataframe\">\n",
       "  <thead>\n",
       "    <tr style=\"text-align: right;\">\n",
       "      <th></th>\n",
       "      <th>vote</th>\n",
       "      <th>A</th>\n",
       "      <th>B</th>\n",
       "      <th>C</th>\n",
       "    </tr>\n",
       "  </thead>\n",
       "  <tbody>\n",
       "    <tr>\n",
       "      <th>0</th>\n",
       "      <td>찬성</td>\n",
       "      <td>176</td>\n",
       "      <td>193</td>\n",
       "      <td>159</td>\n",
       "    </tr>\n",
       "    <tr>\n",
       "      <th>1</th>\n",
       "      <td>반대</td>\n",
       "      <td>124</td>\n",
       "      <td>107</td>\n",
       "      <td>141</td>\n",
       "    </tr>\n",
       "  </tbody>\n",
       "</table>\n",
       "</div>"
      ],
      "text/plain": [
       "  vote    A    B    C\n",
       "0   찬성  176  193  159\n",
       "1   반대  124  107  141"
      ]
     },
     "execution_count": 9,
     "metadata": {},
     "output_type": "execute_result"
    }
   ],
   "source": [
    "df = pd.DataFrame({\"vote\" :[\"찬성\",\"반대\"],\n",
    "                    \"A\" : [176,124],\n",
    "                    \"B\" : [193,107],\n",
    "                    \"C\" : [159,141]})\n",
    "df "
   ]
  },
  {
   "cell_type": "code",
   "execution_count": 10,
   "id": "8d414a97",
   "metadata": {},
   "outputs": [
    {
     "data": {
      "text/html": [
       "<div>\n",
       "<style scoped>\n",
       "    .dataframe tbody tr th:only-of-type {\n",
       "        vertical-align: middle;\n",
       "    }\n",
       "\n",
       "    .dataframe tbody tr th {\n",
       "        vertical-align: top;\n",
       "    }\n",
       "\n",
       "    .dataframe thead th {\n",
       "        text-align: right;\n",
       "    }\n",
       "</style>\n",
       "<table border=\"1\" class=\"dataframe\">\n",
       "  <thead>\n",
       "    <tr style=\"text-align: right;\">\n",
       "      <th></th>\n",
       "      <th>A</th>\n",
       "      <th>B</th>\n",
       "      <th>C</th>\n",
       "    </tr>\n",
       "    <tr>\n",
       "      <th>vote</th>\n",
       "      <th></th>\n",
       "      <th></th>\n",
       "      <th></th>\n",
       "    </tr>\n",
       "  </thead>\n",
       "  <tbody>\n",
       "    <tr>\n",
       "      <th>찬성</th>\n",
       "      <td>176</td>\n",
       "      <td>193</td>\n",
       "      <td>159</td>\n",
       "    </tr>\n",
       "    <tr>\n",
       "      <th>반대</th>\n",
       "      <td>124</td>\n",
       "      <td>107</td>\n",
       "      <td>141</td>\n",
       "    </tr>\n",
       "  </tbody>\n",
       "</table>\n",
       "</div>"
      ],
      "text/plain": [
       "        A    B    C\n",
       "vote               \n",
       "찬성    176  193  159\n",
       "반대    124  107  141"
      ]
     },
     "execution_count": 10,
     "metadata": {},
     "output_type": "execute_result"
    }
   ],
   "source": [
    "df.set_index(\"vote\",inplace=True) # 교차표를 만들어 주기 위해 인덱스 설정\n",
    "df"
   ]
  },
  {
   "cell_type": "markdown",
   "id": "81a9141c",
   "metadata": {},
   "source": [
    "### 3-2) 검정통계량 구하고 결론을 내라"
   ]
  },
  {
   "cell_type": "code",
   "execution_count": 11,
   "id": "cddf53b0",
   "metadata": {},
   "outputs": [
    {
     "name": "stdout",
     "output_type": "stream",
     "text": [
      "검정통계량 :  7.94538\n",
      "p-value :  0.01882\n"
     ]
    }
   ],
   "source": [
    "# 카이제곱 검정을 통한 동질성 검정 수행\n",
    "from scipy.stats import chi2_contingency\n",
    "\n",
    "chi2, p, df, expect = chi2_contingency(df) \n",
    "\n",
    "# chi2_contingency(df)\n",
    "\n",
    "print(\"검정통계량 : \", round(chi2, 5))\n",
    "print(\"p-value : \", round(p, 5))"
   ]
  },
  {
   "cell_type": "markdown",
   "id": "0d11bcbd",
   "metadata": {},
   "source": [
    "#### p-value가 0.01882로 유의수준 0.05보다 작으므로 귀무가설을 기각한다.\n",
    "#### 따라서 A, B, C 자치구별 W 의원에 대한 찬성, 반대 지지의 지지율 중 적어도 하나는 다르다고 할 수 있다."
   ]
  },
  {
   "cell_type": "markdown",
   "id": "a2eb80b8",
   "metadata": {},
   "source": [
    "## < 26회 4번 : 베이지안 회귀 >\n",
    "height(키), weight(몸무게), waist(허리둘레) 컬럼을 가진 problem7.csv파일을 가지고 다음을 분석하라\n",
    "- A시의 20대 남성 411명을 임의로 추출하여 키, 몸무게, 허리둘레를 조사하여 기록한 데이터이다.\n",
    "- 이 데이터를 이용하여 20대 남성의 키와 허리둘레가 체중에 영향을 미치는지 알아보고자 한다.\n",
    "\n",
    "4-1. 아래 조건을 참고하여 회귀계수(반올림하여 소수점 두자리)를 구하시오.\n",
    "- 베이지안 회귀\n",
    "- 시드넘버 1234로 지정\n",
    "- 1000번의 burn-in 이후 10,000의 MCMC를 수행\n",
    "- 회귀계수의 사전분포는 부적절한 균일분포(inproper uniform prior distribution), 오차항의 분산의 사전분포는 역감마 분포로 지정. (이 때, 형상(Shape)모수와 척도(Scale)모수는 각각 0.005로 지정)\n",
    "\n",
    "4-2. 위에서 만든 모델을 바탕으로 키 180cm, 허리둘레 85cm인 남성의 몸무게를 추정하라."
   ]
  },
  {
   "cell_type": "code",
   "execution_count": 31,
   "id": "a03aef7a",
   "metadata": {},
   "outputs": [
    {
     "data": {
      "text/html": [
       "<div>\n",
       "<style scoped>\n",
       "    .dataframe tbody tr th:only-of-type {\n",
       "        vertical-align: middle;\n",
       "    }\n",
       "\n",
       "    .dataframe tbody tr th {\n",
       "        vertical-align: top;\n",
       "    }\n",
       "\n",
       "    .dataframe thead th {\n",
       "        text-align: right;\n",
       "    }\n",
       "</style>\n",
       "<table border=\"1\" class=\"dataframe\">\n",
       "  <thead>\n",
       "    <tr style=\"text-align: right;\">\n",
       "      <th></th>\n",
       "      <th>height</th>\n",
       "      <th>weight</th>\n",
       "      <th>waistline</th>\n",
       "    </tr>\n",
       "  </thead>\n",
       "  <tbody>\n",
       "    <tr>\n",
       "      <th>0</th>\n",
       "      <td>174.396</td>\n",
       "      <td>72.102</td>\n",
       "      <td>79.3787</td>\n",
       "    </tr>\n",
       "    <tr>\n",
       "      <th>1</th>\n",
       "      <td>179.656</td>\n",
       "      <td>81.255</td>\n",
       "      <td>80.6649</td>\n",
       "    </tr>\n",
       "    <tr>\n",
       "      <th>2</th>\n",
       "      <td>175.079</td>\n",
       "      <td>76.207</td>\n",
       "      <td>80.3166</td>\n",
       "    </tr>\n",
       "    <tr>\n",
       "      <th>3</th>\n",
       "      <td>180.804</td>\n",
       "      <td>81.354</td>\n",
       "      <td>80.8794</td>\n",
       "    </tr>\n",
       "    <tr>\n",
       "      <th>4</th>\n",
       "      <td>177.448</td>\n",
       "      <td>78.768</td>\n",
       "      <td>80.3499</td>\n",
       "    </tr>\n",
       "  </tbody>\n",
       "</table>\n",
       "</div>"
      ],
      "text/plain": [
       "    height  weight  waistline\n",
       "0  174.396  72.102    79.3787\n",
       "1  179.656  81.255    80.6649\n",
       "2  175.079  76.207    80.3166\n",
       "3  180.804  81.354    80.8794\n",
       "4  177.448  78.768    80.3499"
      ]
     },
     "execution_count": 31,
     "metadata": {},
     "output_type": "execute_result"
    }
   ],
   "source": [
    "import pandas as pd\n",
    "\n",
    "df = pd.read_csv('https://raw.githubusercontent.com/Datamanim/datarepo/main/adp/26/problem7.csv')\n",
    "df.head()"
   ]
  },
  {
   "cell_type": "markdown",
   "id": "20863231",
   "metadata": {},
   "source": [
    "### 4-1) 아래 조건을 참고하여 회귀계수(반올림하여 소수점 두자리)를 구하시오.\n",
    "- 베이지안 회귀\n",
    "- 시드넘버 1234로 지정\n",
    "- 1000번의 burn-in 이후 10,000의 MCMC를 수행\n",
    "- 회귀계수의 사전분포는 부적절한 균일분포(inproper uniform prior distribution), 오차항의 분산의 사전분포는 역감마 분포로 지정. (이 때, 형상(Shape)모수와 척도(Scale)모수는 각각 0.005로 지정)"
   ]
  },
  {
   "cell_type": "code",
   "execution_count": null,
   "id": "afeca2a0",
   "metadata": {},
   "outputs": [],
   "source": []
  },
  {
   "cell_type": "markdown",
   "id": "ddf3c53d",
   "metadata": {},
   "source": [
    "### 4-2. 위에서 만든 모델을 바탕으로 키 180cm, 허리둘레 85cm인 남성의 몸무게를 추정하라."
   ]
  },
  {
   "cell_type": "code",
   "execution_count": null,
   "id": "19f56921",
   "metadata": {},
   "outputs": [],
   "source": []
  },
  {
   "cell_type": "markdown",
   "id": "1f417274",
   "metadata": {},
   "source": [
    "---"
   ]
  },
  {
   "cell_type": "markdown",
   "id": "81611acc",
   "metadata": {},
   "source": [
    "# [ 25회 ]"
   ]
  },
  {
   "cell_type": "markdown",
   "id": "06c9e462",
   "metadata": {},
   "source": [
    "- 여러 통계 문제 (각 5점씩 총 20점)\n",
    "\n",
    "## < 25회 1-1 : 조화평균 >\n",
    "서울에서 영동까지 100km/h로 가고 영동에서 서울까지 80km/로 돌아왔을 때, 평균 속도는?"
   ]
  },
  {
   "cell_type": "code",
   "execution_count": null,
   "id": "1cc9d767",
   "metadata": {},
   "outputs": [],
   "source": []
  },
  {
   "cell_type": "markdown",
   "id": "2f5835b1",
   "metadata": {},
   "source": [
    "## < 25회 1-2 : 기하평균 >\n",
    "연매출이 3000, 4000, 5000이었다면 연평균 몇배가 증가한 것인가?"
   ]
  },
  {
   "cell_type": "code",
   "execution_count": null,
   "id": "afd0b393",
   "metadata": {},
   "outputs": [],
   "source": []
  },
  {
   "cell_type": "markdown",
   "id": "f6beb316",
   "metadata": {},
   "source": [
    "## < 25회 1-3 : 조건부 확률 >\n",
    "남성, 여성의 등산, 수영에 대한 취미 선호도 빈도표(2x2)를 보고, 남성 중에서 등산을 좋아할 확률을 구하시오."
   ]
  },
  {
   "cell_type": "code",
   "execution_count": null,
   "id": "e415c141",
   "metadata": {},
   "outputs": [],
   "source": []
  },
  {
   "cell_type": "markdown",
   "id": "188820da",
   "metadata": {},
   "source": [
    "## < 25회 1-4 : 모분산 신뢰구간 추정 >\n",
    "표본 10개의 분산이 90일 때 신뢰도 95%로 모분산의 신뢰구간을 추정"
   ]
  },
  {
   "cell_type": "markdown",
   "id": "63f190c3",
   "metadata": {},
   "source": [
    "### 접근 방법\n",
    "- 모분산의 신뢰구간 추정은 카이제곱과 연관 !\n",
    "<img src=\"https://i.esdrop.com/d/f/3uJKEwVXJL/hhZ8I83b6n.jpg\" width=300/>"
   ]
  },
  {
   "cell_type": "code",
   "execution_count": null,
   "id": "607066d2",
   "metadata": {},
   "outputs": [],
   "source": []
  },
  {
   "cell_type": "markdown",
   "id": "871b7b6f",
   "metadata": {},
   "source": [
    "## < 25회 2번 : paired t-test (대응표본 t검정) >\n",
    "임상 대상 20명에 대해 혈압약 투약 이전과 이후의 차이가 24, 표준편차 9  신뢰구간 95%, 차이가 존재하는지 확인하려한다\n",
    "\n",
    "1. 귀무가설과 연구가설을 제시하시오.\n",
    "2. 검정 후 귀무가설 기각 여부 제시"
   ]
  },
  {
   "cell_type": "code",
   "execution_count": null,
   "id": "0f82739a",
   "metadata": {},
   "outputs": [],
   "source": []
  },
  {
   "cell_type": "code",
   "execution_count": null,
   "id": "552f09a0",
   "metadata": {},
   "outputs": [],
   "source": []
  },
  {
   "cell_type": "markdown",
   "id": "f0564eb6",
   "metadata": {},
   "source": [
    "## < 25회 3번 : 크루스컬 윌리스 검정 >\n",
    "공장 X, Y, Z의 평균 출하 소요시간을 여러 일자에 거쳐 측정한 데이터이다. 각 공장의 중위수의 차이가 존재하는지 확인하려 한다.\n",
    "\n",
    "1. 귀무가설과 연구가설을 제시하시오\n",
    "2. 검정 후 귀무가설 기각 여부 제시"
   ]
  },
  {
   "cell_type": "code",
   "execution_count": 16,
   "id": "eb5a258e",
   "metadata": {},
   "outputs": [
    {
     "data": {
      "text/html": [
       "<div>\n",
       "<style scoped>\n",
       "    .dataframe tbody tr th:only-of-type {\n",
       "        vertical-align: middle;\n",
       "    }\n",
       "\n",
       "    .dataframe tbody tr th {\n",
       "        vertical-align: top;\n",
       "    }\n",
       "\n",
       "    .dataframe thead th {\n",
       "        text-align: right;\n",
       "    }\n",
       "</style>\n",
       "<table border=\"1\" class=\"dataframe\">\n",
       "  <thead>\n",
       "    <tr style=\"text-align: right;\">\n",
       "      <th></th>\n",
       "      <th>출하 소요시간</th>\n",
       "      <th>공장명</th>\n",
       "      <th>공장별 출하 소요시간 순위</th>\n",
       "    </tr>\n",
       "  </thead>\n",
       "  <tbody>\n",
       "    <tr>\n",
       "      <th>0</th>\n",
       "      <td>71</td>\n",
       "      <td>Z</td>\n",
       "      <td>11</td>\n",
       "    </tr>\n",
       "    <tr>\n",
       "      <th>1</th>\n",
       "      <td>75</td>\n",
       "      <td>X</td>\n",
       "      <td>14</td>\n",
       "    </tr>\n",
       "    <tr>\n",
       "      <th>2</th>\n",
       "      <td>71</td>\n",
       "      <td>X</td>\n",
       "      <td>12</td>\n",
       "    </tr>\n",
       "    <tr>\n",
       "      <th>3</th>\n",
       "      <td>53</td>\n",
       "      <td>Z</td>\n",
       "      <td>1</td>\n",
       "    </tr>\n",
       "    <tr>\n",
       "      <th>4</th>\n",
       "      <td>50</td>\n",
       "      <td>X</td>\n",
       "      <td>1</td>\n",
       "    </tr>\n",
       "  </tbody>\n",
       "</table>\n",
       "</div>"
      ],
      "text/plain": [
       "   출하 소요시간 공장명  공장별 출하 소요시간 순위\n",
       "0       71   Z              11\n",
       "1       75   X              14\n",
       "2       71   X              12\n",
       "3       53   Z               1\n",
       "4       50   X               1"
      ]
     },
     "execution_count": 16,
     "metadata": {},
     "output_type": "execute_result"
    }
   ],
   "source": [
    "import pandas as pd\n",
    "df = pd.read_csv('https://raw.githubusercontent.com/Datamanim/datarepo/main/adp/25/problem5.csv',encoding='cp949')\n",
    "df.head()"
   ]
  },
  {
   "cell_type": "markdown",
   "id": "84648c7c",
   "metadata": {},
   "source": [
    "### 접근 방법 \n",
    "- 3개 이상 표본 & '순위'가 들어간 서열 척도 데이터 $\\rightarrow$ 크루스컬 윌리스 검정\n",
    "- 비모수 검정 \n",
    "- 독립변수는 범주형변수고 종속변수는 연속형변수 $\\rightarrow$ One way ANOVA\n",
    "    - 정규성을 따르면 One way ANOVA로 평균 비교했을 것\n",
    "    - '중위수'로 비교하므로 정규성을 만족하지 못한다고 판단 $\\rightarrow$ 크루스칼로 문제 풀이\n",
    "    \n",
    "1. 집단별로 원데이터(출하 소요시간) 분할해주기\n",
    "    - 순위는 trick\n",
    "2. 집단별 데이터로 kruskal 검정 실행"
   ]
  },
  {
   "cell_type": "markdown",
   "id": "f1dfd88d",
   "metadata": {},
   "source": [
    "###  3-1) 귀무가설과 연구가설을 제시하시오.\n",
    "- 귀무가설 : 공장 X, Y, Z의 평균 출하 소요시간의 중위수는 모두 같다.\n",
    "- 대립가설 : 공장 X, Y, Z의 평균 출하 소요시간의 중위수 중 적어도 하나가 다르다. (적어도 하나는 ~ 차이가 있다.)"
   ]
  },
  {
   "cell_type": "markdown",
   "id": "2a58bf2c",
   "metadata": {},
   "source": [
    "## 3-2) 검정 후 귀무가설 기각 여부 제시"
   ]
  },
  {
   "cell_type": "code",
   "execution_count": 17,
   "id": "b4b72ac4",
   "metadata": {},
   "outputs": [
    {
     "name": "stdout",
     "output_type": "stream",
     "text": [
      "Statistic: 0.7217886080379153\n",
      "p-value: 0.6970526702392181\n"
     ]
    }
   ],
   "source": [
    "from scipy.stats import kruskal\n",
    "\n",
    "# 각 공장의 데이터 추출\n",
    "factory_X = df[df['공장명'] == 'X']['출하 소요시간']\n",
    "factory_Y = df[df['공장명'] == 'Y']['출하 소요시간']\n",
    "factory_Z = df[df['공장명'] == 'Z']['출하 소요시간']\n",
    "\n",
    "# 크루스칼-윌리스 검정 수행\n",
    "statistic, p_value = kruskal(factory_X, factory_Y, factory_Z)\n",
    "\n",
    "# 결과 출력\n",
    "print(\"Statistic:\", statistic)\n",
    "print(\"p-value:\", p_value)"
   ]
  },
  {
   "cell_type": "markdown",
   "id": "ec570926",
   "metadata": {},
   "source": [
    "#### p-value 값이 0.697로 유의수준 0.05보다 크므로, 귀무가설을 기각할 수 없다.\n",
    "#### 따라서 공장 X, Y, Z의 평균 출하 소요시간의 중위수는 모두 같다고 할 수 있다."
   ]
  }
 ],
 "metadata": {
  "kernelspec": {
   "display_name": "Python 3 (ipykernel)",
   "language": "python",
   "name": "python3"
  },
  "language_info": {
   "codemirror_mode": {
    "name": "ipython",
    "version": 3
   },
   "file_extension": ".py",
   "mimetype": "text/x-python",
   "name": "python",
   "nbconvert_exporter": "python",
   "pygments_lexer": "ipython3",
   "version": "3.9.13"
  }
 },
 "nbformat": 4,
 "nbformat_minor": 5
}
