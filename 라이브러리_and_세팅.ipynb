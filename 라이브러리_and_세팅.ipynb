{
 "cells": [
  {
   "cell_type": "markdown",
   "id": "004994c4",
   "metadata": {},
   "source": [
    "# ADP 실기 합격을 위한 Tip ⭐\n",
    "- 시간 부족하면 아는 거라도 다 서술하자 (개념, 코드라도)\n",
    "- 사전환경 테스트 켜서 그대로 작업하기"
   ]
  },
  {
   "cell_type": "markdown",
   "id": "23933a07",
   "metadata": {},
   "source": [
    "# 기본 입력 라이브러리\n",
    "- 사전 테스트 때 입력해놓기 !!\n",
    "- 자동완성 shift + tab"
   ]
  },
  {
   "cell_type": "code",
   "execution_count": null,
   "id": "92c409ce",
   "metadata": {},
   "outputs": [],
   "source": [
    "%config Completer.use_jedi = False # 자동완성 기능"
   ]
  },
  {
   "cell_type": "code",
   "execution_count": null,
   "id": "7fd67a6e",
   "metadata": {},
   "outputs": [],
   "source": [
    "import pandas as pd\n",
    "pd.set_option('display.max_columns', 200)\n",
    "\n",
    "import numpy as np\n",
    "import matplotlib.pyplot as plt\n",
    "import seaborn as sns\n",
    "\n",
    "import warnings\n",
    "warnings.filterwarnings(\"ignore\")\n",
    "\n",
    "# from IPython.display import display, HTML\n",
    "# display(HTML(\"<style>.container {width :95% !important;}</style>\"))\n",
    "\n",
    "# 한글 그래프\n",
    "import matplotlib.pyplot as plt\n",
    "import platform\n",
    "if platform.system() == 'Darwin': #맥\n",
    "        plt.rc('font', family='AppleGothic') \n",
    "elif platform.system() == 'Windows': #윈도우\n",
    "        plt.rc('font', family='Malgun Gothic') \n",
    "elif platform.system() == 'Linux': #리눅스 (구글 콜랩)\n",
    "        #!wget \"https://www.wfonts.com/download/data/2016/06/13/malgun-gothic/malgun.ttf\"\n",
    "        #!mv malgun.ttf /usr/share/fonts/truetype/\n",
    "        #import matplotlib.font_manager as fm \n",
    "        #fm._rebuild() \n",
    "        plt.rc('font', family='Malgun Gothic') \n",
    "plt.rcParams['axes.unicode_minus'] = False #한글 폰트 사용시 마이너스 폰트 깨짐 해결"
   ]
  },
  {
   "cell_type": "code",
   "execution_count": null,
   "id": "888d9bcb",
   "metadata": {},
   "outputs": [],
   "source": [
    "# 한글 안될 때 글꼴 찾는 법\n",
    "from matplotlob improt font_manager\n",
    "font_manager.get_font_names(\"goth\") # 해당 코딕체 위 코드에 family에 넣어주기\n",
    "\n",
    "#  plt.rc('font', family='Malgun Gothic')  << 이 코드 !"
   ]
  },
  {
   "cell_type": "code",
   "execution_count": null,
   "id": "ec6c8509",
   "metadata": {},
   "outputs": [],
   "source": [
    "# 데이터 분리\n",
    "from sklearn.model_selection import train_test_split\n",
    "\n",
    "# 라벨인코딩\n",
    "from sklearn.preprocessing import LabelEncoder\n",
    "    \n",
    "# SMOTE\n",
    "from imblearn.over_sampling import SMOTE\n",
    "\n",
    "# 랜포 \n",
    "from sklearn.ensemble import RandomForestClassifier \n",
    "from sklearn.ensemble import RandomForestRegressor\n",
    "\n",
    "# lgbm \n",
    "from lightgbm import LGBMClassifier  \n",
    "from lightgbm import LGBMRegressor\n",
    "\n",
    "# 모델 평가 (from ~ import 까지 복붙)\n",
    "from sklearn.metrics import accuracy_score, confusion_matrix, mean_squared_error\n",
    "from sklearn.metrics import precision_score, recall_score, f1_score\n",
    "from sklearn.metrics import classification_report, r2_score\n",
    "\n",
    "import time"
   ]
  },
  {
   "cell_type": "code",
   "execution_count": null,
   "id": "a948b242",
   "metadata": {},
   "outputs": [],
   "source": [
    "from scipy import stats"
   ]
  }
 ],
 "metadata": {
  "kernelspec": {
   "display_name": "Python 3 (ipykernel)",
   "language": "python",
   "name": "python3"
  },
  "language_info": {
   "codemirror_mode": {
    "name": "ipython",
    "version": 3
   },
   "file_extension": ".py",
   "mimetype": "text/x-python",
   "name": "python",
   "nbconvert_exporter": "python",
   "pygments_lexer": "ipython3",
   "version": "3.9.13"
  }
 },
 "nbformat": 4,
 "nbformat_minor": 5
}
