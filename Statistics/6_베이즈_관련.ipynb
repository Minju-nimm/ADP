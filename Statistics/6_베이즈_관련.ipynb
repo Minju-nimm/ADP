{
 "cells": [
  {
   "cell_type": "markdown",
   "id": "99b67e00",
   "metadata": {},
   "source": [
    "# [ 0. 조건부 확률 ]\n",
    "- 베이즈룰의 기본이 되는 조건부 확률\n",
    "\n",
    "- 일반적으로 사건 A가 일어났을 때 사건 B의 조건부확률은 다음과 같다.\n",
    "\\begin{align}\n",
    "P(B|A) = \\frac{n(A \\cap B)}{n(A)}\n",
    "\\end{align}\n",
    "\n",
    "<img src = \"https://i.esdrop.com/d/f/s6N1SDUxar/S0Y9eIhOdI.jpg\" width=800 />\n",
    "\n",
    "- 참고 : http://www.estat.me/estat/eLearning/kr/eStatU/chapter05.html"
   ]
  },
  {
   "cell_type": "markdown",
   "id": "aa082702",
   "metadata": {},
   "source": [
    "## Example 1 : ADP 25회\n",
    "남성, 여성의 등산, 수영에 대한 취미 선호도 빈도표(2x2)를 보고, 남성 중에서 등산을 좋아할 확률을 구하시오.\n",
    "<img src=\"https://github.com/Datamanim/datarepo/blob/main/adp/25/problem3_3.png?raw=true\" width=200/>"
   ]
  },
  {
   "cell_type": "code",
   "execution_count": 15,
   "id": "7abf6aca",
   "metadata": {},
   "outputs": [
    {
     "data": {
      "text/html": [
       "<div>\n",
       "<style scoped>\n",
       "    .dataframe tbody tr th:only-of-type {\n",
       "        vertical-align: middle;\n",
       "    }\n",
       "\n",
       "    .dataframe tbody tr th {\n",
       "        vertical-align: top;\n",
       "    }\n",
       "\n",
       "    .dataframe thead th {\n",
       "        text-align: right;\n",
       "    }\n",
       "</style>\n",
       "<table border=\"1\" class=\"dataframe\">\n",
       "  <thead>\n",
       "    <tr style=\"text-align: right;\">\n",
       "      <th></th>\n",
       "      <th>등산</th>\n",
       "      <th>수영</th>\n",
       "    </tr>\n",
       "  </thead>\n",
       "  <tbody>\n",
       "    <tr>\n",
       "      <th>남자</th>\n",
       "      <td>20</td>\n",
       "      <td>10</td>\n",
       "    </tr>\n",
       "    <tr>\n",
       "      <th>여자</th>\n",
       "      <td>15</td>\n",
       "      <td>30</td>\n",
       "    </tr>\n",
       "  </tbody>\n",
       "</table>\n",
       "</div>"
      ],
      "text/plain": [
       "    등산  수영\n",
       "남자  20  10\n",
       "여자  15  30"
      ]
     },
     "execution_count": 15,
     "metadata": {},
     "output_type": "execute_result"
    }
   ],
   "source": [
    "import pandas as pd\n",
    "\n",
    "df_swim = pd.DataFrame([[20, 10], [15,30]],\n",
    "                       index = [\"남자\", \"여자\"],\n",
    "                       columns = [\"등산\", \"수영\"])\n",
    "df_swim"
   ]
  },
  {
   "cell_type": "code",
   "execution_count": 16,
   "id": "dffd1ea4",
   "metadata": {},
   "outputs": [
    {
     "name": "stdout",
     "output_type": "stream",
     "text": [
      "남성 중 등산을 좋아할 확률: 0.6666666666666666\n"
     ]
    }
   ],
   "source": [
    "male_hiking_count = df_swim.loc[\"남자\", \"등산\"]\n",
    "total_male_count = df_swim.loc[\"남자\"].sum()\n",
    "\n",
    "probability_male_hiking = male_hiking_count / total_male_count\n",
    "\n",
    "print(\"남성 중 등산을 좋아할 확률:\", probability_male_hiking)"
   ]
  },
  {
   "cell_type": "markdown",
   "id": "9cd197a7",
   "metadata": {},
   "source": [
    "---"
   ]
  },
  {
   "cell_type": "markdown",
   "id": "90c8b41c",
   "metadata": {},
   "source": [
    "# [ 1. 베이즈룰 ]"
   ]
  },
  {
   "cell_type": "markdown",
   "id": "8d3dfd5d",
   "metadata": {},
   "source": [
    "- 두 확률변수의 사전확률과 사후확률 사이의 관계를 나타내는 정리\n",
    "\n",
    "<img src =\"https://i.esdrop.com/d/f/s6N1SDUxar/3ksQ37It3Q.jpg\" width=700 />"
   ]
  },
  {
   "cell_type": "markdown",
   "id": "6560ca72",
   "metadata": {},
   "source": [
    "## Example 1 : ADP 29회 \n",
    "L1,L2,L3 세 개의 생산라인에서 각각 13%, 37%, 50%를 생산하며 각각 1.1% , 2.1%, 3.3% 불량률을 갖는다. 불량 제품이 나왔을 때 L1 라인에서 생산되었을 확률을 구하시오. (소수점 둘째자리에서 반올림)"
   ]
  },
  {
   "cell_type": "code",
   "execution_count": 11,
   "id": "e7d3ba2d",
   "metadata": {},
   "outputs": [
    {
     "name": "stdout",
     "output_type": "stream",
     "text": [
      "0.06\n"
     ]
    }
   ],
   "source": [
    "# 주어진 확률\n",
    "l1 = 0.13\n",
    "l2 = 0.37\n",
    "l3 = 0.50\n",
    "\n",
    "ratio_l1 = 0.011\n",
    "ratio_l2 = 0.021\n",
    "ratio_l3 = 0.033\n",
    "\n",
    "# 불량 제품이 나올 확률\n",
    "ratio_t = ratio_l1 * l1 + ratio_l2 * l2 + ratio_l3 * l3\n",
    "\n",
    "# 베이즈 정리를 사용하여 P(L1|불량) 계산\n",
    "l1_ratio_t = (ratio_l1 * l1) / ratio_t\n",
    "result = round(l1_ratio_t, 2)\n",
    "print(result)"
   ]
  },
  {
   "cell_type": "markdown",
   "id": "512d87e1",
   "metadata": {},
   "source": [
    "## Example 2 : ADP 24회\n",
    "바이러스 감염 분류표를 보고 베이지안 분류 방법을 사용해 양성으로 예측된 사람이 실제로 양성일 확률을 구하라. (유병률 0.01)"
   ]
  },
  {
   "cell_type": "markdown",
   "id": "475e53f1",
   "metadata": {},
   "source": [
    "<img src =\"https://i.esdrop.com/d/f/3uJKEwVXJL/qCn5px1ydX.jpg\" width=800/>"
   ]
  },
  {
   "cell_type": "code",
   "execution_count": 4,
   "id": "19242e53",
   "metadata": {},
   "outputs": [
    {
     "data": {
      "text/html": [
       "<div>\n",
       "<style scoped>\n",
       "    .dataframe tbody tr th:only-of-type {\n",
       "        vertical-align: middle;\n",
       "    }\n",
       "\n",
       "    .dataframe tbody tr th {\n",
       "        vertical-align: top;\n",
       "    }\n",
       "\n",
       "    .dataframe thead th {\n",
       "        text-align: right;\n",
       "    }\n",
       "</style>\n",
       "<table border=\"1\" class=\"dataframe\">\n",
       "  <thead>\n",
       "    <tr style=\"text-align: right;\">\n",
       "      <th></th>\n",
       "      <th>실제_감염</th>\n",
       "      <th>실제_비감염</th>\n",
       "    </tr>\n",
       "  </thead>\n",
       "  <tbody>\n",
       "    <tr>\n",
       "      <th>예측_양성</th>\n",
       "      <td>370</td>\n",
       "      <td>10</td>\n",
       "    </tr>\n",
       "    <tr>\n",
       "      <th>예측_음성</th>\n",
       "      <td>15</td>\n",
       "      <td>690</td>\n",
       "    </tr>\n",
       "  </tbody>\n",
       "</table>\n",
       "</div>"
      ],
      "text/plain": [
       "       실제_감염  실제_비감염\n",
       "예측_양성    370      10\n",
       "예측_음성     15     690"
      ]
     },
     "execution_count": 4,
     "metadata": {},
     "output_type": "execute_result"
    }
   ],
   "source": [
    "import pandas as pd\n",
    "\n",
    "data = pd.DataFrame([[370, 10], [15,690]],\n",
    "                    index = [\"예측_양성\", \"예측_음성\"],\n",
    "                    columns=[\"실제_감염\", \"실제_비감염\"])\n",
    "data"
   ]
  },
  {
   "cell_type": "code",
   "execution_count": 5,
   "id": "a31c5f6f",
   "metadata": {},
   "outputs": [
    {
     "name": "stdout",
     "output_type": "stream",
     "text": [
      "0.00961038961038961\n",
      "0.4045926735921268\n"
     ]
    }
   ],
   "source": [
    "pro_a_and_b = ((1/100) * (370/385))\n",
    "print(pro_a_and_b)\n",
    "\n",
    "pro_b =  ((1/100) * (370/385)) + ((99/100) * (10/700))\n",
    "pro_a_bar_b = pro_a_and_b / pro_b\n",
    "print(pro_a_bar_b)"
   ]
  },
  {
   "cell_type": "code",
   "execution_count": 6,
   "id": "32797a95",
   "metadata": {},
   "outputs": [
    {
     "name": "stdout",
     "output_type": "stream",
     "text": [
      "0.4045926735921268\n"
     ]
    }
   ],
   "source": [
    "tp = 370\n",
    "fn = 15\n",
    "\n",
    "fp = 10\n",
    "tn = 690\n",
    "\n",
    "disease_rate = 0.01\n",
    "\n",
    "result = (tp/(tp + fn)) * disease_rate/((tp/(tp +fn)) * disease_rate + ((fp/(tn+fp)) * (1 - disease_rate)))\n",
    "print(result)"
   ]
  },
  {
   "cell_type": "markdown",
   "id": "bcb6d403",
   "metadata": {},
   "source": [
    "## Example 3\n",
    "<img src =\"https://i.esdrop.com/d/f/s6N1SDUxar/gMOiLhDW15.jpg\" width=800 />"
   ]
  },
  {
   "cell_type": "markdown",
   "id": "4a03531a",
   "metadata": {},
   "source": [
    "---"
   ]
  },
  {
   "cell_type": "markdown",
   "id": "ce95954d",
   "metadata": {},
   "source": [
    "# [ 2. 베이지안 회귀 ]"
   ]
  },
  {
   "cell_type": "markdown",
   "id": "97ad8a25",
   "metadata": {},
   "source": [
    "- 베이지안 회귀분석은 베이즈룰을 기반으로 하는 통계적 모델링 방법\n",
    "- 베이즈룰 : 두 확률변수의 사전확률과 사후확률 사이의 관계를 나타내는 정리\n",
    "\n",
    "</br>\n",
    "\n",
    "- **확률론적인 방법**을 이용하여 회귀분석을 수행하는 방법\n",
    "- 베이지안 회귀는 베이즈 정리를 기반으로 사전 확률분포에서 MCMC기법에 의해 선정된 관측값을 반영하여, 사후 확률분포를 추산하는 방식\n",
    "- 모든 관측값이 반영되었을 때 새로운 값 관측값(unobserved data) x에 대한 출력값 y를 확률 분포에 의해 결정할 수 있는 **예측 분포(Prodictive distribution)를 만드는 모델**"
   ]
  },
  {
   "cell_type": "markdown",
   "id": "93a4f21b",
   "metadata": {},
   "source": [
    "## 베이지안 회귀분석의 흐름\n",
    "> \n",
    "> \n",
    "> 1) 베이지안 회귀분석에서는 모델 파라미터들의 값이 어떤 분포를 따르는지를 나타내는 사전 분포(prior distribution)를 이전 경험이나 지식에 기반하여 먼저 정의\n",
    "> \n",
    "> → 만약 문제가 출제 된다면 사전 분포를 미리 정의해줄 것임 (26회 기출처럼)\n",
    "> \n",
    "> 2) 데이터를 관측하여 이 사전 분포를 업데이트한 사후 분포(posterior distribution)를 추정\n",
    "> \n",
    "> 3) 추정된 사후 분포를 통해 불확실성을 고려한 예측 분포(predictive distribution)를 계산\n",
    ">"
   ]
  },
  {
   "cell_type": "markdown",
   "id": "6dcf677b",
   "metadata": {},
   "source": [
    "## 장점 : 불확실성 고려\n",
    "\n",
    "- 베이지안 회귀분석에서는 사전분포를 설정함으로써, 회귀계수에 대한 불확실성을 추정 가능\n",
    "- 미래 데이터에 대한 예측분포(predictive distribution)를 추정할 수 있어 **불확실성을 고려한 예측을 수행할 수 있음**\n",
    "\n",
    "\n",
    "### 🔎 불확실성을 고려한다는 의미는 무엇일까?\n",
    "\n",
    "- 베이지안 회귀분석은 **추정한 파라미터(모델 계수)가 실제 값과 어느 정도의 오차 범위 내에 존재할 가능성이 있는지를 확률적으로 계산**하여, 이러한 **추정 결과를 확률 분포 형태로 나타내기 때문에 추정한 값이 가질 수 있는 불확실성을 표현**할 수 있음\n",
    "- 단순 회귀분석에서는 독립 변수의 값이 주어지면 종속 변수의 값이 단 하나의 값으로 결정되는 것과 달리, 베이지안 회귀분석에서는 미래 데이터에 대한 예측 분포를 추정함으로써 불확실성을 반영\n",
    "- 즉, 점추정 방식의 단순 회귀와는 다르게 베이지안 방법론에서는 ‘평균이 4, 어떤 분산으로 되어있는 정규분포로 파라미터가 분포되어있다’고 말하며 **확률분포를 따짐**"
   ]
  },
  {
   "cell_type": "markdown",
   "id": "0a8986bb",
   "metadata": {},
   "source": [
    "## 마르코프 체인 몬테카를로법 (MCMC)\n",
    "\n",
    "- 베이지안 회귀분석에서 **사후 분포를 추정하는 데에 사용되는 기법**\n",
    "- MCMC : 마르코프 체인 + 몬테카를로 합친 알고리즘\n",
    "    - 마르코프 체인 : 어떤 상태가 바로 이전 상태의 결과에 영향을 받는 상황을 의미\n",
    "    - 몬테카를로 : 무작위 샘플링을 의미\n",
    "- 초기값(initial value)을 기반으로 사후 분포를 추정하며, 이 때 생성된 샘플은 이전 샘플 값에 의존\n",
    "- 이전 샘플에서 시작해 천천히 샘플 공간을 탐색하며, 목표 분포에 수렴할 때까지 샘플링을 수행\n",
    "- MCMC 알고리즘을 통해 얻은 샘플은 사후 분포의 모양을 나타내며, 이를 통해 모델 파라미터의 불확실성을 추정할 수 있음"
   ]
  },
  {
   "cell_type": "markdown",
   "id": "2a91dde7",
   "metadata": {},
   "source": [
    "## Example 1 : ADP 26회\n",
    "\n",
    "height(키), weight(몸무게), waist(허리둘레) 컬럼을 가진 problem7.csv파일을 가지고 다음을 분석하라      \n",
    "A시의 20대 남성 411명을 임의로 추출하여 키, 몸무게, 허리둘레를 조사하여 기록한 데이터이다.         \n",
    "이 데이터를 이용하여 20대 남성의 키와 허리둘레가 체중에 영향을 미치는지 알아보고자 한다.     \n",
    "\n",
    "- 데이터 url :https://raw.githubusercontent.com/Datamanim/datarepo/main/adp/26/problem7.csv\n",
    "\n",
    "아래 조건을 참고하여 회귀계수(반올림하여 소수점 두자리)를 구하시오.    \n",
    "- 베이지안 회귀   \n",
    "- 시드넘버 1234로 지정\n",
    "- 1000번의 burn-in 이후 10,000의 MCMC를 수행\n",
    "- 회귀계수의 사전분포는 부적절한 균일분포(improper uniform prior distribution), 오차항의 분산의 사전분포는 역감마 분포로 지정. 이때, 형상(Shape)모수와 척도(Scale)모수는 각각 0.005로 지정."
   ]
  },
  {
   "cell_type": "markdown",
   "id": "a96919ca",
   "metadata": {},
   "source": [
    "참고\n",
    "- 베이지안 회귀가 아닌 다른 회귀로 충분히 해결할 수 있지만, ADP 난이도와 합격률 유지를 위해 본 문제같은 어려운 문제들이 등장하는 추세\n",
    "- 이런 통수치는 문제들은 `help()`를 적극적으로 이용할 것\n",
    "    - 반드시 import 후에 help 사용 가능\n",
    "    - 문제에서 주어진 조건(옵션)들을 활용할 수 있는 함수를 찾기"
   ]
  },
  {
   "cell_type": "markdown",
   "id": "6b67287f",
   "metadata": {},
   "source": [
    "```R\n",
    "data <- read.csv(\"https://raw.githubusercontent.com/Datamanim/datarepo/main/adp/26/problem7.csv\")\n",
    "\n",
    "library(rjags)\n",
    "library(runjags)\n",
    "\n",
    "model_string <- \"\n",
    "model {\n",
    "  # Define variables\n",
    "  for (i in 1:n) {\n",
    "    y[i] ~ dnorm(mu[i], tau)\n",
    "    mu[i] <- beta[1] + beta[2]*x1[i] + beta[3]*x2[i]\n",
    "  }\n",
    "  beta[1] ~ dunif(-1000, 1000)  # Improper uniform prior\n",
    "  beta[2] ~ dunif(-1000, 1000)  # Improper uniform prior\n",
    "  beta[3] ~ dunif(-1000, 1000)  # Improper uniform prior\n",
    "  tau ~ dgamma(0.005, 0.005)    # Inverse gamma prior\n",
    "}\n",
    "\"\n",
    "\n",
    "# Set seed\n",
    "set.seed(1234)\n",
    "\n",
    "# Prepare data\n",
    "data_jags = list(\"x1\" = data$height,\n",
    "                 \"x2\" = data$waist,\n",
    "                 \"y\" = data$weight,\n",
    "                 \"n\" = nrow(data))\n",
    "\n",
    "# Run MCMC\n",
    "jags_model <- jags.model(textConnection(model_string),\n",
    "                         data = data_jags,\n",
    "                         n.chains = 3)\n",
    "update(jags_model, 1000)\n",
    "samples <- coda.samples(jags_model, variable.names = c(\"beta\", \"tau\"), n.iter = 10000)\n",
    "\n",
    "summary(samples)\n",
    "```"
   ]
  },
  {
   "cell_type": "markdown",
   "id": "ca725129",
   "metadata": {},
   "source": [
    "```R\n",
    "# Output\n",
    "\n",
    "Compiling model graph\n",
    "   Resolving undeclared variables\n",
    "   Allocating nodes\n",
    "Graph information:\n",
    "   Observed stochastic nodes: 411\n",
    "   Unobserved stochastic nodes: 4\n",
    "   Total graph size: 1736\n",
    "\n",
    "Initializing model\n",
    "\n",
    "  |++++++++++++++++++++++++++++++++++++++++++++++++++| 100%\n",
    "> update(jags_model, 1000)\n",
    "  |**************************************************| 100%\n",
    "> samples <- coda.samples(jags_model, variable.names = c(\"beta\", \"tau\"), n.iter = 10000)\n",
    "  |**************************************************| 100%\n",
    "> summary(samples)\n",
    "\n",
    "Iterations = 2001:12000\n",
    "Thinning interval = 1 \n",
    "Number of chains = 3 \n",
    "Sample size per chain = 10000 \n",
    "\n",
    "1. Empirical mean and standard deviation for each variable,\n",
    "   plus standard error of the mean:\n",
    "\n",
    "            Mean      SD  Naive SE Time-series SE\n",
    "beta[1] -26.5886 8.75340 0.0505378        3.03867\n",
    "beta[2]   0.4824 0.27197 0.0015702        0.07157\n",
    "beta[3]   0.2143 0.54911 0.0031703        0.12431\n",
    "tau       0.2491 0.05628 0.0003249        0.01122\n",
    "\n",
    "2. Quantiles for each variable:\n",
    "\n",
    "            2.5%      25%      50%      75%   97.5%\n",
    "beta[1] -42.7128 -32.2536 -26.5532 -19.8254 -9.5844\n",
    "beta[2]  -0.1515   0.3367   0.5501   0.6677  0.8695\n",
    "beta[3]  -0.5297  -0.2884   0.1777   0.4790  1.3939\n",
    "tau       0.1316   0.2135   0.2567   0.2912  0.3410\n",
    "```"
   ]
  },
  {
   "cell_type": "markdown",
   "id": "7d9a02cb",
   "metadata": {},
   "source": [
    "```R\n",
    "# 7-2 문제 해답\n",
    "키가 180cm이고 허리둘레가 85cm인 남성의 몸무게를 추정하려면 다음과 같이 계산\n",
    "\n",
    "mu = beta[1] + beta[2]180 + beta[3]85\n",
    "mu = -26.59 + 0.48180 + 0.2185\n",
    "mu = 74.14\n",
    "\n",
    "따라서 추정된 몸무게는 약 74.14kg\n",
    "```"
   ]
  }
 ],
 "metadata": {
  "kernelspec": {
   "display_name": "Python 3 (ipykernel)",
   "language": "python",
   "name": "python3"
  },
  "language_info": {
   "codemirror_mode": {
    "name": "ipython",
    "version": 3
   },
   "file_extension": ".py",
   "mimetype": "text/x-python",
   "name": "python",
   "nbconvert_exporter": "python",
   "pygments_lexer": "ipython3",
   "version": "3.9.13"
  }
 },
 "nbformat": 4,
 "nbformat_minor": 5
}
