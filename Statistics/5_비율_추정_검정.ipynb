{
 "cells": [
  {
   "cell_type": "markdown",
   "metadata": {},
   "source": [
    "⭐ 비율검정엔 Z분포를 사용한다 ⭐"
   ]
  },
  {
   "cell_type": "markdown",
   "metadata": {},
   "source": [
    "# [ 일표본 비율 검정 (모비율 검정) ]"
   ]
  },
  {
   "cell_type": "markdown",
   "metadata": {},
   "source": [
    "## 예시\n",
    "모집단의 미지의 비율에 대한 가설검정이 필요한 몇 가지 예시를 들어보자.\n",
    "\n",
    "- 1) 금년도 대통령 선거에서 특정 후보의 지지율이 과연 50%를 넘을까?\n",
    "- 2) 작년도 실업률이 7%이었다고 한다. 올해의 실업률은 높아졌는가?\n",
    "- 3) 자동차 부속품 1만개를 배로 수입하는데 과거의 경험으로 보아 이중 2%가 불량품이었다. 이번에도 불량품이 2%일까?\n",
    "\n",
    "## 검정통계량\n",
    "- $n : 시행횟수$\n",
    "- $y : 성공횟수$\n",
    "- $\\hat p = \\cfrac{y}{n}$\n",
    "- $p_0 : 어떤 \\;정해진\\; 성공확률$\n",
    "\n",
    "\n",
    "$$ Z =  \\cfrac {\\cfrac{y}{n}- p_0}{\\sqrt{\\cfrac {p_0 (1-p_0)}{n}}} = \\cfrac {\\hat p - p_0}{\\sqrt{\\cfrac {p_0 (1-p_0)}{n}}} $$\n",
    "\n",
    "- 검정통계량 추가 설명\n",
    "    - 베르누이 시행을 n번 독립적으로 수행했을 때의 성공의 수 y에 대해 $H_0:p=p_0$이 사실이고 n이 매우 크면, $\\cfrac{y}{n}$이 근사적으로 정규분포 $N(p_0,\\cfrac {p_0 (1-p_0)}{n})$를 따른다는 사실을 이용하여 검정을 수행한다.\n",
    "    - 표본의 크기가 충분히 클 때 표본비율($\\hat p$)의 표집분포는 평균이 모비율($p$)이고 분산이 $\\cfrac {p_0 (1-p_0)}{n}$인 정규분포에 근사하게 된다. \n",
    "    - 따라서 대표본일 때의 모평균 가설검정과 유사하게 모비율의 가설검정을 진행할 수 있다.\n",
    "   \n",
    "</br>\n",
    "\n",
    "## 가설검정 형태\n",
    "<img src = \"https://i.esdrop.com/d/f/s6N1SDUxar/bIOPvIGhhc.jpg\" width=\"700\"/>"
   ]
  },
  {
   "cell_type": "markdown",
   "metadata": {},
   "source": [
    "## Example 1\n",
    "시중에 팔리고 있는 주사위들 중에서 많은 것들이 공평하지 못하다고 사람들이 말한다. 왜냐하면 주사위에 표시된 점들이 실제로는 음각된 것이기 때문이다. 예를 들어 6이 나오는 면이 1이 나오는 면보다 가볍다. p를 6이 나오는 확률이라고 하자. $H_1 : p>1/6$에 대하여 \n",
    "$H_0 : p=1/6$을 검정하기 위하여, 여러 개의 주사위를 던져 총 n=8000개의 관측치 중 1389개의 주사위 눈이 6인 결과를 얻었다. 유의수준 0.05 하에서 가설검정을 진행하라.\n",
    "\n",
    "- 출처 : 수리통계학 Hogg 제 9판 예제 8.3-1"
   ]
  },
  {
   "cell_type": "markdown",
   "metadata": {},
   "source": [
    "- $n = 8000$\n",
    "- $p_0 = 1/6$\n",
    "\n",
    "$$ Z = \\cfrac {\\cfrac{y}{n}- p_0}{\\sqrt{\\cfrac {p_0 (1-p_0)}{n}}} = \\cfrac {\\cfrac{1389}{8000}- \\cfrac{1}{6}}{\\sqrt{\\cfrac {\\cfrac{1}{6} (1 - \\cfrac{1}{6})}{8000}}} = 1.67 $$ \n",
    "\n",
    "- 유의수준 0.05 하에서 기각역은 $z \\geq z_0.05 = 1.645$\n",
    "\n",
    "- 따라서, $z=1.67 > 1.645$ 이므로 검정통계량이 기각역에 속하여 귀무가설을 기각한다.\n",
    "- 즉 시중에 팔리는 주사위는 공평한 주사위보다 6이 더 빈번히 나온다고 할 수 있다."
   ]
  },
  {
   "cell_type": "markdown",
   "metadata": {},
   "source": [
    "### 가설검정"
   ]
  },
  {
   "cell_type": "code",
   "execution_count": 32,
   "metadata": {},
   "outputs": [
    {
     "name": "stdout",
     "output_type": "stream",
     "text": [
      "검정통계량 : 1.6700000000000026\n",
      "기각값 : 1.6448536269514722\n",
      "유의확률: 0.04745968180294702\n"
     ]
    }
   ],
   "source": [
    "n = 8000\n",
    "p_hat = 1389 / 8000 # 표본비율\n",
    "p_0 = 1/6 # 모비율\n",
    "\n",
    "conf_a = 0.05 # 유의수준\n",
    "\n",
    "V = p_0 * (1 - p_0) # 베르누이시행의 분산\n",
    "se = np.sqrt(V/n) # 표준오차\n",
    "\n",
    "from scipy.stats import norm\n",
    "\n",
    "z_stat = (p_hat - p_0)/ se # 검정통계량\n",
    "print(\"검정통계량 :\", z_stat)\n",
    "\n",
    "z_critical = norm.ppf(1 - conf_a) # 기각역\n",
    "print(\"기각값 :\", z_critical)\n",
    "\n",
    "# 유의확률(p-value) 계산\n",
    "p_value = 1 - norm.cdf(abs(z_stat))\n",
    "print(\"유의확률:\", p_value)"
   ]
  },
  {
   "cell_type": "markdown",
   "metadata": {},
   "source": [
    "## Example 2\n",
    "한 지역의 국회의원 선거여론조사를 지난달 실시한 결과 특정후보의 지지율이 60%이었다. 최근에 지지율에 변동이 있는지 알아보기 위해 100명을 단순임의추출하였더니 55명이 지지를 하였다. 특정후보에 대한 현재 지지율이 60%에서 변동이 있는지 유의수준 5%로 가설검정하라.\n",
    "\n",
    "\n",
    "- 출처 : 수리통계학 Hogg 제 9판 연습문제 8.3-4"
   ]
  },
  {
   "cell_type": "markdown",
   "metadata": {},
   "source": [
    "- 귀무가설 : 특정후보에 대한 현재 지지율이 60%이다.\n",
    "- 대립가설 : 특정후보에 대한 현재 지지율이 60%이 아니다.\n"
   ]
  },
  {
   "cell_type": "markdown",
   "metadata": {},
   "source": [
    "### 가설검정"
   ]
  },
  {
   "cell_type": "code",
   "execution_count": 33,
   "metadata": {},
   "outputs": [
    {
     "name": "stdout",
     "output_type": "stream",
     "text": [
      "검정통계량 : -1.0206207261596563\n",
      "기각값 : -1.959963984540054 1.959963984540054\n",
      "유의확률: 0.30743416592739603\n"
     ]
    }
   ],
   "source": [
    "n = 100\n",
    "p_hat = 55 / 100 # 표본비율\n",
    "p_0 = 0.6 # 모비율\n",
    "\n",
    "conf_a = 0.05 # 유의수준\n",
    "\n",
    "V = p_0 * (1 - p_0) # 베르누이시행의 분산\n",
    "se = np.sqrt(V/n) # 표준오차\n",
    "\n",
    "from scipy.stats import norm\n",
    "\n",
    "z_stat = (p_hat - p_0)/ se # 검정통계량\n",
    "print(\"검정통계량 :\", z_stat)\n",
    "\n",
    "z_critical = norm.ppf(1 - conf_a/2) # 기각역\n",
    "print(\"기각값 :\", -z_critical, z_critical) # 기각역은 양측에 대해 표시\n",
    "\n",
    "# 유의확률(p-value) 계산\n",
    "p_value = 2 * (1 - norm.cdf(abs(z_stat))) # 양측검정이므로 *2\n",
    "print(\"유의확률:\", p_value)"
   ]
  },
  {
   "cell_type": "markdown",
   "metadata": {},
   "source": [
    "- 검정통계량이 기각역에 속하지 않으므로, 귀무가설을 채택한다.\n",
    "- 따라서 특정후보에 대한 현재 지지율이 60%라고 할 수 있다."
   ]
  },
  {
   "cell_type": "markdown",
   "metadata": {},
   "source": [
    "---"
   ]
  },
  {
   "cell_type": "markdown",
   "metadata": {},
   "source": [
    "# [ 이표본 비율 검정 ]\n"
   ]
  },
  {
   "cell_type": "markdown",
   "metadata": {},
   "source": [
    "## 예시\n",
    "- 1) 금년도 대통령 선거에서 특정후보에 대한 지지율에 유권자의 성별에 따른 차이가 있는가?\n",
    "- 2) 어느 공장에서 제품을 만들어 내는 두 대의 기계가 있는데 두 기계의 불량률이 서로 다른가?\n",
    "\n",
    "</br>\n",
    "\n",
    "## 신뢰구간\n",
    "\\begin{align}\n",
    "\\ (\\hat p_1 - \\hat p_2) \\pm Z_{a/2} \\ \\sqrt{\\cfrac{\\hat p_1 (1 - \\hat p_1)}{n_1} + \\cfrac{\\hat p_2(1 - \\hat p_2)}{n_2}}\n",
    "\\end{align}\n",
    "\n",
    "</br>\n",
    "\n",
    "## 검정통계량\n",
    "\n",
    "### 1) 표본비율을 이용한 검정통계량 \n",
    "- 신뢰구간에 사용\n",
    "- 표본비율을 이용한 검정통계량, 공통비율을 이용한 검정통계량 간에 큰 차이가 있는 것은 아니지만, 귀무가설이 틀릴 가능성이 많을 때는 이 표본비율을 사용하는 방법이 더 유익하다고 함\n",
    "\\begin{align}\n",
    "\\ Z = \\cfrac{(\\hat p_1 - \\hat p_2) - (p_1-p_2)}{\\sqrt{\\cfrac{\\hat p_1 (1 - \\hat p_1)}{n_1} + \\cfrac{\\hat p_2(1 - \\hat p_2)}{n_2}}}\n",
    "\\end{align}\n",
    "\n",
    "### 2) 가중평균(공통비율)을 이용한 검정통계량 ⭐\n",
    "- 주의 : 신뢰구간에서 사용하는 공식과 다르다.\n",
    "- 일반적으로 통용되는 방법\n",
    "- 이러한 두 모집단의 모비율($p_1,p_2$)비교는, 모평균과 유사하게 두 모비율의 차($p_1 - p_2$)를 검정함으로써 가능\n",
    "- 두 모집단에서 서로 독립적으로 추출한 표본비율의 차($\\hat p_1 - \\hat p_2$)는 표본의 크기가 충분히 클 때 평균이 $p_1 - p_2$, 분산이 $\\cfrac{p_1 (1-p_1 )}{n_1} + \\cfrac{p_2 (1-p_2 )}{n_2}$인 정규분포를 따른다.\n",
    "\n",
    "- 여기서 분산의 추정을 위해서는 $p_1, p_2$를 모르므로 두 표본비율($\\hat p_1 , \\hat p_2$)에 대해 표본의 크기를 가중값으로 취한 가중평균 $\\overline p$를 사용한다.\n",
    "\n",
    "\n",
    "#### 합동표본비율(공통비율, 가중평균)\n",
    "- $n_1 {\\hat p}_1 = x_1$ 만 남음 (분모 소거) \n",
    "\\begin{align}\n",
    "\\overline p = \\cfrac { n_1 {\\hat p}_1 + n_2 {\\hat p}_2 } {n_1 + n_2 } =\\cfrac{x_1+x_2}{n_1 + n_2}\n",
    "\\end{align}\n",
    "\n",
    "\\begin{align}\n",
    "Z = \\cfrac { {\\hat p}_1 - {\\hat p}_2 } { \\sqrt{ \\cfrac{\\overline p (1 - \\overline p )}{n_1 } + \\cfrac{\\overline p (1 - \\overline p ) }{n_2 }  } }\n",
    "\\end{align}\n",
    "\n",
    "\n",
    "</br>\n",
    "\n",
    "### 가설검정 형태\n",
    "<img src = \"https://i.esdrop.com/d/f/s6N1SDUxar/Xqr39vj5Us.jpg\" width=\"700\"/>\n",
    "\n",
    "- 참고 : http://www.estat.me/estat/eLearning/kr/eStatU/chapter08.html#0803\n"
   ]
  },
  {
   "cell_type": "markdown",
   "metadata": {},
   "source": [
    "## Example 1 : ADP 실기 29회\n",
    "C사 생산 제품 1000개 중 양품이 600개, D사 생산 제품 500개 중 양품이 200개 이다. 두 회사의 양품률에 차이가 있는지 검정하여라."
   ]
  },
  {
   "cell_type": "markdown",
   "metadata": {},
   "source": [
    "### 가설\n",
    "- 귀무가설 : 두 집단 간의 모비율 차이가 없다.\n",
    "- 대립가설 : 두 집단 간의 모비율 차이가 있다."
   ]
  },
  {
   "cell_type": "code",
   "execution_count": 10,
   "metadata": {},
   "outputs": [
    {
     "name": "stdout",
     "output_type": "stream",
     "text": [
      "[검정]\n",
      "임계값 : +/-1.960, 검정통계량 : 7.319\n",
      "유의수준 : 0.05, 유의확률 : 0.000\n"
     ]
    }
   ],
   "source": [
    "import numpy as np\n",
    "\n",
    "n1 = 1000\n",
    "p1 = 600/1000\n",
    "\n",
    "n2 = 500\n",
    "p2 = 200/500\n",
    "\n",
    "conf_0 = 0.05\n",
    "\n",
    "from scipy.stats import norm\n",
    "d = p1 - p2\n",
    "conf_z = norm.ppf(1 - conf_0/2) # twoway이므로 /2\n",
    "\n",
    "se = np.sqrt(p1*(1-p1)/n1 + p2*(1-p2)/n2)\n",
    "me = conf_z * se\n",
    "\n",
    "pe = (n1*p1+n2*p2)/(n1+n2) # Pooled estimate\n",
    "se2 = np.sqrt((pe * (1 - pe))/n1 + (pe * (1 - pe)) / n2)\n",
    "zstat = d / se2\n",
    "\n",
    "conf_z = norm.ppf(1-conf_0/2)\n",
    "me2 = conf_z * se2\n",
    "\n",
    "sp = 1 - norm.cdf(np.abs(zstat))\n",
    "\n",
    "cv = norm.ppf(1-conf_0/2)\n",
    "cv ='+/-{:.3f}'.format(cv)\n",
    "\n",
    "print('[검정]')\n",
    "print('임계값 : {}, 검정통계량 : {:.3f}'.format(cv, zstat))\n",
    "print('유의수준 : {}, 유의확률 : {:.3f}'.format(conf_0, sp))"
   ]
  },
  {
   "cell_type": "markdown",
   "metadata": {},
   "source": [
    "- 검정통계량이 임계값보다 크므로 기각역에 속해 귀무가설을 기각한다.\n",
    "- 따라서 두 회사의 양품률에 차이가 있다고 할 수 있다."
   ]
  },
  {
   "cell_type": "code",
   "execution_count": 26,
   "metadata": {},
   "outputs": [
    {
     "name": "stdout",
     "output_type": "stream",
     "text": [
      "7.453559924999298\n",
      "9.08162434143378e-14\n"
     ]
    }
   ],
   "source": [
    "# 표본비율 그대로 사용\n",
    "\n",
    "import math\n",
    "import scipy.stats as stats\n",
    "\n",
    "# sol1. Z검정 p-value\n",
    "p1 = 0.6\n",
    "p2 = 0.4\n",
    "n1 = 1000\n",
    "n2 = 500\n",
    "\n",
    "SE = math.sqrt((p1 * (1 - p1) / n1) + (p2 * (1 - p2) / n2)) # 표준 오차 계산\n",
    "Z = (p1 - p2) / SE # Z-점수 계산\n",
    "p_value = 2 * (1 - stats.norm.cdf(abs(Z))) # p-value 계산\n",
    "\n",
    "print(Z)\n",
    "print(p_value)"
   ]
  },
  {
   "cell_type": "code",
   "execution_count": 29,
   "metadata": {},
   "outputs": [
    {
     "data": {
      "text/plain": [
       "(52.77087053571428,\n",
       " 3.7481920789578267e-13,\n",
       " 1,\n",
       " array([[533.33333333, 466.66666667],\n",
       "        [266.66666667, 233.33333333]]))"
      ]
     },
     "execution_count": 29,
     "metadata": {},
     "output_type": "execute_result"
    }
   ],
   "source": [
    "# 카이제곱 독립성 검성\n",
    "from scipy.stats import chi2_contingency\n",
    "observed = [[600, 400], [200, 300]]\n",
    "chi2, p_value, dof, expected = chi2_contingency(observed)\n",
    "chi2, p_value, dof, expected"
   ]
  },
  {
   "cell_type": "markdown",
   "metadata": {},
   "source": [
    "## Example 2\n",
    "금년도 대통령 선거에서 특정후보의 지지율에 대해 남녀별로 독립적으로 표본을 추출해 조사하였더니 남자 225명 중 54명이 지지를 하였고, 여자 175명 중 52명이 지지를 하였다. 남녀의 지지율에 차이가 있다고 할 수 있는지 유의수준 5％에서 검정하라.\n",
    "\n",
    "- [출처 : 예제 8.7](http://www.estat.me/estat/eLearning/kr/eStatU/chapter08.html#0803)"
   ]
  },
  {
   "cell_type": "code",
   "execution_count": 9,
   "metadata": {},
   "outputs": [
    {
     "name": "stdout",
     "output_type": "stream",
     "text": [
      "[검정]\n",
      "임계값 : +/-1.960, 검정통계량 : -1.285\n",
      "유의수준 : 0.05, 유의확률 : 0.099\n"
     ]
    }
   ],
   "source": [
    "import numpy as np\n",
    "\n",
    "n1 = 225\n",
    "p1 = 54/225\n",
    "\n",
    "n2 = 175\n",
    "p2 = 52/175\n",
    "\n",
    "conf_0 = 0.05\n",
    "\n",
    "from scipy.stats import norm\n",
    "d = p1 - p2\n",
    "z_critical = norm.ppf(1 - conf_0/2) # twoway이므로 /2\n",
    "\n",
    "se = np.sqrt(p1*(1-p1)/n1 + p2*(1-p2)/n2)\n",
    "me = z_critical * se\n",
    "\n",
    "pe = (n1 * p1 + n2 * p2)/(n1 + n2) # Pooled estimate\n",
    "se2 = np.sqrt((pe * (1 - pe))/n1 + (pe * (1 - pe)) / n2)\n",
    "\n",
    "zstat = d /se2\n",
    "conf_z = norm.ppf(1-conf_0/2)\n",
    "me2 = conf_z * se2\n",
    "\n",
    "sp = 1 - norm.cdf(np.abs(zstat))\n",
    "\n",
    "cv = norm.ppf(1-conf_0/2)\n",
    "cv ='+/-{:.3f}'.format(cv)\n",
    "\n",
    "print('[검정]')\n",
    "print('임계값 : {}, 검정통계량 : {:.3f}'.format(cv, zstat))\n",
    "print('유의수준 : {}, 유의확률 : {:.3f}'.format(conf_0, sp))"
   ]
  },
  {
   "cell_type": "markdown",
   "metadata": {},
   "source": [
    "## Example 3\n",
    "공구를 생산하는 어느 공장은 주간 생산조와 야간 생산조를 운영하고 있다. $p_1$과 $p_2$를 각각 주간 생산조와 야간 생산조가 생산한 공구의 불량률이라고하자. 각 생산조에 의해 생산된 공구를 무작위로 1000개씩 뽑아서 $H_0 : p_1 = p_2$ 대 $H_1 : p_1 \\neq p_2$를 검정하려고 한다. 주간 생산 공구와 야간 생산 공구로부터 각각 $y_1=37, y_2=53$개의 불량품들이 관측되었다. 유의수준 0.05하에서 가설을 검정하라.\n",
    "- 출처 : 수리통계학 Hogg 제 9판 예제 8.3-6"
   ]
  },
  {
   "cell_type": "markdown",
   "metadata": {},
   "source": [
    "\\begin{align}\n",
    "\\overline p = \\cfrac { n_1 {\\hat p}_1 + n_2 {\\hat p}_2 } {n_1 + n_2 } = \\cfrac { 1000 {\\cfrac{37}{1000}} + 1000 {\\cfrac{53}{1000}} } {1000 + 1000 } = 0.045\n",
    "\\end{align}\n",
    "\n",
    "\\begin{align}\n",
    "Z = \\cfrac { {\\hat p}_1 - {\\hat p}_2 } { \\sqrt{ \\cfrac{\\overline p (1 - \\overline p )}{n_1 } + \\cfrac{\\overline p (1 - \\overline p ) }{n_2 }  } } = \\cfrac {  \\cfrac{37}{1000}- \\cfrac{53}{1000}} { \\sqrt{ \\cfrac{0.045(1 - 0.045)}{1000 } + \\cfrac{0.045(1 - 0.045) }{1000 }  } } = -1.7258\n",
    "\\end{align} \n"
   ]
  },
  {
   "cell_type": "markdown",
   "metadata": {},
   "source": [
    "- 검정통계량 1.72가 1.96보다 작으므로, 기각역에 속하지 않는다. 따라서 귀무가설을 채택한다.\n",
    "- 두 집단 간 비율은 동일하다고 할 수 있다."
   ]
  },
  {
   "cell_type": "code",
   "execution_count": 17,
   "metadata": {},
   "outputs": [
    {
     "name": "stdout",
     "output_type": "stream",
     "text": [
      "합동표본비율 : 0.045\n",
      "0.009270922284217466\n",
      "\n",
      " [검정]\n",
      "임계값 : +/-1.960, 검정통계량 : -1.726\n",
      "유의수준 : 0.05, 유의확률 : 0.042\n"
     ]
    }
   ],
   "source": [
    "import numpy as np\n",
    "\n",
    "n1 = 1000\n",
    "p1 = 37/1000\n",
    "\n",
    "n2 = 1000\n",
    "p2 = 53/1000\n",
    "\n",
    "conf_0 = 0.05\n",
    "\n",
    "from scipy.stats import norm\n",
    "d = p1 - p2\n",
    "\n",
    "z_critical = norm.ppf(1 - conf_0/2) # twoway이므로 /2, 기각역\n",
    "# print(\"기각역 :\", z_critical)\n",
    "\n",
    "se = np.sqrt(p1 * ((1 - p1)/n1) + p2 * ((1 - p2)/n2))\n",
    "me = z_critical * se\n",
    "\n",
    "pe = (n1 * p1 + n2 * p2)/(n1 + n2) # Pooled estimate\n",
    "print(\"합동표본비율 :\", pe)\n",
    "\n",
    "# se2 = np.sqrt(pe * (1 - pe)/(n1 + n2)) # 0.004635461142108733\n",
    "se2 = np.sqrt((pe * (1 - pe))/n1 + (pe * (1 - pe)) / n2) # 0.009270922284217466\n",
    "print(se2)\n",
    "\n",
    "zstat = d /se2\n",
    "conf_z = norm.ppf(1-conf_0/2)\n",
    "me2 = conf_z * se2\n",
    "\n",
    "sp = 1 - norm.cdf(np.abs(zstat))\n",
    "\n",
    "cv = norm.ppf(1 - conf_0/2)\n",
    "cv ='+/-{:.3f}'.format(cv)\n",
    "\n",
    "print('\\n', '[검정]')\n",
    "print('임계값 : {}, 검정통계량 : {:.3f}'.format(cv, zstat))\n",
    "print('유의수준 : {}, 유의확률 : {:.3f}'.format(conf_0, sp))"
   ]
  },
  {
   "cell_type": "markdown",
   "metadata": {},
   "source": [
    "## Example 4 : 신뢰구간 추정\n",
    "$p_m$과 $p_f$를 각각 어느 새의 수컷과 암컷이 그들이 부화한 장소로 돌아오는 비율을 나타낸다고 하자. 894마리 수컷 중 124마리가 돌아왔고, 700마리 암컷 중 70마리가 돌아왔을 때 두 비율 차이에 대한 95% 신뢰구간을 구하여라.\n",
    "\n",
    "- 출처 : 수리통계학 Hogg 제 9판 예제 8.3-7"
   ]
  },
  {
   "cell_type": "markdown",
   "metadata": {},
   "source": [
    "딥 : [0.007, 0.070]"
   ]
  },
  {
   "cell_type": "code",
   "execution_count": 19,
   "metadata": {},
   "outputs": [
    {
     "name": "stdout",
     "output_type": "stream",
     "text": [
      "[추정]\n",
      "점추정량 : 0.039\n",
      "구간추정량 : 0.007 ~ 0.070\n",
      "오차한계 : 0.032\n",
      "\n"
     ]
    }
   ],
   "source": [
    "import numpy as np \n",
    "\n",
    "n1 = 894\n",
    "p1 = 124/894\n",
    "\n",
    "n2 = 700\n",
    "p2 = 70/700\n",
    "\n",
    "conf_0 = 0.05 # 유의수준\n",
    "\n",
    "from scipy.stats import norm\n",
    "d = p1 - p2\n",
    "\n",
    "conf_z = norm.ppf(1-conf_0/2) # twoway이므로 /2\n",
    "se = np.sqrt(p1 * (1 - p1)/n1 + p2 * (1 - p2)/n2)\n",
    "me = conf_z * se\n",
    "\n",
    "print('[추정]')\n",
    "print('점추정량 : {:.3f}'.format(d))\n",
    "print('구간추정량 : {:.3f} ~ {:.3f}'.format(d - me, d + me))\n",
    "print('오차한계 : {:.3f}\\n'.format(me))"
   ]
  },
  {
   "cell_type": "markdown",
   "metadata": {},
   "source": [
    "------\n",
    "- 추가로 공부할 것) 비율 검정과 카이제곱은 같은가?\n",
    "https://hsm-edu.tistory.com/1214"
   ]
  }
 ],
 "metadata": {
  "kernelspec": {
   "display_name": "Python 3 (ipykernel)",
   "language": "python",
   "name": "python3"
  },
  "language_info": {
   "codemirror_mode": {
    "name": "ipython",
    "version": 3
   },
   "file_extension": ".py",
   "mimetype": "text/x-python",
   "name": "python",
   "nbconvert_exporter": "python",
   "pygments_lexer": "ipython3",
   "version": "3.9.13"
  }
 },
 "nbformat": 4,
 "nbformat_minor": 2
}
