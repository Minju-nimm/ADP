{
 "cells": [
  {
   "cell_type": "markdown",
   "id": "86dcc800",
   "metadata": {},
   "source": [
    "# [ ANOVA (분산분석) ]\n",
    "- 3개 이상 집단의 모평균 차이를 검정\n",
    "    - cf) 2개 집단 모평균 차이 검정? : t-test"
   ]
  },
  {
   "cell_type": "markdown",
   "id": "f5e04854",
   "metadata": {},
   "source": [
    "<img src = \"https://i.esdrop.com/d/f/s6N1SDUxar/NwEYHb3LNO.jpg\">"
   ]
  },
  {
   "cell_type": "markdown",
   "id": "2c781e34",
   "metadata": {},
   "source": [
    "# < 목차 >  \n",
    "```\n",
    "0. 분산분석의 가정\n",
    "1. One-way ANOVA\n",
    "2. 사후검정\n",
    "3. Two-way ANOVA\n",
    "4. Type에 따른 ANOVA\n",
    "```"
   ]
  },
  {
   "cell_type": "code",
   "execution_count": 1,
   "id": "c1938418",
   "metadata": {},
   "outputs": [
    {
     "data": {
      "text/html": [
       "<style>.container {width :95% !important;}</style>"
      ],
      "text/plain": [
       "<IPython.core.display.HTML object>"
      ]
     },
     "metadata": {},
     "output_type": "display_data"
    }
   ],
   "source": [
    "# 라이브러리 import\n",
    "\n",
    "import pandas as pd\n",
    "pd.set_option('display.max_columns',200)\n",
    "\n",
    "import matplotlib.pyplot as plt\n",
    "import seaborn as sns\n",
    "\n",
    "from IPython.display import display, HTML\n",
    "display(HTML(\"<style>.container {width :95% !important;}</style>\"))\n",
    "\n",
    "# 한글 그래프\n",
    "import matplotlib.pyplot as plt\n",
    "import platform\n",
    "if platform.system() == 'Darwin': #맥\n",
    "        plt.rc('font', family='AppleGothic') \n",
    "elif platform.system() == 'Windows': #윈도우\n",
    "        plt.rc('font', family='Malgun Gothic') \n",
    "elif platform.system() == 'Linux': #리눅스 (구글 콜랩)\n",
    "        #!wget \"https://www.wfonts.com/download/data/2016/06/13/malgun-gothic/malgun.ttf\"\n",
    "        #!mv malgun.ttf /usr/share/fonts/truetype/\n",
    "        #import matplotlib.font_manager as fm \n",
    "        #fm._rebuild() \n",
    "        plt.rc('font', family='Malgun Gothic') \n",
    "        \n",
    "plt.rcParams['axes.unicode_minus'] = False #한글 폰트 사용시 마이너스 폰트 깨짐 해결"
   ]
  },
  {
   "cell_type": "markdown",
   "id": "c2a5002f",
   "metadata": {},
   "source": [
    "# [ 0. 분산분석의 가정]\n",
    "- 정규성, 등분산성, 독립성\n",
    "- 자주쓰는 라이브러리만 여기에 정리함 (자세한 것은 핵심만 요약한 통계와 머신러닝 파이썬 코드북 14Op 참고)"
   ]
  },
  {
   "cell_type": "markdown",
   "id": "61441ff5",
   "metadata": {},
   "source": [
    "## 1. 정규성 : 각 표본의 반응변수(y)는 정규분포를 따라야한다.\n",
    "### 가설\n",
    "- 귀무가설 : 데이터가 정규성을 따른다. (정규성 만족)\n",
    "    - 표본의 모집단이 정규분포와 차이가 없다.\n",
    "- 대립가설 : 데이터가 정규성을 따르지 않는다. (정규성 불만족)\n",
    "    - 표본의 모집단이 정규분포와 차이가 있다."
   ]
  },
  {
   "cell_type": "markdown",
   "id": "1bce8513",
   "metadata": {},
   "source": [
    "### 정규성 검정 : `shapiro()`\n",
    "- 모수 검정, 비모수 검정을 결정하기 위한 방법"
   ]
  },
  {
   "cell_type": "code",
   "execution_count": null,
   "id": "e5ef42ae",
   "metadata": {},
   "outputs": [],
   "source": [
    "from scipy.stats import shapiro\n",
    "s, p = shapiro(data1) # 각 데이터에 대해 실행"
   ]
  },
  {
   "cell_type": "markdown",
   "id": "5d8affab",
   "metadata": {},
   "source": [
    "## 2. 등분산성 : 모든 집단의 반응변수(y)의 분산이 동일해야한다.\n",
    "### 가설\n",
    "- 귀무가설 : 등분산을 만족한다. (집단 간 모분산에는 차이가 없다.)\n",
    "    - 귀무가설 : 모든 그룹들의 분산은 동일하다.\n",
    "- 대립가설 : 등분산을 만족하지 않는다. (집단 간 모분산에는 차이가 있다.)\n",
    "    - 대립가설 : 그룹들 중 적어도 한 그룹의 모분산이 동일하지 않다."
   ]
  },
  {
   "cell_type": "markdown",
   "id": "189a5a69",
   "metadata": {},
   "source": [
    "### 정규성을 만족 X, 등분산성 검정 : `levene()`"
   ]
  },
  {
   "cell_type": "code",
   "execution_count": null,
   "id": "4baab9a0",
   "metadata": {},
   "outputs": [],
   "source": [
    "from scipy.stats import levene\n",
    "levene(data1, data2)"
   ]
  },
  {
   "cell_type": "markdown",
   "id": "8209d92b",
   "metadata": {},
   "source": [
    "### 정규성을 만족 O, 등분산성 검정 : `bartlett()`"
   ]
  },
  {
   "cell_type": "code",
   "execution_count": null,
   "id": "8724b65d",
   "metadata": {},
   "outputs": [],
   "source": [
    "from scipy.stats import bartlett\n",
    "s, p = bartlett(data1, data2)"
   ]
  },
  {
   "cell_type": "markdown",
   "id": "6bea567f",
   "metadata": {},
   "source": [
    "### Levene vs. Bartlett (△)\n",
    "- Levene 검정은 그룹 내 오차의 분포를 정규분포 형태로 가정하지 않는다. \n",
    "    - 따라서, 정규성을 따르지 않는 데이터에 대해서도 상대적으로 강건한 검정 방법이다.\n",
    "- Bartlett 검정은 그룹 내 오차의 분포를 정규분포로 가정한다.\n",
    "    - 따라서, 정규성 가정을 만족하는 경우에 적용할 수 있다.\n",
    "    - 그룹 간 분산의 비교에 있어 두 개 이상의 그룹에 대해서 적용할 수 있지만, 그룹 간 샘플 크기가 동일한 경우에 적합하다."
   ]
  },
  {
   "cell_type": "markdown",
   "id": "fd54780a",
   "metadata": {},
   "source": [
    "## 3. 독립성 : 각 관찰값이 독립적이어야한다.\n",
    "    - 일반적으로 수집한 관찰값은 독립적으로 수집되었다고 보기때문에, 독립성 검정은 따로 진행하지 않는 편"
   ]
  },
  {
   "cell_type": "markdown",
   "id": "886522c3",
   "metadata": {},
   "source": [
    "---"
   ]
  },
  {
   "cell_type": "markdown",
   "id": "0919a2e9",
   "metadata": {},
   "source": [
    "# [ 1. One-way ANOVA ] "
   ]
  },
  {
   "cell_type": "markdown",
   "id": "ea2c9182",
   "metadata": {},
   "source": [
    "## 개념\n",
    "- 인자, 요인 (factor) : 학년과 같이 모집단의 그룹을 구분하는데 사용되는 변량을 그룹 또는 인자(factor)라고 하는데 대부분 이산형 변량이다. \n",
    "- 수준(level) : 인자가 가지는 값들을 인자의 수준(level)이라고 하며, 이들 수준의 개수가 비교되는 모집단의 개수가 된다. \n",
    "\n",
    "이와 같이 하나의 인자가 반응변량에 미치는 영향을 조사하는 분산분석법을 일원분산분석(one-way ANOVA)이라 한다.\n",
    "\n",
    "\n",
    "## 예시\n",
    "- 어느 대학에서 각 학년별 도서관 평균이용시간이 같은가?\n",
    "- 세 가지 다른 품종의 벼의 수확량이 같은가?\n",
    "- 어떤 화학반응에서 네 가지 다른 온도에서 반응속도가 같은가?\n",
    "- 도시별 대졸자의 월평균 임금이 같은가?\n",
    "\n",
    "## 가설\n",
    "- 귀무가설 $H_0 : \\mu_1 = \\mu_2 = \\cdots = \\mu_k$\n",
    "- 대립가설 $H_1$ : 적어도 한 쌍의 $\\mu_i$가 같지 않다."
   ]
  },
  {
   "cell_type": "markdown",
   "id": "525ac873",
   "metadata": {},
   "source": [
    "## Example 1\n",
    "5종류의 수면제 A, B, C, D, E 가 있다. 수면제를 복용한 후 졸음을 느끼기 시작한 시간을 관찰하였다. 다음의 자료에 근거하여 수면제 사이에 졸음을 느끼는 시간이 다르다고 할 수 있는가를 알아보자.\n",
    "\n",
    "(단위 : 분)\n",
    "\n",
    "\n",
    "|  A | B  |  C |  D |  E |\n",
    "|---|---|---|---|---|\n",
    "|  9 | 11  |  13 |  18 |  17 |\n",
    "|  10 |  16 |  18 |  20 |  12 |\n",
    "|  15 | 12  |  18 |  22 |  13 |\n",
    "|  14 |  18 |  19 |  19 |  15 |\n",
    "| 13  |  18 |  19 |  23 |  11 |\n",
    "\n",
    "출처 : 수리통계학 (송성주, 전명식 지음) 제 5판 341p 예 6.1"
   ]
  },
  {
   "cell_type": "markdown",
   "id": "4d4c89c1",
   "metadata": {},
   "source": [
    "### `f_oneway` 라이브러리 검정"
   ]
  },
  {
   "cell_type": "code",
   "execution_count": 96,
   "id": "cea67b33",
   "metadata": {},
   "outputs": [
    {
     "name": "stdout",
     "output_type": "stream",
     "text": [
      "일원분산분석 결과:\n",
      "검정 통계량 (F): 7.721407624633434\n",
      "p-value: 0.0006219339482425209\n",
      "귀무가설을 기각합니다. 수면제 사이에 졸음을 느끼는 시간이 다릅니다.\n"
     ]
    }
   ],
   "source": [
    "import numpy as np\n",
    "import scipy.stats as stats\n",
    "\n",
    "# 각 수면제별 관찰된 졸음 시간 데이터\n",
    "group_a = np.array([9, 10, 15, 14, 13])\n",
    "group_b = np.array([11, 16, 12, 18, 18])\n",
    "group_c = np.array([13, 18, 18, 19, 19])\n",
    "group_d = np.array([18, 20, 22, 19, 23])\n",
    "group_e = np.array([17, 12, 13, 15, 11])\n",
    "\n",
    "# 일원분산분석 수행\n",
    "f_statistic, p_value = stats.f_oneway(group_a, group_b, group_c, group_d, group_e)\n",
    "\n",
    "alpha = 0.05  # 유의수준\n",
    "\n",
    "print(\"일원분산분석 결과:\")\n",
    "print(\"검정 통계량 (F):\", f_statistic)\n",
    "print(\"p-value:\", p_value)\n",
    "\n",
    "if p_value < alpha:\n",
    "    print(\"귀무가설을 기각합니다. 수면제 사이에 졸음을 느끼는 시간이 다릅니다.\")\n",
    "else:\n",
    "    print(\"귀무가설을 기각하지 않습니다. 수면제 사이에 졸음을 느끼는 시간이 같습니다.\")"
   ]
  },
  {
   "cell_type": "markdown",
   "id": "1e1dee6c",
   "metadata": {},
   "source": [
    "### `ols`를 이용하여 분산분석표까지 출력"
   ]
  },
  {
   "cell_type": "code",
   "execution_count": 95,
   "id": "a2c9a779",
   "metadata": {},
   "outputs": [
    {
     "data": {
      "text/html": [
       "<div>\n",
       "<style scoped>\n",
       "    .dataframe tbody tr th:only-of-type {\n",
       "        vertical-align: middle;\n",
       "    }\n",
       "\n",
       "    .dataframe tbody tr th {\n",
       "        vertical-align: top;\n",
       "    }\n",
       "\n",
       "    .dataframe thead th {\n",
       "        text-align: right;\n",
       "    }\n",
       "</style>\n",
       "<table border=\"1\" class=\"dataframe\">\n",
       "  <thead>\n",
       "    <tr style=\"text-align: right;\">\n",
       "      <th></th>\n",
       "      <th>df</th>\n",
       "      <th>sum_sq</th>\n",
       "      <th>mean_sq</th>\n",
       "      <th>F</th>\n",
       "      <th>PR(&gt;F)</th>\n",
       "    </tr>\n",
       "  </thead>\n",
       "  <tbody>\n",
       "    <tr>\n",
       "      <th>groups</th>\n",
       "      <td>4.0</td>\n",
       "      <td>210.64</td>\n",
       "      <td>52.66</td>\n",
       "      <td>7.721408</td>\n",
       "      <td>0.000622</td>\n",
       "    </tr>\n",
       "    <tr>\n",
       "      <th>Residual</th>\n",
       "      <td>20.0</td>\n",
       "      <td>136.40</td>\n",
       "      <td>6.82</td>\n",
       "      <td>NaN</td>\n",
       "      <td>NaN</td>\n",
       "    </tr>\n",
       "  </tbody>\n",
       "</table>\n",
       "</div>"
      ],
      "text/plain": [
       "            df  sum_sq  mean_sq         F    PR(>F)\n",
       "groups     4.0  210.64    52.66  7.721408  0.000622\n",
       "Residual  20.0  136.40     6.82       NaN       NaN"
      ]
     },
     "execution_count": 95,
     "metadata": {},
     "output_type": "execute_result"
    }
   ],
   "source": [
    "import numpy as np\n",
    "import statsmodels.api as sm\n",
    "from statsmodels.formula.api import ols\n",
    "\n",
    "# 각 수면제별 관찰된 졸음 시간 데이터\n",
    "group_a = np.array([9, 10, 15, 14, 13])\n",
    "group_b = np.array([11, 16, 12, 18, 18])\n",
    "group_c = np.array([13, 18, 18, 19, 19])\n",
    "group_d = np.array([18, 20, 22, 19, 23])\n",
    "group_e = np.array([17, 12, 13, 15, 11])\n",
    "\n",
    "data = np.concatenate([group_a, group_b, group_c, group_d, group_e])\n",
    "groups = ['A'] * len(group_a) + ['B'] * len(group_b) + ['C'] * len(group_c) + ['D'] * len(group_d) + ['E'] * len(group_e)\n",
    "\n",
    "# 데이터프레임 생성\n",
    "import pandas as pd\n",
    "df = pd.DataFrame({'data': data, 'groups': groups})\n",
    "\n",
    "# 분산분석 수행\n",
    "model = ols('data ~ groups', data=df).fit()\n",
    "anova_table = sm.stats.anova_lm(model)\n",
    "anova_table"
   ]
  },
  {
   "cell_type": "markdown",
   "id": "ce008dd8",
   "metadata": {},
   "source": [
    "# [ 2. 사후검정 (다중비교) ]\n",
    "- multiple comparison\n",
    "- 분산분석 후의 평균 차이에 관한 분석에서는 평균차의 검정을 두 개 이상 동시에 하여야 하는데, 이때 사용하는 통계적 검정방법\n",
    "- 여러 가지 다중비교방법들 중에서 Tukey의 HSD검정 (honestly significant difference test)이 가장 많이 이용된다. "
   ]
  },
  {
   "cell_type": "markdown",
   "id": "7304fedb",
   "metadata": {},
   "source": [
    "## 라이브러리 검정\n",
    "- sandbox 보다는 `statsmodels.stats.multicomp` 쓰기"
   ]
  },
  {
   "cell_type": "markdown",
   "id": "0212e014",
   "metadata": {},
   "source": [
    "## Example 1 \n",
    "다음 데이터에 대해, 네 집단 간 평균 점수가 같은지 가설검정하시오. 평균 점수가 같지 않다면 어느 집단 간에 차이가 있는지를 함께 검정하시오. (유의수준 0.05)\n",
    "\n",
    "출처 : 핵심만 요약한 통계와 머신러닝 파이썬 코드북 145p"
   ]
  },
  {
   "cell_type": "code",
   "execution_count": 34,
   "id": "d15fb006",
   "metadata": {},
   "outputs": [
    {
     "data": {
      "text/html": [
       "<div>\n",
       "<style scoped>\n",
       "    .dataframe tbody tr th:only-of-type {\n",
       "        vertical-align: middle;\n",
       "    }\n",
       "\n",
       "    .dataframe tbody tr th {\n",
       "        vertical-align: top;\n",
       "    }\n",
       "\n",
       "    .dataframe thead th {\n",
       "        text-align: right;\n",
       "    }\n",
       "</style>\n",
       "<table border=\"1\" class=\"dataframe\">\n",
       "  <thead>\n",
       "    <tr style=\"text-align: right;\">\n",
       "      <th></th>\n",
       "      <th>A1</th>\n",
       "      <th>A2</th>\n",
       "      <th>A3</th>\n",
       "      <th>A4</th>\n",
       "    </tr>\n",
       "  </thead>\n",
       "  <tbody>\n",
       "    <tr>\n",
       "      <th>0</th>\n",
       "      <td>76</td>\n",
       "      <td>82</td>\n",
       "      <td>79</td>\n",
       "      <td>81</td>\n",
       "    </tr>\n",
       "    <tr>\n",
       "      <th>1</th>\n",
       "      <td>80</td>\n",
       "      <td>75</td>\n",
       "      <td>87</td>\n",
       "      <td>74</td>\n",
       "    </tr>\n",
       "    <tr>\n",
       "      <th>2</th>\n",
       "      <td>78</td>\n",
       "      <td>83</td>\n",
       "      <td>88</td>\n",
       "      <td>76</td>\n",
       "    </tr>\n",
       "    <tr>\n",
       "      <th>3</th>\n",
       "      <td>79</td>\n",
       "      <td>78</td>\n",
       "      <td>86</td>\n",
       "      <td>78</td>\n",
       "    </tr>\n",
       "    <tr>\n",
       "      <th>4</th>\n",
       "      <td>83</td>\n",
       "      <td>85</td>\n",
       "      <td>84</td>\n",
       "      <td>73</td>\n",
       "    </tr>\n",
       "    <tr>\n",
       "      <th>5</th>\n",
       "      <td>74</td>\n",
       "      <td>80</td>\n",
       "      <td>82</td>\n",
       "      <td>70</td>\n",
       "    </tr>\n",
       "  </tbody>\n",
       "</table>\n",
       "</div>"
      ],
      "text/plain": [
       "   A1  A2  A3  A4\n",
       "0  76  82  79  81\n",
       "1  80  75  87  74\n",
       "2  78  83  88  76\n",
       "3  79  78  86  78\n",
       "4  83  85  84  73\n",
       "5  74  80  82  70"
      ]
     },
     "execution_count": 34,
     "metadata": {},
     "output_type": "execute_result"
    }
   ],
   "source": [
    "import pandas as pd\n",
    "\n",
    "data = pd.DataFrame({\"A1\" : [76, 80, 78, 79, 83, 74],\n",
    "                     \"A2\" : [82, 75, 83, 78, 85, 80],\n",
    "                     \"A3\" : [79, 87, 88, 86, 84, 82],\n",
    "                     \"A4\" : [81, 74, 76, 78, 73, 70]})\n",
    "data"
   ]
  },
  {
   "cell_type": "markdown",
   "id": "cddb9edd",
   "metadata": {},
   "source": [
    "### 가설\n",
    "- 귀무가설 : 집단 간 모평균에 차이가 없다.\n",
    "- 대립가설 : 집단 간 모평균이 모두 같다고 할 수 없다. (적어도 하나의 모평균이 다르다)"
   ]
  },
  {
   "cell_type": "markdown",
   "id": "76dd4a9a",
   "metadata": {},
   "source": [
    "### `melt()` 데이터 전처리 & `anova_oneway` 검정"
   ]
  },
  {
   "cell_type": "code",
   "execution_count": 35,
   "id": "efcf0961",
   "metadata": {},
   "outputs": [
    {
     "name": "stdout",
     "output_type": "stream",
     "text": [
      "검정통계량 :  6.952861952861954\n",
      "p-value :  0.002175486114794491\n"
     ]
    }
   ],
   "source": [
    "# One-way ANOVA\n",
    "\n",
    "from statsmodels.stats.oneway import anova_oneway\n",
    "\n",
    "oa = anova_oneway(data = data.melt()['value'],\n",
    "                  groups = data.melt()['variable'],\n",
    "                  use_var = 'equal')\n",
    "\n",
    "print(\"검정통계량 : \", oa.statistic)\n",
    "print(\"p-value : \", oa.pvalue)"
   ]
  },
  {
   "cell_type": "markdown",
   "id": "770b11b4",
   "metadata": {},
   "source": [
    "- p-value가 0.002로 유의수준 0.05보다 작고, 따라서 귀무가설을 기각할 수 있다.\n",
    "- 즉, 집단 간 모평균이 모두 같다고 할 수 없다.\n",
    "- 사후검정을 진행하여 어느 집단 간에 차이가 있는지를 살펴볼 필요가 있다."
   ]
  },
  {
   "cell_type": "markdown",
   "id": "97f49cf8",
   "metadata": {},
   "source": [
    "### `pairwise_tukeyhsd()` 이용한 사후검정"
   ]
  },
  {
   "cell_type": "code",
   "execution_count": 37,
   "id": "81b81df0",
   "metadata": {},
   "outputs": [
    {
     "name": "stdout",
     "output_type": "stream",
     "text": [
      " Multiple Comparison of Means - Tukey HSD, FWER=0.05 \n",
      "=====================================================\n",
      "group1 group2 meandiff p-adj   lower    upper  reject\n",
      "-----------------------------------------------------\n",
      "    A1     A2   2.1667  0.713   -3.518  7.8513  False\n",
      "    A1     A3      6.0 0.0363   0.3153 11.6847   True\n",
      "    A1     A4     -3.0  0.469  -8.6847  2.6847  False\n",
      "    A2     A3   3.8333 0.2647  -1.8513   9.518  False\n",
      "    A2     A4  -5.1667 0.0831 -10.8513   0.518  False\n",
      "    A3     A4     -9.0 0.0014 -14.6847 -3.3153   True\n",
      "-----------------------------------------------------\n"
     ]
    },
    {
     "data": {
      "image/png": "[encoded data removed]",
      "text/plain": [
       "<Figure size 1000x600 with 1 Axes>"
      ]
     },
     "metadata": {},
     "output_type": "display_data"
    }
   ],
   "source": [
    "from statsmodels.stats.multicomp import pairwise_tukeyhsd\n",
    "\n",
    "# Tukey's HSD 사후검정 수행\n",
    "posthoc = pairwise_tukeyhsd(data.melt()['value'], data.melt()['variable'])\n",
    "\n",
    "# 결과 출력\n",
    "print(posthoc)\n",
    "\n",
    "posthoc.plot_simultaneous()\n",
    "plt.show()"
   ]
  },
  {
   "cell_type": "markdown",
   "id": "a3768482",
   "metadata": {},
   "source": [
    "- 검정 결과, 귀무가설이 기각된 부분을 살펴보면 A1, A3 간 그리고 A3, A4 간에 모평균 차이가 있는 것으로 확인된다.\n",
    "- 또한 그래프에서 A1 & A3, A3 & A4 간 겹치는 부분이 없는 것으로 확인된다.\n",
    "\n",
    "참고 : 검정결과표에서 p-adj는 조정된 p-value로, 유의수준 0.05보다 적은 경우 reject True로 판명되어 귀무가설을 기각하게 된다."
   ]
  },
  {
   "cell_type": "markdown",
   "id": "5b9eb9cd",
   "metadata": {},
   "source": [
    "## Example 2 : ADP 실기 29회\n",
    "아래 데이터는 a,b,c,d 네 차종 각각 5회 실험 시 범퍼 파손 정도이다. (단, 각 모집단은 정규분포를 따르며 모집단 간 등분산성을 가정한다.)\n",
    "\n",
    "- 1. 각 차종 별 범퍼 파손의 정도에 차이가 유의한지 검정하라.\n",
    "- 2. 귀무가설을 채택한다면 그 의미를 해석하고, 귀무가설을 기각하였다면 사후분석을 시행하라."
   ]
  },
  {
   "cell_type": "markdown",
   "id": "bf0ae08c",
   "metadata": {},
   "source": [
    "### 접근방법\n",
    "- 데이터 숫자가 적지만, 정규분포와 등분산에 대한 가정을 조건이 주어졌기 때문에 '모수적 검정인 일원 분산분석'을 통해서 그룹 간 차이가 존재하는지 확인한다."
   ]
  },
  {
   "cell_type": "code",
   "execution_count": 27,
   "id": "99edf9d9",
   "metadata": {},
   "outputs": [
    {
     "data": {
      "text/html": [
       "<div>\n",
       "<style scoped>\n",
       "    .dataframe tbody tr th:only-of-type {\n",
       "        vertical-align: middle;\n",
       "    }\n",
       "\n",
       "    .dataframe tbody tr th {\n",
       "        vertical-align: top;\n",
       "    }\n",
       "\n",
       "    .dataframe thead th {\n",
       "        text-align: right;\n",
       "    }\n",
       "</style>\n",
       "<table border=\"1\" class=\"dataframe\">\n",
       "  <thead>\n",
       "    <tr style=\"text-align: right;\">\n",
       "      <th></th>\n",
       "      <th>name</th>\n",
       "      <th>ratio</th>\n",
       "    </tr>\n",
       "  </thead>\n",
       "  <tbody>\n",
       "    <tr>\n",
       "      <th>0</th>\n",
       "      <td>A</td>\n",
       "      <td>10.993428</td>\n",
       "    </tr>\n",
       "    <tr>\n",
       "      <th>1</th>\n",
       "      <td>A</td>\n",
       "      <td>9.723471</td>\n",
       "    </tr>\n",
       "    <tr>\n",
       "      <th>2</th>\n",
       "      <td>A</td>\n",
       "      <td>11.295377</td>\n",
       "    </tr>\n",
       "    <tr>\n",
       "      <th>3</th>\n",
       "      <td>A</td>\n",
       "      <td>13.046060</td>\n",
       "    </tr>\n",
       "    <tr>\n",
       "      <th>4</th>\n",
       "      <td>A</td>\n",
       "      <td>9.531693</td>\n",
       "    </tr>\n",
       "  </tbody>\n",
       "</table>\n",
       "</div>"
      ],
      "text/plain": [
       "  name      ratio\n",
       "0    A  10.993428\n",
       "1    A   9.723471\n",
       "2    A  11.295377\n",
       "3    A  13.046060\n",
       "4    A   9.531693"
      ]
     },
     "execution_count": 27,
     "metadata": {},
     "output_type": "execute_result"
    }
   ],
   "source": [
    "df = pd.read_csv('https://raw.githubusercontent.com/Datamanim/datarepo/main/adp/29/p7.csv')\n",
    "df.head()"
   ]
  },
  {
   "cell_type": "code",
   "execution_count": 30,
   "id": "097539ff",
   "metadata": {},
   "outputs": [
    {
     "data": {
      "text/plain": [
       "A    5\n",
       "B    5\n",
       "C    5\n",
       "D    5\n",
       "Name: name, dtype: int64"
      ]
     },
     "execution_count": 30,
     "metadata": {},
     "output_type": "execute_result"
    }
   ],
   "source": [
    "df[\"name\"].value_counts()"
   ]
  },
  {
   "cell_type": "code",
   "execution_count": 4,
   "id": "18cb4175",
   "metadata": {},
   "outputs": [
    {
     "data": {
      "image/png": "[encoded data removed]",
      "text/plain": [
       "<Figure size 300x300 with 1 Axes>"
      ]
     },
     "metadata": {},
     "output_type": "display_data"
    }
   ],
   "source": [
    "plt.figure(figsize=(3,3))\n",
    "sns.boxplot(x ='name', y='ratio', data = df, hue='name')\n",
    "\n",
    "plt.legend(loc='upper right')  # 범례 위치 설정\n",
    "plt.title('차종별 파손 정도 비율')\n",
    "plt.show()"
   ]
  },
  {
   "cell_type": "markdown",
   "id": "082555ce",
   "metadata": {},
   "source": [
    "### 1. 각 차종 별 범퍼 파손의 정도에 차이가 유의한지 검정하라.\n",
    "\n",
    "### 가설\n",
    "- 귀무가설 : 각 차종 별 범퍼 파손 정도에 차이가 없다.\n",
    "- 대립가설 : 각 차종 별 범퍼 파손 정도에 차이가 있다. \n"
   ]
  },
  {
   "cell_type": "markdown",
   "id": "c0307bfd",
   "metadata": {},
   "source": [
    "### `f_oneway`를 이용한 검정"
   ]
  },
  {
   "cell_type": "code",
   "execution_count": 23,
   "id": "8670100b",
   "metadata": {},
   "outputs": [
    {
     "name": "stdout",
     "output_type": "stream",
     "text": [
      "검정통계량 : 24.977\n",
      "p-value : 0.000\n"
     ]
    }
   ],
   "source": [
    "# 일원 분산분석 수행\n",
    "\n",
    "from scipy.stats import f_oneway\n",
    "f_statistic, p_value = f_oneway(df.query(\"name =='A'\")['ratio'], \n",
    "                                      df.query(\"name =='B'\")['ratio'], \n",
    "                                      df.query(\"name =='C'\")['ratio'], \n",
    "                                      df.query(\"name =='D'\")['ratio'])\n",
    "\n",
    "print(\"검정통계량 : {:.3f}\".format(f_statistic))\n",
    "print(\"p-value : {:.3f}\".format(p_value))"
   ]
  },
  {
   "cell_type": "markdown",
   "id": "26f72872",
   "metadata": {},
   "source": [
    "- p-value가 0.000으로 유의수준 0.05보다 작아 귀무가설을 기각한다.\n",
    "- 즉, 각 차종별 범퍼 파손 정도에 차이가 있다고 할 수 있으므로, 사후분석을 시행한다."
   ]
  },
  {
   "cell_type": "markdown",
   "id": "d057199f",
   "metadata": {},
   "source": [
    "### 2. 귀무가설을 채택한다면 그 의미를 해석하고, 귀무가설을 기각하였다면 사후분석을 시행하라."
   ]
  },
  {
   "cell_type": "markdown",
   "id": "2a200634",
   "metadata": {},
   "source": [
    "### `pairwise_tukeyhsd` 이용한 사후검정\n",
    "- 귀무가설 : 4개 그룹의 차이가 존재하지 않는다\n",
    "- 대립가설 : 4개 그룹들 중 차이가 있는 그룹이 존재한다"
   ]
  },
  {
   "cell_type": "code",
   "execution_count": 32,
   "id": "d3e822ea",
   "metadata": {},
   "outputs": [
    {
     "data": {
      "text/html": [
       "<table class=\"simpletable\">\n",
       "<caption>Multiple Comparison of Means - Tukey HSD, FWER=0.05</caption>\n",
       "<tr>\n",
       "  <th>group1</th> <th>group2</th> <th>meandiff</th>  <th>p-adj</th>   <th>lower</th>   <th>upper</th>  <th>reject</th>\n",
       "</tr>\n",
       "<tr>\n",
       "     <td>A</td>      <td>B</td>    <td>5.3934</td>   <td>0.001</td>  <td>2.1785</td>  <td>8.6083</td>   <td>True</td> \n",
       "</tr>\n",
       "<tr>\n",
       "     <td>A</td>      <td>C</td>    <td>-4.2156</td> <td>0.0085</td>  <td>-7.4305</td> <td>-1.0007</td>  <td>True</td> \n",
       "</tr>\n",
       "<tr>\n",
       "     <td>A</td>      <td>D</td>    <td>-0.7086</td> <td>0.9207</td>  <td>-3.9235</td> <td>2.5063</td>   <td>False</td>\n",
       "</tr>\n",
       "<tr>\n",
       "     <td>B</td>      <td>C</td>    <td>-9.609</td>    <td>0.0</td>  <td>-12.8239</td> <td>-6.3941</td>  <td>True</td> \n",
       "</tr>\n",
       "<tr>\n",
       "     <td>B</td>      <td>D</td>    <td>-6.102</td>  <td>0.0003</td>  <td>-9.3169</td> <td>-2.8871</td>  <td>True</td> \n",
       "</tr>\n",
       "<tr>\n",
       "     <td>C</td>      <td>D</td>     <td>3.507</td>  <td>0.0302</td>  <td>0.2921</td>  <td>6.7219</td>   <td>True</td> \n",
       "</tr>\n",
       "</table>"
      ],
      "text/plain": [
       "<class 'statsmodels.iolib.table.SimpleTable'>"
      ]
     },
     "metadata": {},
     "output_type": "display_data"
    }
   ],
   "source": [
    "from statsmodels.stats.multicomp import pairwise_tukeyhsd\n",
    "\n",
    "posthoc = pairwise_tukeyhsd(df['ratio'], df['name'], alpha=0.05)\n",
    "display(posthoc.summary())"
   ]
  },
  {
   "cell_type": "markdown",
   "id": "db440bc7",
   "metadata": {},
   "source": [
    "- 결과적으로 A와 D그룹을 비교했을때 p-value는 0.92로 귀무가설을 기각하지 못한다\n",
    "- 나머지 모든 그룹쌍 사이에는 차이가 존재하는 것을 확인할 수 있다."
   ]
  },
  {
   "cell_type": "markdown",
   "id": "9e8c3e47",
   "metadata": {},
   "source": [
    "---"
   ]
  },
  {
   "cell_type": "markdown",
   "id": "ad3e5c0d",
   "metadata": {},
   "source": [
    "# [ 3. Two-way ANOVA ]\n",
    "## 개념\n",
    "- 요인이 2개 (독립변수가 2개)\n",
    "\n",
    "- 분산분석에서 반응변량에 영향을 주는 인자(factor)가 2개 있는 경우를 이원분산분석(two-way analysis of variance)\n",
    "- 반응변량은 2개 인자들의 각 수준의 조합에서 관측된다.\n",
    "- 일반적으로 실험 결과의 신뢰도를 높이기 위하여 가능하면 각 인자(A와 B라 부르자) 수준들의 조합에서 2회 이상의 실험을 반복하는 것이 바람직하다.\n",
    "\n",
    "\n",
    "### 주효과(main effect) 검정\n",
    "- 각 인자 수준의 조합에서 여러 번 반복 실험으로 데이터를 얻는 경우, 일원분산분석과 유사하게 인자 A의 각 수준별 모평균이 같은지 검정(인자 A의 주효과 검정)\n",
    "- 인자 B의 각 수준별 모평균이 같은지 검정 (인자 B의 주효과 검정) \n",
    "\n",
    "### 교호작용효과(interaction effect) 검정\n",
    "- 한 인자의 효과가 다른 인자의 수준에 따라 다른가를 검정\n",
    "- 교호작용효과는 **한 인자의 효과가 다른 인자의 수준의 변화에 따라 변하는 모형에서 존재**한다.\n",
    "\n",
    "\n",
    "## 예시\n",
    "예를 들어, 어느 화학공정에서 온도가 낮을 때는 압력이 높을수록 생산량이 많고, 온도가 높을 때는 압력이 낮을수록 생산량이 많다면 온도와 압력의 두 인자 간에 교호작용효과가 있다고 할 수 있다. \n",
    "\n"
   ]
  },
  {
   "cell_type": "markdown",
   "id": "9175a159",
   "metadata": {},
   "source": [
    "### 라이브러리 검정\n",
    "```python \n",
    "from statsmodels.formula.api import ols\n",
    "from statsmodels.stats.anova import anova_lm\n",
    "\n",
    "\n",
    "# 예시. C() : 범주형(factor) 변수로 취급하며, 이를 컬럼으로 변환\n",
    "formula = 'AveragePrice ~ C(avocado_type) * C(region)' \n",
    "model = ols(formula, avocado).fit()\n",
    "```"
   ]
  },
  {
   "cell_type": "markdown",
   "id": "9166ff13",
   "metadata": {},
   "source": [
    "- 중요 : 범주형 변수에 대해서는 C()가 필수! \n",
    "    - C의 유무에 따라 결과 값이 상이함"
   ]
  },
  {
   "cell_type": "markdown",
   "id": "c3502187",
   "metadata": {},
   "source": [
    "## Example 1 : ADP 실기 21회\n",
    "이원분산분석을 수행하고 통계표를 작성하시오. \n",
    "- 변수 3개(하나는 수치형 변수/ 나머지 두 개는 범주형 변수)\n",
    "- 원래 시험 : 변수 3개(하나는 abcde 각각을 값으로 갖는 범주형 변수, 나머지 두 개는 수치형 연속변수)"
   ]
  },
  {
   "cell_type": "code",
   "execution_count": 38,
   "id": "57ebbfe4",
   "metadata": {},
   "outputs": [
    {
     "data": {
      "text/html": [
       "<div>\n",
       "<style scoped>\n",
       "    .dataframe tbody tr th:only-of-type {\n",
       "        vertical-align: middle;\n",
       "    }\n",
       "\n",
       "    .dataframe tbody tr th {\n",
       "        vertical-align: top;\n",
       "    }\n",
       "\n",
       "    .dataframe thead th {\n",
       "        text-align: right;\n",
       "    }\n",
       "</style>\n",
       "<table border=\"1\" class=\"dataframe\">\n",
       "  <thead>\n",
       "    <tr style=\"text-align: right;\">\n",
       "      <th></th>\n",
       "      <th>AveragePrice</th>\n",
       "      <th>type</th>\n",
       "      <th>region</th>\n",
       "    </tr>\n",
       "  </thead>\n",
       "  <tbody>\n",
       "    <tr>\n",
       "      <th>0</th>\n",
       "      <td>1.13</td>\n",
       "      <td>conventional</td>\n",
       "      <td>Boston</td>\n",
       "    </tr>\n",
       "    <tr>\n",
       "      <th>1</th>\n",
       "      <td>1.07</td>\n",
       "      <td>conventional</td>\n",
       "      <td>Boston</td>\n",
       "    </tr>\n",
       "    <tr>\n",
       "      <th>2</th>\n",
       "      <td>1.01</td>\n",
       "      <td>conventional</td>\n",
       "      <td>Boston</td>\n",
       "    </tr>\n",
       "    <tr>\n",
       "      <th>3</th>\n",
       "      <td>1.02</td>\n",
       "      <td>conventional</td>\n",
       "      <td>Boston</td>\n",
       "    </tr>\n",
       "    <tr>\n",
       "      <th>4</th>\n",
       "      <td>1.19</td>\n",
       "      <td>conventional</td>\n",
       "      <td>Boston</td>\n",
       "    </tr>\n",
       "    <tr>\n",
       "      <th>...</th>\n",
       "      <td>...</td>\n",
       "      <td>...</td>\n",
       "      <td>...</td>\n",
       "    </tr>\n",
       "    <tr>\n",
       "      <th>1009</th>\n",
       "      <td>1.36</td>\n",
       "      <td>organic</td>\n",
       "      <td>Orlando</td>\n",
       "    </tr>\n",
       "    <tr>\n",
       "      <th>1010</th>\n",
       "      <td>1.67</td>\n",
       "      <td>organic</td>\n",
       "      <td>Orlando</td>\n",
       "    </tr>\n",
       "    <tr>\n",
       "      <th>1011</th>\n",
       "      <td>1.53</td>\n",
       "      <td>organic</td>\n",
       "      <td>Orlando</td>\n",
       "    </tr>\n",
       "    <tr>\n",
       "      <th>1012</th>\n",
       "      <td>1.55</td>\n",
       "      <td>organic</td>\n",
       "      <td>Orlando</td>\n",
       "    </tr>\n",
       "    <tr>\n",
       "      <th>1013</th>\n",
       "      <td>1.56</td>\n",
       "      <td>organic</td>\n",
       "      <td>Orlando</td>\n",
       "    </tr>\n",
       "  </tbody>\n",
       "</table>\n",
       "<p>1014 rows × 3 columns</p>\n",
       "</div>"
      ],
      "text/plain": [
       "      AveragePrice          type   region\n",
       "0             1.13  conventional   Boston\n",
       "1             1.07  conventional   Boston\n",
       "2             1.01  conventional   Boston\n",
       "3             1.02  conventional   Boston\n",
       "4             1.19  conventional   Boston\n",
       "...            ...           ...      ...\n",
       "1009          1.36       organic  Orlando\n",
       "1010          1.67       organic  Orlando\n",
       "1011          1.53       organic  Orlando\n",
       "1012          1.55       organic  Orlando\n",
       "1013          1.56       organic  Orlando\n",
       "\n",
       "[1014 rows x 3 columns]"
      ]
     },
     "execution_count": 38,
     "metadata": {},
     "output_type": "execute_result"
    }
   ],
   "source": [
    "# 데이터 생성\n",
    "\n",
    "import pandas as pd\n",
    "import numpy as np\n",
    "\n",
    "avocado = pd.read_csv('../Data/avocado.csv')\n",
    "avocado = avocado[[\"AveragePrice\",\"type\",\"region\"]]\n",
    "\n",
    "avocado = avocado[(avocado['region']=='Orlando') |\\\n",
    "                  (avocado['region']=='Boston' )|\\\n",
    "                  (avocado['region']=='Chicago')].reset_index(drop=True)\n",
    "avocado"
   ]
  },
  {
   "cell_type": "markdown",
   "id": "8ae5ac18",
   "metadata": {},
   "source": [
    "### 접근 방법\n",
    "- 이원분산분석은 종속변수(반응변수)에 대해 두 개의 범주형 변수 A,B의 영향을 알아보기 위해 사용되는 검증 방법\n",
    "- 독립변수 두 개 이상 집단 간 차이가 유의한지 검증"
   ]
  },
  {
   "cell_type": "markdown",
   "id": "e32856b5",
   "metadata": {},
   "source": [
    "### 가설\n",
    "<b> 가. 교호작용효과 검정에 대한 가설</b><br>\n",
    "    1) 귀무가설 H0: region과 avocado type 간에는 교호작용 효과가 없다. <br>\n",
    "    2) 대립가설 H1: region과 avocado type 간에는 교호작용 효과가 있다. <br>\n",
    "\n",
    "\n",
    "<b> 나. 주효과 검정에 대한 가설</b> <br>\n",
    "    1) 귀무가설 H0: region 종류에 따른 AveragePrice 차이는 존재하지 않는다. <br>\n",
    "    2) 대립가설 H1: region 종류에 따른 AveragePrice 차이는 존재한다. <br> \n",
    "    3) 귀무가설 H0: type 종류에 따른 AveragePrice 차이는 존재하지 않는다. <br>\n",
    "    4) 대립가설 H1: type 종류에 따른 AveragePrice 차이는 존재한다. <br> "
   ]
  },
  {
   "cell_type": "code",
   "execution_count": 40,
   "id": "48f5ef9e",
   "metadata": {},
   "outputs": [],
   "source": [
    "# 독립변수 type,region / 종속변수 AveragePrice을 Series로 변경 \n",
    "\n",
    "AveragePrice = avocado[\"AveragePrice\"]\n",
    "avocado_type = avocado[\"type\"]\n",
    "region = avocado[\"region\"]"
   ]
  },
  {
   "cell_type": "markdown",
   "id": "5410b4cf",
   "metadata": {},
   "source": [
    "### 분산분석 수행 "
   ]
  },
  {
   "cell_type": "code",
   "execution_count": 44,
   "id": "6f4aae01",
   "metadata": {},
   "outputs": [
    {
     "data": {
      "text/html": [
       "<div>\n",
       "<style scoped>\n",
       "    .dataframe tbody tr th:only-of-type {\n",
       "        vertical-align: middle;\n",
       "    }\n",
       "\n",
       "    .dataframe tbody tr th {\n",
       "        vertical-align: top;\n",
       "    }\n",
       "\n",
       "    .dataframe thead th {\n",
       "        text-align: right;\n",
       "    }\n",
       "</style>\n",
       "<table border=\"1\" class=\"dataframe\">\n",
       "  <thead>\n",
       "    <tr style=\"text-align: right;\">\n",
       "      <th></th>\n",
       "      <th>sum_sq</th>\n",
       "      <th>df</th>\n",
       "      <th>F</th>\n",
       "      <th>PR(&gt;F)</th>\n",
       "    </tr>\n",
       "  </thead>\n",
       "  <tbody>\n",
       "    <tr>\n",
       "      <th>C(avocado_type)</th>\n",
       "      <td>56.111007</td>\n",
       "      <td>1.0</td>\n",
       "      <td>828.218296</td>\n",
       "      <td>1.989417e-133</td>\n",
       "    </tr>\n",
       "    <tr>\n",
       "      <th>C(region)</th>\n",
       "      <td>0.432136</td>\n",
       "      <td>2.0</td>\n",
       "      <td>3.189242</td>\n",
       "      <td>4.161918e-02</td>\n",
       "    </tr>\n",
       "    <tr>\n",
       "      <th>C(avocado_type):C(region)</th>\n",
       "      <td>1.878817</td>\n",
       "      <td>2.0</td>\n",
       "      <td>13.866003</td>\n",
       "      <td>1.146622e-06</td>\n",
       "    </tr>\n",
       "    <tr>\n",
       "      <th>Residual</th>\n",
       "      <td>68.291047</td>\n",
       "      <td>1008.0</td>\n",
       "      <td>NaN</td>\n",
       "      <td>NaN</td>\n",
       "    </tr>\n",
       "  </tbody>\n",
       "</table>\n",
       "</div>"
      ],
      "text/plain": [
       "                              sum_sq      df           F         PR(>F)\n",
       "C(avocado_type)            56.111007     1.0  828.218296  1.989417e-133\n",
       "C(region)                   0.432136     2.0    3.189242   4.161918e-02\n",
       "C(avocado_type):C(region)   1.878817     2.0   13.866003   1.146622e-06\n",
       "Residual                   68.291047  1008.0         NaN            NaN"
      ]
     },
     "execution_count": 44,
     "metadata": {},
     "output_type": "execute_result"
    }
   ],
   "source": [
    "from statsmodels.formula.api import ols\n",
    "from statsmodels.stats.anova import anova_lm\n",
    "\n",
    "# C() :범주형(factor) 변수로 취급하며, 이를 컬럼으로 변환\n",
    "formula = 'AveragePrice ~ C(avocado_type) * C(region)' \n",
    "model = ols(formula, avocado).fit()\n",
    "aov_table = anova_lm(model, typ=2)\n",
    "aov_table"
   ]
  },
  {
   "cell_type": "markdown",
   "id": "563fa16a",
   "metadata": {},
   "source": [
    "#### typ=2 없애면 mean_sq가 함께 출력"
   ]
  },
  {
   "cell_type": "code",
   "execution_count": 45,
   "id": "5ff8f34c",
   "metadata": {},
   "outputs": [
    {
     "data": {
      "text/html": [
       "<div>\n",
       "<style scoped>\n",
       "    .dataframe tbody tr th:only-of-type {\n",
       "        vertical-align: middle;\n",
       "    }\n",
       "\n",
       "    .dataframe tbody tr th {\n",
       "        vertical-align: top;\n",
       "    }\n",
       "\n",
       "    .dataframe thead th {\n",
       "        text-align: right;\n",
       "    }\n",
       "</style>\n",
       "<table border=\"1\" class=\"dataframe\">\n",
       "  <thead>\n",
       "    <tr style=\"text-align: right;\">\n",
       "      <th></th>\n",
       "      <th>df</th>\n",
       "      <th>sum_sq</th>\n",
       "      <th>mean_sq</th>\n",
       "      <th>F</th>\n",
       "      <th>PR(&gt;F)</th>\n",
       "    </tr>\n",
       "  </thead>\n",
       "  <tbody>\n",
       "    <tr>\n",
       "      <th>C(avocado_type)</th>\n",
       "      <td>1.0</td>\n",
       "      <td>56.111007</td>\n",
       "      <td>56.111007</td>\n",
       "      <td>828.218296</td>\n",
       "      <td>1.989417e-133</td>\n",
       "    </tr>\n",
       "    <tr>\n",
       "      <th>C(region)</th>\n",
       "      <td>2.0</td>\n",
       "      <td>0.432136</td>\n",
       "      <td>0.216068</td>\n",
       "      <td>3.189242</td>\n",
       "      <td>4.161918e-02</td>\n",
       "    </tr>\n",
       "    <tr>\n",
       "      <th>C(avocado_type):C(region)</th>\n",
       "      <td>2.0</td>\n",
       "      <td>1.878817</td>\n",
       "      <td>0.939409</td>\n",
       "      <td>13.866003</td>\n",
       "      <td>1.146622e-06</td>\n",
       "    </tr>\n",
       "    <tr>\n",
       "      <th>Residual</th>\n",
       "      <td>1008.0</td>\n",
       "      <td>68.291047</td>\n",
       "      <td>0.067749</td>\n",
       "      <td>NaN</td>\n",
       "      <td>NaN</td>\n",
       "    </tr>\n",
       "  </tbody>\n",
       "</table>\n",
       "</div>"
      ],
      "text/plain": [
       "                               df     sum_sq    mean_sq           F  \\\n",
       "C(avocado_type)               1.0  56.111007  56.111007  828.218296   \n",
       "C(region)                     2.0   0.432136   0.216068    3.189242   \n",
       "C(avocado_type):C(region)     2.0   1.878817   0.939409   13.866003   \n",
       "Residual                   1008.0  68.291047   0.067749         NaN   \n",
       "\n",
       "                                  PR(>F)  \n",
       "C(avocado_type)            1.989417e-133  \n",
       "C(region)                   4.161918e-02  \n",
       "C(avocado_type):C(region)   1.146622e-06  \n",
       "Residual                             NaN  "
      ]
     },
     "execution_count": 45,
     "metadata": {},
     "output_type": "execute_result"
    }
   ],
   "source": [
    "from statsmodels.formula.api import ols\n",
    "from statsmodels.stats.anova import anova_lm\n",
    "\n",
    "# C() :범주형(factor) 변수로 취급하며, 이를 컬럼으로 변환\n",
    "formula = 'AveragePrice ~ C(avocado_type) * C(region)' \n",
    "model = ols(formula, avocado).fit()\n",
    "aov_table = anova_lm(model)\n",
    "aov_table"
   ]
  },
  {
   "cell_type": "markdown",
   "id": "5fe3145f",
   "metadata": {},
   "source": [
    "[결과해석] \n",
    "\n",
    "1. 주효과(type,region) 모두 AveragePrice에 영향을 미침. (2개 인자 모두 pvalue가 일반적인 유의수준 0.05이하, 귀무가설 기각)\n",
    "    - 단 주효과중에서 type의 영향력이 훨씬 더 큼. (p value값)\n",
    "    - region은 p값이 0.05근처로서, 통계적으로 경계에 있기 때문에, 주의깊게 확인 필요\n",
    "\n",
    "</br>\n",
    "\n",
    "2. 교호작용 인자도 유의하다.(교호작용 있음) p-value 0.05 이하임"
   ]
  },
  {
   "cell_type": "code",
   "execution_count": 12,
   "id": "fe75d656",
   "metadata": {},
   "outputs": [
    {
     "data": {
      "image/png": "[encoded data removed]",
      "text/plain": [
       "<Figure size 600x600 with 1 Axes>"
      ]
     },
     "metadata": {},
     "output_type": "display_data"
    }
   ],
   "source": [
    "from statsmodels.graphics.factorplots import interaction_plot\n",
    "import matplotlib.pyplot as plt\n",
    "\n",
    "fig, ax = plt.subplots(figsize=(6, 6))\n",
    "fig = interaction_plot(avocado_type, \n",
    "                       region , \n",
    "                       AveragePrice,colors=['red', 'blue', 'black'], \n",
    "                       markers=['D', '^','o'], \n",
    "                       ms=10, \n",
    "                       ax=ax)"
   ]
  },
  {
   "cell_type": "markdown",
   "id": "87e69187",
   "metadata": {},
   "source": [
    "[그래프 해석] 각 선들의 패턴이 다름(교차함) --> region과 type사이에 교호작용 존재함"
   ]
  },
  {
   "cell_type": "markdown",
   "id": "77b03657",
   "metadata": {},
   "source": [
    "### 다중비교 (pairwise_tukeyhsd)"
   ]
  },
  {
   "cell_type": "code",
   "execution_count": 13,
   "id": "26515f30",
   "metadata": {},
   "outputs": [
    {
     "data": {
      "image/png": "[encoded data removed]",
      "text/plain": [
       "<Figure size 1000x600 with 1 Axes>"
      ]
     },
     "metadata": {},
     "output_type": "display_data"
    }
   ],
   "source": [
    "from statsmodels.stats.multicomp import pairwise_tukeyhsd\n",
    "from statsmodels.stats.multicomp import MultiComparison\n",
    "\n",
    "mc = MultiComparison(data= avocado[\"AveragePrice\"], groups=avocado[\"region\"] )\n",
    "tuekeyhsd = mc.tukeyhsd(alpha=0.05)\n",
    "fig = tuekeyhsd.plot_simultaneous()"
   ]
  },
  {
   "cell_type": "code",
   "execution_count": 14,
   "id": "750805d3",
   "metadata": {},
   "outputs": [
    {
     "data": {
      "text/html": [
       "<table class=\"simpletable\">\n",
       "<caption>Multiple Comparison of Means - Tukey HSD, FWER=0.05</caption>\n",
       "<tr>\n",
       "  <th>group1</th>  <th>group2</th>  <th>meandiff</th>  <th>p-adj</th>  <th>lower</th>   <th>upper</th> <th>reject</th>\n",
       "</tr>\n",
       "<tr>\n",
       "  <td>Boston</td>  <td>Chicago</td>  <td>0.0259</td>  <td>0.6073</td> <td>-0.0379</td> <td>0.0897</td>  <td>False</td>\n",
       "</tr>\n",
       "<tr>\n",
       "  <td>Boston</td>  <td>Orlando</td>  <td>-0.0247</td> <td>0.6356</td> <td>-0.0885</td> <td>0.0391</td>  <td>False</td>\n",
       "</tr>\n",
       "<tr>\n",
       "  <td>Chicago</td> <td>Orlando</td>  <td>-0.0506</td>  <td>0.151</td> <td>-0.1144</td> <td>0.0132</td>  <td>False</td>\n",
       "</tr>\n",
       "</table>"
      ],
      "text/plain": [
       "<class 'statsmodels.iolib.table.SimpleTable'>"
      ]
     },
     "execution_count": 14,
     "metadata": {},
     "output_type": "execute_result"
    }
   ],
   "source": [
    "tuekeyhsd.summary()"
   ]
  },
  {
   "cell_type": "markdown",
   "id": "1cc7f0c5",
   "metadata": {},
   "source": [
    "## Example 2\n",
    "네 가지 종류의 비료와 세 가지 벼품종에 대한 쌀 수확량을 조사하기 위하여 한 농업 시험장에서 각 수준에 대한 3회 반복 실험을 한 자료가 표 9.14와 같다.\n",
    "\n",
    "<img src =\"https://i.esdrop.com/d/f/s6N1SDUxar/WxStLq7gyG.jpg\" width=\"600\"/>\n",
    "\n",
    "\n",
    "- 1) 비료와 벼의 각 수준별 조합에 대한 수확량 평균을 구하라.\n",
    "- 2) 비료와 벼품종의 주효과를 검정하고 두 인자의 교호작용에 대하여 검정하라.\n",
    "- 3) 이원분산분석 검정 결과를 확인하라.\n",
    "\n",
    "[출처 : 예 9.6](http://www.estat.me/estat/eLearning/kr/eStatU/chapter09.html)"
   ]
  },
  {
   "cell_type": "code",
   "execution_count": 104,
   "id": "7447d81e",
   "metadata": {},
   "outputs": [
    {
     "name": "stdout",
     "output_type": "stream",
     "text": [
      "    비료  벼품종  수확량\n",
      "0    1    1   64\n",
      "1    1    1   66\n",
      "2    1    1   70\n",
      "3    1    2   72\n",
      "4    1    2   81\n",
      "5    1    2   64\n",
      "6    1    3   74\n",
      "7    1    3   51\n",
      "8    1    3   65\n",
      "9    2    1   65\n",
      "10   2    1   63\n",
      "11   2    1   58\n",
      "12   2    2   57\n",
      "13   2    2   43\n",
      "14   2    2   52\n",
      "15   2    3   47\n",
      "16   2    3   58\n",
      "17   2    3   67\n",
      "18   3    1   59\n",
      "19   3    1   68\n",
      "20   3    1   65\n",
      "21   3    2   66\n",
      "22   3    2   71\n",
      "23   3    2   59\n",
      "24   3    3   58\n",
      "25   3    3   45\n",
      "26   3    3   42\n",
      "27   4    1   58\n",
      "28   4    1   50\n",
      "29   4    1   49\n",
      "30   4    2   57\n",
      "31   4    2   61\n",
      "32   4    2   53\n",
      "33   4    3   53\n",
      "34   4    3   59\n",
      "35   4    3   38\n"
     ]
    }
   ],
   "source": [
    "# 데이터 생성 및 전처리\n",
    "\n",
    "import pandas as pd\n",
    "\n",
    "df = pd.DataFrame(\n",
    "    {\n",
    "        '벼품종1': [[64, 66, 70], [65, 63, 58], [59, 68, 65], [58, 50, 49]],\n",
    "        '벼품종2': [[72, 81, 64], [57, 43, 52], [66, 71, 59], [57, 61, 53]],\n",
    "        '벼품종3': [[74, 51, 65], [47, 58, 67], [58, 45, 42], [53, 59, 38]],\n",
    "    }\n",
    ")\n",
    "\n",
    "data = {\n",
    "    '비료': [],\n",
    "    '벼품종': [],\n",
    "    '수확량': [],\n",
    "}\n",
    "\n",
    "for 비료_index, 벼품종_values in enumerate(df.values):\n",
    "    for 벼품종, 수확량_list in enumerate(벼품종_values, start=1):\n",
    "        for 수확량 in 수확량_list:\n",
    "            data['비료'].append(비료_index + 1)\n",
    "            data['벼품종'].append(벼품종)\n",
    "            data['수확량'].append(수확량)\n",
    "\n",
    "new_df = pd.DataFrame(data)\n",
    "print(new_df)"
   ]
  },
  {
   "cell_type": "markdown",
   "id": "7cbb28cb",
   "metadata": {},
   "source": [
    "### 중요 POINT\n",
    "- 비료와 벼품종은 숫자로 인코딩된 형태로, '범주형' 변수임.\n",
    "- 따라서 이원분산분석 시 C(범주형 칼럼명) 으로 코딩해줘야한다!\n",
    "\n",
    "\n",
    "### 2) 비료와 벼품종의 주 효과 검정 & 두 인자 교호작용 검정\n",
    "#### 2-1) 비료의 주효과 검정\n",
    "$H_0$ : 네 종류 비료의 평균수확량은 같다.\n",
    "\n",
    "<br>\n",
    "\n",
    "#### 2-2) 벼품종의 주효과 검정\n",
    "$H_0$ : 세 가지 벼품종에 대한 평균수확량은 같다.\n",
    "\n",
    "<br>\n",
    "\n",
    "#### 2-3) 두 인자 교호작용 검정\n",
    "$H_0$ : 벼와 비료 사이에는 교호작용이 없다."
   ]
  },
  {
   "cell_type": "code",
   "execution_count": 110,
   "id": "6fa596ab",
   "metadata": {},
   "outputs": [
    {
     "data": {
      "text/html": [
       "<div>\n",
       "<style scoped>\n",
       "    .dataframe tbody tr th:only-of-type {\n",
       "        vertical-align: middle;\n",
       "    }\n",
       "\n",
       "    .dataframe tbody tr th {\n",
       "        vertical-align: top;\n",
       "    }\n",
       "\n",
       "    .dataframe thead th {\n",
       "        text-align: right;\n",
       "    }\n",
       "</style>\n",
       "<table border=\"1\" class=\"dataframe\">\n",
       "  <thead>\n",
       "    <tr style=\"text-align: right;\">\n",
       "      <th></th>\n",
       "      <th>sum_sq</th>\n",
       "      <th>df</th>\n",
       "      <th>F</th>\n",
       "      <th>PR(&gt;F)</th>\n",
       "    </tr>\n",
       "  </thead>\n",
       "  <tbody>\n",
       "    <tr>\n",
       "      <th>C(비료)</th>\n",
       "      <td>1002.888889</td>\n",
       "      <td>3.0</td>\n",
       "      <td>6.017333</td>\n",
       "      <td>0.003307</td>\n",
       "    </tr>\n",
       "    <tr>\n",
       "      <th>C(벼품종)</th>\n",
       "      <td>342.388889</td>\n",
       "      <td>2.0</td>\n",
       "      <td>3.081500</td>\n",
       "      <td>0.064393</td>\n",
       "    </tr>\n",
       "    <tr>\n",
       "      <th>C(비료):C(벼품종)</th>\n",
       "      <td>588.944444</td>\n",
       "      <td>6.0</td>\n",
       "      <td>1.766833</td>\n",
       "      <td>0.148795</td>\n",
       "    </tr>\n",
       "    <tr>\n",
       "      <th>Residual</th>\n",
       "      <td>1333.333333</td>\n",
       "      <td>24.0</td>\n",
       "      <td>NaN</td>\n",
       "      <td>NaN</td>\n",
       "    </tr>\n",
       "  </tbody>\n",
       "</table>\n",
       "</div>"
      ],
      "text/plain": [
       "                   sum_sq    df         F    PR(>F)\n",
       "C(비료)         1002.888889   3.0  6.017333  0.003307\n",
       "C(벼품종)         342.388889   2.0  3.081500  0.064393\n",
       "C(비료):C(벼품종)   588.944444   6.0  1.766833  0.148795\n",
       "Residual      1333.333333  24.0       NaN       NaN"
      ]
     },
     "execution_count": 110,
     "metadata": {},
     "output_type": "execute_result"
    }
   ],
   "source": [
    "# 분산분석 수행\n",
    "from statsmodels.formula.api import ols\n",
    "from statsmodels.stats.anova import anova_lm\n",
    "\n",
    "formula = '수확량 ~ C(비료) * C(벼품종)'\n",
    "model = ols(formula, new_df).fit()\n",
    "aov_table = anova_lm(model, typ=2)\n",
    "aov_table"
   ]
  },
  {
   "cell_type": "code",
   "execution_count": 111,
   "id": "ffe676ff",
   "metadata": {},
   "outputs": [
    {
     "data": {
      "image/png": "[encoded data removed]",
      "text/plain": [
       "<Figure size 600x600 with 1 Axes>"
      ]
     },
     "metadata": {},
     "output_type": "display_data"
    }
   ],
   "source": [
    "from statsmodels.graphics.factorplots import interaction_plot\n",
    "import matplotlib.pyplot as plt\n",
    "\n",
    "fig, ax = plt.subplots(figsize=(6, 6))\n",
    "fig = interaction_plot(new_df[\"벼품종\"], \n",
    "                       new_df[\"비료\"], \n",
    "                       new_df[\"수확량\"],\n",
    "                       # colors=['red', 'blue', 'black'], \n",
    "                       # markers=['D', '^','o'], \n",
    "                       ms=10, \n",
    "                       ax=ax)\n",
    "plt.show()"
   ]
  },
  {
   "cell_type": "markdown",
   "id": "308855cd",
   "metadata": {},
   "source": [
    "- 따라서 비료의 종류에 따라 평균수확량이 같다는 귀무가설은 기각된다. 즉, 사용한 비료의 종류에 따라 수확량의 차이가 있다.\n",
    "- 벼품종에 따라 평균수확량이 같다는 귀무가설은 기각하지 못한다. 즉, 벼의 종류에 따라 수확량의 차이가 있다는 충분한 증거가 없다.\n",
    "\n",
    "</br>\n",
    "\n",
    "- 따라서 교호작용이 있다고 할 수 없고 [그림 9.25]의 평균수확량의 그림에 나타난 교호작용효과는 무시할 수 있을 정도로 작거나, 다른 오차에 기인한 우연한 것일 수 있다고 해석할 수 있다.\n",
    "- 아래 그래프에서 벼품종 1은 사용하는 비료에 관계없이 벼품종 3보다 항상 수확량이 많다는 것을 보여준다. 벼품종 2는 사용하는 비료의 종류에 따라 수확량의 변화가 심하며(즉, 교호작용이 있다), 비료의 종류 1을 사용하면 대체로 벼의 품종에 관계없이 높은 수확량을 얻을 수 있다는 것을 알 수 있다."
   ]
  },
  {
   "cell_type": "markdown",
   "id": "79b60d62",
   "metadata": {},
   "source": [
    "---"
   ]
  },
  {
   "cell_type": "markdown",
   "id": "43062ece",
   "metadata": {},
   "source": [
    "# [ 4. Type에 따른 ANOVA 분석 방법 ]"
   ]
  },
  {
   "cell_type": "markdown",
   "id": "62dd5de5",
   "metadata": {},
   "source": [
    "## Type I ANOVA : 변수 순서 중요한 경우\n",
    "- Type I ANOVA는 변수를 하나씩 모델에 추가하는 방식으로 분산분석을 수행한다.\n",
    "- **변수를 추가할 때, 이미 추가된 변수와의 상호작용은 고려하지 않는다.**\n",
    "- 이 방법은 순서에 따라 결과가 달라지므로, **변수의 순서가 중요**한 경우에 유용하다.\n",
    "- 그러나 변수 간의 상호작용이 존재하는 경우 잘못된 결과를 도출할 수 있다.\n",
    "\n",
    "\n",
    "## Type II ANOVA : 변수를 추가할 때, 이미 추가된 변수와의 상호작용을 고려\n",
    "- Type II ANOVA는 **변수를 추가할 때, 이미 추가된 변수와의 상호작용을 고려**한다.\n",
    "- 이 방법은 부분효과를 측정하며, 다른 변수들의 존재 여부와 관계없이 각 변수의 독립적인 영향을 평가한다.\n",
    "- 이 방법은 변수 간의 상호작용이 존재하는 경우에도 일관된 결과를 제공한다.\n",
    "- 하지만 변수의 순서에 따라 결과가 달라지는 Type I ANOVA와는 달리, 변수의 순서가 중요하지 않다.\n",
    "\n",
    "\n",
    "## Type III ANOVA : 비균형설계자료 & 상호작용 관점\n",
    "- 카테고리별로 데이터 값이 비균형 설계되었을 때 사용\n",
    "- Type III ANOVA는 **변수를 추가할 때, 이미 추가된 변수와의 상호작용 및 다른 변수들의 존재 여부를 모두 고려**한다.\n",
    "- 이 방법은 변수의 부분효과와 상호작용을 모두 고려하여 종속 변수에 대한 각 변수의 독립적인 영향을 평가한다.\n",
    "- 변수 간의 상호작용이 있는 경우에도 올바른 결과를 제공한다.\n",
    "- 변수의 순서에 따라 결과가 달라지는 Type I ANOVA와는 달리, 변수의 순서가 중요하지 않다.\n",
    "\n",
    "    → 상호작용 관점에서 제일 우선시 되는 방법 !!\n",
    "   \n",
    "   \n",
    "   \n",
    "- 만약에 데이터가 균일하다면 type1,2,3 제곱합은 모두 같은 결과가 나온다."
   ]
  },
  {
   "cell_type": "markdown",
   "id": "ad9959b6",
   "metadata": {},
   "source": [
    "## Example 1\n",
    "[참고 : 비균형자료의 이원분산분석](https://mindscale.kr/course/basic-stat-python/26/)"
   ]
  },
  {
   "cell_type": "code",
   "execution_count": 70,
   "id": "9e2605c0",
   "metadata": {},
   "outputs": [
    {
     "data": {
      "text/html": [
       "<div>\n",
       "<style scoped>\n",
       "    .dataframe tbody tr th:only-of-type {\n",
       "        vertical-align: middle;\n",
       "    }\n",
       "\n",
       "    .dataframe tbody tr th {\n",
       "        vertical-align: top;\n",
       "    }\n",
       "\n",
       "    .dataframe thead th {\n",
       "        text-align: right;\n",
       "    }\n",
       "</style>\n",
       "<table border=\"1\" class=\"dataframe\">\n",
       "  <thead>\n",
       "    <tr style=\"text-align: right;\">\n",
       "      <th></th>\n",
       "      <th>time</th>\n",
       "      <th>poison</th>\n",
       "      <th>treat</th>\n",
       "    </tr>\n",
       "  </thead>\n",
       "  <tbody>\n",
       "    <tr>\n",
       "      <th>1</th>\n",
       "      <td>0.31</td>\n",
       "      <td>1</td>\n",
       "      <td>A</td>\n",
       "    </tr>\n",
       "    <tr>\n",
       "      <th>2</th>\n",
       "      <td>0.45</td>\n",
       "      <td>1</td>\n",
       "      <td>A</td>\n",
       "    </tr>\n",
       "    <tr>\n",
       "      <th>3</th>\n",
       "      <td>0.46</td>\n",
       "      <td>1</td>\n",
       "      <td>A</td>\n",
       "    </tr>\n",
       "    <tr>\n",
       "      <th>4</th>\n",
       "      <td>0.43</td>\n",
       "      <td>1</td>\n",
       "      <td>A</td>\n",
       "    </tr>\n",
       "    <tr>\n",
       "      <th>5</th>\n",
       "      <td>0.36</td>\n",
       "      <td>2</td>\n",
       "      <td>A</td>\n",
       "    </tr>\n",
       "  </tbody>\n",
       "</table>\n",
       "</div>"
      ],
      "text/plain": [
       "   time  poison treat\n",
       "1  0.31       1     A\n",
       "2  0.45       1     A\n",
       "3  0.46       1     A\n",
       "4  0.43       1     A\n",
       "5  0.36       2     A"
      ]
     },
     "execution_count": 70,
     "metadata": {},
     "output_type": "execute_result"
    }
   ],
   "source": [
    "df_poison = pd.read_csv(\"https://raw.githubusercontent.com/guru99-edu/R-Programming/master/poisons.csv\", index_col=0)\n",
    "df_poison.head()"
   ]
  },
  {
   "cell_type": "code",
   "execution_count": 74,
   "id": "c41e9976",
   "metadata": {},
   "outputs": [
    {
     "data": {
      "text/plain": [
       "A    12\n",
       "B    12\n",
       "C    12\n",
       "D    12\n",
       "Name: treat, dtype: int64"
      ]
     },
     "execution_count": 74,
     "metadata": {},
     "output_type": "execute_result"
    }
   ],
   "source": [
    "df_poison[\"treat\"].value_counts()"
   ]
  },
  {
   "cell_type": "markdown",
   "id": "29ea7187",
   "metadata": {},
   "source": [
    "- 예시를 위해 자료를 하나 삭제하여 비균형 설계로 바꿔보자.\n",
    "- 삭제된 자료는 poison은 1, treat는 A이다. 해당하는 집단의 표본 수가 다른 집단보다 하나씩 적은 것을 확인할 수 있다.\n",
    "- 이제 집단별 표본수가 동일하지 않으므로 비균형설계자료가 되었다."
   ]
  },
  {
   "cell_type": "code",
   "execution_count": 85,
   "id": "25a6d896",
   "metadata": {},
   "outputs": [
    {
     "data": {
      "text/html": [
       "<div>\n",
       "<style scoped>\n",
       "    .dataframe tbody tr th:only-of-type {\n",
       "        vertical-align: middle;\n",
       "    }\n",
       "\n",
       "    .dataframe tbody tr th {\n",
       "        vertical-align: top;\n",
       "    }\n",
       "\n",
       "    .dataframe thead th {\n",
       "        text-align: right;\n",
       "    }\n",
       "</style>\n",
       "<table border=\"1\" class=\"dataframe\">\n",
       "  <thead>\n",
       "    <tr style=\"text-align: right;\">\n",
       "      <th></th>\n",
       "      <th>time</th>\n",
       "      <th>poison</th>\n",
       "      <th>treat</th>\n",
       "    </tr>\n",
       "  </thead>\n",
       "  <tbody>\n",
       "    <tr>\n",
       "      <th>0</th>\n",
       "      <td>0.46</td>\n",
       "      <td>1</td>\n",
       "      <td>A</td>\n",
       "    </tr>\n",
       "    <tr>\n",
       "      <th>1</th>\n",
       "      <td>0.43</td>\n",
       "      <td>1</td>\n",
       "      <td>A</td>\n",
       "    </tr>\n",
       "    <tr>\n",
       "      <th>2</th>\n",
       "      <td>0.36</td>\n",
       "      <td>2</td>\n",
       "      <td>A</td>\n",
       "    </tr>\n",
       "    <tr>\n",
       "      <th>3</th>\n",
       "      <td>0.29</td>\n",
       "      <td>2</td>\n",
       "      <td>A</td>\n",
       "    </tr>\n",
       "    <tr>\n",
       "      <th>4</th>\n",
       "      <td>0.40</td>\n",
       "      <td>2</td>\n",
       "      <td>A</td>\n",
       "    </tr>\n",
       "  </tbody>\n",
       "</table>\n",
       "</div>"
      ],
      "text/plain": [
       "   time  poison treat\n",
       "0  0.46       1     A\n",
       "1  0.43       1     A\n",
       "2  0.36       2     A\n",
       "3  0.29       2     A\n",
       "4  0.40       2     A"
      ]
     },
     "execution_count": 85,
     "metadata": {},
     "output_type": "execute_result"
    }
   ],
   "source": [
    "df_poison = df_poison.iloc[1:,:].reset_index(drop=True)  # 데이터의 첫 행을 제거\n",
    "df_poison.head()"
   ]
  },
  {
   "cell_type": "code",
   "execution_count": 88,
   "id": "6566a8e5",
   "metadata": {},
   "outputs": [
    {
     "data": {
      "text/plain": [
       "B    12\n",
       "C    12\n",
       "D    12\n",
       "A    10\n",
       "Name: treat, dtype: int64"
      ]
     },
     "execution_count": 88,
     "metadata": {},
     "output_type": "execute_result"
    }
   ],
   "source": [
    "df_poison[\"treat\"].value_counts() # 불균형자료"
   ]
  },
  {
   "cell_type": "markdown",
   "id": "2c29ae5f",
   "metadata": {},
   "source": [
    "### 불균형자료의 경우 `typ=3` 옵션 지정"
   ]
  },
  {
   "cell_type": "code",
   "execution_count": 90,
   "id": "c58ddebb",
   "metadata": {},
   "outputs": [
    {
     "data": {
      "text/html": [
       "<div>\n",
       "<style scoped>\n",
       "    .dataframe tbody tr th:only-of-type {\n",
       "        vertical-align: middle;\n",
       "    }\n",
       "\n",
       "    .dataframe tbody tr th {\n",
       "        vertical-align: top;\n",
       "    }\n",
       "\n",
       "    .dataframe thead th {\n",
       "        text-align: right;\n",
       "    }\n",
       "</style>\n",
       "<table border=\"1\" class=\"dataframe\">\n",
       "  <thead>\n",
       "    <tr style=\"text-align: right;\">\n",
       "      <th></th>\n",
       "      <th>sum_sq</th>\n",
       "      <th>df</th>\n",
       "      <th>F</th>\n",
       "      <th>PR(&gt;F)</th>\n",
       "    </tr>\n",
       "  </thead>\n",
       "  <tbody>\n",
       "    <tr>\n",
       "      <th>Intercept</th>\n",
       "      <td>0.396050</td>\n",
       "      <td>1.0</td>\n",
       "      <td>17.116690</td>\n",
       "      <td>0.000218</td>\n",
       "    </tr>\n",
       "    <tr>\n",
       "      <th>C(poison)</th>\n",
       "      <td>0.076040</td>\n",
       "      <td>2.0</td>\n",
       "      <td>1.643168</td>\n",
       "      <td>0.208352</td>\n",
       "    </tr>\n",
       "    <tr>\n",
       "      <th>C(treat)</th>\n",
       "      <td>0.329246</td>\n",
       "      <td>3.0</td>\n",
       "      <td>4.743180</td>\n",
       "      <td>0.007199</td>\n",
       "    </tr>\n",
       "    <tr>\n",
       "      <th>C(poison):C(treat)</th>\n",
       "      <td>0.240426</td>\n",
       "      <td>6.0</td>\n",
       "      <td>1.731811</td>\n",
       "      <td>0.143561</td>\n",
       "    </tr>\n",
       "    <tr>\n",
       "      <th>Residual</th>\n",
       "      <td>0.786700</td>\n",
       "      <td>34.0</td>\n",
       "      <td>NaN</td>\n",
       "      <td>NaN</td>\n",
       "    </tr>\n",
       "  </tbody>\n",
       "</table>\n",
       "</div>"
      ],
      "text/plain": [
       "                      sum_sq    df          F    PR(>F)\n",
       "Intercept           0.396050   1.0  17.116690  0.000218\n",
       "C(poison)           0.076040   2.0   1.643168  0.208352\n",
       "C(treat)            0.329246   3.0   4.743180  0.007199\n",
       "C(poison):C(treat)  0.240426   6.0   1.731811  0.143561\n",
       "Residual            0.786700  34.0        NaN       NaN"
      ]
     },
     "execution_count": 90,
     "metadata": {},
     "output_type": "execute_result"
    }
   ],
   "source": [
    "from statsmodels.formula.api import ols\n",
    "from statsmodels.stats.anova import anova_lm\n",
    "\n",
    "model = ols('time ~ C(poison) * C(treat)', df_poison).fit()\n",
    "anova_lm(model, typ=3)"
   ]
  },
  {
   "cell_type": "markdown",
   "id": "05ccfdd9",
   "metadata": {},
   "source": [
    "### two-way ANOVA 결과 보고 예시\n",
    "time에 대하여 poison과 treat를 요인으로 하는 이원분산분석을 실시한 결과, \n",
    "- poison의 주효과는 유의미하지 않으며,(p > 0.05)\n",
    "- treat의 주효과 또한 유의미하였으나(p < 0.05)\n",
    "- poison과 treat의 유의미한 상호작용효과는 발견할 수 없었다(p > 0.05)."
   ]
  },
  {
   "cell_type": "markdown",
   "id": "9e831a2a",
   "metadata": {},
   "source": [
    "만약 상호작용이 유의미했다면, 다음과 같이 단순효과분석 결과를 첨부하여야 함 (단순 예시)\n",
    "```\n",
    "- poison과 treat의 유의미한 상호작용 효과에 대하여 단순효과분석을 실시한 결과, poison이 1인 집단에서는 treat의 단순 주효과는 유의미하였고(F(3,36) = 6.8031, p < 0.05), poison이 2인 집단도 treat의 단순 주효과는 유의미하였으나(F(3,36) = 10.0367, p < 0.05), poison이 3인 집단에서는 treat의 단순 주효과가 유의미하지 않았다(F(3,36) = 0.7145, p > 0.05).\n",
    "```"
   ]
  },
  {
   "cell_type": "markdown",
   "id": "f79b63fc",
   "metadata": {},
   "source": [
    "## Example 2 : ADP 실기 27회 (8/26 전 데이터마님버전으로 풀이 업로드 예정)\n",
    "지하철 호선과 월별, 승객 수 간 상관관계가 있는 지 확인 (Type III Anova 사용)\n",
    "1. 귀무가설과 대립가설을 설정하라\n",
    "2. 검정통계량과 유의확률을 구하고, 대립가설 채택여부를 기술하라 (반올림하여 소수점 아래 둘째자리까지 표기하시오)"
   ]
  },
  {
   "cell_type": "code",
   "execution_count": 5,
   "id": "86663e12",
   "metadata": {},
   "outputs": [
    {
     "data": {
      "text/html": [
       "<div>\n",
       "<style scoped>\n",
       "    .dataframe tbody tr th:only-of-type {\n",
       "        vertical-align: middle;\n",
       "    }\n",
       "\n",
       "    .dataframe tbody tr th {\n",
       "        vertical-align: top;\n",
       "    }\n",
       "\n",
       "    .dataframe thead th {\n",
       "        text-align: right;\n",
       "    }\n",
       "</style>\n",
       "<table border=\"1\" class=\"dataframe\">\n",
       "  <thead>\n",
       "    <tr style=\"text-align: right;\">\n",
       "      <th></th>\n",
       "      <th>line</th>\n",
       "      <th>month</th>\n",
       "      <th>total</th>\n",
       "    </tr>\n",
       "  </thead>\n",
       "  <tbody>\n",
       "    <tr>\n",
       "      <th>0</th>\n",
       "      <td>1</td>\n",
       "      <td>1</td>\n",
       "      <td>1310</td>\n",
       "    </tr>\n",
       "    <tr>\n",
       "      <th>1</th>\n",
       "      <td>1</td>\n",
       "      <td>2</td>\n",
       "      <td>1300</td>\n",
       "    </tr>\n",
       "    <tr>\n",
       "      <th>2</th>\n",
       "      <td>1</td>\n",
       "      <td>3</td>\n",
       "      <td>1305</td>\n",
       "    </tr>\n",
       "    <tr>\n",
       "      <th>3</th>\n",
       "      <td>1</td>\n",
       "      <td>4</td>\n",
       "      <td>1200</td>\n",
       "    </tr>\n",
       "    <tr>\n",
       "      <th>4</th>\n",
       "      <td>1</td>\n",
       "      <td>5</td>\n",
       "      <td>1301</td>\n",
       "    </tr>\n",
       "  </tbody>\n",
       "</table>\n",
       "</div>"
      ],
      "text/plain": [
       "   line  month  total\n",
       "0     1      1   1310\n",
       "1     1      2   1300\n",
       "2     1      3   1305\n",
       "3     1      4   1200\n",
       "4     1      5   1301"
      ]
     },
     "execution_count": 5,
     "metadata": {},
     "output_type": "execute_result"
    }
   ],
   "source": [
    "import pandas as pd\n",
    "df_subway = pd.read_csv('https://github.com/johyunkang/adp_certificate/files/10883822/subway.csv')\n",
    "df_subway.head()"
   ]
  },
  {
   "cell_type": "markdown",
   "id": "fd471de8",
   "metadata": {},
   "source": [
    "### 접근 방법\n",
    "- 상호작용 = 교호작용 $\\rightarrow$ 다원분산분석\n",
    "\n",
    "#### Type 3 ANOVA란?\n",
    "- **비균형설계자료**의 경우 사용하는 분산분석 방법\n",
    "- value_counts()로 값들 확인해보고, 비균형설계임을 간단히라도 언급해주자 !\n",
    "- anova_lm 옵션에 typ=3만 추가해주면 됨\n",
    "\n",
    "```python\n",
    "print(anova_lm(model, typ=3))     # type 3 ANOVA\n",
    "```"
   ]
  },
  {
   "cell_type": "code",
   "execution_count": 20,
   "id": "d9831eca",
   "metadata": {},
   "outputs": [
    {
     "name": "stdout",
     "output_type": "stream",
     "text": [
      "<class 'pandas.core.frame.DataFrame'>\n",
      "RangeIndex: 72 entries, 0 to 71\n",
      "Data columns (total 3 columns):\n",
      " #   Column  Non-Null Count  Dtype\n",
      "---  ------  --------------  -----\n",
      " 0   line    72 non-null     int64\n",
      " 1   month   72 non-null     int64\n",
      " 2   total   72 non-null     int64\n",
      "dtypes: int64(3)\n",
      "memory usage: 1.8 KB\n"
     ]
    }
   ],
   "source": [
    "df_subway.info()"
   ]
  },
  {
   "cell_type": "code",
   "execution_count": 21,
   "id": "24f7f8fa",
   "metadata": {},
   "outputs": [
    {
     "data": {
      "text/plain": [
       "1    24\n",
       "2    24\n",
       "3    24\n",
       "Name: line, dtype: int64"
      ]
     },
     "execution_count": 21,
     "metadata": {},
     "output_type": "execute_result"
    }
   ],
   "source": [
    "df_subway[\"line\"].value_counts()"
   ]
  },
  {
   "cell_type": "code",
   "execution_count": 22,
   "id": "7a4a5cd1",
   "metadata": {},
   "outputs": [
    {
     "data": {
      "text/plain": [
       "1     6\n",
       "2     6\n",
       "3     6\n",
       "4     6\n",
       "5     6\n",
       "6     6\n",
       "7     6\n",
       "8     6\n",
       "9     6\n",
       "10    6\n",
       "11    6\n",
       "12    6\n",
       "Name: month, dtype: int64"
      ]
     },
     "execution_count": 22,
     "metadata": {},
     "output_type": "execute_result"
    }
   ],
   "source": [
    "df_subway[\"month\"].value_counts()"
   ]
  },
  {
   "cell_type": "markdown",
   "id": "f6996505",
   "metadata": {},
   "source": [
    "### 1) 귀무가설과 대립가설을 설정하라\n",
    "- 귀무가설(H0) : 지하철 호선과 월별은, 승객 수와 상관관계가 없다.\n",
    "- 대립가설(H1) : 지하철 호선과 월별은, 승객 수와 상관관계가 있다.\n",
    "\n",
    "\n",
    "```\n",
    "가. 상호작용효과 검정에 대한 가설\n",
    "- 귀무가설 H0: 지하철 호선과 월별, 승객 수 간 상관관계가 없다.\n",
    "- 대립가설 H1: 지하철 호선과 월별, 승객 수 간 상관관계가 있다.\n",
    "\n",
    "나. 주효과 검정에 대한 가설\n",
    "- 귀무가설 H0: 지하철 호선 승객 수 차이는 존재하지 않는다.\n",
    "- 대립가설 H1: 지하철 호선 승객 수 차이는 존재한다.\n",
    "\n",
    "- 귀무가설 H0: 월별 승객 수 차이는 존재하지 않는다.\n",
    "- 대립가설 H1: 월별 승객 수 차이는 존재한다.\n",
    "```"
   ]
  },
  {
   "cell_type": "markdown",
   "id": "36e9c416",
   "metadata": {},
   "source": [
    "### 2) 검정통계량과 유의확률을 구하고, 대립가설 채택여부를 기술하라 (반올림하여 소수점 아래 둘째자리까지 표기하시오)"
   ]
  },
  {
   "cell_type": "code",
   "execution_count": 26,
   "id": "ee5d4a4c",
   "metadata": {
    "scrolled": true
   },
   "outputs": [
    {
     "data": {
      "text/html": [
       "<table class=\"simpletable\">\n",
       "<caption>OLS Regression Results</caption>\n",
       "<tr>\n",
       "  <th>Dep. Variable:</th>          <td>total</td>      <th>  R-squared:         </th> <td>   0.998</td>\n",
       "</tr>\n",
       "<tr>\n",
       "  <th>Model:</th>                   <td>OLS</td>       <th>  Adj. R-squared:    </th> <td>   0.997</td>\n",
       "</tr>\n",
       "<tr>\n",
       "  <th>Method:</th>             <td>Least Squares</td>  <th>  F-statistic:       </th> <td>   627.8</td>\n",
       "</tr>\n",
       "<tr>\n",
       "  <th>Date:</th>             <td>Fri, 26 May 2023</td> <th>  Prob (F-statistic):</th> <td>2.18e-41</td>\n",
       "</tr>\n",
       "<tr>\n",
       "  <th>Time:</th>                 <td>13:45:11</td>     <th>  Log-Likelihood:    </th> <td> -244.27</td>\n",
       "</tr>\n",
       "<tr>\n",
       "  <th>No. Observations:</th>      <td>    72</td>      <th>  AIC:               </th> <td>   560.5</td>\n",
       "</tr>\n",
       "<tr>\n",
       "  <th>Df Residuals:</th>          <td>    36</td>      <th>  BIC:               </th> <td>   642.5</td>\n",
       "</tr>\n",
       "<tr>\n",
       "  <th>Df Model:</th>              <td>    35</td>      <th>                     </th>     <td> </td>   \n",
       "</tr>\n",
       "<tr>\n",
       "  <th>Covariance Type:</th>      <td>nonrobust</td>    <th>                     </th>     <td> </td>   \n",
       "</tr>\n",
       "</table>\n",
       "<table class=\"simpletable\">\n",
       "<tr>\n",
       "               <td></td>                  <th>coef</th>     <th>std err</th>      <th>t</th>      <th>P>|t|</th>  <th>[0.025</th>    <th>0.975]</th>  \n",
       "</tr>\n",
       "<tr>\n",
       "  <th>Intercept</th>                   <td> 1316.5000</td> <td>    7.198</td> <td>  182.908</td> <td> 0.000</td> <td> 1301.903</td> <td> 1331.097</td>\n",
       "</tr>\n",
       "<tr>\n",
       "  <th>C(line)[T.2]</th>                <td>  321.5000</td> <td>   10.179</td> <td>   31.585</td> <td> 0.000</td> <td>  300.856</td> <td>  342.144</td>\n",
       "</tr>\n",
       "<tr>\n",
       "  <th>C(line)[T.3]</th>                <td>   10.0000</td> <td>   10.179</td> <td>    0.982</td> <td> 0.332</td> <td>  -10.644</td> <td>   30.644</td>\n",
       "</tr>\n",
       "<tr>\n",
       "  <th>C(month)[T.2]</th>               <td>  -10.0000</td> <td>   10.179</td> <td>   -0.982</td> <td> 0.332</td> <td>  -30.644</td> <td>   10.644</td>\n",
       "</tr>\n",
       "<tr>\n",
       "  <th>C(month)[T.3]</th>               <td>   -5.0000</td> <td>   10.179</td> <td>   -0.491</td> <td> 0.626</td> <td>  -25.644</td> <td>   15.644</td>\n",
       "</tr>\n",
       "<tr>\n",
       "  <th>C(month)[T.4]</th>               <td> -110.5000</td> <td>   10.179</td> <td>  -10.856</td> <td> 0.000</td> <td> -131.144</td> <td>  -89.856</td>\n",
       "</tr>\n",
       "<tr>\n",
       "  <th>C(month)[T.5]</th>               <td>   -9.0000</td> <td>   10.179</td> <td>   -0.884</td> <td> 0.382</td> <td>  -29.644</td> <td>   11.644</td>\n",
       "</tr>\n",
       "<tr>\n",
       "  <th>C(month)[T.6]</th>               <td>   -6.0000</td> <td>   10.179</td> <td>   -0.589</td> <td> 0.559</td> <td>  -26.644</td> <td>   14.644</td>\n",
       "</tr>\n",
       "<tr>\n",
       "  <th>C(month)[T.7]</th>               <td>   20.0000</td> <td>   10.179</td> <td>    1.965</td> <td> 0.057</td> <td>   -0.644</td> <td>   40.644</td>\n",
       "</tr>\n",
       "<tr>\n",
       "  <th>C(month)[T.8]</th>               <td>  -80.5000</td> <td>   10.179</td> <td>   -7.908</td> <td> 0.000</td> <td> -101.144</td> <td>  -59.856</td>\n",
       "</tr>\n",
       "<tr>\n",
       "  <th>C(month)[T.9]</th>               <td>   20.0000</td> <td>   10.179</td> <td>    1.965</td> <td> 0.057</td> <td>   -0.644</td> <td>   40.644</td>\n",
       "</tr>\n",
       "<tr>\n",
       "  <th>C(month)[T.10]</th>              <td>   20.0000</td> <td>   10.179</td> <td>    1.965</td> <td> 0.057</td> <td>   -0.644</td> <td>   40.644</td>\n",
       "</tr>\n",
       "<tr>\n",
       "  <th>C(month)[T.11]</th>              <td>   20.0000</td> <td>   10.179</td> <td>    1.965</td> <td> 0.057</td> <td>   -0.644</td> <td>   40.644</td>\n",
       "</tr>\n",
       "<tr>\n",
       "  <th>C(month)[T.12]</th>              <td>   20.0000</td> <td>   10.179</td> <td>    1.965</td> <td> 0.057</td> <td>   -0.644</td> <td>   40.644</td>\n",
       "</tr>\n",
       "<tr>\n",
       "  <th>C(line)[T.2]:C(month)[T.2]</th>  <td>  131.0000</td> <td>   14.395</td> <td>    9.100</td> <td> 0.000</td> <td>  101.805</td> <td>  160.195</td>\n",
       "</tr>\n",
       "<tr>\n",
       "  <th>C(line)[T.3]:C(month)[T.2]</th>  <td>   42.5000</td> <td>   14.395</td> <td>    2.952</td> <td> 0.006</td> <td>   13.305</td> <td>   71.695</td>\n",
       "</tr>\n",
       "<tr>\n",
       "  <th>C(line)[T.2]:C(month)[T.3]</th>  <td>  -15.0000</td> <td>   14.395</td> <td>   -1.042</td> <td> 0.304</td> <td>  -44.195</td> <td>   14.195</td>\n",
       "</tr>\n",
       "<tr>\n",
       "  <th>C(line)[T.3]:C(month)[T.3]</th>  <td>  -15.0000</td> <td>   14.395</td> <td>   -1.042</td> <td> 0.304</td> <td>  -44.195</td> <td>   14.195</td>\n",
       "</tr>\n",
       "<tr>\n",
       "  <th>C(line)[T.2]:C(month)[T.4]</th>  <td>  221.0000</td> <td>   14.395</td> <td>   15.352</td> <td> 0.000</td> <td>  191.805</td> <td>  250.195</td>\n",
       "</tr>\n",
       "<tr>\n",
       "  <th>C(line)[T.3]:C(month)[T.4]</th>  <td>  135.5000</td> <td>   14.395</td> <td>    9.413</td> <td> 0.000</td> <td>  106.305</td> <td>  164.695</td>\n",
       "</tr>\n",
       "<tr>\n",
       "  <th>C(line)[T.2]:C(month)[T.5]</th>  <td>   -1.0000</td> <td>   14.395</td> <td>   -0.069</td> <td> 0.945</td> <td>  -30.195</td> <td>   28.195</td>\n",
       "</tr>\n",
       "<tr>\n",
       "  <th>C(line)[T.3]:C(month)[T.5]</th>  <td>   -1.0000</td> <td>   14.395</td> <td>   -0.069</td> <td> 0.945</td> <td>  -30.195</td> <td>   28.195</td>\n",
       "</tr>\n",
       "<tr>\n",
       "  <th>C(line)[T.2]:C(month)[T.6]</th>  <td>   86.5000</td> <td>   14.395</td> <td>    6.009</td> <td> 0.000</td> <td>   57.305</td> <td>  115.695</td>\n",
       "</tr>\n",
       "<tr>\n",
       "  <th>C(line)[T.3]:C(month)[T.6]</th>  <td>    3.0000</td> <td>   14.395</td> <td>    0.208</td> <td> 0.836</td> <td>  -26.195</td> <td>   32.195</td>\n",
       "</tr>\n",
       "<tr>\n",
       "  <th>C(line)[T.2]:C(month)[T.7]</th>  <td>  -50.0000</td> <td>   14.395</td> <td>   -3.473</td> <td> 0.001</td> <td>  -79.195</td> <td>  -20.805</td>\n",
       "</tr>\n",
       "<tr>\n",
       "  <th>C(line)[T.3]:C(month)[T.7]</th>  <td>  -37.0000</td> <td>   14.395</td> <td>   -2.570</td> <td> 0.014</td> <td>  -66.195</td> <td>   -7.805</td>\n",
       "</tr>\n",
       "<tr>\n",
       "  <th>C(line)[T.2]:C(month)[T.8]</th>  <td>  201.5000</td> <td>   14.395</td> <td>   13.998</td> <td> 0.000</td> <td>  172.305</td> <td>  230.695</td>\n",
       "</tr>\n",
       "<tr>\n",
       "  <th>C(line)[T.3]:C(month)[T.8]</th>  <td>  112.0000</td> <td>   14.395</td> <td>    7.780</td> <td> 0.000</td> <td>   82.805</td> <td>  141.195</td>\n",
       "</tr>\n",
       "<tr>\n",
       "  <th>C(line)[T.2]:C(month)[T.9]</th>  <td>   20.5000</td> <td>   14.395</td> <td>    1.424</td> <td> 0.163</td> <td>   -8.695</td> <td>   49.695</td>\n",
       "</tr>\n",
       "<tr>\n",
       "  <th>C(line)[T.3]:C(month)[T.9]</th>  <td>   20.5000</td> <td>   14.395</td> <td>    1.424</td> <td> 0.163</td> <td>   -8.695</td> <td>   49.695</td>\n",
       "</tr>\n",
       "<tr>\n",
       "  <th>C(line)[T.2]:C(month)[T.10]</th> <td>   70.5000</td> <td>   14.395</td> <td>    4.897</td> <td> 0.000</td> <td>   41.305</td> <td>   99.695</td>\n",
       "</tr>\n",
       "<tr>\n",
       "  <th>C(line)[T.3]:C(month)[T.10]</th> <td>  -16.0000</td> <td>   14.395</td> <td>   -1.111</td> <td> 0.274</td> <td>  -45.195</td> <td>   13.195</td>\n",
       "</tr>\n",
       "<tr>\n",
       "  <th>C(line)[T.2]:C(month)[T.11]</th> <td>  -40.0000</td> <td>   14.395</td> <td>   -2.779</td> <td> 0.009</td> <td>  -69.195</td> <td>  -10.805</td>\n",
       "</tr>\n",
       "<tr>\n",
       "  <th>C(line)[T.3]:C(month)[T.11]</th> <td>  -21.0000</td> <td>   14.395</td> <td>   -1.459</td> <td> 0.153</td> <td>  -50.195</td> <td>    8.195</td>\n",
       "</tr>\n",
       "<tr>\n",
       "  <th>C(line)[T.2]:C(month)[T.12]</th> <td>   70.5000</td> <td>   14.395</td> <td>    4.897</td> <td> 0.000</td> <td>   41.305</td> <td>   99.695</td>\n",
       "</tr>\n",
       "<tr>\n",
       "  <th>C(line)[T.3]:C(month)[T.12]</th> <td>  -10.0000</td> <td>   14.395</td> <td>   -0.695</td> <td> 0.492</td> <td>  -39.195</td> <td>   19.195</td>\n",
       "</tr>\n",
       "</table>\n",
       "<table class=\"simpletable\">\n",
       "<tr>\n",
       "  <th>Omnibus:</th>       <td>873.224</td> <th>  Durbin-Watson:     </th> <td>   0.052</td>\n",
       "</tr>\n",
       "<tr>\n",
       "  <th>Prob(Omnibus):</th> <td> 0.000</td>  <th>  Jarque-Bera (JB):  </th> <td>  11.171</td>\n",
       "</tr>\n",
       "<tr>\n",
       "  <th>Skew:</th>          <td>-0.000</td>  <th>  Prob(JB):          </th> <td> 0.00375</td>\n",
       "</tr>\n",
       "<tr>\n",
       "  <th>Kurtosis:</th>      <td> 1.070</td>  <th>  Cond. No.          </th> <td>    48.2</td>\n",
       "</tr>\n",
       "</table><br/><br/>Notes:<br/>[1] Standard Errors assume that the covariance matrix of the errors is correctly specified."
      ],
      "text/plain": [
       "<class 'statsmodels.iolib.summary.Summary'>\n",
       "\"\"\"\n",
       "                            OLS Regression Results                            \n",
       "==============================================================================\n",
       "Dep. Variable:                  total   R-squared:                       0.998\n",
       "Model:                            OLS   Adj. R-squared:                  0.997\n",
       "Method:                 Least Squares   F-statistic:                     627.8\n",
       "Date:                Fri, 26 May 2023   Prob (F-statistic):           2.18e-41\n",
       "Time:                        13:45:11   Log-Likelihood:                -244.27\n",
       "No. Observations:                  72   AIC:                             560.5\n",
       "Df Residuals:                      36   BIC:                             642.5\n",
       "Df Model:                          35                                         \n",
       "Covariance Type:            nonrobust                                         \n",
       "===============================================================================================\n",
       "                                  coef    std err          t      P>|t|      [0.025      0.975]\n",
       "-----------------------------------------------------------------------------------------------\n",
       "Intercept                    1316.5000      7.198    182.908      0.000    1301.903    1331.097\n",
       "C(line)[T.2]                  321.5000     10.179     31.585      0.000     300.856     342.144\n",
       "C(line)[T.3]                   10.0000     10.179      0.982      0.332     -10.644      30.644\n",
       "C(month)[T.2]                 -10.0000     10.179     -0.982      0.332     -30.644      10.644\n",
       "C(month)[T.3]                  -5.0000     10.179     -0.491      0.626     -25.644      15.644\n",
       "C(month)[T.4]                -110.5000     10.179    -10.856      0.000    -131.144     -89.856\n",
       "C(month)[T.5]                  -9.0000     10.179     -0.884      0.382     -29.644      11.644\n",
       "C(month)[T.6]                  -6.0000     10.179     -0.589      0.559     -26.644      14.644\n",
       "C(month)[T.7]                  20.0000     10.179      1.965      0.057      -0.644      40.644\n",
       "C(month)[T.8]                 -80.5000     10.179     -7.908      0.000    -101.144     -59.856\n",
       "C(month)[T.9]                  20.0000     10.179      1.965      0.057      -0.644      40.644\n",
       "C(month)[T.10]                 20.0000     10.179      1.965      0.057      -0.644      40.644\n",
       "C(month)[T.11]                 20.0000     10.179      1.965      0.057      -0.644      40.644\n",
       "C(month)[T.12]                 20.0000     10.179      1.965      0.057      -0.644      40.644\n",
       "C(line)[T.2]:C(month)[T.2]    131.0000     14.395      9.100      0.000     101.805     160.195\n",
       "C(line)[T.3]:C(month)[T.2]     42.5000     14.395      2.952      0.006      13.305      71.695\n",
       "C(line)[T.2]:C(month)[T.3]    -15.0000     14.395     -1.042      0.304     -44.195      14.195\n",
       "C(line)[T.3]:C(month)[T.3]    -15.0000     14.395     -1.042      0.304     -44.195      14.195\n",
       "C(line)[T.2]:C(month)[T.4]    221.0000     14.395     15.352      0.000     191.805     250.195\n",
       "C(line)[T.3]:C(month)[T.4]    135.5000     14.395      9.413      0.000     106.305     164.695\n",
       "C(line)[T.2]:C(month)[T.5]     -1.0000     14.395     -0.069      0.945     -30.195      28.195\n",
       "C(line)[T.3]:C(month)[T.5]     -1.0000     14.395     -0.069      0.945     -30.195      28.195\n",
       "C(line)[T.2]:C(month)[T.6]     86.5000     14.395      6.009      0.000      57.305     115.695\n",
       "C(line)[T.3]:C(month)[T.6]      3.0000     14.395      0.208      0.836     -26.195      32.195\n",
       "C(line)[T.2]:C(month)[T.7]    -50.0000     14.395     -3.473      0.001     -79.195     -20.805\n",
       "C(line)[T.3]:C(month)[T.7]    -37.0000     14.395     -2.570      0.014     -66.195      -7.805\n",
       "C(line)[T.2]:C(month)[T.8]    201.5000     14.395     13.998      0.000     172.305     230.695\n",
       "C(line)[T.3]:C(month)[T.8]    112.0000     14.395      7.780      0.000      82.805     141.195\n",
       "C(line)[T.2]:C(month)[T.9]     20.5000     14.395      1.424      0.163      -8.695      49.695\n",
       "C(line)[T.3]:C(month)[T.9]     20.5000     14.395      1.424      0.163      -8.695      49.695\n",
       "C(line)[T.2]:C(month)[T.10]    70.5000     14.395      4.897      0.000      41.305      99.695\n",
       "C(line)[T.3]:C(month)[T.10]   -16.0000     14.395     -1.111      0.274     -45.195      13.195\n",
       "C(line)[T.2]:C(month)[T.11]   -40.0000     14.395     -2.779      0.009     -69.195     -10.805\n",
       "C(line)[T.3]:C(month)[T.11]   -21.0000     14.395     -1.459      0.153     -50.195       8.195\n",
       "C(line)[T.2]:C(month)[T.12]    70.5000     14.395      4.897      0.000      41.305      99.695\n",
       "C(line)[T.3]:C(month)[T.12]   -10.0000     14.395     -0.695      0.492     -39.195      19.195\n",
       "==============================================================================\n",
       "Omnibus:                      873.224   Durbin-Watson:                   0.052\n",
       "Prob(Omnibus):                  0.000   Jarque-Bera (JB):               11.171\n",
       "Skew:                          -0.000   Prob(JB):                      0.00375\n",
       "Kurtosis:                       1.070   Cond. No.                         48.2\n",
       "==============================================================================\n",
       "\n",
       "Notes:\n",
       "[1] Standard Errors assume that the covariance matrix of the errors is correctly specified.\n",
       "\"\"\""
      ]
     },
     "metadata": {},
     "output_type": "display_data"
    }
   ],
   "source": [
    "import statsmodels.formula.api as smf     \n",
    "from statsmodels.stats.anova import anova_lm  # anova table을 생성해줌\n",
    "\n",
    "# 모델링\n",
    "# 범주형 변수는 C(변수)화 \n",
    "# = total ~ line + month + line:month  # 모델링 할 때 독립변수 순서 주의!\n",
    "formula = 'total ~ C(line) * C(month)' \n",
    "model = smf.ols(formula, df_subway).fit()\n",
    "\n",
    "display(model.summary())"
   ]
  },
  {
   "cell_type": "code",
   "execution_count": 25,
   "id": "3fb122b1",
   "metadata": {},
   "outputs": [
    {
     "data": {
      "text/html": [
       "<div>\n",
       "<style scoped>\n",
       "    .dataframe tbody tr th:only-of-type {\n",
       "        vertical-align: middle;\n",
       "    }\n",
       "\n",
       "    .dataframe tbody tr th {\n",
       "        vertical-align: top;\n",
       "    }\n",
       "\n",
       "    .dataframe thead th {\n",
       "        text-align: right;\n",
       "    }\n",
       "</style>\n",
       "<table border=\"1\" class=\"dataframe\">\n",
       "  <thead>\n",
       "    <tr style=\"text-align: right;\">\n",
       "      <th></th>\n",
       "      <th>sum_sq</th>\n",
       "      <th>df</th>\n",
       "      <th>F</th>\n",
       "      <th>PR(&gt;F)</th>\n",
       "    </tr>\n",
       "  </thead>\n",
       "  <tbody>\n",
       "    <tr>\n",
       "      <th>Intercept</th>\n",
       "      <td>3.466345e+06</td>\n",
       "      <td>1.0</td>\n",
       "      <td>33455.335657</td>\n",
       "      <td>4.849033e-55</td>\n",
       "    </tr>\n",
       "    <tr>\n",
       "      <th>C(line)</th>\n",
       "      <td>1.336630e+05</td>\n",
       "      <td>2.0</td>\n",
       "      <td>645.022520</td>\n",
       "      <td>6.417946e-29</td>\n",
       "    </tr>\n",
       "    <tr>\n",
       "      <th>C(month)</th>\n",
       "      <td>3.942483e+04</td>\n",
       "      <td>11.0</td>\n",
       "      <td>34.591616</td>\n",
       "      <td>7.896179e-16</td>\n",
       "    </tr>\n",
       "    <tr>\n",
       "      <th>C(line):C(month)</th>\n",
       "      <td>9.696908e+04</td>\n",
       "      <td>22.0</td>\n",
       "      <td>42.540665</td>\n",
       "      <td>1.582232e-19</td>\n",
       "    </tr>\n",
       "    <tr>\n",
       "      <th>Residual</th>\n",
       "      <td>3.730000e+03</td>\n",
       "      <td>36.0</td>\n",
       "      <td>NaN</td>\n",
       "      <td>NaN</td>\n",
       "    </tr>\n",
       "  </tbody>\n",
       "</table>\n",
       "</div>"
      ],
      "text/plain": [
       "                        sum_sq    df             F        PR(>F)\n",
       "Intercept         3.466345e+06   1.0  33455.335657  4.849033e-55\n",
       "C(line)           1.336630e+05   2.0    645.022520  6.417946e-29\n",
       "C(month)          3.942483e+04  11.0     34.591616  7.896179e-16\n",
       "C(line):C(month)  9.696908e+04  22.0     42.540665  1.582232e-19\n",
       "Residual          3.730000e+03  36.0           NaN           NaN"
      ]
     },
     "metadata": {},
     "output_type": "display_data"
    }
   ],
   "source": [
    "# type 3 ANOVA 결과\n",
    "display(anova_lm(model, typ=3))"
   ]
  },
  {
   "cell_type": "markdown",
   "id": "7557f504",
   "metadata": {},
   "source": [
    "#### 결과 테이블의 C(line):C(month)를 보면 서로의 차이를 총분산으로 설명하는 F 통계량에 대한 P-value가 0.05보다 작다. 따라서 귀무가설을 기각한다.\n",
    "\n",
    "#### 즉, 둘의 상관관계(교호작용, 상호작용)는 존재한다고 할 수 있다."
   ]
  },
  {
   "cell_type": "markdown",
   "id": "5937d0fb",
   "metadata": {},
   "source": [
    " "
   ]
  },
  {
   "cell_type": "markdown",
   "id": "520d5f4f",
   "metadata": {},
   "source": [
    "### 참고 : 교호작용 시각화 그래프 "
   ]
  },
  {
   "cell_type": "code",
   "execution_count": 27,
   "id": "24f86d6b",
   "metadata": {},
   "outputs": [],
   "source": [
    "# 독립변수 cyl,am와 종속변수 mpg을 Series로 변경 \n",
    "\n",
    "total = df_subway[\"total\"]\n",
    "line = df_subway[\"line\"]\n",
    "month = df_subway[\"month\"]"
   ]
  },
  {
   "cell_type": "code",
   "execution_count": 33,
   "id": "d4bbcd01",
   "metadata": {},
   "outputs": [
    {
     "data": {
      "image/png": "[encoded data removed]",
      "text/plain": [
       "<Figure size 600x400 with 1 Axes>"
      ]
     },
     "metadata": {},
     "output_type": "display_data"
    }
   ],
   "source": [
    "from statsmodels.graphics.factorplots import interaction_plot\n",
    "import matplotlib.pyplot as plt\n",
    "\n",
    "fig, ax = plt.subplots(figsize=(6, 4))\n",
    "fig = interaction_plot(month,line, total,ms=10, ax=ax)"
   ]
  },
  {
   "cell_type": "markdown",
   "id": "0d5e3f2f",
   "metadata": {},
   "source": [
    "#### 교호작용 그래프 결과 해석\n",
    "- 일반적으로 상호작용 그래프에서 두 선이 서로 교차하고 있을 때, x축에 있는 독립변수와 그래프에서 시각화된 독립변수 간에는 상호작용이 존재한다고 해석할 수 있다."
   ]
  },
  {
   "cell_type": "code",
   "execution_count": 92,
   "id": "f6364036",
   "metadata": {},
   "outputs": [
    {
     "data": {
      "text/html": [
       "<div>\n",
       "<style scoped>\n",
       "    .dataframe tbody tr th:only-of-type {\n",
       "        vertical-align: middle;\n",
       "    }\n",
       "\n",
       "    .dataframe tbody tr th {\n",
       "        vertical-align: top;\n",
       "    }\n",
       "\n",
       "    .dataframe thead th {\n",
       "        text-align: right;\n",
       "    }\n",
       "</style>\n",
       "<table border=\"1\" class=\"dataframe\">\n",
       "  <thead>\n",
       "    <tr style=\"text-align: right;\">\n",
       "      <th></th>\n",
       "      <th>line</th>\n",
       "      <th>month</th>\n",
       "      <th>total</th>\n",
       "    </tr>\n",
       "  </thead>\n",
       "  <tbody>\n",
       "    <tr>\n",
       "      <th>0</th>\n",
       "      <td>1</td>\n",
       "      <td>1</td>\n",
       "      <td>1310</td>\n",
       "    </tr>\n",
       "    <tr>\n",
       "      <th>1</th>\n",
       "      <td>1</td>\n",
       "      <td>2</td>\n",
       "      <td>1300</td>\n",
       "    </tr>\n",
       "    <tr>\n",
       "      <th>2</th>\n",
       "      <td>1</td>\n",
       "      <td>3</td>\n",
       "      <td>1305</td>\n",
       "    </tr>\n",
       "    <tr>\n",
       "      <th>3</th>\n",
       "      <td>1</td>\n",
       "      <td>4</td>\n",
       "      <td>1200</td>\n",
       "    </tr>\n",
       "    <tr>\n",
       "      <th>4</th>\n",
       "      <td>1</td>\n",
       "      <td>5</td>\n",
       "      <td>1301</td>\n",
       "    </tr>\n",
       "  </tbody>\n",
       "</table>\n",
       "</div>"
      ],
      "text/plain": [
       "   line  month  total\n",
       "0     1      1   1310\n",
       "1     1      2   1300\n",
       "2     1      3   1305\n",
       "3     1      4   1200\n",
       "4     1      5   1301"
      ]
     },
     "execution_count": 92,
     "metadata": {},
     "output_type": "execute_result"
    }
   ],
   "source": [
    "import pandas as pd\n",
    "df_subway = pd.read_csv('https://github.com/johyunkang/adp_certificate/files/10883822/subway.csv')\n",
    "df_subway.head()"
   ]
  },
  {
   "cell_type": "code",
   "execution_count": 94,
   "id": "21e7aff7",
   "metadata": {},
   "outputs": [
    {
     "data": {
      "text/plain": [
       "1    24\n",
       "2    24\n",
       "3    24\n",
       "Name: line, dtype: int64"
      ]
     },
     "execution_count": 94,
     "metadata": {},
     "output_type": "execute_result"
    }
   ],
   "source": [
    "df_subway[\"line\"].value_counts() # 균형자료"
   ]
  }
 ],
 "metadata": {
  "kernelspec": {
   "display_name": "Python 3 (ipykernel)",
   "language": "python",
   "name": "python3"
  },
  "language_info": {
   "codemirror_mode": {
    "name": "ipython",
    "version": 3
   },
   "file_extension": ".py",
   "mimetype": "text/x-python",
   "name": "python",
   "nbconvert_exporter": "python",
   "pygments_lexer": "ipython3",
   "version": "3.9.13"
  }
 },
 "nbformat": 4,
 "nbformat_minor": 5
}
